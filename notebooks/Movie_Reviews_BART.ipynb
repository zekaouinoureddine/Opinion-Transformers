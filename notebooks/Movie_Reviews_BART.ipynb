{
  "cells": [
    {
      "cell_type": "markdown",
      "metadata": {
        "id": "view-in-github",
        "colab_type": "text"
      },
      "source": [
        "<a href=\"https://colab.research.google.com/github/zekaouinoureddine/Advanced-transformer-based-models-on-opinion-mining/blob/master/notebooks/Movie_Reviews_BART.ipynb\" target=\"_parent\"><img src=\"https://colab.research.google.com/assets/colab-badge.svg\" alt=\"Open In Colab\"/></a>"
      ]
    },
    {
      "cell_type": "markdown",
      "metadata": {
        "id": "OibnjwBgwDtg"
      },
      "source": [
        "---\n",
        "<h1 align=\"center\"><strong>Movie Reviews BART</strong></h1>\n",
        "\n",
        "---"
      ]
    },
    {
      "cell_type": "code",
      "execution_count": null,
      "metadata": {
        "colab": {
          "base_uri": "https://localhost:8080/"
        },
        "id": "UuUOdCrnv6sM",
        "outputId": "05a2bd20-f7da-4770-cd65-7780c24127de"
      },
      "outputs": [
        {
          "name": "stdout",
          "output_type": "stream",
          "text": [
            "\u001b[K     |████████████████████████████████| 4.0 MB 5.1 MB/s \n",
            "\u001b[K     |████████████████████████████████| 77 kB 5.8 MB/s \n",
            "\u001b[K     |████████████████████████████████| 895 kB 50.9 MB/s \n",
            "\u001b[K     |████████████████████████████████| 596 kB 72.0 MB/s \n",
            "\u001b[K     |████████████████████████████████| 6.6 MB 44.2 MB/s \n",
            "\u001b[?25h"
          ]
        }
      ],
      "source": [
        "!pip install transformers -q"
      ]
    },
    {
      "cell_type": "markdown",
      "metadata": {
        "id": "M_iPiA4ixikJ"
      },
      "source": [
        "### Required Libraries"
      ]
    },
    {
      "cell_type": "code",
      "execution_count": null,
      "metadata": {
        "id": "AyqOzE9AxfVF"
      },
      "outputs": [],
      "source": [
        "import numpy as np\n",
        "import pandas as pd\n",
        "import matplotlib.pyplot as plt\n",
        "import seaborn as sns\n",
        "\n",
        "import torch\n",
        "import torch.nn as nn\n",
        "from torch.utils.data import Dataset, DataLoader\n",
        "\n",
        "import transformers\n",
        "from transformers import AdamW, get_linear_schedule_with_warmup\n",
        "\n",
        "from sklearn import model_selection, metrics\n",
        "\n",
        "from tqdm import tqdm\n",
        "from collections import defaultdict\n",
        "\n",
        "import warnings\n",
        "warnings.filterwarnings('ignore')"
      ]
    },
    {
      "cell_type": "code",
      "execution_count": null,
      "metadata": {
        "colab": {
          "base_uri": "https://localhost:8080/"
        },
        "id": "nJD_mvgVxmat",
        "outputId": "7185e2f4-7ea7-4fba-be34-68f1c0c053e6"
      },
      "outputs": [
        {
          "name": "stdout",
          "output_type": "stream",
          "text": [
            "/usr/local/lib/python3.7/dist-packages/gdown/cli.py:131: FutureWarning: Option `--id` was deprecated in version 4.3.1 and will be removed in 5.0. You don't need to pass it anymore to use a file ID.\n",
            "  category=FutureWarning,\n",
            "Archive:  IMDb.zip\n",
            "  inflating: IMDB Dataset.csv        \n"
          ]
        }
      ],
      "source": [
        "!gdown --id 1xJYm-tNMllxx82_CQ1K1R5q0JW9KUV1j -q\n",
        "!unzip IMDb.zip"
      ]
    },
    {
      "cell_type": "code",
      "execution_count": null,
      "metadata": {
        "colab": {
          "base_uri": "https://localhost:8080/",
          "height": 369
        },
        "id": "v1A5z0aKxo9f",
        "outputId": "2ebbf73a-59cc-4552-e9a2-3331980e7cca"
      },
      "outputs": [
        {
          "data": {
            "image/png": "[encoded data removed]",
            "text/plain": [
              "<Figure size 360x360 with 1 Axes>"
            ]
          },
          "metadata": {},
          "output_type": "display_data"
        }
      ],
      "source": [
        "df = pd.read_csv(\"IMDB Dataset.csv\")\n",
        "\n",
        "df[\"sentiment\"].value_counts().plot(kind='bar',\n",
        "                                    color=['green','red'],\n",
        "                                    title='Distribution of Positive and Negative Reviews',\n",
        "                                    figsize=(5,5));"
      ]
    },
    {
      "cell_type": "markdown",
      "metadata": {
        "id": "dkaGmiRzxxPg"
      },
      "source": [
        "### Config"
      ]
    },
    {
      "cell_type": "code",
      "execution_count": null,
      "metadata": {
        "colab": {
          "base_uri": "https://localhost:8080/",
          "height": 145,
          "referenced_widgets": [
            "c10ad59b97334c1b89e7d773eac67397",
            "5f31b536d0274dbaa59ef9e2483fef71",
            "a531abd79c464259a6eeda8a77368ac4",
            "6f971e63a03144b9a74ce47552d1bae5",
            "f7dc8b9228724f8f8448d92fb9d15d47",
            "9edc116f6f134e7b90c0716559b7acd8",
            "33baa24d7d08424297c0f8f7812a9c0c",
            "934912302ea24a48a8f0bbca23516f90",
            "61652e6ecaab477f827fafcf4147f0e4",
            "648e9ff2a7a1431992a93dd9ba0e26fa",
            "ec8ff00c39714c2ea657b71b7d34dbc0",
            "807e9ed9cd4e49f387beb41a6fbba014",
            "94766e5dee544b458ebc52d10f17119f",
            "ba456272d574410f97516ea5398e65cc",
            "c280ec6902d0491bbe61229aa6efb8f2",
            "9f853fde3bda409098835f07208fdab0",
            "df9b78265ff741ce8aafb4141ca41f82",
            "60f735c59b074f10a85a9c09ebd20e4d",
            "ba3a325c478048389ab056256d31b330",
            "56b102c43b0446dc93e51e8bf134f54a",
            "8ceb380fd502449883e68fc9ddfe0461",
            "a277b9c2783c408cb56c301ca5887398",
            "661d96a3530a4c59acba19aaa985f217",
            "59b2db563a2444188fcd704900140a3e",
            "097ebd6942094ef3a9263c8b90d4d573",
            "c51f54ad746e47188ab6179c0190e0f1",
            "9b44461705494b6bbe8ad37deb8fb4aa",
            "4dbad9bf2c2943b7a8e23579be72147b",
            "70882634c348415297bc537ffba4c0b1",
            "93dc8ccf9591491f95b9fca2bdc4f9ac",
            "107520be07774ec9be09bd56894f02c1",
            "549385e3d0c54de3a991c3985ea02e05",
            "cac08bd3064f4c8ab464dd971952f3f5",
            "439d411ca7d34623964c359430f4318c",
            "ffd1a1b72fe14f009f632e95983d9ebc",
            "e221370c66b84cc4b8465b182d945bf7",
            "43be28059054451ab4eb8e73de119e3a",
            "49da9830eec04e25a5db931764c16cac",
            "66019f5016684ababf5ecac0b0a6035c",
            "4c0cda9a9d144f2e976abae12575b7d8",
            "b7ea998b4a3343d68a0cb7dc607bca27",
            "f3203bdf7474471891a6ccdc62dabed6",
            "3cc606a349a94eb9a379852fc84c4ea3",
            "1565ef5697cf4cddb9c2b1184cc955ee"
          ]
        },
        "id": "rOtrPaTxxrcS",
        "outputId": "6c87712d-cf14-4a26-84c9-edf5c1f1b61f"
      },
      "outputs": [
        {
          "data": {
            "application/vnd.jupyter.widget-view+json": {
              "model_id": "c10ad59b97334c1b89e7d773eac67397",
              "version_major": 2,
              "version_minor": 0
            },
            "text/plain": [
              "Downloading:   0%|          | 0.00/878k [00:00<?, ?B/s]"
            ]
          },
          "metadata": {},
          "output_type": "display_data"
        },
        {
          "data": {
            "application/vnd.jupyter.widget-view+json": {
              "model_id": "807e9ed9cd4e49f387beb41a6fbba014",
              "version_major": 2,
              "version_minor": 0
            },
            "text/plain": [
              "Downloading:   0%|          | 0.00/446k [00:00<?, ?B/s]"
            ]
          },
          "metadata": {},
          "output_type": "display_data"
        },
        {
          "data": {
            "application/vnd.jupyter.widget-view+json": {
              "model_id": "661d96a3530a4c59acba19aaa985f217",
              "version_major": 2,
              "version_minor": 0
            },
            "text/plain": [
              "Downloading:   0%|          | 0.00/1.68k [00:00<?, ?B/s]"
            ]
          },
          "metadata": {},
          "output_type": "display_data"
        },
        {
          "data": {
            "application/vnd.jupyter.widget-view+json": {
              "model_id": "439d411ca7d34623964c359430f4318c",
              "version_major": 2,
              "version_minor": 0
            },
            "text/plain": [
              "Downloading:   0%|          | 0.00/532M [00:00<?, ?B/s]"
            ]
          },
          "metadata": {},
          "output_type": "display_data"
        }
      ],
      "source": [
        "class Config:\n",
        "  MAX_LEN = 384\n",
        "  TRAIN_BATCH_SIZE = 8\n",
        "  VALID_BATCH_SIZE = 4\n",
        "  EPOCHS = 4\n",
        "  DEVICE = torch.device(\"cuda\" if torch.cuda.is_available() else \"cpu\")\n",
        "\n",
        "  BART_PATH = \"facebook/bart-base\"\n",
        "  MODEL_PATH = \"bartModel.bin\"\n",
        "  TRAINING_DATA = \"IMDB Dataset.csv\"\n",
        "\n",
        "  TOKENIZER = transformers.BartTokenizer.from_pretrained(BART_PATH, do_lower_case = True)\n",
        "  MODEL = transformers.BartModel.from_pretrained(BART_PATH, return_dict=False)"
      ]
    },
    {
      "cell_type": "markdown",
      "metadata": {
        "id": "25giJ2DTyM-q"
      },
      "source": [
        "### Dataset"
      ]
    },
    {
      "cell_type": "code",
      "execution_count": null,
      "metadata": {
        "id": "w2-sl7gqyKgA"
      },
      "outputs": [],
      "source": [
        "class DataProcess:\n",
        "  def __init__(self, review):\n",
        "    self.tokenizer = Config.TOKENIZER\n",
        "    self.max_len = Config.MAX_LEN\n",
        "    self.review = review\n",
        "    \n",
        "  def preprocess_bert(self):\n",
        "    reviw = \" \".join(self.review.split())\n",
        "    inputs = self.tokenizer.encode_plus(\n",
        "        reviw,\n",
        "        None,\n",
        "        add_special_tokens=True,\n",
        "        max_length=self.max_len,\n",
        "        # padding = \"max_length\",\n",
        "        truncation=True\n",
        "        )\n",
        "\n",
        "    input_ids = inputs[\"input_ids\"]\n",
        "    attention_mask = inputs[\"attention_mask\"]\n",
        "\n",
        "    return (\n",
        "        torch.tensor(input_ids, dtype=torch.long).unsqueeze(0),\n",
        "        torch.tensor(attention_mask, dtype=torch.long).unsqueeze(0)\n",
        "        )\n",
        "    \n",
        "  def preprocess_output(self, outputs):\n",
        "    outputs = torch.sigmoid(outputs).cpu().detach().numpy()\n",
        "    return outputs[0][0]\n",
        "\n",
        "\n",
        "class MovieReviewDataset:\n",
        "  def __init__(self,  review, label):\n",
        "    self.review = review\n",
        "    self.label = label\n",
        "    self.max_len = Config.MAX_LEN\n",
        "    self.tokenizer = Config.TOKENIZER\n",
        "  \n",
        "  def __len__(self):\n",
        "    return len(self.review)\n",
        "  \n",
        "  def __getitem__(self, item):\n",
        "    review = str(self.review[item])\n",
        "    review = \" \".join(review.split())\n",
        "\n",
        "    inputs = self.tokenizer.encode_plus(\n",
        "        review,\n",
        "        None,\n",
        "        add_special_tokens=True,\n",
        "        max_length=self.max_len,\n",
        "        padding=\"max_length\",\n",
        "        truncation=True\n",
        "    )\n",
        "\n",
        "    input_ids = inputs[\"input_ids\"]\n",
        "    attention_mask = inputs[\"attention_mask\"]\n",
        "\n",
        "    return {\n",
        "        \"input_ids\" : torch.tensor(input_ids, dtype=torch.long),\n",
        "        \"attention_mask\" : torch.tensor(attention_mask, dtype=torch.long),\n",
        "        \"labels\" : torch.tensor(self.label[item], dtype=torch.float)\n",
        "    }"
      ]
    },
    {
      "cell_type": "markdown",
      "metadata": {
        "id": "-UWDYRkVyUlE"
      },
      "source": [
        "### Model"
      ]
    },
    {
      "cell_type": "markdown",
      "metadata": {
        "id": "BYho07xRyjhP"
      },
      "source": [
        "![mrbart.png](data:image/png;base64,iVBORw0KGgoAAAANSUhEUgAAAZwAAAHqCAYAAAAwOvjlAAAACXBIWXMAAAsSAAALEgHS3X78AAAgAElEQVR42uzdf1wUdf4H8Nd0lngqu1TfxFRYsBQrF4w0K0AwRTLXUE/tFHK1REssOn8m/iAFT7MSEkvRDAMr9RKUMlNTfpinmQlrP7A7kUVN/H6v2EW9sPOc7x87u+3ye2EX9sfr+XjwUIbd2eG9y7zmPfOZGUEURRAREdnbLSwBkWMSBMFfEARREITxZtNEQRD8bfgaccb5CYKwQBAEboESA4fIDXlJ/65qYLotbAQwTPr/TgATWHZi4JArbLEPk7bQRUEQfjHfcm/m80VBEBa44ZZ5lSAIcQ10QGelugyTpnkJgnBAmva18WdSvX4xq/0wQRDOGkNHEIQDAPwB7DDrrILNav1LPfP24qeaGDjkqPwBQBRFAcAM48rNiudPkLbC3W3LfHU9XY6xBhnS777DbBoA3C79zFj3gwAekmqfAWCjKIq9pZ/PEEVxuNn7UwbgJADjBsF46TkLzN6/MrPXImLgkOMSRdEYHP6CIASbbakfMOtcNkrTjFviO6THu9WWuVSrMmN3Z2YYgJ3Sz72k33s8gAxRFKtEUcww75IALJBqt8AYLo3YCWCYVKth0vdxZoG/0yyQiBg45LjMVp4nARyQVpyCWZD4Syu422t1L/4t2DLfCKBMmn+Vk26ZLzR2GFL9gqX/njXbndhYkH4t/Xy41F02ZSeAYOk1T4qieFJ6/kbp9XbwU0wMHHKGsBGlMBkurdS8YNhtBCkghknhUdaCFVt9W+bG4DHN3wk7woNSPYzKzEJXAHC79JiDAOKkrs68I/KXgqNMqnlTr2cM7wVmXU0ZgIWiKArG1+SnmRg45OgrT0EUxd7SCrIxD0kdyddWHOux2DI338I32zJ3ll1qVfV0OQBQJYpilRTYq2p1HDOk3+8Xs2Atk55rfKz5758hdS2ragUazELaGDgTAIw3DvyQNhqImr+xyRM/qQ07mzgYDlYLtab/Iq3cVksrzipRFCdIu42qAJyVVq4HpC36DGmFZ/y/xXwFQfhaCp2F0nx/MT5W+rmXtMJ2xRqbdi8a6yJ1P1X8BBI7HHInZQ1MHw7Dbq9fjFvp0orzgBQ2GWbdUJk1W+ZmncACN9kyD8bvx3UWABjOsCF2OERExA6HiIiIgUNERAwcIiIiBg6RGxMEYYfxqg1mJ40SMXCI6llhepmtNIexIlbVbhUMJ37eDsOJobxKADFwiBoxDL8Pf/ZnOawyHr8PEV8Nw/XoWENi4BDVRxTFnaIoLmQlWsQf0lULpEvWGAOciIFDRHZXxhIQA4eI7BEuXoDFVaYZOMTAISKb2wnDRTe9YLisz0mzXWtEbaYDS0Dk8lbDcI21X6TOZjhLQgwcoubh1rkVzC5gStSuePFOIiJqEzyGQ0REDBwiImLgEBERMXCIiIiBQ0REDBwixycIAodVtqxu4YIg5LMSxMAhaj4tS0DEwCFqC+WCIISzDEQMHCIiIgYOkRtTAChmGYiBQ2QdOUvQosDRsQzEwCFqvnwAQSwDQ5oYOERceTqmIHCXGjFwiNjhtAEFuEuN2hlvT0DO9YEVBAWAc6IoCqwGa0bscIjsRhTFcgBaQRCiWY1mCwdQwDIQA4fIepkA1CxDs7obOYAEqWZE7ft55C41ctKVaD6AQAdZJC2ABFEUc6XlUwNIBSBzkOUrEUWRx72IgUPkAgFoDBgFDCPozgGIEEUxn9UhYuAQ2Tp0iqXQkQMIF0WRx5iIaunAEhDZRC4MB+cV4PESonpx0ACRbeRLYcMTLIka2hPAXWpENvhDks51AQCe70LEDofIbqTzgwCghNUgYuAQ2VsJePkYIgYOURvQAShnGYgYOERtgYFDxMAhYtgQMXCIGDhEDBwiIiJb4Hk4RLb6YzKci2M+RJqIGDhERNTWeC21lm3JygEk3OnlxQs0ElFtVf+qqkoz3q6C2OG0JmyCbrv11qMeHTt6PDNurCD39GRRiMik5IcfkHfwC3Ty8Pjw37/+OokVYeC0uLPp3KnTj719ff/nQPb7YNgQUX32HDyI8S/EQ9a162pddfVCVoSB05LAUQN47/LXXzFsiKhRK9alY83GjJqa69c7sRoGHBZthdtlslGqYY8zbIioSc+MHYPrv/3mIQhCOKvBwLG+WLfcck9gv34sBBE1ybdHDxaBgUNtrWOfAIuvQ0ePNvrYQ0eP4tDRo+jYJ6BZ8z909CgeGTvONP9Hxo5rt9918/YdOHf+fLMfX9/vee78eXTsE4CPP9tnUZfG5mvt67Z02YgYOOTw1q9Yjus/luL6j6UY+uijjT627PwFlJ2/0OyV4hPqaRgXFYXKE1+h8sRX+CAttd1+z1lLluKLo39v9uPr+z2r9NUAgMTX36h3ui1et6XLRsTAIafseoydTmNb0satfeNjX8/YBO+Bg0w/X5OxGc9NnIC5cdPhJfOEl8wTfr16AQC++fY7BDw+HB37BOAJ9TRTB2D8vmOfAHgPHGSad0PTq/TVpumPjB2HKn01qvTVmPRSgqmr+vizfQh4fLhp5f+Eelq9zzMul/fAQejYJwDvbt/eYI28ZJ7YvH1HnenG1/UeOMj0O5q/bsc+AabnTXopAU+opwEAPv5sn6nOTdXGvMbG8PMeOKjR0CNi4JDDMm5BN7Yl7derF4Y++qhp99LH+/bh2YkTLTqchjqmkVOnYtwTUbj+YykA4IUlyyxW5td/LMW4qKgmp89auhT+vXri+o+lkHvKMGvpUsxauhTnzp9H6RcHUHniKwx99FGUfnHA1M19lrkFr2/aBAC4/mMp/Hr1wqylS03L9ezEiabpDZk7fToWv/56nRV/lb4alSe+wtzp0zFy6tQ6rzvuiSic+vZbU8gYg/Pjffsw7omoJmsDAH/f9bHp/x9/tg/vbt+Ov+/6GF4yDpghBg45uFlLlpq6AWs9N3GC6RjFN99+h+cmTmjyOYeOHkWVvhpzp083zcP82JExpAY88IDFsY/6pn/82e8hZ5zPx5/tw9zp0+HXq5eps6rt3e3bTSv4cVFRppW/+XI1tntx3BNR8OvVC69nbKozTy+ZJ56dOBFV+mp88+13Fs8b+uij+OLo33Ho6FHT8hmPi42LimqyNs9NnGARhLOWLkXy3LmNhiMRA4cchvkxHGsZV7CTXkrA0EcftVjxPfjA/Y0OQmgt48rcOChh0ksJzd6tVKWvNgXtpJcSWvT6KXPnmDql2vM07vbSVest6xUVhXPnz2Pz9h14/NFHMC4qCpu370CVvrrJ42cAUFVt+fsNuP8BvJ6xibvTiIFDzslL5mna7WP8tzHPTpyIb779ztQxGM2dPh0f79tnWqFW6atx7vx5DH30UXjJPPH6JsOKcvP2HXWe2xzGcDMPTOMutNc3bcK58+dNr1vfc1PmzrF43oD7HzAtl7ETa0ztgPXr1Qtz46aj8sRXFstSu7YPPnA/Pv7MsAvNuEvSWBNra/NZ5hYAqLN7j4iBQw7Jv1dPy45n+XJs3r4DHfsE1DmG49+rZ53HG3cN1d6dNu6JKKxfvtw0mMB74CDT8Yi9772Hjz/bZ+oE1i9fXmd5ar9O7eleMk/D8ZiMTaZdgu9u344P0lIh95Qh4PHhFgMMnps4AbOWLEXi62/gg7RUfLxvn8XzvGSe+CAtFe9u346OfQLqDarau+dS5s4xTf8gLRWHjh41DTowdk7mr2sMKmO4mHbrmYWKtbX5IC0Vm7fvsGs3Sa6Pl7axwv/cfnvxzJjJgUtmx7MYbejQ0aOY9FICkufObdbxGyJHIR2zjBBFMZ/VYIdDTuCFJcswd/p0hg2Rk+P9cKxTpb3Ak+HamnHYL5Ez0VVzkAU7nFb4V1XV7t0HDor8IBFRU/Yc/ML432JWg4HTEpnXf/vt+tyUlawEETWo5IcfMCc5Rezk4fGhKIo6VsSAgwasLZggRAPICRs0ELFjx0LBK8ISkZmCr75C2pb3bt68efOf13799WEGDgOntaET5Nmly2vVV68OZzWIyFzXzp1/vuWWWzbrr1xZxbBh4LhzUIYDOAzATxTFclbEZnVVA0gVRVHOatiltkmiKCpYDefHYzjuRV3rX7KNBAAyaeVItpUEwFfalU3scMhJthTlAKqkb7XcYrRZXYMAnJK+LRFFMYhVsXlHDgAFoiiGsyrscMh5tsKNfLk1bpe6BkoBRLbtyAFgiCAI3Ehi4JAT/vHW9z21rGuc0kgAUctrq6intkmsDAOHHP+PVw3At9bkIdwat2l3YzRFCiKy7QYSAESztgwccs4/Xm6N27auNayr3cLcWFsZO3MGDjl2d6MAEARgKwA/afIA6Xtujbe8rtEA5ABeBfBnAMcBRADYzZWiTTpyXa3ajpFqyzB35veWo9TcInB0xhPQBEEQRVEUpP/LAYAnp7WsrsZzmaTRVEnGUVTmPyPWln7Hq0W7uMb+OBk0dqsrV4isLdWDu9SIiIiBQ0REroO71FpIOjZiPHDsbMuexHfQphQAFKwrayspB5DLXdb1rHs4aMB6XTp3eefav6/N7NG9x02Fj4JdIhGZfHn8S9x2622//vaf3yaJopjLijBwWux2r9v/duPGjbGrl/1VmPSnP7MgRGRBX63HwuWL8OHHHwFAhCiK+awKA8f6YkkXE/zkwz0IGfwYC0JEDZoUF4NDRYcv//rrr96shgF3B1mh8x87T3yg3wMMGyJq0isJC1BTU9ONFx1l4LSIR0ePRxg2rknud4fpSxHUG0mrl7fbsuj0OqRuSOOb4uT639ff+F8GDgOnhSsmTxmL4KJSV74J3bmfkbl+C3L37oZ61rR2WY7cvbvbNfCIGDhEbST8sSFIXfkmcvfuhk6vQ/6XBZD73YHomLFQz5qG4tMlCBoSbJpWXlFu6pLUs6aZuqT8LwtMHUt0zNg6043zNe+y8r8sQMKiv5i+z/xwK98QYuAQuXroAEDxtyWmQAnqH4TUlW8iOnYsokc+Bd25nwHAFBBGunM/Q/3nKVDPmgadXmf6eXnxWSTMfNHUORnna668ohypK9+0mA8RA4fIhen0dc/ZS5j5Ioq/LTGEyMwXAQDqSVNMHQsARD/5lOmxOr0Oxd+WGHbPTZoCuUwO9Z+nmLomIgYOEZkCwdjpAIBc1vRFJeoLKiJi4BDVK3fvbiQs+guSFiyt87Pwx4ZALpMjdcNb0Ol1yPxgK6JHPvV7UB0xBFXqhrcgl8kR/tgQhD82BJkfbJVGn1lON4Zb7t7dpnkofBQML2LgELmyhEV/gdzvDiStXo6kBUuRMPMliwAwBVLWLuTu3Q1FUG9DuEjHXACg/Hy56WB/5votAGD6VxHUG7l7dyM3a5dpvuo/T0F0zFjTMGiFjwLhjw1BUP9AiwEGRK6AVxqwwp2331k8/ZlnAxcmLGAxqA653x1IXfkmD/STxWcCvLwNOxwie6jdDRHR73h7AiIbMQ6TJiJ2OLZZqVTrWQQiIgaOff1c9XPukWNfshBE1CSzdUU5q8HAaYncb3/4Fh/87UNWgoga9dfU1bjD644SURQZOAwc64miWNz5j503vDAvHu9s2cCCEFEdFRcq8OTTo3Gy+OvrP1f9rGZFfsdh0S0g85Stqr5SvQAAHnvYuW5XcOO/N9DhDxwrwro6j+vXr6Njx45OsazlFeU3L166eIuHh8flmpqaKFEUi/kOMnBaXzhBkAMIBxDkRIvtAUANgO2ZbckBRAH4iKWwS23DAeQ6yfLqABTzvBsGDt9sQVADeA88Ec3WdU0F8BIAP+6vt3ltMwFMYW1dA4/huJck6d8ElsKmna6adbVbbaOlb9WsCAOHnOePNxyAr/TtU7zPus1EA5BxpWgXataWgUPO+8fb2PfUMuZdjUzabUm2r60va8vAIefobhQw7Adv6I+ZWt41BrKudu/IuZFk+/p6CYKwQxAEURCEVbV+tkAQBLsc3GfguGd3w61x+9U1UFpZku26G6MhgiAEsTStDxsAXwPwAvCQKIoLzX7mD2AVOxyyxR9vQa1/uTVum67xcwBnAWi5JW6z2j5lVlutWW35mW29OABVoigOF0XxZK2frQKwk4FDrdk1kQvDsNJwAJD+HQCgmIMHWiwIwKsA/KQ/0guiKCoARMBw7gi1XLhUWy+ptuVSbcewtjYLHC9pd5ooCEKctK4YD2AYgAy7rY94Ho7bBZAoiqLAStg81JOMgU6sraOvAwBkiKI4QwqbjQB6AzgAYDWAkwC+tsd6gh0OEZH7OQgAoigauxl/6WsjDMd3YI+BAwwcIiL3shNAnDRSLU6adlIURUHqah6SwsjmHQ6vNkhE5F5mANgB4BcAVQCGi6JYZfbzKnu9MDscIiIXIghCdGM/F0XROEJNEEXxdlEUD9b6eVlLuhtBEKKlyxExcIiIXDhk5IIgJAmCUI7fr5nY1qIBlAuCkNrQ6FcGDhGR8wZNkHRF7SoAy2C4OkNqOy1OEgzXvnsJwDlBEHJrnwTNYzhERM4XNGoYToKtfWmla1KXEW7F7HT13ShO2j1m7ZUdSsyW6SkYLhSslcIol4FDRORcYWO8/1J9foX1u9SKUf8VHBQtmFd9x3B8YbgPl5qBQ0TkmMGSKYqiuvZ0URQTBEFIkkJCDcuLnN4JQG2Lm9VJXU+4lctc3+tuBZAqimIxRFHkl5VfABSdOnX8oGvXzv8CIPKLX/zil/HL07PzP6WVfmvWMWppfkHNfGy+2TIktdN6MdpsGcqlQJSbP4aXtrF+qyPotttuPdrd+85OCbNjEKTs23CfqjkDAI0+xlzl5X+huOQMoiIfs3q59u3/EkGBfeHd7U6Hfp61NTGXmbUH6tjRVj+vPeramuV1xve1Nb9vaz4T7fXeNvT76vRXkLvnELZm50Em63JSp7vyUAvXM/kAhgDYWl+X09C6SVrJh0vXnmvrdWM+AB2ATFEUc+t7DHepWVdQ+a23dvjyiRGPdcrctAJyWddmPS88rHmfuXLtT6ip+a3Zj6/93MGDlFD43u3Qz7O2JubyC79ucW3auq6tWV5nfV9b+/s603vb2O8brYpAwuwYhA2bNkAu77pKp7uy0Mr1jEIKGwCYIghCgiiKumbuAlM3dS6MHTW5K4/Doq0sqIdHRw9rwoaI3E+Qsi+WL33hlpqa315qwdOTan1v1S0ZmhNO9tCc40YMHCt4enYeOTR84C0MGyJqcus0djSuX//Nw5ohylJ3UvtKAWpXqQkDxwq33XrrXUHKABaCiJrUwg1TNQwnT5rzbepyNQwcIiKylnH3mfEOp/pa042dkFjry3hLAS9BEHZI01ZJ04YJgnBWmvaLdKM1Bg4RkbuSdr2VAxhjHGUmiqIcwFQAcvPrkxlvJSBdZLMMwE5BELxguJeNF4CHRFE0DlbYAWC19NiF0vftgqPUiIgcgCiK+ajnREtRFDMBZDYQUsNguHFaBgy3jq4SRXF4rYd54fdbDlTBjrcfYIdDROS6FsBwu+gqKXC8zHazGW+uNgPADkEQzkrdzQQGDhERmXc2jd6TRhAEfwDDAKyWJvkDOCg9bwaAjdJj/AGclLqgMgA8hkNERBaB0tRlYBZIAVNmNu2gFFYZZiG0AIZjOKthOIYTx8AhIqLmhpGXFBwZZpN3AoiTRqoZQ+UkDMdshknfD5O6HAYOEZEbh0h0fTctk6bnS9dKM4oDUCaK4k6zaTOkf38BsArAcOnYznAAw6SOaRja8RgOR6kRETkAURRzpXvdHJZuWma83L8vgALzm6RJu8dW13q+MVxqz/ckgN6O8DuywyEichzG20P71vo30xV+OQaOFX77z3/+t1hTykIQUZN0+isteVp9waKVzsVh4LiT6uprew/ln7jZwg8SEbmRzKw96NjxthrphM5mka70vLUZIcTAcYfPUE3N9Rr19CVg6BBRQ4o1Z7B0+ds3PTxuS2vB01Ob+N5pcdCAFURR1AmC8Nhnn395NGjQhGbf8bO5Ki//C6VnziG/8Gurl630zDl4eNyGcu1PDv08a2tirlz7U4tq0x51bc3yOuP72prftzWfifZ6bxv6fWvd8fOUtTdfk9YzxYIgFOD3O37q4CJ4i+mWFE0QFJ06dVzZoUOHyCtXrt3BihCRkadn57PV1deSW3PcRRAENYD3AERYs0uOgUMOFZQAigEoXGmryQHqGg7DfdwVrIbNaxsNIEkUxSA3/N1zRVGMdqXficdw3EsCDDd3imYpbF5XX2vu7EhW1TbQHWvramHDDse9tpbkMNxrQwbDMEtujduuazwnfbvbFVcSDlLbraIoqlkVdjjkHKLx+61ruTVu2y1wo6fMb5JFrZZk9v8prC0Dh5zzj7f2ipJa3jWqWVe71bZ2t8gOh4FDTvDHG47fL5HBrXH7dI1cKdqWmrVl4JDz/vFaM52ap75uRiYNaSXb19aXtWXgkGN3NwoAUwAUAJgqTZ4KQAvu/mlt1xgo1XUJgC8BvMq62rQj3w3g5Vq1ZeAwcMiByQEMEEUx3HgimiiKxnNGorlbrVX8RFEMB3AEwA1RFJOkuiaxNDapbTQM542Z1zaTpXFevLSNizO/h0Y9P8tnhVpc1/xGfpbLCtmttgwcdjhEREQMHCIiYuAQEZG74DEcO1i8eLHvzz//PPPnn39+5Lfffgs4f/58x7S0tLMhISFXmzuP4ODgQGtes7nz3717dwmAfHvN397L74jzDwwMFGbOnPkTgHzWx7bzDwwMFK5fv35LcHBwVXsuv9Gdd97581133XX6rrvu+uiNN97YzrUdA6fdLFy4MOTUqVOZ+/fv7w0AQ4YMQVBQEIKCgtCzZ89ga+alUqmseu3mzn/06NF2nb+9l99R5x8VFSUD0I/1cc35GxUXF8uLiop6a7Xa6O+//37LZ599lgjDyDlefb0ZePFOG3U0p0+fzt2zZ0+Qr68vkpKSEB0dDblczuIQuaDi4mLodDqEh4cDv597xdGJDBz7mjNnzsR9+/a9f/HixdtSU1OhVqtZFCL3tBU8MbVR3KXWyrDZvHnzh35+fkJ5eTk7GiL3NgVAEIBwcBdbvThKreWC+vXr996YMWOE4uJihg0RAYbLHaWyDPXjLrWWkcNwyQ1floKI6vEqeIkjBo6NpAJ4iWUgokb4wXCXXWLgtJgCv9/2loioIRxEUAuP4ViPl54noiZlZmZOWbhwYQgrwcBpDW6xEFGTkpKScPHixTmsBAOnpYJQ97a3RER1REdH48SJEyNYid/xPBzrhLvTL3vjxg3odDrodDpcvXqV7z61uS5dukAul0Mul6NDB+daXYWHhyMtLa0T30UGTku5xck2NTU1OHfuHH7++WfcuHEDMpkMXbp0cbo/eHL+DZ4rV67gwoULAABvb28oFAp4eHg4xfIHBQUBMJwgzgt9MnDY4dTzB15eXo4LFy7Aw8MD/v69ceedd+APDBpqR/+9cQP/+tfPqKjQ4tixY+jZsycUCoXDbwApFAoAwH/+85/ufBcZOGTm6tWrKC0txa81NfDv3Rs9evRgUcgh/KFDB3Tz7oZu3t1wufIyzpadxf/93/+hf//+6NKlCwvkRDhowArBwcGBSUlJLhk2p06dgigCwQ8+yLAhh9XNuxseHjQIHTrcilOnTvHYIgOHnMmNGzdw6tQpeHh0QmCgEh2dZP84uXfHExiohIdHJ4YOA4ecybfffguPToaw4bEacsbQKS0tZUEYOOToLly4AJ1Oh759+jBsyClD5/7770NNTQ3Ky8tZEAYOOaobN27g3Llz8PX1RWceeCUn1dHDAz169MCFCxdw48YNFsTBcbPWDdTU1KCystJiK/CXX37BxYsXcf36dZzj1iHZSbdu3eDt7W3X+0X16NEDFy5exIULF0xDkR3FsmXL0Lt370p+Ehg4Lh8yxcXFOHXqFC5fvgwAkMlkpj/8n376Cbfeeiu0FRUsFtntM1iQny999uToG9AXgwcPtnn4/KFDB3h364ZLly45XOBIo1oZOAwc15Wfn49jx45BFEX07dsXoWFh6Nunr+nnN2/eRMX5CvzP/9yFTp145Q2yr8uXL0OjKUFpaSm+On4cgYGBGBEVZdMrBnTr1g0XL15ETU2N01yJgIFDTk2n0+HDDz/E5cuXERoWhkGDBsGjY90/vt/+8xsAMGyoTXTr1g3Dh0di+PBIaDQlOLD/AEpLSzHx6adt1pEYj0PqdDp4e3uz6A6KgwZcRGVlJTZs2AAAeO656QgLDas3bIy7Om679TYWjdqcUhmI+Nnx8PVV4P2tW1FSXGyzectkMtTU1LDIDByyd9hkZmZCJpMhJjYW3bp1a/qNv4VvPbWPjh098Kfx49FfqcTu3bttGjrk2LhLzcnV1NTgo48+MoVNQ10NkaNRqUYDAHbv3o1u3t7cFcYOh8ylpaWdVavVDrVM+/btw681NQwbctrQ8fH1xe7cXBaDgUPmQkJCrjrSsMvy8nIUFxdDpVIxbMiJQ0eFy5cvo6CggMVg4JCjOnbsGHx9fS2GPBM5G5lMjtCwMBSf4rEcBg45JJ1Oh9LSUgwcNIjFIKenVCqh1+t4IU4Xx0EDDqy8vLzBixJ+//33uHjxIiovVaLyknUnMl+9dhW/Xf8NXrd7schUR1jYkHbpcvr06YszpaUICAjgm8DAobaQmZmJnJwcFBQUQK/XN/n4zZs3s2hkl44jLGwIZr/4Inx9fdvkNX18fXHiq69cqo7h4eGIjIy8Z9GiRfn8VDFwHEZSUhJSU1Oh1+sxapQKr722BsrAQCiVShbHClqtFvf1C8Dq19YgPj6eBbGSXq+HpqQEeXl52LNnN9LT1yE0LAybN79r9+Dx7tYNer3OpepZUFAApVLJy7FLeAynnRUXFyMwKAhrU1MxKz4eP12qxPYdOxATG8uwaYHs7CwAwPr0dSxGC8hkMoSGheG1NWvwQ+kZfLR9B3RVOvTtcy+SV6yw72vLZQAMJzITA4dsLDMzE+Hh4RBvijh27DgSExdDJpOxMK2Qvi4dAFBRUYG8vDwWpGXC1rIAACAASURBVJVUKhWOHT+ORYmJSE5egfF/Ggedzj5diExmuIo0L0/DwCE7hM3UqVMxSvqDbqv95C7d3WRlobpab/E92UZi4mL8/dhxFBQUInL4MBaEGDjOori4GAkJCZgcE4OMjE0siK26m/R0i+8/+SQPWq2WhbERpVKJz/fvR3m5Fs899ywLQgwcR6fT6RAdHQ2lUsmwsaGiwkKcPq2pM319rRCi1odOxqZNyM7Kwp49e1gQYuDYS3BwcKB0B78WS01NRZVOh40MG5vKkgYLeHrK0KNHD/j7+xumZ2U1a3g5NZ9KpcKoUSrMnfMXux3PIQYO2aC7SU1NRXx8PI/Z2JBhKK8GGzdm4FJlJfz9/fH22+9g377PoRqtQh63xG0uY9Mm6HR6ZGW9z2JQs/E8nDaUm5sLEUB8/Ox2XxatVou8vDzk5eWgQluBiooLTl/fGTPiMGNGHAAgKmqEafq27GzTdFcSEvoofH39EBvzDELDwtr0tWUyGVSjVVj31luYPftF/nETA8fR5OTkQKVStevQZ71ej5Tk5Vi//m14enbBKNUQjBo1CP0D+/ANcqauTncFpzX/wCd5BYjK3oaQ0EexZs3aNj13Kz5+NrZlZ6OkpASBgYF8U4iB40j27NmDjRsz2jVsRkQOg1ZbjlWrE/BC/NN8U5zYKNUQvJL4HIqKvsFfUzbhkcEPY+PGDMTExrbJ6yuVSvj4+KCwsICBQwwcR1Is3Ua3rXd91Bc2ez9/G0olOxpXERr6IEL3vYOZcSswY0YcfH192+xzplQGoqSkhG9CA5YtW4bevXvz0gkMnLZlHM3TXoMFUpKXM2xc3IaMJdDrr2DChPEoPfNjm+y6VQYqUVRYxOI3QBrVysCRcJSak8vOymry5EatVov169/GosTnGDZuEDrATaSnv8ViEAOHbO++fgGIGhHZ4LXD8vLy0Mune7sesyk+VQrPzoOxbMn6Bh9z+PAJeHYeXO/PPDsPxuHDJyym5ez6Aj49hjc63/p+5tl5MMrPXXTJz4JM1hWz4p9GNocrEwOHbE01ejQ8PWUoKirC0xMnoF9AX6Snp1uc7JiXl4NRqrB2Xc6cXV8AAN7bktvgY5oKgdo/nxKbiK3ZK1Fx8QDWvpnV4PPXvpmF4lOWd5LU6a647GfiSVUYKiouQKPR8A+EGDjUOkWFhaYvTUkJhg4davpZRUUFFsyfh7u7eyMubjo0Gg00Jafh69O9fQMn5xCmTouGTnfFolMpPlVq6lLMw6j4VCmUD4yDZ+fBeGpUw+ct6aqq8d6WXMjlXaHw61HvY4IGBOCZ2MS6z9VdwVOjZsOz82AoHxhnWi5jp/XUqNkIC1Gbvjcuz9o3s0z/b6xjay/G3aZ6XgWAGDjUElqtFnFx09H5j50QFzcdKSnJpq/vv/+u3udsy85GSnIyqquvtOt5NsWnSlF+7iKmTouGwq8HcqVuBwBGj5qNqdOiUX3tGPzMAmP0qNmIiBiI6mvHED50UL3znTotGlNiE5Gz6wsUHslE+bmLWPtm3StEv7piFnRV1XXC4aXZqwwhffEAxowZiikxiyw6qaABAXg/K8X0/avLX8CrK2Zh2ZL1SFu3ELs/WddoZ0VEDJwWS0tLO6tWq9v8dfPy8jD44Ychl8nx/Q+l+KH0DPZ9vt/01bGjh8XjPT1lWJSYiO9/KMX2HTvavW45u76AXN4VQQMCEBEx0LR77fDhE9DpruDlOc8AAMIjBlpMf3XFLADAy3+JbXC+Y8Y+blrh5+QcMs3bnJe8K9LWLayzay1n1xdQT4uGXN4VL895pk739fKcZyy6pjFjH4dc3hUAEBExEBFmy0tETeOwaCuEhIRcbevX1Ov1iJs+HWvWrKn3hD6NRmO6SnL//krEx8fX+7gK7SUgtJ0CJ+cQdLorFgMCWruSNobS1qwUvLclF6NVL5q6nvqMGfs4cnMO4UWpq2kOY7gQETsct6ApKYGvr2+DZ4+np6/D5JgY/P3YcRw7frzex4WEPmoInHZg3J22+5N1qL52DNXXjkEu74rcXV9gwIAAyOVdsfYNw4iqfCmEak+vbzeZn+Juiy4HgGm3XYMd6rqFFru/IiIGInNLLnS6K1j7xvuQy7uauhZn1l7vNREDxwXI5Q2fwJeRsQkZGZsavYZWoDIIn+QVtE93s+sLKPx6WKzIp06LNu1m25q9Eu9tyYVn58HQVVWbOgvz6fmHvgIAi91bCr8eSFu3EFNiE+HTY7hpF1dYiLrBTkUu7Vozfw0A8OkxHDk5h7Dnk3V1Xqe+162tocEK7aWo6Bt4enZtt6taEDVEEEWRVWi+fABDWvTE/HxERETg2r9/tW7lUViIlJRk7Pt8f8u7JI0Gjwx+GJ/uexuhoQ/yXXRx9/eLRljY48jI2Gz310pJSUZRYREOHDxok/mtTEnGM1OmQKFQtGhvgJeXV4uea2cR0rqDHQ5L4PqUSiVCQ0MwM24F9PorLIgL+2vKZpyvqERi4hIWwwGEh4dj5cqV97ASDBy3sjFjM/S6qxg54gWGjovalv0p/rpyM1a/toY3+HMQBQUFqKys7MJKMHDciq+vLz7ffxBabSVGjngBGs2PLIqL0OuvYMH8tXh+xgpMjpmM+Ph4FoUcEodFuxGlUonP9x/EvHl/Qcgjz+DJUWEYpRqC/sp7eVFPJ1OhvQRtxSV8kleAbVmfAhDa9F44RAwcal7ofH4Q2VlZyMvLxfMzVrAoTqx///sRP/slxMfPbtc7yRIxcKhBMbGxpq1hrVaLiiZuceBM5s+fh5iY2Da93XJbk8nlLv37EQOHXJSvr69LHWSWyWSGkXk8D4XIoXDQgBWCg4MDpTv4ERERA4eIiBg4RETEwCEiIrInDhpwcxqNxuXuDKnX693m9srKwEAOhyYGDjn2CnndunVIT0/HlWq9S/6O8+fPc5v3c+QoFV6Mj+eoPAe0bNky9O7du5KVYOC4pby8PEyfPh0igPFxszFyYiy8e/G6W87oql6Hon152PvR+4iKGoHnZ8Xj9TVrWBgHIo1qZeBIeAzHjWRnZeHpiRMQEqXCzhNnMG3uYoaNE+sik+OJibFYl3MAK9/bgaysLAx6+GEWhhg41L40Gg1mzIjDExNisOitzegik7MoLiT0idF4a9d+aLVazJ03jwUhBg61n+emT0fQI6FY9NZmFsNF3ftAIBalbcI769NRVFjIghADh9peXl4evjutQaKdw+brwkMI9faw+PpJe67V87Pna9jqd3akTifokVC8lZ7ODz45HA4acAO79+zBPfcr7X68xrjiL6qssen87Pka9ljG9jby6Wew8qXp/OATOxxnlpaWdlatVjvdcms0GoQ+MbrdXn/p9MkI9fbAxIf7mVbQP2nP4bnIRxHq7YHnIh/FFX0Vruir8PKEkabOZU/Wu82av/nzJj7cD18XHrLoPl6eMNL0WsZ5Lp0+Gc9FPmrxuCv6KqyZN8v0+ofzPjZ0DdI8jI9pyTK2aZcTpTKEMnerEQPHeYWEhFxVKBROt9zfndbg3vvb51L2G5IX4yftORRV1qCv8kFsSF4MAFgzbxb6Bg5AUWUNusrlWDM3HmvmxuOKToftx3/A3jOX0FXevIENa+Ya7nC598wlRKjGYen0yRbdR1/lg1i+aRsiVONMYXQ472Oc0XyDK/oqfF14CH2VD6KrzAujY5/F3jOXMHNxsmm+Rpv3H23xMrYlDgghR8Vdam6iLVdC5sc07vb1w+T4uQCAiNFjsXT6ZPykTcbXhYew/fgPAIDRsc+aQmLemvW429fP8HizgGjsNQBg+aZt6CrzwuTZc7At/XWL502ePQddZV54KGwoNiQvxteFh9BV5oW7ff3wdeEhfF14CBGjxxq6JZ0OS5Mn13nd0bHPoq/yQRzO+7jZy0hEDByyM/PjK6HeHlgzbxbWzJtlmmZcQU98uF+d5za3Y6j9Go3pKvMyBd6aebOwJ+tdRIwei64yL+zJehdnNN9g+aZt+El7Di9PGIl5a9YjQjXOYpmvmF3+xxG7GiJnwF1qbqBHLx/849uSdnntu339TLupiiprsPfMJTwUNtTUzRinGadvW/cGftKewxV9lekYSlMeChuKPVnv4oq+CtvWvWHqZuoLHmOXEqEah4fChuLrwkO429cPd/v6mXbBPRQ2tMHBAC1dRiJi4LgFpTIQ/2yDwDHuZjK3fNM2nCk5hZF9uyPU2wPb1r2Bu339sHbHXmxLfx2h3h4Y2bc7tq17A/PWrEdXuRwTH+6HkX271zu/hl4DAEb27Y7DeR9j7c5PG3ysMYgeChtq+n+EapxpWoRqnMXAgyv6Kot5NWcZ29upo4bBAj6+vIpEewsPD8fKlSvvYSUMBFEUWYXmywcwpEVPzM9HREQErv37V6ueV1RYiJSUZOz7fH+LFzo7Kwtz5s3DzhNneEDZDax88Tlof9DgxPHjdn+tlJRkFBUW4cDBg7ZZ9pRkPDNlCloyOEdTUgIvLy840sAeQRAwe/bsl996661UfjLZ4bgF1ejREADs2MSTAV1d5XktPtuRjZfi41kMYuBQ25PJZFi8eDHeez3ZtLuFXM9VvQ6vqMfj/v5KxMTGsiDEwKH2ER8fj0mTY7BIPR5Fn+1hQVwwbGaPjcTl81ps3rSJBSEGDrWvTZs2YbRKhUVTJ2Dli8+h8ryWRXEBn23PwviBfVFTrcP+/fuhVCpZFHJIPA/HHUNn9GjMmTsX4wf2xT33K3Hv/Up4+yhYHCdz6ssC/PM7Da5W6zFpcgxef/113m6aGDiuIjg4OFClUhnv4ue0VCoVVCoV8vLyoNGU4HBBIXQ/uU63U1ZWhm53dUPnLp1d+vP4yIOBeF4dC9Xo0QwaYuCQcwRPYqJr/V5RIyKRmLgYoWFhfJOJHAiP4RAREQOHiIgYOERERAwcV6IMDERJiQYajYbFIHIyy5Ytw8CBAytZCQaOU5DJZFizZg1GREYinfepJ3IqSUlJiI2NZeBIOErNCcTExsLX1xdxcdORkpyMwEAlR2A1QqvlCa1EDBxqsdCwMPxQegYajQZarRYaTQmLQkQMHLIfpVIJpVIJlUrFYjSgqJAXKCVyRDyGQ0REDBwiovZUVlYGQRCwc+dO0zRBEFBWVsbiMHDsKy0t7axarWYhiNxEVZXhFuMLFy6sdzq1IHAEQRgmCIJo9rXA/EGCIOyQpvubTTN//FlpHqtqTTd+DXOFYoWEhFx1pNvXElHrDB8+HMOHDwcAZGRkQBCEBh+7evVqFsxGHY4/AIiiKACYAGCVebgAMAbG+FrPnwHgdgAnAWwURXGhNI8ZxvlJXwdZaiJyNDt27MDBgwexevVqzJgxAwcOHKj3cQsWLGDg2ECdUWqiKO6UUt4fQJnUnXgB2CkFzupaj68SBOFgPWFELqzzHzs59PJFRY1w+Bpe+/evTT5m1KgncfjQIYtp06Y9i3U8CdgmvLy8sHHjRsyYMQPjx4/HsGH174yJi4vD6tWrGTq2DhxBEOKk/54062pOAjgIYKMgCP6iKJaZPd5L6oDYxbiZ6z+Wsggt1LFPQLMe98knn5r+v2vXLsTGTMZf5sxhAW3IeDymqeMyq1atwowZM1iwVrilVtiIADYCKJO6GmPg7BRFMcPse6ONAH6Rpk1gOYnsQ6fTYXb8LKxYkQw/Pz8WxEbKysqwcOFC7NixAydPnkRGRkaDjx0/fjz8/f2tmn94eDhWrlx5DytdT+BIx19ul7qVr812p62Swgj4/XgO8PsxnDIAC1hOIvtYsngxvLy82N3Y2PDhwzF+/HiMHz/e1MGYdzpeXl51upz6pjekoKAAlZWVXVjpegKnvlAHUGY8+C8FzDBpN5oxpKoAZIDHcIjs4vChQ9iy5V1kZW9jMWzs7Nmz2LFjBwDDcRpRFC3CxN/fH6Iomr4fNmwYRFG0utMhy8ApA0y71H4BEAxguBQi5j3mTrMgMj1P6oj8zUa28awoIhuZPTse06Y9iwEDBrAY5NQ6SF3KQQD1DUC/3fwbqZsxPi7DbPpJ8+c3Mj8issKSJYtRVVWFFcnJLAa5RuAQtcSwZ6Y47LJd/r//wx1et6NDhz84dY3ffOMNAECPu7ubpkUMHWoxeo2IgUMubd++zx16+Z55Jhaq6DEYPjzSqevcnHN1iBg4Lig4ODhQpVIhKSnJ7WvhyDeAy8vLw//+7/9i586dWL6Cu6KIHAUv3kkuJzsrCwBQUVHBe+MQMXCI7EOr1eKTT/JM32dlZ7EoRAwcIttbX+saY9uys6HValkYIgYOke3o9XpkZdXtaLLZ5RAxcIhsKW/PHlRX6wEAHTt2NE1PX8crK1P7WLZsGQYOHFjJSjBwyMWkpCQjNDQUGzdmYNCgQdi69X0sSkw0dDlZ7HKo7SUlJSE2NpaBI+GwaDen1WpR4SLHOBYsfAW9pWtc6fV6XL58GWGhYQgLDUPl5csuOWLNkYenEzFwCHq9Hunp65CdtRUVFRdc9vecP3+eW7yfo0Y9ifj4Fxk+xMAhx1JUWIgJE8YDuInJsU9icsyTUCr7sDBOueFwBZ/kFWJb9ieIihqBWbNewGtr3mBhiIFD7S87KwszZsThyVFh2JCxBDJZVxbFiclkXTE5xrDR8Hb6R1iZshk6fRUyMrawOOSQOGjATWg0GsyYEYdJk5/Eh9tfY9i4mBfin8bez99G3p48zJ/Hm7QRA8fppaWlnVWr1U657PPmvYyQ0AHYkLGEb6SLUir7YPWal7F+/du8pA8xcJxdSEjIVYVC4XTLXVRYiCNFR7HqtZfbbRmKT5XCs/NgLFuyvsHHHD58Ap6dB9f7M8/Og3H48AmLaTm7voBPj+GNzre+n3l2Hozycxdd8jM6OeZJhIQOQHr6W/yDJQYO2db8efOQnp4OvV7f4GOyst9H//73tuvggJxdXwAA3tuS2+BjmgqB2j+fEpuIrdkrUXHxANa+mdXg89e+mYXiU6UW03S6Ky77mZgcM4r3yyEGDtleaFgYFsyfh4C+fREXNx0ajabOY7TacxilGtKuy5mTcwhTp0VDp7ti0akUnyo1dSnmYVR8qhTKB8bBs/NgPDVqdoPz1VVV470tuZDLu0Lh16PexwQNCMAzsYl1n6u7gqdGzYZn58FQPjDOtFzGTuupUbMRFqI2fW9cnrVvZpn+31jH1l5GqcJMnS0RA4dsRqVSwcfHB9XVemzLzsYjgx9G1IhIizPrjxQdRX/lve22jMWnSlF+7iKmTouGwq8HcqVuBwBGj5qNqdOiUX3tGPzMAmP0qNmIiBiI6mvHED50UL3znTotGlNiE5Gz6wsUHslE+bmLWPtm3SsKvLpiFnRV1XXC4aXZqwAAFRcPYMyYoZgSs8iikwoaEID3s1JM37+6/AW8umIWli1Zj7R1C7H7k3WNdlbthQNCiIFDNqHRaJCSkmzx1advX4vHFBUVYcaMOPQL6IuUFMMNyGTy9lsJ5ez6AnJ5VwQNCEBExEDT7rXDh09Ap7uCl+c8AwAIjxhoMf3VFbMAAC//JbbB+Y4Z+7hphZ+Tc8g0b3Ne8q5IW7ewzq61nF1fQD0tGnJ5V7w855k63dfLc56x6JrGjH0ccqmOEREDEWG2vET1CQ8Px8qVK+9hJQx4Ho6T0Ov1mDhhPEpKNFCNVsHX19f0s+s1NQ1s6crh6+Pb7suek3MIOt0ViwEBrV1JG0Npa1YK3tuSi9GqF01dT33GjH0cuTmH8KLU1TSHXM5OgVqnoKAASqWyCyvBDsepwmZEZCR8fH1ReuYMMjI2ITFxsemr9v1eJsfEYN++z3Hs+HHExMbCx6cnTpf82C7LbtydtvuTdai+dgzV145BLu+K3F1fYMCAAMjlXbH2jfcBAPlSCNWeXt9uMj/F3RZdDgDTbruGpK1baLH7KyJiIDK35EKnu4K1b7wPubyrqWshIgaOW5o3by58fX2RkbEJMpnM4mfZWVmoqKiAj48PFiUm4vsfSpGRscniulpKpRIazT/ap7vZ9QUUfj0sVuRTp0WbdrNtzV6J97bkwrPzYOiqqk2dhfn0/ENfAYDF7i2FXw+krVuIKbGJ8Okx3LSLKyxE3WCnIpd2rZm/BgD49BiOnJxD2PPJujqvU9/r1tbQYIX2UlT0jeH38vXlHw85FEEURVah+fIBtGi4V35+PiIiInDt379a3d3c3d0b3/9QarEbzSg9PR1ymQwxsbENziM9PR0pya/iu9IcHlB2AzPjVuBIUQl+KLX/RkZKSjKKCotw4OBBm8xvZUoynpkyBS05301TUgIvLy840rlygiBg9uzZL7/11lup/GSyw3F4mpIS9O+vrDdsACA+Pr7RsAGA2NhYAALeTt/Ogrq4Cu0lfLDtUyQmLmUxiIFD1pPLZa16vkwmQ+Lipfjrys3QaH5kQV2UXn8Ff544H/3739/kRggRA8fBBQcHByYlJTnlssfHx2NyzCSMHPGCaR8/uVbYjBzxArTaSmRs4tWiiYFD7Swj412oRo/Gk1EvYGbcClRoL7EoLmBb9qd4dPAz0Gor8fn+g1AqlSwKOSSeh+OGoRMWGo6UlOV44L4x6N//XoSEPQg5BxM4HY3mRxQVfoPq6quYHDMZa9a8UWcUIxEDh9pVTGwsYmJjkZeXh6LCQpRoXG8XW9nZMnTr1g2du3R22ffR11eBxMUqqFSqBgeVEDFwyCGoVIaVlSuKGhGJxMTFFucjEREDh4jIJS1btgy9e/euZCUYOEREdiWNamXgSDhKjYiIGDhERMTAIaI2MGrUk+j8x04WX7Pj41kYcko8hkMt0vmPnRx+GaOiRjj08jXnQq6ffPKp6f+7du1CbMxk/GXOHH4AiYFD7uX6j6UsQgt17BNg1eN1Oh1mx8/CihXJ8PPzYwGJgePq0tLSzvbs2TOYlaC2tmTxYnh5ebG7IQaOuwgJCbnKKlBbO3zoELZseRdHvjzKYpBT46ABIgc3e3Y8pk17FgMGDGAxiIFDRPaxZMliVFVVYUVyMotBDBwisp8333gDOp0OPe7ubhoWPWrUkywMOSUew6EWs3akFVmvOUOnyXGFh4cjMjLynkWLFuWzGgwcctEVIa8WTY6goKAASqWyCythwF1qRETEwCEiIgYOERERA4eIiBwPBw24Ob1eD01JiWv+XhqNS793MrkcSqWSH2Ji4Lii4ODgQJVKZbyLn1OvjLOysrB+XRoqzl9w2fdr/vx5Lv+ZlHl2hUo1CosWL4Ovry//SImBQ45Do9Fg4vhx0OuqoB4fiaciX0L44EAWxgmVX7iM/GMleHVtFu7b9iESF72CRYuXsjDEwKH2l52VhRkz4jDkYSVyPn0Lck+eHuDMFD27Qf2nSKj/FInULbvwl+V/hVZbgY2bNrM4xMCh9u1s5s+bgynjhuO9N+axIC4mYdpYhA8OxIMjn4dMLsNra95gUcjhcJSam5g/92UoevwPw8aFBd3XG28unYn16992+QETxMAhB1VUWIiiI0exdtnzLIYbdDpDHlZi/bpUFsMBLFu2DAMHDqxkJRg4biM7630E9vO3++CAk6f/gYGqWbhFEYlbFJGYOKvhS+ofPPINblFEmr5/ZfW7uEURiYGqWXXmeYsiEq+sftdi+up3tqOs4hIAoEp/tc7PrWE+r9XvbLdYLmc0ZXwksrd9yA++A0hKSkJsbCwDh4HjPrTlZYge8ZjdXycyZgGGhTyIm+X78c/CrZg/c2KDjy2rqLQIldXvbMc/C7fiRN56i8f9bW8hACDjg08tpr+y+l0cPHIKALDz00Ksfmd7i5fbfF7jnwzDhpUJTv1+R0c+aups3Yler4eHhwf/4Bk41J6Kvvw7Au/rbffXqdJfNY188/fpjuD+95oC5Y7AsbhFEYmDR76p8zxjV3NP2JQ6P9/5aSHiJo1Elf6q6WfGDmTmolRExizEzEWppukZH+xFWcUlU6c1UDXL9Fzj9+YdU+15lVVcMs3v5Ol/4J6wKbhFEYl7wqbg5Ol/WHRnteflKNxx9OG1q4a7v8vlcv7BM3Co/VdCne3+GhtWJuCV1e9ioGoWMj7Ya5o+c1Eq5s+ciA0rE+rdzWbsKG6W78ewkActOp+yikuY/ucn4e/T3dTt3Czfb3re/uxVFs+PmzQSMxelIbj/vbhZvh9esq6YuSjV1FHNnzkR+7NXmXaj1Z6XeecVGbMA458Mw83y/Rj/ZBgiYxZYdGe150Xt5/Lly+jYsSM7HAYOuYu4SSPxz8KtCO5/L15ZvVla0V/CydP/wPgnwzD+yTCLTqUpf9tbCC9ZFwT3vxfDQgZg56dN7yIqq7iEg0e+Me3Om/7nkRbPG/9kmCnUjLvR6nPwyDeo0l81zWf+zIl1lr258yL7+u+NG6i8fBndu3dnMRwcz8NxAz69eqD4+7NtckUBf5/u2LAyAQ8+0AczF6XiwQf6ADDsLrPWzk8LUaW/anEQ/+CRbyy6oLpBcarFr0fO6eLFixAA9OzZk8Vgh+M60tLSzqrVaqdbbl9fX5R8d9bur5PxwV5U6a+iSn8V33z7I7xkXTAsZAAAYH/2Ktws34+fS3Y1GhhGxt1pxucZdo91Me1Wsww5bwCGY0jG19uwMsH0ej+X7LL6dxkW8iC8ZF3wyurN0ii4zdLv86DDv9/F3xveax83uLba9ZoaXLx4ET179kSHDtx+ZuC4kJCQkKsKhcLplnvU6DHI3X8UuuqrdnuNKv1VbPrwU9wROBZ3BI7FydP/wP7s1fD36Y7t6xdj4qxki6HSxpCo/X+jv+0thL9Pd4sVfNykJ027xwzHalIxc1EqhoU8iOD+95q97iq8tsEwvPmOwLF4bcP2el/DOM18XuaP25+9GgePnLL4fRpa3vqmtZetf9sPn149Xf5inv+9cQPfffc9PDw84Ix/l+5IEEWRVWi+fABDWvTE/HxERETg2r9/tep5RYWFSElJxr7P97d4ofV6Pfr1vRcJ06KxLCGW76ILK79wzv/prAAAG91JREFUGQOemIlFS5IQHx9v99dLSUlGUWERDhw8aJP5rUxJxjNTpjQZIP+9cQMlJRrU1PyKAQMGoEsXhx6ZFyGtO9jhsASuTyaTIT4+Hq+mZpl2t5BrmjpnDWRyrzYJG1ur0GoBND202cnChhg47mfR4qUIDXkUERPnMnRckK76KsZMT0LxD+ewfefHTvk71FyvaTJwLldexvGvvsKNG/9h2DBwyJFt37kLYWFheHDk83g1Ncuux3So7WT+bT8GPPE88o+fxr79B532LqBarRZ3detWb0dzufIyTnz1FX788Qy6e3tj4MCBThE24eHhWLly5T38lBpwWIcbkclk+GjnLqSnp2Nl8nK8mpqFIQ8rEf4Ib8DmjMrPVyL/mAbai5cRM/nP7XbXz5s3/4tqvb7V8znx1Vfw8/Mz7Vq7ceMGrl69Cr00b29vbygUCqc6ubOgoABKpZJtGAPHfcXHxyM2NhZ5e/agqLAAh0780y6vU1ZWhp69euK2W29r09/vvzf/i2tXr8HT07NNX/dfP/8Lf7jlD/Dy8mqT15PL5XjhpblQqVTtOiLt5s2bpt1hLe5uyrW4fPkywsLCTAEDAF27dkWvXr0gl8s57JmBQ87c7cTExiIm1j6j1rRaLe7rF4Ap055DYuLiNv3dsrOykJKSjKPHv27T1+0X0BcAcPxr97rqwK233grvbq0bFn7wwAE8PHgwHn/8cf5xujAewyG7SEkxnG+Tvi69zV87PT0dFRUVbXq15KLCQlRUVLT567oCrVYLrVaLiPBwFoOBQ2QdvV6PvD15AIDqaj2ys7LadMV/+rThbpdZ2W33uuavZQxbalrN9Rrs/NtOBAQE8ORNBg5RC1a+WVmorv59P3x2O634t2VnQysdgG6rgAWAoqIi3uK5mWGTnZWFTh4eiI6OZkEYOGQuODg4MCkpiYVowvr0dZZdRxutgLVaLbZlZ1tMa4uwy9uzxyJgASC9Vg2o/rDR6/V4+umneVsBBg6R9YzHMmprixVwfeHSFseQ0tPrvkZbdVfOSKvVIj09HdevX4darYa3tzeLwsAhavnKt39/Jfz9/fHII4+YVsB6G5yr0Wjg1HOsyN7HkDQajemYUUBAAEJCQuHj4yN1eun8QNQKmuzsLGRnZ8FPocDMmTMZNgwcsvcfnavS6/WQyWXYt+9zHDt+HCv/ugrfffc9tm59H4sSE1Fox9Fb2VlZ0On0mBwTg61b38cjjzyCjRsz4OPjY9fdatlZWViUmIi1a1NRWlqKNa+/jh9Kz2Dfvs/d4vOsKdE0eA6QTq+DVqtFYVEhNm/ehOzsLNRIXQ13o7knnofTRsKlIZ8ajcZlLxsvk8mQkbHJ9L1KpULi4sWYPXt2nWMc9rItO9t0HOfvf/87AKCiogKd/9jJrq/r4+ODj7bvMF1WJjQsDKFhYS7/uS4pKYa/v3+jI/O6desGhUKBMWPGsKNh4FBbUQYGIi9vD1Qqldv8zvHx8W1+5WJb3NKBmtetnz9/Hhs2bMB9991X5+ceHh5uHzDLli1D7969K/lpYeC0ualqNZa1YJSbTqdn8cjhZGdnwdfXFyNHjmQxGiCNamXgSHgMpw2p1WpU6607iB0aFmY6E5vIUej1eqSnp8MZb7lODBy3IJfL8dJLL2He/HlWjdiKnx2PiRMm2H2UF1FzpaevgwAgISGBxSAGjiO32AKAuOnTm/0c48UvR0RGstOhdldUWIiVKSlISkpq8u6cROZ4DKcdupzMzEyMGTMG6enpzT6gfuz4ccyfNw/39QtAaGgolMpAyOQyt6qdUhkIuazp35mXlbEfjUaDCRMnYMiQIexuiIHjDKKjo/Hee+9h6tSpANDs0HltzRokLl4MTUkJCovc74rE65t5tQKdTg+5m4VxW4XNiBGR8FMokJuby4KQ1QRRFFmFZjpy5MjXPXv2DLbVVW0zMzMxdepUTI6JwZo1r0Mm40rSFjgs2vby8vIQFzcdfgoF8vPzuSvNOhEA8lkGHsOxSkhIyFVbXkJdrVYjJycHn+TlISCgb5texp+oObRaLSZOmICnJ07AmOhohg0xcJxZdHQ0ysvLMSY6GjNmxKFfQF/MnzePN/Gidg2Z7KwsRI2IxH39AnD6tAaHDx9GZmYmw4ZahbvUrJMPYIi9Zl5eXo7MzEzk5OSYDnx7ymQIlC6XQs2j1+uh1WpNl5mh5tHp9KYLkcpkMkRHR5u+qFW4S42B0yK5AJ5qmz9+HYqLi1FeXo7y8nJW3sralZeXIygoiMWwUnh4OORyOWvHwGHgOIAkAMtYBiJqSnFxMRISEpCfn+8HgFuN4DEca/FDQ0TNDpxTp06JXG8wcFqKbTERNUtubi4CAwMvsxIMnNZ0OCUsAxE1RqfTYffu3bj33ns/ZTUYOK2RyhIQUaMridRUeHp6it27d1/BavyOgwasJwdQDMCXpSCi+robhUKByMjIgh07doSzIuxwWvV5On36dKJcLuf1pIiojujoaHTp0uVGnz59prAaDJxW69+//7aHH374rFqtRnFxMQtCRAAM9wcqKCjA2LFj5yUnJ/NeIgwc2xg4cODj3t7ev4aHhzN0iAhJSUlIS0vDtGnT3n3rrbd4rJeBYzvJycnaP/3pT/2MocPda0Tu3dm8+uqrmDZt2rvvvvvuc6xI/ThooPXkTz311OE9e/YEDRkyBJmZmbDlFaWJyPF98803V48ePbo0Pj5+LavBwLG7F198MWHXrl1rLl682GHIkCFQq9UIDw9n+BC5vq0AEgDoWAoGTpt6/vnn//rdd9+pNRqNt1wut+rCm5mZmcjMzGz244OCgpCamsr5c/6cf9vPXwvDxXxTwUvXNBtvMW1j77zzzisAXgGArKyspwF4AGhWm/Pbb78p7rrrrma3RLfeeqsOhnOC0Nz5/+Mf/4h67LHHSu01f3svvyPOv6KiwmPSpElRR44cyWV9bDv/6upqj9LS0p6DBg36p4Msf74UMAwZdjjU6JstCNEAcgD4iaLIPxjb1TUBwFoAXqIocreKbWubBMPuKgVr6/w4Ss29JEj/JrEUdqmrmqWwOTUAGQDeBY4dDjnRlqICwDnpWz23GG3eNQKAVhRFBatis9qqAbzH2rLDIedj3tXIuDVu8+4GAHylACLbdTfmtQ1nSdjhkONvKcphOMgpM5vMLUbbdo1GBaIocsXY+toGAThVa/JuURQZ6OxwyMFF1wobbo3bvrsxGiIFEdm+tk+xtgwccnxJ0r/6Wv+qWZpWdY3G+l2WvhpbWZJ1tY1uoLb8zDJwyIH/eMNh2J02VRRFuTRZAWAqgCBuMbaqaywGMAbA0wBKAXgBeBVAOMvTKmoYzneJqKe27MqdeX3EYzhuF0CiKIoCK2HzUE/isRvWltjhEBERA4eIiBg4REREDBwiInKZwBEEQRQEYZgtX0wQBC9BEBaw7ERE7qep2xP42/j1xgNYBWC1MxdNEAR5ly5//OutHTpEVemqFU64/ByayLqytnbQseNtNR4et32n119NF0Uxk++cdYFj/mYfBDAMQBWACaIoHpSm75SCxHz6MAAHjMNvpccNB7DR7PsZoihmOOEHP+i222496iX37DhtSvQt4WEPNfjYYs0ZAECQsm+z5l15+V8oLjmDqMjHrF6uffu/RFBgX3h3u9Ohn2dtTcz9f3vnHxtXld3x70mi2E5sPGMsxcGukow3AlUysjQpy6qCWMjeInXB2YDzz2422arYKqKFVis5VSKZP0Cyt5XYSmzVmaqEFVRq7YBM6B8LMyLTZKXsam1h+Y+SSPUkXlAIKsw4ECAxcU7/mPPi68f89DjxjP39SFfz5r777rvvvDfvO+fe+8579bWTOHzw8ZK3Ww27ltPeajyv5RxvOdfEap3bXMd7cfZSbeL078O/ev3t43c3BX7wWWruScpMiYJjpFVVRCRiwtHurbD8YQCjItKewzMKARgAEKnW50BEJLB1a92732n/o7rEu/+GQGNDUdvlEyXfxYpr1+aLLu/f9sEH7sfOHfdU9Hal2sQlcXpi2ba503Ytp73Vel7LPd5qOrf5jvfwwcdx+GAvHn/y2R8GAg3Dc3NfHKHUZChl0kDcPid9gjJmnyPIPA0cXsP22rdhw4a7SxEbQsj6o+vhPfi7vzm44dq1+WdpjeUJTi6C68VYTcHGHzzS9ScbKDaEkEI899c/wvXr87V8rcLKCo43k20QmW63uOcNiUi3iPQ5ZZOWX5UitWGDfKfz/vt41RBCCsI/pt+m0BhOMsty0lcmZJMA0gAOAICqJkUkCiCGTBccACRtQsEkgJSI9Jg4EUIIWc+C4w7s+5bjANxB/2i22WaqOoDMJAF//h6anRBC1h8r0aWWpBkJIYQs28MpBoa5J4QQcic9HEIIIYSCQwghpMIFx4J3uqnoQJ7lBP7Mta1NsVanDIOAEkJIFVFoDKeceGflBP4MFcg7gMXp1oQQQqrZw8nhfXSbdzFhnxERidnysK94v+WnPI/FXk8Qc+oI+vJivv2FbXsF0O+sGkXm+R9/e4Zz7EedNkTs+wxPPyGEVKjgOF7GCDLRn/vN0+gBMCgirheStFlsUQAxiy4QcfLT9n3UyjdhMV6bRwyZ53wEWR44zdIerw0Rp07PQwvZun7LP8DTTwghlSM4EWcM55aYqOqYEyUg6Sy7Yy9uUE8gE9SzzxGAqJXvNlFJq+qI600hE6fNy8sZlcDXnm5vP1Zn1CmXNOEaXaa90lPT53jVEEIKMnflCxqhRMEZUFWxVOoDnv54aV4U6QnrIhvF6gT+3GPe1YTPIyvIp5/NvfVe4vc3eSERQgoxfvKU90c3QWsUJzjlsCSop+PZ3BIxLHaj9Wd5/fSkbTeYxXsqRK46gUw33BFnuRRenZ//Zv65n/2cVw4hJCdT0+fx7M9GtL5+y7/QGosUmqUWsReuAZmurWzdWskcy0E3qKeqpkWkx1fnEWTirY0CSDn1J638AWRe6jaYZd+5PK5krjrNo4mZZxUtNXioqs6JyPf+88S7v02cnqh5/thf5X15k/cmw2K5/MmnOHf+AhKnJ0o+kefOX0Bt7WZcnL1U0duVahOXi7OXlmWb1bBrOe2txvNazvGWc02s1rnNd7zjb5/CK78av3nz5s3//fLLr/+eMrOIqK6917B7XWUWtbofmUkETaqaXqH6dzYFG//xy6++/vPr1+dreRkRQjy2bq37vy+//PqfVfV5WqM0D6daCZtn5Hk8PSslNiZkFwFU5bvKRUQZA2/FbdoF4HlV7aI1aFuyzgRHVcew9BUKhBBCVhnGUiOEEELBIYQQQsEhVYSIdLW2tv6mrq7uGgA0NTXNtba2nhSRnbROeXbdtWvX72pqat4BsLepqWmupaXlFREJ0Dpl23bfrl27fgfgFIC9gUAgRdtScEiFs3379qe3bt0ae+qpp/70gw8+qFFVvPfee409PT2PAbiwffv2p2ml0mltbT1ZX18fHxoaeuDcuXObVRVvvvlm46OPPvrT2trayyLSSSst37YNDQ1vDA0NPXDhwgWoKsbHx4MPPvggbVvtqCrTGk07duz4UX19/Y33339fs3Hq1CkFoAA6aa/iU2Nj43BHR8eNdDqd1a7Hjx/X2traawB20l6lpba2tl8UadsA7VV9iUZY2zfG1PHjx5f8YEOh0JLvQ0ND2tbWdo72KvIHAwTq6uqu+0Xcb9dDhw7pPffcc5I2K822ALSQbXt7e3Xbtm2v0GbVl9bkg58EEJHOlpaWsx9//HGtLx/uOZ+bm0MwGASfzSl+bKGjo+PE9PT0xnx2nZqawiOPPHIllUpxzKF42x7eu3fv8UQigXy2TSQS2L9/P23LMRxSQQTuvffeW2LT3t4OexAWIoL29vZMoUAAu3fvvmoP2JHCdO7fv39jIbt2dnYinU430lwlsbOra/EyzGXbrq4u2rZK2UQTrF3m5+evAagFgJmZmaz/FgHg0qVLtQAu0mJFMXfx4qKpctl1bm6OllqOcR275bKta39CD4dUBlNnz56t9f84Q6GlAbITiQQWFhYWLFwPKUzijTfeWPBn+u06Pj6O5ubmD2mukhg/ceLEjUK2TSQS2L179/s0VxXCgay1m3bt2vXr3t5ezUdHR8eNtra2X9BeJc2kOjc0NJTTpul0WltbW79paWl5mvYqLTU3N//hpZdeymvbhoaGBQD7aC/OUmOqsFk/DQ0Nnx46dEj900zT6bT29vZqc3PzH8AppqXatbOuru56NtG5cOGCdnR03OAMtfJsm010aFvOUiMVjogEWlpafnP16tX7nnjiiY07d+7E1NQUYrHYN4FA4NeXLl36iapywKF0u3Y2NzefrKmp2f7kk09uCgQCmJqawltvvYVt27Ydv3z58l/QSitv27a2tn/68MMPn6OVqvTcUnDWz48YQBeAlwD8LYBxjtusmF2fM9s+DyBBu942247zzxEFh1TXj5jvw1l5m3aB72yhbUlBOEuNEELI6gqOiKiTJkQkXOo/aREZtOV+77XPIjIoInSrCCGEgrOEAQBNyLymebTEug8AGLPlCIBuWx6zdYQQQtYRBSMNqGpaROIA+sxDCZv4hADEAQyoalJEIgD6ASRVtd3K9IhIzBMdEekDMGLrxFdXEsABVZ00DyhuIpW2/HilGc8GNasunhPD2Kw4nQACtCtta0xxckNuQck1H15NQIIAYgAmLD8FYNiWY5ZCVj4IIOxun2W5P7Pbb9U1DCDllB+15QiAmQp7VmBffUPDp9ZOJiYmpiVpy5YtvwVfT/GtVMjDiViKAzggIt0mKiO2PmrCkBQRr9vtSJH/sv11jQAYtHzYPgFg0kSqImhpaXkawC97e3tx9Ogx7NixI2fZM6dPAwAeevjhouqenZ3FmdOn8eODB0tu1+uvvYaHHn44b3sqYbtSbeLy4osv4OjRYyVvtxp2Lae91Xheyznecq6J1Tq3+Y737bffxosvvPDd8+fP/Y+I/DGnyS9ScAxHVUVVe1Q1WaDsHuv+mvAmCKw1RGTnJ5988suRn/8DotF/XfaFSghZuzz22GN45913ce+999Vt2bLlP2iR4gXH3/0WN1EZFJGgeR7exICQ492ESqnLsoYBpCtxrMbhcFtb281nnnmGVw4hJCeNjY04euwYvvrqq++KCN/bU6TgZPNqepCZQJDyvCDzaGIAZgBEHdHwto8iM2lg2FdnD4A+myQQtu/+fScrxVh33333vr1dXXx2iRBSlKdjdNIaGTbl8UAkR/4kgHZfdhqZ6dNZt1fVAWSmWHtInrr828a98pUAu9EIIeT2eDiEEEIIBYcQQggFhxBCCKHgEEIIoeAQQghZb4LjixatTgSAgpRavphtRaTbizLtRqImhBBSHRQKbTOgqtFl1l1OtIFQgbwDyIS8IYQQUu0eTg7vo9t5P46KSEREYrY87Cveb/kpz2MRkaBTfsK+u3kx3/7Ctr0XSNRjFEAoS3uGc+xHnTZE7PsMTz8hhFSo4DhexggyUQH6zdPoQSbcjeuFJO0BziiAmIXCiTj5afvuvWenCYsBOz1iyEQuEHw74kAoS3u8NkScOj0PLWTr+i2f7+QhhJAKEpyIM4ZzS0xUdcwNX+Msu2MvY44YAJnQNX2OAEStfLeJSlpVR1xvCkujSeeMseZrT7e3H6sz6pRLYnkvkyOEEHKbBceLFi1FRIv2E/R9915RPWFdZKNZytwJlh3V+vr162e9UOqEEJKP2dlZb5EvYytScMrB83YG7QYf9YsYFrvR+m3cxZ15Noml0aRLmfWWq06gxKjWLlevXn3nzJkzmJ6e5pVDCMnLiy++gPqGhs9UdYrWKE5w3C41f6Rnj2SO5aAz2H9AVdNYHGdRZ92AeTopR1SSVv6ACYdm8YaSedqTtc48Ua2LQlXH77qrcfL73+9Rig4hJBcvv/wy/v3113H1iy/+ktZYROyVyWvroKyrzN5E2o/MJIImE7Fy6w7cdVdj/PPPr4QfeuihvG8p9FzqYiNMX7lyBbOzs7j//vtLbtf09DR27NiBxsbGit6uVJu4nDl9ellvhVwNu5bT3mo8r+UcbznXxGqd21zHOzs7i/9OJG5+9NFHGwD8VFVfpcysfcHpw+LEgCQy3XjxFd7Hvvr6+j+rqan5XjXb6saNG3UbN26cF5GFO7FdOczPz9dv3rz5aqnbqerGhYWFzZs2bfqa56fyzs/CwsJmANi4ceP8nTy35doo2/F+882NG59/fuW/ALzKV0uvE8EhhBBSeTCWGiGEEAoOIYQQCg4hhBBCwSGEEELBIYQQQsEhhBBCKDiEEEIoOIQQQggFhxBCCAWHEEIIBYcQQgih4BBCCKHgEEIIIRQcQgghFBxCCCEUHEIIIYSCQ9YkIjIjImpvbi15fRn7jYlIbJnbRkQkZe1SW46JSHeltJGQ1WYTTUAqkKB99gEY891wuwGEfOVWer/LIWTbDzjf+wHERGSPqk5WQBsJoeAQkuWmmgbQJyJBVU076/psXXClb76qumcF6og64hgHEDPhGaiUNhKyWrBLjVQUIuKJSNw+/V1Sfc66ikZV4463QwgFhyYgFejdeIKTNoHxxKjP1kd9ZSEiQREZdsZ3Zux70NZPiEjKJ24hKxux7+qOj2SpMyYi4RLE0xOapJMXtnq8Ng4665bTxnz1zYjIhK++bHkpjgsRCg5Zz4IDZMZv+hyvpw9A0vEc3LKjAAZtmwH7HAQwYduPAQj6BvE9MYvmaMuolTkCoMfyYk578olNGEDERDPq5MVMgHosf1hE+p3jLbqNRdYX9oTPGf9y88JmxzgvPXIn3H4mpopJ1oWmdqPt85ZtXQpAxJYVwKgt99v3fl9dXv6g3VRvbWPrZwBMON8VQMyWvX2HnfVeHYNZ2h2zdW5K+baPuftz8mZ89RfbxkL1dbt2ATAMYMI9BstTACFef0y3O3HSAKlUDyetqnERSQPotk/PU/G6qYI+L2DMV9eYeRlhVU2LyJjVFbR/+iHkHsz3vIwJEfGvyzcmM+Bs34elEwbC5sFojj9/pbaxUH237GfeT599enkj9hlX1SQvPXK7oeCQihUc+4zbTTHt605bDt5Nt9tu1uksIuWnJ0teMk+Pgdf1FRWRUQD9IjLi3NDjdqNfqTYWqi9uAuZ1p41ZnRHrTgtjhWbQEULBIdUuOGOOpxD13fRDPlHq85Xpc9Z7//iTVlcYwJhvyrX/Rt0PIKiqY8s8ljFHPKIAJm2/k7n2W2IbC9bntGHQyiXNi4pYdxqKEF1CKDhkXeBOEBgr4BVEbDDcE6NBZLqLor4b8KCzXS5PZUxEJgGMisiI49WEVXWgxLZ7gjOCzBhLTES8fYesjfFS21hkfW4bjtixpe0ZIa87Lc3LjNwROJDFVGGTBiKZyzL7QLiTN+qWM0EaRmaQXe1z2DwUd7sQnIF337ol+U6dKSxOAoj563QnDeTIT/kmRbgTDCYAdJfRxmLqG4VvYgByTLRgYrqdSeziI4QQQm4rfA6HEEIIBYcQQggFhxBCCKHgEEIIqTz+H+KZV8p67ZDeAAAAAElFTkSuQmCC)"
      ]
    },
    {
      "cell_type": "code",
      "execution_count": null,
      "metadata": {
        "id": "6DiTaB8IyTiZ"
      },
      "outputs": [],
      "source": [
        "class BARTModel(nn.Module):\n",
        "  def __init__(self):\n",
        "    super(BARTModel, self).__init__()\n",
        "    self.bart = Config.MODEL\n",
        "    self.bart_drop = nn.Dropout(0.3)\n",
        "    self.out = nn.Linear(768, 1)\n",
        "\n",
        "  def forward(self, input_ids, attention_mask):\n",
        "    bart_outputs = self.bart(input_ids=input_ids, attention_mask=attention_mask)\n",
        "    hidden_states = bart_outputs[0] # Last hidden state (bs, seq_len, dim)\n",
        "    bo = self.bart_drop(hidden_states[:,0]) # pooled ouput (bs, dim)\n",
        "    output = self.out(bo)\n",
        "    \n",
        "    return output"
      ]
    },
    {
      "cell_type": "markdown",
      "metadata": {
        "id": "59c0uXJbyhwX"
      },
      "source": [
        "### Engine"
      ]
    },
    {
      "cell_type": "code",
      "execution_count": null,
      "metadata": {
        "id": "1C8PHXFxyhJD"
      },
      "outputs": [],
      "source": [
        "def loss_fn(outputs, labels):\n",
        "  return nn.BCEWithLogitsLoss()(outputs, labels.view(-1, 1))\n",
        "\n",
        "def train_fn(train_dataloader, model, optimizer, device, scheduler):\n",
        "  model.train()\n",
        "  final_loss = 0\n",
        "\n",
        "  fin_labels = []\n",
        "  fin_outputs = []\n",
        "  for bi, d in tqdm(enumerate(train_dataloader), total=len(train_dataloader)):\n",
        "    input_ids = d[\"input_ids\"]\n",
        "    attention_mask = d[\"attention_mask\"]\n",
        "    labels = d[\"labels\"]\n",
        "\n",
        "    input_ids = input_ids.to(device, dtype=torch.long)\n",
        "    attention_mask = attention_mask.to(device, dtype=torch.long)\n",
        "    labels = labels.to(device, dtype = torch.float)\n",
        "\n",
        "    optimizer.zero_grad()\n",
        "    outputs = model(input_ids=input_ids, attention_mask=attention_mask)\n",
        "    loss = loss_fn(outputs, labels)\n",
        "    \n",
        "    final_loss += loss.item()\n",
        "    fin_labels.extend(labels.cpu().detach().numpy().tolist())\n",
        "    fin_outputs.extend(torch.sigmoid(outputs).cpu().detach().numpy().tolist())\n",
        "    \n",
        "    loss.backward()\n",
        "    optimizer.step()\n",
        "    scheduler.step()\n",
        "\n",
        "  return fin_outputs, fin_labels, final_loss/len(train_dataloader)\n",
        "\n",
        "def eval_fn(valid_dataloader, model, device):\n",
        "  model.eval()\n",
        "  final_loss = 0\n",
        "\n",
        "  fin_labels = []\n",
        "  fin_outputs = []\n",
        "  with torch.no_grad():\n",
        "    for bi, d in tqdm(enumerate(valid_dataloader), total=len(valid_dataloader)):\n",
        "      input_ids = d[\"input_ids\"]\n",
        "      attention_mask = d[\"attention_mask\"]\n",
        "      labels = d[\"labels\"]\n",
        "\n",
        "      input_ids = input_ids.to(device, dtype=torch.long)\n",
        "      attention_mask = attention_mask.to(device, dtype=torch.long)\n",
        "      labels = labels.to(device, dtype = torch.float)\n",
        "\n",
        "      outputs = model(input_ids=input_ids, attention_mask=attention_mask)\n",
        "      \n",
        "      loss = loss_fn(outputs, labels)\n",
        "      final_loss += loss.item()\n",
        "      \n",
        "      fin_labels.extend(labels.cpu().detach().numpy().tolist())\n",
        "      fin_outputs.extend(torch.sigmoid(outputs).cpu().detach().numpy().tolist())\n",
        "      \n",
        "\n",
        "  return fin_outputs, fin_labels, final_loss/len(valid_dataloader)"
      ]
    },
    {
      "cell_type": "markdown",
      "metadata": {
        "id": "SAdI0J2sywes"
      },
      "source": [
        "### Train"
      ]
    },
    {
      "cell_type": "code",
      "execution_count": null,
      "metadata": {
        "colab": {
          "background_save": true,
          "base_uri": "https://localhost:8080/"
        },
        "id": "ADxeJ9_Lyvz2",
        "outputId": "4892ff9e-a36e-442a-92fd-2444b8ec21a8"
      },
      "outputs": [
        {
          "name": "stderr",
          "output_type": "stream",
          "text": [
            "100%|██████████| 5625/5625 [07:26<00:00, 12.60it/s]\n",
            "100%|██████████| 1250/1250 [00:26<00:00, 46.57it/s]\n"
          ]
        },
        {
          "name": "stdout",
          "output_type": "stream",
          "text": [
            "Epoch: 1\n",
            "Train Loss: 0.2390233182898826 - Train Accuracy: 0.9072444444444444 \n",
            "Valid Loss: 0.19136136184064673 - Valid Accuracy: 0.9264\n",
            "\n"
          ]
        },
        {
          "name": "stderr",
          "output_type": "stream",
          "text": [
            "100%|██████████| 5625/5625 [07:25<00:00, 12.62it/s]\n",
            "100%|██████████| 1250/1250 [00:26<00:00, 47.42it/s]\n"
          ]
        },
        {
          "name": "stdout",
          "output_type": "stream",
          "text": [
            "Epoch: 2\n",
            "Train Loss: 0.14072864135930108 - Train Accuracy: 0.9501333333333334 \n",
            "Valid Loss: 0.16685419574500993 - Valid Accuracy: 0.9412\n",
            "\n"
          ]
        },
        {
          "name": "stderr",
          "output_type": "stream",
          "text": [
            "100%|██████████| 5625/5625 [07:13<00:00, 12.98it/s]\n",
            "100%|██████████| 1250/1250 [00:25<00:00, 48.42it/s]\n"
          ]
        },
        {
          "name": "stdout",
          "output_type": "stream",
          "text": [
            "Epoch: 3\n",
            "Train Loss: 0.07903864910246597 - Train Accuracy: 0.9741111111111111 \n",
            "Valid Loss: 0.17531691193834412 - Valid Accuracy: 0.9474\n",
            "\n"
          ]
        },
        {
          "name": "stderr",
          "output_type": "stream",
          "text": [
            "100%|██████████| 5625/5625 [07:14<00:00, 12.95it/s]\n",
            "100%|██████████| 1250/1250 [00:26<00:00, 47.90it/s]\n"
          ]
        },
        {
          "name": "stdout",
          "output_type": "stream",
          "text": [
            "Epoch: 4\n",
            "Train Loss: 0.04449286015043035 - Train Accuracy: 0.9867333333333334 \n",
            "Valid Loss: 0.20109179981078487 - Valid Accuracy: 0.9456\n",
            "\n"
          ]
        }
      ],
      "source": [
        "dfx = pd.read_csv(Config.TRAINING_DATA).fillna(\"none\")\n",
        "dfx.sentiment = dfx.sentiment.apply(lambda x: 1 if x == \"positive\" else 0)\n",
        "\n",
        "df_train, df_valid = model_selection.train_test_split(\n",
        "    dfx, test_size=0.1, random_state=42, stratify=dfx.sentiment.values\n",
        "    )\n",
        "\n",
        "df_train = df_train.reset_index(drop=True)\n",
        "df_valid = df_valid.reset_index(drop=True)\n",
        "\n",
        "train_dataset = MovieReviewDataset(\n",
        "    review=df_train.review.values, label=df_train.sentiment.values\n",
        ")\n",
        "train_dataloader = DataLoader(train_dataset, batch_size=Config.TRAIN_BATCH_SIZE, num_workers=4)\n",
        "\n",
        "valid_dataset = MovieReviewDataset(\n",
        "    review=df_valid.review.values, label=df_valid.sentiment.values\n",
        ")\n",
        "valid_dataloader = DataLoader(valid_dataset, batch_size=Config.VALID_BATCH_SIZE, num_workers=1)\n",
        "\n",
        "model = BARTModel()\n",
        "model.to(Config.DEVICE)\n",
        "\n",
        "param_optimizer = list(model.named_parameters())\n",
        "no_decay = [\"bias\", \"LayerNorm.bias\", \"LayerNorm.weight\"]\n",
        "optimizer_parameters = [\n",
        "                        {\n",
        "                            \"params\": [\n",
        "                                       p for n, p in param_optimizer if not any(nd in n for nd in no_decay)\n",
        "                                       ],\n",
        "                         \"weight_decay\": 0.001,\n",
        "                         },\n",
        "                        {\n",
        "                            \"params\": [\n",
        "                                       p for n, p in param_optimizer if any(nd in n for nd in no_decay)\n",
        "                                       ],\n",
        "                         \"weight_decay\": 0.0,\n",
        "                         },\n",
        "                        ]\n",
        "\n",
        "num_train_steps = int(len(df_train) / Config.TRAIN_BATCH_SIZE * Config.EPOCHS)\n",
        "optimizer = AdamW(optimizer_parameters, lr=3e-5)\n",
        "scheduler = get_linear_schedule_with_warmup(\n",
        "    optimizer, num_warmup_steps=0, num_training_steps=num_train_steps\n",
        "    )\n",
        "\n",
        "history = defaultdict(list)\n",
        "\n",
        "best_accuracy = 0\n",
        "for epoch in range(1, Config.EPOCHS+1):\n",
        "  train_outputs, train_labels, train_loss = train_fn(train_dataloader, model, optimizer, Config.DEVICE, scheduler)\n",
        "  valid_outputs, valid_labels, valid_loss = eval_fn(valid_dataloader, model, Config.DEVICE)\n",
        "  \n",
        "  train_outputs = np.array(train_outputs) >= 0.5\n",
        "  valid_outputs = np.array(valid_outputs) >= 0.5\n",
        "\n",
        "  train_accuracy = metrics.accuracy_score(train_labels, train_outputs)\n",
        "  valid_accuracy = metrics.accuracy_score(valid_labels, valid_outputs)\n",
        "\n",
        "  print(f\"Epoch: {epoch}\\nTrain Loss: {train_loss} - Train Accuracy: {train_accuracy} \\nValid Loss: {valid_loss} - Valid Accuracy: {valid_accuracy}\\n\")\n",
        "  \n",
        "  history['Train Loss'].append(train_loss)\n",
        "  history['Train Accuracy'].append(train_accuracy)\n",
        "  history['Valid Loss'].append(valid_loss)\n",
        "  history['Valid Accuracy'].append(valid_accuracy)\n",
        "  \n",
        "  if valid_accuracy > best_accuracy:\n",
        "    torch.save(model.state_dict(), Config.MODEL_PATH)\n",
        "    best_accuracy = valid_accuracy"
      ]
    },
    {
      "cell_type": "markdown",
      "metadata": {
        "id": "G-V_usU6z-M8"
      },
      "source": [
        "### Error Analysis & Performance Auditing"
      ]
    },
    {
      "cell_type": "code",
      "execution_count": null,
      "metadata": {
        "colab": {
          "background_save": true
        },
        "id": "ZFoVjcycy6vw"
      },
      "outputs": [],
      "source": [
        "def get_metrics(labels, outputs):\n",
        "  accuracy = metrics.accuracy_score(labels, outputs)\n",
        "  recall = metrics.recall_score(labels, outputs)\n",
        "  precision = metrics.precision_score(labels, outputs)\n",
        "  f1 = metrics.f1_score(labels, outputs)\n",
        "  return accuracy, recall, precision, f1"
      ]
    },
    {
      "cell_type": "code",
      "execution_count": null,
      "metadata": {
        "colab": {
          "background_save": true
        },
        "id": "dUJMRPL20GRE",
        "outputId": "d8fd6bb5-9389-4b58-d0f7-a24bf3a9e466"
      },
      "outputs": [
        {
          "name": "stdout",
          "output_type": "stream",
          "text": [
            "======================================================================================================================================================\n",
            "\n",
            "Results summary\n",
            "\n",
            "Accuracy Score  : 0.9456\n",
            "Recall Score    : 0.96\n",
            "Precision Score : 0.9331259720062208\n",
            "F1 Score        : 0.9463722397476341\n",
            "======================================================================================================================================================\n",
            "\n",
            "Classification report \n",
            "\n",
            "               precision    recall  f1-score   support\n",
            "\n",
            "         0.0       0.96      0.93      0.94      2500\n",
            "         1.0       0.93      0.96      0.95      2500\n",
            "\n",
            "    accuracy                           0.95      5000\n",
            "   macro avg       0.95      0.95      0.95      5000\n",
            "weighted avg       0.95      0.95      0.95      5000\n",
            "\n",
            "======================================================================================================================================================\n"
          ]
        },
        {
          "data": {
            "image/png": "[encoded data removed]",
            "text/plain": [
              "<Figure size 432x288 with 1 Axes>"
            ]
          },
          "metadata": {},
          "output_type": "display_data"
        }
      ],
      "source": [
        "accuracy, recall, precision, f1 = get_metrics(valid_labels, valid_outputs)\n",
        "\n",
        "print(\"===\"*50)\n",
        "print(\"\\nResults summary\\n\")\n",
        "print(f\"Accuracy Score  : {accuracy}\")\n",
        "print(f\"Recall Score    : {recall}\")\n",
        "print(f\"Precision Score : {precision}\")\n",
        "print(f\"F1 Score        : {f1}\")\n",
        "\n",
        "print(\"===\"*50)\n",
        "print(\"\\nClassification report \\n\\n\", metrics.classification_report(valid_labels, valid_outputs))\n",
        "\n",
        "print(\"===\"*50)\n",
        "cm = metrics.confusion_matrix(valid_labels, valid_outputs)\n",
        "fig, ax = plt.subplots()\n",
        "sns.heatmap(cm, annot=True, fmt='d', ax=ax, cmap=plt.cm.Blues, cbar=False)\n",
        "ax.set(xlabel=\"Predicted Label\", \n",
        "       ylabel=\"True Label\", \n",
        "       xticklabels=np.unique(valid_labels), \n",
        "       yticklabels=np.unique(valid_labels), \n",
        "       title=\"CONFUSION MATRIX\")\n",
        "plt.yticks(rotation=0);"
      ]
    },
    {
      "cell_type": "code",
      "execution_count": null,
      "metadata": {
        "colab": {
          "background_save": true
        },
        "id": "yGhdH7yz0IvW",
        "outputId": "2bc7ee7c-82a7-48a2-abca-b3412598c107"
      },
      "outputs": [
        {
          "data": {
            "image/png": "[encoded data removed]",
            "text/plain": [
              "<Figure size 432x288 with 1 Axes>"
            ]
          },
          "metadata": {},
          "output_type": "display_data"
        }
      ],
      "source": [
        "plt.plot(history['Train Accuracy'], '-o', label='Train Accuracy')\n",
        "plt.plot(history['Valid Accuracy'], '-o', label='Validation Accuracy')\n",
        "plt.title('Training History')\n",
        "plt.ylabel('Accuracy')\n",
        "plt.xlabel('Epoch')\n",
        "plt.legend()\n",
        "plt.ylim([0, 1]);"
      ]
    },
    {
      "cell_type": "code",
      "execution_count": null,
      "metadata": {
        "colab": {
          "background_save": true
        },
        "id": "HfJAcFlL0LlU",
        "outputId": "f79aa550-dac0-42cb-83e1-c63cbf5bfe3a"
      },
      "outputs": [
        {
          "data": {
            "image/png": "[encoded data removed]",
            "text/plain": [
              "<Figure size 432x288 with 1 Axes>"
            ]
          },
          "metadata": {},
          "output_type": "display_data"
        }
      ],
      "source": [
        "plt.plot(history['Train Loss'], '-o', label='Train Loss')\n",
        "plt.plot(history['Valid Loss'], '-o', label='Validation Loss')\n",
        "plt.title('Training History')\n",
        "plt.ylabel('Loss')\n",
        "plt.xlabel('Epoch')\n",
        "plt.legend()\n",
        "plt.ylim([0, 1]);"
      ]
    },
    {
      "cell_type": "markdown",
      "metadata": {
        "id": "tcqJgC-g0Oo8"
      },
      "source": [
        "### Inference"
      ]
    },
    {
      "cell_type": "code",
      "execution_count": null,
      "metadata": {
        "colab": {
          "background_save": true
        },
        "id": "Khi266gD0Nwm"
      },
      "outputs": [],
      "source": [
        "model = BARTModel()\n",
        "model.to(Config.DEVICE)\n",
        "model.load_state_dict(\n",
        "    torch.load(\n",
        "        Config.MODEL_PATH,\n",
        "        map_location=torch.device(Config.DEVICE)\n",
        "        )\n",
        "    )\n",
        "\n",
        "def predict(review: str):\n",
        "  data = DataProcess(review)\n",
        "  input_ids, attention_mask = data.preprocess_bert()\n",
        "  \n",
        "  input_ids = input_ids.to(Config.DEVICE, dtype=torch.long)\n",
        "  attention_mask = attention_mask.to(Config.DEVICE, dtype=torch.long)\n",
        "  \n",
        "  outputs = model(input_ids, attention_mask) \n",
        "  positive_prediction = data.preprocess_output(outputs)\n",
        "  negative_prediction = 1 - positive_prediction\n",
        "  \n",
        "  return {\n",
        "      \"review\": review,\n",
        "      \"positive\": str(positive_prediction),\n",
        "      \"negative\": str(negative_prediction),\n",
        "  }"
      ]
    },
    {
      "cell_type": "code",
      "execution_count": null,
      "metadata": {
        "colab": {
          "background_save": true
        },
        "id": "uZniLYX20Wi1",
        "outputId": "44007d5b-6a33-4c65-c3a5-3772fb02fae3"
      },
      "outputs": [
        {
          "name": "stdout",
          "output_type": "stream",
          "text": [
            "{'review': 'I like this amazing movie', 'positive': '0.99905235', 'negative': '0.0009476542472839355'}\n"
          ]
        }
      ],
      "source": [
        "sentiment = predict(\"I like this amazing movie\")\n",
        "print(sentiment)"
      ]
    },
    {
      "cell_type": "code",
      "execution_count": null,
      "metadata": {
        "colab": {
          "background_save": true
        },
        "id": "R3C25k-D0YlC"
      },
      "outputs": [],
      "source": []
    },
    {
      "cell_type": "markdown",
      "metadata": {
        "id": "BKDvefE80Zz_"
      },
      "source": [
        "### References:\n",
        "* **Mike Lewis, Yinhan Liu, Naman Goyal, Marjan Ghazvininejad, Abdelrahman Mohamed, Omer Levy, Ves Stoyanov, Luke Zettlemoyer. 2019. [BART: Denoising Sequence-to-Sequence Pre-training for Natural Language Generation, Translation, and Comprehension](https://arxiv.org/abs/1910.13461). arXiv preprint arXiv:1910.13461.**"
      ]
    }
  ],
  "metadata": {
    "accelerator": "GPU",
    "colab": {
      "provenance": [],
      "include_colab_link": true
    },
    "kernelspec": {
      "display_name": "Python 3",
      "name": "python3"
    },
    "language_info": {
      "name": "python"
    },
    "widgets": {
      "application/vnd.jupyter.widget-state+json": {
        "097ebd6942094ef3a9263c8b90d4d573": {
          "model_module": "@jupyter-widgets/controls",
          "model_module_version": "1.5.0",
          "model_name": "FloatProgressModel",
          "state": {
            "_dom_classes": [],
            "_model_module": "@jupyter-widgets/controls",
            "_model_module_version": "1.5.0",
            "_model_name": "FloatProgressModel",
            "_view_count": null,
            "_view_module": "@jupyter-widgets/controls",
            "_view_module_version": "1.5.0",
            "_view_name": "ProgressView",
            "bar_style": "success",
            "description": "",
            "description_tooltip": null,
            "layout": "IPY_MODEL_93dc8ccf9591491f95b9fca2bdc4f9ac",
            "max": 1716,
            "min": 0,
            "orientation": "horizontal",
            "style": "IPY_MODEL_107520be07774ec9be09bd56894f02c1",
            "value": 1716
          }
        },
        "107520be07774ec9be09bd56894f02c1": {
          "model_module": "@jupyter-widgets/controls",
          "model_module_version": "1.5.0",
          "model_name": "ProgressStyleModel",
          "state": {
            "_model_module": "@jupyter-widgets/controls",
            "_model_module_version": "1.5.0",
            "_model_name": "ProgressStyleModel",
            "_view_count": null,
            "_view_module": "@jupyter-widgets/base",
            "_view_module_version": "1.2.0",
            "_view_name": "StyleView",
            "bar_color": null,
            "description_width": ""
          }
        },
        "1565ef5697cf4cddb9c2b1184cc955ee": {
          "model_module": "@jupyter-widgets/controls",
          "model_module_version": "1.5.0",
          "model_name": "DescriptionStyleModel",
          "state": {
            "_model_module": "@jupyter-widgets/controls",
            "_model_module_version": "1.5.0",
            "_model_name": "DescriptionStyleModel",
            "_view_count": null,
            "_view_module": "@jupyter-widgets/base",
            "_view_module_version": "1.2.0",
            "_view_name": "StyleView",
            "description_width": ""
          }
        },
        "33baa24d7d08424297c0f8f7812a9c0c": {
          "model_module": "@jupyter-widgets/controls",
          "model_module_version": "1.5.0",
          "model_name": "DescriptionStyleModel",
          "state": {
            "_model_module": "@jupyter-widgets/controls",
            "_model_module_version": "1.5.0",
            "_model_name": "DescriptionStyleModel",
            "_view_count": null,
            "_view_module": "@jupyter-widgets/base",
            "_view_module_version": "1.2.0",
            "_view_name": "StyleView",
            "description_width": ""
          }
        },
        "3cc606a349a94eb9a379852fc84c4ea3": {
          "model_module": "@jupyter-widgets/base",
          "model_module_version": "1.2.0",
          "model_name": "LayoutModel",
          "state": {
            "_model_module": "@jupyter-widgets/base",
            "_model_module_version": "1.2.0",
            "_model_name": "LayoutModel",
            "_view_count": null,
            "_view_module": "@jupyter-widgets/base",
            "_view_module_version": "1.2.0",
            "_view_name": "LayoutView",
            "align_content": null,
            "align_items": null,
            "align_self": null,
            "border": null,
            "bottom": null,
            "display": null,
            "flex": null,
            "flex_flow": null,
            "grid_area": null,
            "grid_auto_columns": null,
            "grid_auto_flow": null,
            "grid_auto_rows": null,
            "grid_column": null,
            "grid_gap": null,
            "grid_row": null,
            "grid_template_areas": null,
            "grid_template_columns": null,
            "grid_template_rows": null,
            "height": null,
            "justify_content": null,
            "justify_items": null,
            "left": null,
            "margin": null,
            "max_height": null,
            "max_width": null,
            "min_height": null,
            "min_width": null,
            "object_fit": null,
            "object_position": null,
            "order": null,
            "overflow": null,
            "overflow_x": null,
            "overflow_y": null,
            "padding": null,
            "right": null,
            "top": null,
            "visibility": null,
            "width": null
          }
        },
        "439d411ca7d34623964c359430f4318c": {
          "model_module": "@jupyter-widgets/controls",
          "model_module_version": "1.5.0",
          "model_name": "HBoxModel",
          "state": {
            "_dom_classes": [],
            "_model_module": "@jupyter-widgets/controls",
            "_model_module_version": "1.5.0",
            "_model_name": "HBoxModel",
            "_view_count": null,
            "_view_module": "@jupyter-widgets/controls",
            "_view_module_version": "1.5.0",
            "_view_name": "HBoxView",
            "box_style": "",
            "children": [
              "IPY_MODEL_ffd1a1b72fe14f009f632e95983d9ebc",
              "IPY_MODEL_e221370c66b84cc4b8465b182d945bf7",
              "IPY_MODEL_43be28059054451ab4eb8e73de119e3a"
            ],
            "layout": "IPY_MODEL_49da9830eec04e25a5db931764c16cac"
          }
        },
        "43be28059054451ab4eb8e73de119e3a": {
          "model_module": "@jupyter-widgets/controls",
          "model_module_version": "1.5.0",
          "model_name": "HTMLModel",
          "state": {
            "_dom_classes": [],
            "_model_module": "@jupyter-widgets/controls",
            "_model_module_version": "1.5.0",
            "_model_name": "HTMLModel",
            "_view_count": null,
            "_view_module": "@jupyter-widgets/controls",
            "_view_module_version": "1.5.0",
            "_view_name": "HTMLView",
            "description": "",
            "description_tooltip": null,
            "layout": "IPY_MODEL_3cc606a349a94eb9a379852fc84c4ea3",
            "placeholder": "​",
            "style": "IPY_MODEL_1565ef5697cf4cddb9c2b1184cc955ee",
            "value": " 532M/532M [00:09&lt;00:00, 65.3MB/s]"
          }
        },
        "49da9830eec04e25a5db931764c16cac": {
          "model_module": "@jupyter-widgets/base",
          "model_module_version": "1.2.0",
          "model_name": "LayoutModel",
          "state": {
            "_model_module": "@jupyter-widgets/base",
            "_model_module_version": "1.2.0",
            "_model_name": "LayoutModel",
            "_view_count": null,
            "_view_module": "@jupyter-widgets/base",
            "_view_module_version": "1.2.0",
            "_view_name": "LayoutView",
            "align_content": null,
            "align_items": null,
            "align_self": null,
            "border": null,
            "bottom": null,
            "display": null,
            "flex": null,
            "flex_flow": null,
            "grid_area": null,
            "grid_auto_columns": null,
            "grid_auto_flow": null,
            "grid_auto_rows": null,
            "grid_column": null,
            "grid_gap": null,
            "grid_row": null,
            "grid_template_areas": null,
            "grid_template_columns": null,
            "grid_template_rows": null,
            "height": null,
            "justify_content": null,
            "justify_items": null,
            "left": null,
            "margin": null,
            "max_height": null,
            "max_width": null,
            "min_height": null,
            "min_width": null,
            "object_fit": null,
            "object_position": null,
            "order": null,
            "overflow": null,
            "overflow_x": null,
            "overflow_y": null,
            "padding": null,
            "right": null,
            "top": null,
            "visibility": null,
            "width": null
          }
        },
        "4c0cda9a9d144f2e976abae12575b7d8": {
          "model_module": "@jupyter-widgets/controls",
          "model_module_version": "1.5.0",
          "model_name": "DescriptionStyleModel",
          "state": {
            "_model_module": "@jupyter-widgets/controls",
            "_model_module_version": "1.5.0",
            "_model_name": "DescriptionStyleModel",
            "_view_count": null,
            "_view_module": "@jupyter-widgets/base",
            "_view_module_version": "1.2.0",
            "_view_name": "StyleView",
            "description_width": ""
          }
        },
        "4dbad9bf2c2943b7a8e23579be72147b": {
          "model_module": "@jupyter-widgets/base",
          "model_module_version": "1.2.0",
          "model_name": "LayoutModel",
          "state": {
            "_model_module": "@jupyter-widgets/base",
            "_model_module_version": "1.2.0",
            "_model_name": "LayoutModel",
            "_view_count": null,
            "_view_module": "@jupyter-widgets/base",
            "_view_module_version": "1.2.0",
            "_view_name": "LayoutView",
            "align_content": null,
            "align_items": null,
            "align_self": null,
            "border": null,
            "bottom": null,
            "display": null,
            "flex": null,
            "flex_flow": null,
            "grid_area": null,
            "grid_auto_columns": null,
            "grid_auto_flow": null,
            "grid_auto_rows": null,
            "grid_column": null,
            "grid_gap": null,
            "grid_row": null,
            "grid_template_areas": null,
            "grid_template_columns": null,
            "grid_template_rows": null,
            "height": null,
            "justify_content": null,
            "justify_items": null,
            "left": null,
            "margin": null,
            "max_height": null,
            "max_width": null,
            "min_height": null,
            "min_width": null,
            "object_fit": null,
            "object_position": null,
            "order": null,
            "overflow": null,
            "overflow_x": null,
            "overflow_y": null,
            "padding": null,
            "right": null,
            "top": null,
            "visibility": null,
            "width": null
          }
        },
        "549385e3d0c54de3a991c3985ea02e05": {
          "model_module": "@jupyter-widgets/base",
          "model_module_version": "1.2.0",
          "model_name": "LayoutModel",
          "state": {
            "_model_module": "@jupyter-widgets/base",
            "_model_module_version": "1.2.0",
            "_model_name": "LayoutModel",
            "_view_count": null,
            "_view_module": "@jupyter-widgets/base",
            "_view_module_version": "1.2.0",
            "_view_name": "LayoutView",
            "align_content": null,
            "align_items": null,
            "align_self": null,
            "border": null,
            "bottom": null,
            "display": null,
            "flex": null,
            "flex_flow": null,
            "grid_area": null,
            "grid_auto_columns": null,
            "grid_auto_flow": null,
            "grid_auto_rows": null,
            "grid_column": null,
            "grid_gap": null,
            "grid_row": null,
            "grid_template_areas": null,
            "grid_template_columns": null,
            "grid_template_rows": null,
            "height": null,
            "justify_content": null,
            "justify_items": null,
            "left": null,
            "margin": null,
            "max_height": null,
            "max_width": null,
            "min_height": null,
            "min_width": null,
            "object_fit": null,
            "object_position": null,
            "order": null,
            "overflow": null,
            "overflow_x": null,
            "overflow_y": null,
            "padding": null,
            "right": null,
            "top": null,
            "visibility": null,
            "width": null
          }
        },
        "56b102c43b0446dc93e51e8bf134f54a": {
          "model_module": "@jupyter-widgets/controls",
          "model_module_version": "1.5.0",
          "model_name": "ProgressStyleModel",
          "state": {
            "_model_module": "@jupyter-widgets/controls",
            "_model_module_version": "1.5.0",
            "_model_name": "ProgressStyleModel",
            "_view_count": null,
            "_view_module": "@jupyter-widgets/base",
            "_view_module_version": "1.2.0",
            "_view_name": "StyleView",
            "bar_color": null,
            "description_width": ""
          }
        },
        "59b2db563a2444188fcd704900140a3e": {
          "model_module": "@jupyter-widgets/controls",
          "model_module_version": "1.5.0",
          "model_name": "HTMLModel",
          "state": {
            "_dom_classes": [],
            "_model_module": "@jupyter-widgets/controls",
            "_model_module_version": "1.5.0",
            "_model_name": "HTMLModel",
            "_view_count": null,
            "_view_module": "@jupyter-widgets/controls",
            "_view_module_version": "1.5.0",
            "_view_name": "HTMLView",
            "description": "",
            "description_tooltip": null,
            "layout": "IPY_MODEL_4dbad9bf2c2943b7a8e23579be72147b",
            "placeholder": "​",
            "style": "IPY_MODEL_70882634c348415297bc537ffba4c0b1",
            "value": "Downloading: 100%"
          }
        },
        "5f31b536d0274dbaa59ef9e2483fef71": {
          "model_module": "@jupyter-widgets/controls",
          "model_module_version": "1.5.0",
          "model_name": "HTMLModel",
          "state": {
            "_dom_classes": [],
            "_model_module": "@jupyter-widgets/controls",
            "_model_module_version": "1.5.0",
            "_model_name": "HTMLModel",
            "_view_count": null,
            "_view_module": "@jupyter-widgets/controls",
            "_view_module_version": "1.5.0",
            "_view_name": "HTMLView",
            "description": "",
            "description_tooltip": null,
            "layout": "IPY_MODEL_9edc116f6f134e7b90c0716559b7acd8",
            "placeholder": "​",
            "style": "IPY_MODEL_33baa24d7d08424297c0f8f7812a9c0c",
            "value": "Downloading: 100%"
          }
        },
        "60f735c59b074f10a85a9c09ebd20e4d": {
          "model_module": "@jupyter-widgets/controls",
          "model_module_version": "1.5.0",
          "model_name": "DescriptionStyleModel",
          "state": {
            "_model_module": "@jupyter-widgets/controls",
            "_model_module_version": "1.5.0",
            "_model_name": "DescriptionStyleModel",
            "_view_count": null,
            "_view_module": "@jupyter-widgets/base",
            "_view_module_version": "1.2.0",
            "_view_name": "StyleView",
            "description_width": ""
          }
        },
        "61652e6ecaab477f827fafcf4147f0e4": {
          "model_module": "@jupyter-widgets/controls",
          "model_module_version": "1.5.0",
          "model_name": "ProgressStyleModel",
          "state": {
            "_model_module": "@jupyter-widgets/controls",
            "_model_module_version": "1.5.0",
            "_model_name": "ProgressStyleModel",
            "_view_count": null,
            "_view_module": "@jupyter-widgets/base",
            "_view_module_version": "1.2.0",
            "_view_name": "StyleView",
            "bar_color": null,
            "description_width": ""
          }
        },
        "648e9ff2a7a1431992a93dd9ba0e26fa": {
          "model_module": "@jupyter-widgets/base",
          "model_module_version": "1.2.0",
          "model_name": "LayoutModel",
          "state": {
            "_model_module": "@jupyter-widgets/base",
            "_model_module_version": "1.2.0",
            "_model_name": "LayoutModel",
            "_view_count": null,
            "_view_module": "@jupyter-widgets/base",
            "_view_module_version": "1.2.0",
            "_view_name": "LayoutView",
            "align_content": null,
            "align_items": null,
            "align_self": null,
            "border": null,
            "bottom": null,
            "display": null,
            "flex": null,
            "flex_flow": null,
            "grid_area": null,
            "grid_auto_columns": null,
            "grid_auto_flow": null,
            "grid_auto_rows": null,
            "grid_column": null,
            "grid_gap": null,
            "grid_row": null,
            "grid_template_areas": null,
            "grid_template_columns": null,
            "grid_template_rows": null,
            "height": null,
            "justify_content": null,
            "justify_items": null,
            "left": null,
            "margin": null,
            "max_height": null,
            "max_width": null,
            "min_height": null,
            "min_width": null,
            "object_fit": null,
            "object_position": null,
            "order": null,
            "overflow": null,
            "overflow_x": null,
            "overflow_y": null,
            "padding": null,
            "right": null,
            "top": null,
            "visibility": null,
            "width": null
          }
        },
        "66019f5016684ababf5ecac0b0a6035c": {
          "model_module": "@jupyter-widgets/base",
          "model_module_version": "1.2.0",
          "model_name": "LayoutModel",
          "state": {
            "_model_module": "@jupyter-widgets/base",
            "_model_module_version": "1.2.0",
            "_model_name": "LayoutModel",
            "_view_count": null,
            "_view_module": "@jupyter-widgets/base",
            "_view_module_version": "1.2.0",
            "_view_name": "LayoutView",
            "align_content": null,
            "align_items": null,
            "align_self": null,
            "border": null,
            "bottom": null,
            "display": null,
            "flex": null,
            "flex_flow": null,
            "grid_area": null,
            "grid_auto_columns": null,
            "grid_auto_flow": null,
            "grid_auto_rows": null,
            "grid_column": null,
            "grid_gap": null,
            "grid_row": null,
            "grid_template_areas": null,
            "grid_template_columns": null,
            "grid_template_rows": null,
            "height": null,
            "justify_content": null,
            "justify_items": null,
            "left": null,
            "margin": null,
            "max_height": null,
            "max_width": null,
            "min_height": null,
            "min_width": null,
            "object_fit": null,
            "object_position": null,
            "order": null,
            "overflow": null,
            "overflow_x": null,
            "overflow_y": null,
            "padding": null,
            "right": null,
            "top": null,
            "visibility": null,
            "width": null
          }
        },
        "661d96a3530a4c59acba19aaa985f217": {
          "model_module": "@jupyter-widgets/controls",
          "model_module_version": "1.5.0",
          "model_name": "HBoxModel",
          "state": {
            "_dom_classes": [],
            "_model_module": "@jupyter-widgets/controls",
            "_model_module_version": "1.5.0",
            "_model_name": "HBoxModel",
            "_view_count": null,
            "_view_module": "@jupyter-widgets/controls",
            "_view_module_version": "1.5.0",
            "_view_name": "HBoxView",
            "box_style": "",
            "children": [
              "IPY_MODEL_59b2db563a2444188fcd704900140a3e",
              "IPY_MODEL_097ebd6942094ef3a9263c8b90d4d573",
              "IPY_MODEL_c51f54ad746e47188ab6179c0190e0f1"
            ],
            "layout": "IPY_MODEL_9b44461705494b6bbe8ad37deb8fb4aa"
          }
        },
        "6f971e63a03144b9a74ce47552d1bae5": {
          "model_module": "@jupyter-widgets/controls",
          "model_module_version": "1.5.0",
          "model_name": "HTMLModel",
          "state": {
            "_dom_classes": [],
            "_model_module": "@jupyter-widgets/controls",
            "_model_module_version": "1.5.0",
            "_model_name": "HTMLModel",
            "_view_count": null,
            "_view_module": "@jupyter-widgets/controls",
            "_view_module_version": "1.5.0",
            "_view_name": "HTMLView",
            "description": "",
            "description_tooltip": null,
            "layout": "IPY_MODEL_648e9ff2a7a1431992a93dd9ba0e26fa",
            "placeholder": "​",
            "style": "IPY_MODEL_ec8ff00c39714c2ea657b71b7d34dbc0",
            "value": " 878k/878k [00:00&lt;00:00, 4.23MB/s]"
          }
        },
        "70882634c348415297bc537ffba4c0b1": {
          "model_module": "@jupyter-widgets/controls",
          "model_module_version": "1.5.0",
          "model_name": "DescriptionStyleModel",
          "state": {
            "_model_module": "@jupyter-widgets/controls",
            "_model_module_version": "1.5.0",
            "_model_name": "DescriptionStyleModel",
            "_view_count": null,
            "_view_module": "@jupyter-widgets/base",
            "_view_module_version": "1.2.0",
            "_view_name": "StyleView",
            "description_width": ""
          }
        },
        "807e9ed9cd4e49f387beb41a6fbba014": {
          "model_module": "@jupyter-widgets/controls",
          "model_module_version": "1.5.0",
          "model_name": "HBoxModel",
          "state": {
            "_dom_classes": [],
            "_model_module": "@jupyter-widgets/controls",
            "_model_module_version": "1.5.0",
            "_model_name": "HBoxModel",
            "_view_count": null,
            "_view_module": "@jupyter-widgets/controls",
            "_view_module_version": "1.5.0",
            "_view_name": "HBoxView",
            "box_style": "",
            "children": [
              "IPY_MODEL_94766e5dee544b458ebc52d10f17119f",
              "IPY_MODEL_ba456272d574410f97516ea5398e65cc",
              "IPY_MODEL_c280ec6902d0491bbe61229aa6efb8f2"
            ],
            "layout": "IPY_MODEL_9f853fde3bda409098835f07208fdab0"
          }
        },
        "8ceb380fd502449883e68fc9ddfe0461": {
          "model_module": "@jupyter-widgets/base",
          "model_module_version": "1.2.0",
          "model_name": "LayoutModel",
          "state": {
            "_model_module": "@jupyter-widgets/base",
            "_model_module_version": "1.2.0",
            "_model_name": "LayoutModel",
            "_view_count": null,
            "_view_module": "@jupyter-widgets/base",
            "_view_module_version": "1.2.0",
            "_view_name": "LayoutView",
            "align_content": null,
            "align_items": null,
            "align_self": null,
            "border": null,
            "bottom": null,
            "display": null,
            "flex": null,
            "flex_flow": null,
            "grid_area": null,
            "grid_auto_columns": null,
            "grid_auto_flow": null,
            "grid_auto_rows": null,
            "grid_column": null,
            "grid_gap": null,
            "grid_row": null,
            "grid_template_areas": null,
            "grid_template_columns": null,
            "grid_template_rows": null,
            "height": null,
            "justify_content": null,
            "justify_items": null,
            "left": null,
            "margin": null,
            "max_height": null,
            "max_width": null,
            "min_height": null,
            "min_width": null,
            "object_fit": null,
            "object_position": null,
            "order": null,
            "overflow": null,
            "overflow_x": null,
            "overflow_y": null,
            "padding": null,
            "right": null,
            "top": null,
            "visibility": null,
            "width": null
          }
        },
        "934912302ea24a48a8f0bbca23516f90": {
          "model_module": "@jupyter-widgets/base",
          "model_module_version": "1.2.0",
          "model_name": "LayoutModel",
          "state": {
            "_model_module": "@jupyter-widgets/base",
            "_model_module_version": "1.2.0",
            "_model_name": "LayoutModel",
            "_view_count": null,
            "_view_module": "@jupyter-widgets/base",
            "_view_module_version": "1.2.0",
            "_view_name": "LayoutView",
            "align_content": null,
            "align_items": null,
            "align_self": null,
            "border": null,
            "bottom": null,
            "display": null,
            "flex": null,
            "flex_flow": null,
            "grid_area": null,
            "grid_auto_columns": null,
            "grid_auto_flow": null,
            "grid_auto_rows": null,
            "grid_column": null,
            "grid_gap": null,
            "grid_row": null,
            "grid_template_areas": null,
            "grid_template_columns": null,
            "grid_template_rows": null,
            "height": null,
            "justify_content": null,
            "justify_items": null,
            "left": null,
            "margin": null,
            "max_height": null,
            "max_width": null,
            "min_height": null,
            "min_width": null,
            "object_fit": null,
            "object_position": null,
            "order": null,
            "overflow": null,
            "overflow_x": null,
            "overflow_y": null,
            "padding": null,
            "right": null,
            "top": null,
            "visibility": null,
            "width": null
          }
        },
        "93dc8ccf9591491f95b9fca2bdc4f9ac": {
          "model_module": "@jupyter-widgets/base",
          "model_module_version": "1.2.0",
          "model_name": "LayoutModel",
          "state": {
            "_model_module": "@jupyter-widgets/base",
            "_model_module_version": "1.2.0",
            "_model_name": "LayoutModel",
            "_view_count": null,
            "_view_module": "@jupyter-widgets/base",
            "_view_module_version": "1.2.0",
            "_view_name": "LayoutView",
            "align_content": null,
            "align_items": null,
            "align_self": null,
            "border": null,
            "bottom": null,
            "display": null,
            "flex": null,
            "flex_flow": null,
            "grid_area": null,
            "grid_auto_columns": null,
            "grid_auto_flow": null,
            "grid_auto_rows": null,
            "grid_column": null,
            "grid_gap": null,
            "grid_row": null,
            "grid_template_areas": null,
            "grid_template_columns": null,
            "grid_template_rows": null,
            "height": null,
            "justify_content": null,
            "justify_items": null,
            "left": null,
            "margin": null,
            "max_height": null,
            "max_width": null,
            "min_height": null,
            "min_width": null,
            "object_fit": null,
            "object_position": null,
            "order": null,
            "overflow": null,
            "overflow_x": null,
            "overflow_y": null,
            "padding": null,
            "right": null,
            "top": null,
            "visibility": null,
            "width": null
          }
        },
        "94766e5dee544b458ebc52d10f17119f": {
          "model_module": "@jupyter-widgets/controls",
          "model_module_version": "1.5.0",
          "model_name": "HTMLModel",
          "state": {
            "_dom_classes": [],
            "_model_module": "@jupyter-widgets/controls",
            "_model_module_version": "1.5.0",
            "_model_name": "HTMLModel",
            "_view_count": null,
            "_view_module": "@jupyter-widgets/controls",
            "_view_module_version": "1.5.0",
            "_view_name": "HTMLView",
            "description": "",
            "description_tooltip": null,
            "layout": "IPY_MODEL_df9b78265ff741ce8aafb4141ca41f82",
            "placeholder": "​",
            "style": "IPY_MODEL_60f735c59b074f10a85a9c09ebd20e4d",
            "value": "Downloading: 100%"
          }
        },
        "9b44461705494b6bbe8ad37deb8fb4aa": {
          "model_module": "@jupyter-widgets/base",
          "model_module_version": "1.2.0",
          "model_name": "LayoutModel",
          "state": {
            "_model_module": "@jupyter-widgets/base",
            "_model_module_version": "1.2.0",
            "_model_name": "LayoutModel",
            "_view_count": null,
            "_view_module": "@jupyter-widgets/base",
            "_view_module_version": "1.2.0",
            "_view_name": "LayoutView",
            "align_content": null,
            "align_items": null,
            "align_self": null,
            "border": null,
            "bottom": null,
            "display": null,
            "flex": null,
            "flex_flow": null,
            "grid_area": null,
            "grid_auto_columns": null,
            "grid_auto_flow": null,
            "grid_auto_rows": null,
            "grid_column": null,
            "grid_gap": null,
            "grid_row": null,
            "grid_template_areas": null,
            "grid_template_columns": null,
            "grid_template_rows": null,
            "height": null,
            "justify_content": null,
            "justify_items": null,
            "left": null,
            "margin": null,
            "max_height": null,
            "max_width": null,
            "min_height": null,
            "min_width": null,
            "object_fit": null,
            "object_position": null,
            "order": null,
            "overflow": null,
            "overflow_x": null,
            "overflow_y": null,
            "padding": null,
            "right": null,
            "top": null,
            "visibility": null,
            "width": null
          }
        },
        "9edc116f6f134e7b90c0716559b7acd8": {
          "model_module": "@jupyter-widgets/base",
          "model_module_version": "1.2.0",
          "model_name": "LayoutModel",
          "state": {
            "_model_module": "@jupyter-widgets/base",
            "_model_module_version": "1.2.0",
            "_model_name": "LayoutModel",
            "_view_count": null,
            "_view_module": "@jupyter-widgets/base",
            "_view_module_version": "1.2.0",
            "_view_name": "LayoutView",
            "align_content": null,
            "align_items": null,
            "align_self": null,
            "border": null,
            "bottom": null,
            "display": null,
            "flex": null,
            "flex_flow": null,
            "grid_area": null,
            "grid_auto_columns": null,
            "grid_auto_flow": null,
            "grid_auto_rows": null,
            "grid_column": null,
            "grid_gap": null,
            "grid_row": null,
            "grid_template_areas": null,
            "grid_template_columns": null,
            "grid_template_rows": null,
            "height": null,
            "justify_content": null,
            "justify_items": null,
            "left": null,
            "margin": null,
            "max_height": null,
            "max_width": null,
            "min_height": null,
            "min_width": null,
            "object_fit": null,
            "object_position": null,
            "order": null,
            "overflow": null,
            "overflow_x": null,
            "overflow_y": null,
            "padding": null,
            "right": null,
            "top": null,
            "visibility": null,
            "width": null
          }
        },
        "9f853fde3bda409098835f07208fdab0": {
          "model_module": "@jupyter-widgets/base",
          "model_module_version": "1.2.0",
          "model_name": "LayoutModel",
          "state": {
            "_model_module": "@jupyter-widgets/base",
            "_model_module_version": "1.2.0",
            "_model_name": "LayoutModel",
            "_view_count": null,
            "_view_module": "@jupyter-widgets/base",
            "_view_module_version": "1.2.0",
            "_view_name": "LayoutView",
            "align_content": null,
            "align_items": null,
            "align_self": null,
            "border": null,
            "bottom": null,
            "display": null,
            "flex": null,
            "flex_flow": null,
            "grid_area": null,
            "grid_auto_columns": null,
            "grid_auto_flow": null,
            "grid_auto_rows": null,
            "grid_column": null,
            "grid_gap": null,
            "grid_row": null,
            "grid_template_areas": null,
            "grid_template_columns": null,
            "grid_template_rows": null,
            "height": null,
            "justify_content": null,
            "justify_items": null,
            "left": null,
            "margin": null,
            "max_height": null,
            "max_width": null,
            "min_height": null,
            "min_width": null,
            "object_fit": null,
            "object_position": null,
            "order": null,
            "overflow": null,
            "overflow_x": null,
            "overflow_y": null,
            "padding": null,
            "right": null,
            "top": null,
            "visibility": null,
            "width": null
          }
        },
        "a277b9c2783c408cb56c301ca5887398": {
          "model_module": "@jupyter-widgets/controls",
          "model_module_version": "1.5.0",
          "model_name": "DescriptionStyleModel",
          "state": {
            "_model_module": "@jupyter-widgets/controls",
            "_model_module_version": "1.5.0",
            "_model_name": "DescriptionStyleModel",
            "_view_count": null,
            "_view_module": "@jupyter-widgets/base",
            "_view_module_version": "1.2.0",
            "_view_name": "StyleView",
            "description_width": ""
          }
        },
        "a531abd79c464259a6eeda8a77368ac4": {
          "model_module": "@jupyter-widgets/controls",
          "model_module_version": "1.5.0",
          "model_name": "FloatProgressModel",
          "state": {
            "_dom_classes": [],
            "_model_module": "@jupyter-widgets/controls",
            "_model_module_version": "1.5.0",
            "_model_name": "FloatProgressModel",
            "_view_count": null,
            "_view_module": "@jupyter-widgets/controls",
            "_view_module_version": "1.5.0",
            "_view_name": "ProgressView",
            "bar_style": "success",
            "description": "",
            "description_tooltip": null,
            "layout": "IPY_MODEL_934912302ea24a48a8f0bbca23516f90",
            "max": 898823,
            "min": 0,
            "orientation": "horizontal",
            "style": "IPY_MODEL_61652e6ecaab477f827fafcf4147f0e4",
            "value": 898823
          }
        },
        "b7ea998b4a3343d68a0cb7dc607bca27": {
          "model_module": "@jupyter-widgets/base",
          "model_module_version": "1.2.0",
          "model_name": "LayoutModel",
          "state": {
            "_model_module": "@jupyter-widgets/base",
            "_model_module_version": "1.2.0",
            "_model_name": "LayoutModel",
            "_view_count": null,
            "_view_module": "@jupyter-widgets/base",
            "_view_module_version": "1.2.0",
            "_view_name": "LayoutView",
            "align_content": null,
            "align_items": null,
            "align_self": null,
            "border": null,
            "bottom": null,
            "display": null,
            "flex": null,
            "flex_flow": null,
            "grid_area": null,
            "grid_auto_columns": null,
            "grid_auto_flow": null,
            "grid_auto_rows": null,
            "grid_column": null,
            "grid_gap": null,
            "grid_row": null,
            "grid_template_areas": null,
            "grid_template_columns": null,
            "grid_template_rows": null,
            "height": null,
            "justify_content": null,
            "justify_items": null,
            "left": null,
            "margin": null,
            "max_height": null,
            "max_width": null,
            "min_height": null,
            "min_width": null,
            "object_fit": null,
            "object_position": null,
            "order": null,
            "overflow": null,
            "overflow_x": null,
            "overflow_y": null,
            "padding": null,
            "right": null,
            "top": null,
            "visibility": null,
            "width": null
          }
        },
        "ba3a325c478048389ab056256d31b330": {
          "model_module": "@jupyter-widgets/base",
          "model_module_version": "1.2.0",
          "model_name": "LayoutModel",
          "state": {
            "_model_module": "@jupyter-widgets/base",
            "_model_module_version": "1.2.0",
            "_model_name": "LayoutModel",
            "_view_count": null,
            "_view_module": "@jupyter-widgets/base",
            "_view_module_version": "1.2.0",
            "_view_name": "LayoutView",
            "align_content": null,
            "align_items": null,
            "align_self": null,
            "border": null,
            "bottom": null,
            "display": null,
            "flex": null,
            "flex_flow": null,
            "grid_area": null,
            "grid_auto_columns": null,
            "grid_auto_flow": null,
            "grid_auto_rows": null,
            "grid_column": null,
            "grid_gap": null,
            "grid_row": null,
            "grid_template_areas": null,
            "grid_template_columns": null,
            "grid_template_rows": null,
            "height": null,
            "justify_content": null,
            "justify_items": null,
            "left": null,
            "margin": null,
            "max_height": null,
            "max_width": null,
            "min_height": null,
            "min_width": null,
            "object_fit": null,
            "object_position": null,
            "order": null,
            "overflow": null,
            "overflow_x": null,
            "overflow_y": null,
            "padding": null,
            "right": null,
            "top": null,
            "visibility": null,
            "width": null
          }
        },
        "ba456272d574410f97516ea5398e65cc": {
          "model_module": "@jupyter-widgets/controls",
          "model_module_version": "1.5.0",
          "model_name": "FloatProgressModel",
          "state": {
            "_dom_classes": [],
            "_model_module": "@jupyter-widgets/controls",
            "_model_module_version": "1.5.0",
            "_model_name": "FloatProgressModel",
            "_view_count": null,
            "_view_module": "@jupyter-widgets/controls",
            "_view_module_version": "1.5.0",
            "_view_name": "ProgressView",
            "bar_style": "success",
            "description": "",
            "description_tooltip": null,
            "layout": "IPY_MODEL_ba3a325c478048389ab056256d31b330",
            "max": 456318,
            "min": 0,
            "orientation": "horizontal",
            "style": "IPY_MODEL_56b102c43b0446dc93e51e8bf134f54a",
            "value": 456318
          }
        },
        "c10ad59b97334c1b89e7d773eac67397": {
          "model_module": "@jupyter-widgets/controls",
          "model_module_version": "1.5.0",
          "model_name": "HBoxModel",
          "state": {
            "_dom_classes": [],
            "_model_module": "@jupyter-widgets/controls",
            "_model_module_version": "1.5.0",
            "_model_name": "HBoxModel",
            "_view_count": null,
            "_view_module": "@jupyter-widgets/controls",
            "_view_module_version": "1.5.0",
            "_view_name": "HBoxView",
            "box_style": "",
            "children": [
              "IPY_MODEL_5f31b536d0274dbaa59ef9e2483fef71",
              "IPY_MODEL_a531abd79c464259a6eeda8a77368ac4",
              "IPY_MODEL_6f971e63a03144b9a74ce47552d1bae5"
            ],
            "layout": "IPY_MODEL_f7dc8b9228724f8f8448d92fb9d15d47"
          }
        },
        "c280ec6902d0491bbe61229aa6efb8f2": {
          "model_module": "@jupyter-widgets/controls",
          "model_module_version": "1.5.0",
          "model_name": "HTMLModel",
          "state": {
            "_dom_classes": [],
            "_model_module": "@jupyter-widgets/controls",
            "_model_module_version": "1.5.0",
            "_model_name": "HTMLModel",
            "_view_count": null,
            "_view_module": "@jupyter-widgets/controls",
            "_view_module_version": "1.5.0",
            "_view_name": "HTMLView",
            "description": "",
            "description_tooltip": null,
            "layout": "IPY_MODEL_8ceb380fd502449883e68fc9ddfe0461",
            "placeholder": "​",
            "style": "IPY_MODEL_a277b9c2783c408cb56c301ca5887398",
            "value": " 446k/446k [00:00&lt;00:00, 4.60MB/s]"
          }
        },
        "c51f54ad746e47188ab6179c0190e0f1": {
          "model_module": "@jupyter-widgets/controls",
          "model_module_version": "1.5.0",
          "model_name": "HTMLModel",
          "state": {
            "_dom_classes": [],
            "_model_module": "@jupyter-widgets/controls",
            "_model_module_version": "1.5.0",
            "_model_name": "HTMLModel",
            "_view_count": null,
            "_view_module": "@jupyter-widgets/controls",
            "_view_module_version": "1.5.0",
            "_view_name": "HTMLView",
            "description": "",
            "description_tooltip": null,
            "layout": "IPY_MODEL_549385e3d0c54de3a991c3985ea02e05",
            "placeholder": "​",
            "style": "IPY_MODEL_cac08bd3064f4c8ab464dd971952f3f5",
            "value": " 1.68k/1.68k [00:00&lt;00:00, 69.7kB/s]"
          }
        },
        "cac08bd3064f4c8ab464dd971952f3f5": {
          "model_module": "@jupyter-widgets/controls",
          "model_module_version": "1.5.0",
          "model_name": "DescriptionStyleModel",
          "state": {
            "_model_module": "@jupyter-widgets/controls",
            "_model_module_version": "1.5.0",
            "_model_name": "DescriptionStyleModel",
            "_view_count": null,
            "_view_module": "@jupyter-widgets/base",
            "_view_module_version": "1.2.0",
            "_view_name": "StyleView",
            "description_width": ""
          }
        },
        "df9b78265ff741ce8aafb4141ca41f82": {
          "model_module": "@jupyter-widgets/base",
          "model_module_version": "1.2.0",
          "model_name": "LayoutModel",
          "state": {
            "_model_module": "@jupyter-widgets/base",
            "_model_module_version": "1.2.0",
            "_model_name": "LayoutModel",
            "_view_count": null,
            "_view_module": "@jupyter-widgets/base",
            "_view_module_version": "1.2.0",
            "_view_name": "LayoutView",
            "align_content": null,
            "align_items": null,
            "align_self": null,
            "border": null,
            "bottom": null,
            "display": null,
            "flex": null,
            "flex_flow": null,
            "grid_area": null,
            "grid_auto_columns": null,
            "grid_auto_flow": null,
            "grid_auto_rows": null,
            "grid_column": null,
            "grid_gap": null,
            "grid_row": null,
            "grid_template_areas": null,
            "grid_template_columns": null,
            "grid_template_rows": null,
            "height": null,
            "justify_content": null,
            "justify_items": null,
            "left": null,
            "margin": null,
            "max_height": null,
            "max_width": null,
            "min_height": null,
            "min_width": null,
            "object_fit": null,
            "object_position": null,
            "order": null,
            "overflow": null,
            "overflow_x": null,
            "overflow_y": null,
            "padding": null,
            "right": null,
            "top": null,
            "visibility": null,
            "width": null
          }
        },
        "e221370c66b84cc4b8465b182d945bf7": {
          "model_module": "@jupyter-widgets/controls",
          "model_module_version": "1.5.0",
          "model_name": "FloatProgressModel",
          "state": {
            "_dom_classes": [],
            "_model_module": "@jupyter-widgets/controls",
            "_model_module_version": "1.5.0",
            "_model_name": "FloatProgressModel",
            "_view_count": null,
            "_view_module": "@jupyter-widgets/controls",
            "_view_module_version": "1.5.0",
            "_view_name": "ProgressView",
            "bar_style": "success",
            "description": "",
            "description_tooltip": null,
            "layout": "IPY_MODEL_b7ea998b4a3343d68a0cb7dc607bca27",
            "max": 557771387,
            "min": 0,
            "orientation": "horizontal",
            "style": "IPY_MODEL_f3203bdf7474471891a6ccdc62dabed6",
            "value": 557771387
          }
        },
        "ec8ff00c39714c2ea657b71b7d34dbc0": {
          "model_module": "@jupyter-widgets/controls",
          "model_module_version": "1.5.0",
          "model_name": "DescriptionStyleModel",
          "state": {
            "_model_module": "@jupyter-widgets/controls",
            "_model_module_version": "1.5.0",
            "_model_name": "DescriptionStyleModel",
            "_view_count": null,
            "_view_module": "@jupyter-widgets/base",
            "_view_module_version": "1.2.0",
            "_view_name": "StyleView",
            "description_width": ""
          }
        },
        "f3203bdf7474471891a6ccdc62dabed6": {
          "model_module": "@jupyter-widgets/controls",
          "model_module_version": "1.5.0",
          "model_name": "ProgressStyleModel",
          "state": {
            "_model_module": "@jupyter-widgets/controls",
            "_model_module_version": "1.5.0",
            "_model_name": "ProgressStyleModel",
            "_view_count": null,
            "_view_module": "@jupyter-widgets/base",
            "_view_module_version": "1.2.0",
            "_view_name": "StyleView",
            "bar_color": null,
            "description_width": ""
          }
        },
        "f7dc8b9228724f8f8448d92fb9d15d47": {
          "model_module": "@jupyter-widgets/base",
          "model_module_version": "1.2.0",
          "model_name": "LayoutModel",
          "state": {
            "_model_module": "@jupyter-widgets/base",
            "_model_module_version": "1.2.0",
            "_model_name": "LayoutModel",
            "_view_count": null,
            "_view_module": "@jupyter-widgets/base",
            "_view_module_version": "1.2.0",
            "_view_name": "LayoutView",
            "align_content": null,
            "align_items": null,
            "align_self": null,
            "border": null,
            "bottom": null,
            "display": null,
            "flex": null,
            "flex_flow": null,
            "grid_area": null,
            "grid_auto_columns": null,
            "grid_auto_flow": null,
            "grid_auto_rows": null,
            "grid_column": null,
            "grid_gap": null,
            "grid_row": null,
            "grid_template_areas": null,
            "grid_template_columns": null,
            "grid_template_rows": null,
            "height": null,
            "justify_content": null,
            "justify_items": null,
            "left": null,
            "margin": null,
            "max_height": null,
            "max_width": null,
            "min_height": null,
            "min_width": null,
            "object_fit": null,
            "object_position": null,
            "order": null,
            "overflow": null,
            "overflow_x": null,
            "overflow_y": null,
            "padding": null,
            "right": null,
            "top": null,
            "visibility": null,
            "width": null
          }
        },
        "ffd1a1b72fe14f009f632e95983d9ebc": {
          "model_module": "@jupyter-widgets/controls",
          "model_module_version": "1.5.0",
          "model_name": "HTMLModel",
          "state": {
            "_dom_classes": [],
            "_model_module": "@jupyter-widgets/controls",
            "_model_module_version": "1.5.0",
            "_model_name": "HTMLModel",
            "_view_count": null,
            "_view_module": "@jupyter-widgets/controls",
            "_view_module_version": "1.5.0",
            "_view_name": "HTMLView",
            "description": "",
            "description_tooltip": null,
            "layout": "IPY_MODEL_66019f5016684ababf5ecac0b0a6035c",
            "placeholder": "​",
            "style": "IPY_MODEL_4c0cda9a9d144f2e976abae12575b7d8",
            "value": "Downloading: 100%"
          }
        }
      }
    }
  },
  "nbformat": 4,
  "nbformat_minor": 0
}