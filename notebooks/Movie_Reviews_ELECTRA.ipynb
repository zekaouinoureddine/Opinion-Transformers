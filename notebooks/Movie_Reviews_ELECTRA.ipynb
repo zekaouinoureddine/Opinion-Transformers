{
  "nbformat": 4,
  "nbformat_minor": 0,
  "metadata": {
    "colab": {
      "provenance": [],
      "include_colab_link": true
    },
    "kernelspec": {
      "name": "python3",
      "display_name": "Python 3"
    },
    "language_info": {
      "name": "python"
    },
    "accelerator": "GPU",
    "widgets": {
      "application/vnd.jupyter.widget-state+json": {
        "2cc446d10ef141dcbf425db9f0e2d9f4": {
          "model_module": "@jupyter-widgets/controls",
          "model_name": "HBoxModel",
          "model_module_version": "1.5.0",
          "state": {
            "_dom_classes": [],
            "_model_module": "@jupyter-widgets/controls",
            "_model_module_version": "1.5.0",
            "_model_name": "HBoxModel",
            "_view_count": null,
            "_view_module": "@jupyter-widgets/controls",
            "_view_module_version": "1.5.0",
            "_view_name": "HBoxView",
            "box_style": "",
            "children": [
              "IPY_MODEL_ce74ca909e374183802c95eb860f8abc",
              "IPY_MODEL_98f64bb142b84f3dab2816ec8cc9a591",
              "IPY_MODEL_fb6a7eed1e88481490bae35482a6395f"
            ],
            "layout": "IPY_MODEL_ee4a2e3537e84e2599f59c499216958e"
          }
        },
        "ce74ca909e374183802c95eb860f8abc": {
          "model_module": "@jupyter-widgets/controls",
          "model_name": "HTMLModel",
          "model_module_version": "1.5.0",
          "state": {
            "_dom_classes": [],
            "_model_module": "@jupyter-widgets/controls",
            "_model_module_version": "1.5.0",
            "_model_name": "HTMLModel",
            "_view_count": null,
            "_view_module": "@jupyter-widgets/controls",
            "_view_module_version": "1.5.0",
            "_view_name": "HTMLView",
            "description": "",
            "description_tooltip": null,
            "layout": "IPY_MODEL_c46f9efac6184aeca46ed34e60f4f9a3",
            "placeholder": "​",
            "style": "IPY_MODEL_c71121287c7c4228a0025475a8471c4b",
            "value": "Downloading: 100%"
          }
        },
        "98f64bb142b84f3dab2816ec8cc9a591": {
          "model_module": "@jupyter-widgets/controls",
          "model_name": "FloatProgressModel",
          "model_module_version": "1.5.0",
          "state": {
            "_dom_classes": [],
            "_model_module": "@jupyter-widgets/controls",
            "_model_module_version": "1.5.0",
            "_model_name": "FloatProgressModel",
            "_view_count": null,
            "_view_module": "@jupyter-widgets/controls",
            "_view_module_version": "1.5.0",
            "_view_name": "ProgressView",
            "bar_style": "success",
            "description": "",
            "description_tooltip": null,
            "layout": "IPY_MODEL_ff5f189fbb9148f79858af69cc862e32",
            "max": 231508,
            "min": 0,
            "orientation": "horizontal",
            "style": "IPY_MODEL_b765f2b19d044b848e60cf0ddd725027",
            "value": 231508
          }
        },
        "fb6a7eed1e88481490bae35482a6395f": {
          "model_module": "@jupyter-widgets/controls",
          "model_name": "HTMLModel",
          "model_module_version": "1.5.0",
          "state": {
            "_dom_classes": [],
            "_model_module": "@jupyter-widgets/controls",
            "_model_module_version": "1.5.0",
            "_model_name": "HTMLModel",
            "_view_count": null,
            "_view_module": "@jupyter-widgets/controls",
            "_view_module_version": "1.5.0",
            "_view_name": "HTMLView",
            "description": "",
            "description_tooltip": null,
            "layout": "IPY_MODEL_23e3a8777b9f4e738fc234b16079c2ef",
            "placeholder": "​",
            "style": "IPY_MODEL_b37763b959234f8f851cb3bc4ea77c7b",
            "value": " 226k/226k [00:00&lt;00:00, 3.15MB/s]"
          }
        },
        "ee4a2e3537e84e2599f59c499216958e": {
          "model_module": "@jupyter-widgets/base",
          "model_name": "LayoutModel",
          "model_module_version": "1.2.0",
          "state": {
            "_model_module": "@jupyter-widgets/base",
            "_model_module_version": "1.2.0",
            "_model_name": "LayoutModel",
            "_view_count": null,
            "_view_module": "@jupyter-widgets/base",
            "_view_module_version": "1.2.0",
            "_view_name": "LayoutView",
            "align_content": null,
            "align_items": null,
            "align_self": null,
            "border": null,
            "bottom": null,
            "display": null,
            "flex": null,
            "flex_flow": null,
            "grid_area": null,
            "grid_auto_columns": null,
            "grid_auto_flow": null,
            "grid_auto_rows": null,
            "grid_column": null,
            "grid_gap": null,
            "grid_row": null,
            "grid_template_areas": null,
            "grid_template_columns": null,
            "grid_template_rows": null,
            "height": null,
            "justify_content": null,
            "justify_items": null,
            "left": null,
            "margin": null,
            "max_height": null,
            "max_width": null,
            "min_height": null,
            "min_width": null,
            "object_fit": null,
            "object_position": null,
            "order": null,
            "overflow": null,
            "overflow_x": null,
            "overflow_y": null,
            "padding": null,
            "right": null,
            "top": null,
            "visibility": null,
            "width": null
          }
        },
        "c46f9efac6184aeca46ed34e60f4f9a3": {
          "model_module": "@jupyter-widgets/base",
          "model_name": "LayoutModel",
          "model_module_version": "1.2.0",
          "state": {
            "_model_module": "@jupyter-widgets/base",
            "_model_module_version": "1.2.0",
            "_model_name": "LayoutModel",
            "_view_count": null,
            "_view_module": "@jupyter-widgets/base",
            "_view_module_version": "1.2.0",
            "_view_name": "LayoutView",
            "align_content": null,
            "align_items": null,
            "align_self": null,
            "border": null,
            "bottom": null,
            "display": null,
            "flex": null,
            "flex_flow": null,
            "grid_area": null,
            "grid_auto_columns": null,
            "grid_auto_flow": null,
            "grid_auto_rows": null,
            "grid_column": null,
            "grid_gap": null,
            "grid_row": null,
            "grid_template_areas": null,
            "grid_template_columns": null,
            "grid_template_rows": null,
            "height": null,
            "justify_content": null,
            "justify_items": null,
            "left": null,
            "margin": null,
            "max_height": null,
            "max_width": null,
            "min_height": null,
            "min_width": null,
            "object_fit": null,
            "object_position": null,
            "order": null,
            "overflow": null,
            "overflow_x": null,
            "overflow_y": null,
            "padding": null,
            "right": null,
            "top": null,
            "visibility": null,
            "width": null
          }
        },
        "c71121287c7c4228a0025475a8471c4b": {
          "model_module": "@jupyter-widgets/controls",
          "model_name": "DescriptionStyleModel",
          "model_module_version": "1.5.0",
          "state": {
            "_model_module": "@jupyter-widgets/controls",
            "_model_module_version": "1.5.0",
            "_model_name": "DescriptionStyleModel",
            "_view_count": null,
            "_view_module": "@jupyter-widgets/base",
            "_view_module_version": "1.2.0",
            "_view_name": "StyleView",
            "description_width": ""
          }
        },
        "ff5f189fbb9148f79858af69cc862e32": {
          "model_module": "@jupyter-widgets/base",
          "model_name": "LayoutModel",
          "model_module_version": "1.2.0",
          "state": {
            "_model_module": "@jupyter-widgets/base",
            "_model_module_version": "1.2.0",
            "_model_name": "LayoutModel",
            "_view_count": null,
            "_view_module": "@jupyter-widgets/base",
            "_view_module_version": "1.2.0",
            "_view_name": "LayoutView",
            "align_content": null,
            "align_items": null,
            "align_self": null,
            "border": null,
            "bottom": null,
            "display": null,
            "flex": null,
            "flex_flow": null,
            "grid_area": null,
            "grid_auto_columns": null,
            "grid_auto_flow": null,
            "grid_auto_rows": null,
            "grid_column": null,
            "grid_gap": null,
            "grid_row": null,
            "grid_template_areas": null,
            "grid_template_columns": null,
            "grid_template_rows": null,
            "height": null,
            "justify_content": null,
            "justify_items": null,
            "left": null,
            "margin": null,
            "max_height": null,
            "max_width": null,
            "min_height": null,
            "min_width": null,
            "object_fit": null,
            "object_position": null,
            "order": null,
            "overflow": null,
            "overflow_x": null,
            "overflow_y": null,
            "padding": null,
            "right": null,
            "top": null,
            "visibility": null,
            "width": null
          }
        },
        "b765f2b19d044b848e60cf0ddd725027": {
          "model_module": "@jupyter-widgets/controls",
          "model_name": "ProgressStyleModel",
          "model_module_version": "1.5.0",
          "state": {
            "_model_module": "@jupyter-widgets/controls",
            "_model_module_version": "1.5.0",
            "_model_name": "ProgressStyleModel",
            "_view_count": null,
            "_view_module": "@jupyter-widgets/base",
            "_view_module_version": "1.2.0",
            "_view_name": "StyleView",
            "bar_color": null,
            "description_width": ""
          }
        },
        "23e3a8777b9f4e738fc234b16079c2ef": {
          "model_module": "@jupyter-widgets/base",
          "model_name": "LayoutModel",
          "model_module_version": "1.2.0",
          "state": {
            "_model_module": "@jupyter-widgets/base",
            "_model_module_version": "1.2.0",
            "_model_name": "LayoutModel",
            "_view_count": null,
            "_view_module": "@jupyter-widgets/base",
            "_view_module_version": "1.2.0",
            "_view_name": "LayoutView",
            "align_content": null,
            "align_items": null,
            "align_self": null,
            "border": null,
            "bottom": null,
            "display": null,
            "flex": null,
            "flex_flow": null,
            "grid_area": null,
            "grid_auto_columns": null,
            "grid_auto_flow": null,
            "grid_auto_rows": null,
            "grid_column": null,
            "grid_gap": null,
            "grid_row": null,
            "grid_template_areas": null,
            "grid_template_columns": null,
            "grid_template_rows": null,
            "height": null,
            "justify_content": null,
            "justify_items": null,
            "left": null,
            "margin": null,
            "max_height": null,
            "max_width": null,
            "min_height": null,
            "min_width": null,
            "object_fit": null,
            "object_position": null,
            "order": null,
            "overflow": null,
            "overflow_x": null,
            "overflow_y": null,
            "padding": null,
            "right": null,
            "top": null,
            "visibility": null,
            "width": null
          }
        },
        "b37763b959234f8f851cb3bc4ea77c7b": {
          "model_module": "@jupyter-widgets/controls",
          "model_name": "DescriptionStyleModel",
          "model_module_version": "1.5.0",
          "state": {
            "_model_module": "@jupyter-widgets/controls",
            "_model_module_version": "1.5.0",
            "_model_name": "DescriptionStyleModel",
            "_view_count": null,
            "_view_module": "@jupyter-widgets/base",
            "_view_module_version": "1.2.0",
            "_view_name": "StyleView",
            "description_width": ""
          }
        },
        "426e1351aaaf4e6da2a2855224ca95be": {
          "model_module": "@jupyter-widgets/controls",
          "model_name": "HBoxModel",
          "model_module_version": "1.5.0",
          "state": {
            "_dom_classes": [],
            "_model_module": "@jupyter-widgets/controls",
            "_model_module_version": "1.5.0",
            "_model_name": "HBoxModel",
            "_view_count": null,
            "_view_module": "@jupyter-widgets/controls",
            "_view_module_version": "1.5.0",
            "_view_name": "HBoxView",
            "box_style": "",
            "children": [
              "IPY_MODEL_6a5124ed161d4a7faaf3670be9ef40da",
              "IPY_MODEL_2a609c2df4c749c49f774cfd2638442c",
              "IPY_MODEL_581fbae3c52f49d39e6d0898bbe340e4"
            ],
            "layout": "IPY_MODEL_a5b025df0ed44f0eaa7ce65ecf66bc9d"
          }
        },
        "6a5124ed161d4a7faaf3670be9ef40da": {
          "model_module": "@jupyter-widgets/controls",
          "model_name": "HTMLModel",
          "model_module_version": "1.5.0",
          "state": {
            "_dom_classes": [],
            "_model_module": "@jupyter-widgets/controls",
            "_model_module_version": "1.5.0",
            "_model_name": "HTMLModel",
            "_view_count": null,
            "_view_module": "@jupyter-widgets/controls",
            "_view_module_version": "1.5.0",
            "_view_name": "HTMLView",
            "description": "",
            "description_tooltip": null,
            "layout": "IPY_MODEL_b9b79f29570a4cecbf0a2de2282f3dd3",
            "placeholder": "​",
            "style": "IPY_MODEL_d1b70a5f9b4c4bb0908a934168a7b610",
            "value": "Downloading: 100%"
          }
        },
        "2a609c2df4c749c49f774cfd2638442c": {
          "model_module": "@jupyter-widgets/controls",
          "model_name": "FloatProgressModel",
          "model_module_version": "1.5.0",
          "state": {
            "_dom_classes": [],
            "_model_module": "@jupyter-widgets/controls",
            "_model_module_version": "1.5.0",
            "_model_name": "FloatProgressModel",
            "_view_count": null,
            "_view_module": "@jupyter-widgets/controls",
            "_view_module_version": "1.5.0",
            "_view_name": "ProgressView",
            "bar_style": "success",
            "description": "",
            "description_tooltip": null,
            "layout": "IPY_MODEL_70f75465d4af4c9e84196427f9ffab4c",
            "max": 27,
            "min": 0,
            "orientation": "horizontal",
            "style": "IPY_MODEL_1a4321b62321467f8ac71f7223fe7585",
            "value": 27
          }
        },
        "581fbae3c52f49d39e6d0898bbe340e4": {
          "model_module": "@jupyter-widgets/controls",
          "model_name": "HTMLModel",
          "model_module_version": "1.5.0",
          "state": {
            "_dom_classes": [],
            "_model_module": "@jupyter-widgets/controls",
            "_model_module_version": "1.5.0",
            "_model_name": "HTMLModel",
            "_view_count": null,
            "_view_module": "@jupyter-widgets/controls",
            "_view_module_version": "1.5.0",
            "_view_name": "HTMLView",
            "description": "",
            "description_tooltip": null,
            "layout": "IPY_MODEL_8b2cde5e6e674ee09a9ceeec2fb8a975",
            "placeholder": "​",
            "style": "IPY_MODEL_9b58e4bae98f4685ba265f80e2001c87",
            "value": " 27.0/27.0 [00:00&lt;00:00, 1.16kB/s]"
          }
        },
        "a5b025df0ed44f0eaa7ce65ecf66bc9d": {
          "model_module": "@jupyter-widgets/base",
          "model_name": "LayoutModel",
          "model_module_version": "1.2.0",
          "state": {
            "_model_module": "@jupyter-widgets/base",
            "_model_module_version": "1.2.0",
            "_model_name": "LayoutModel",
            "_view_count": null,
            "_view_module": "@jupyter-widgets/base",
            "_view_module_version": "1.2.0",
            "_view_name": "LayoutView",
            "align_content": null,
            "align_items": null,
            "align_self": null,
            "border": null,
            "bottom": null,
            "display": null,
            "flex": null,
            "flex_flow": null,
            "grid_area": null,
            "grid_auto_columns": null,
            "grid_auto_flow": null,
            "grid_auto_rows": null,
            "grid_column": null,
            "grid_gap": null,
            "grid_row": null,
            "grid_template_areas": null,
            "grid_template_columns": null,
            "grid_template_rows": null,
            "height": null,
            "justify_content": null,
            "justify_items": null,
            "left": null,
            "margin": null,
            "max_height": null,
            "max_width": null,
            "min_height": null,
            "min_width": null,
            "object_fit": null,
            "object_position": null,
            "order": null,
            "overflow": null,
            "overflow_x": null,
            "overflow_y": null,
            "padding": null,
            "right": null,
            "top": null,
            "visibility": null,
            "width": null
          }
        },
        "b9b79f29570a4cecbf0a2de2282f3dd3": {
          "model_module": "@jupyter-widgets/base",
          "model_name": "LayoutModel",
          "model_module_version": "1.2.0",
          "state": {
            "_model_module": "@jupyter-widgets/base",
            "_model_module_version": "1.2.0",
            "_model_name": "LayoutModel",
            "_view_count": null,
            "_view_module": "@jupyter-widgets/base",
            "_view_module_version": "1.2.0",
            "_view_name": "LayoutView",
            "align_content": null,
            "align_items": null,
            "align_self": null,
            "border": null,
            "bottom": null,
            "display": null,
            "flex": null,
            "flex_flow": null,
            "grid_area": null,
            "grid_auto_columns": null,
            "grid_auto_flow": null,
            "grid_auto_rows": null,
            "grid_column": null,
            "grid_gap": null,
            "grid_row": null,
            "grid_template_areas": null,
            "grid_template_columns": null,
            "grid_template_rows": null,
            "height": null,
            "justify_content": null,
            "justify_items": null,
            "left": null,
            "margin": null,
            "max_height": null,
            "max_width": null,
            "min_height": null,
            "min_width": null,
            "object_fit": null,
            "object_position": null,
            "order": null,
            "overflow": null,
            "overflow_x": null,
            "overflow_y": null,
            "padding": null,
            "right": null,
            "top": null,
            "visibility": null,
            "width": null
          }
        },
        "d1b70a5f9b4c4bb0908a934168a7b610": {
          "model_module": "@jupyter-widgets/controls",
          "model_name": "DescriptionStyleModel",
          "model_module_version": "1.5.0",
          "state": {
            "_model_module": "@jupyter-widgets/controls",
            "_model_module_version": "1.5.0",
            "_model_name": "DescriptionStyleModel",
            "_view_count": null,
            "_view_module": "@jupyter-widgets/base",
            "_view_module_version": "1.2.0",
            "_view_name": "StyleView",
            "description_width": ""
          }
        },
        "70f75465d4af4c9e84196427f9ffab4c": {
          "model_module": "@jupyter-widgets/base",
          "model_name": "LayoutModel",
          "model_module_version": "1.2.0",
          "state": {
            "_model_module": "@jupyter-widgets/base",
            "_model_module_version": "1.2.0",
            "_model_name": "LayoutModel",
            "_view_count": null,
            "_view_module": "@jupyter-widgets/base",
            "_view_module_version": "1.2.0",
            "_view_name": "LayoutView",
            "align_content": null,
            "align_items": null,
            "align_self": null,
            "border": null,
            "bottom": null,
            "display": null,
            "flex": null,
            "flex_flow": null,
            "grid_area": null,
            "grid_auto_columns": null,
            "grid_auto_flow": null,
            "grid_auto_rows": null,
            "grid_column": null,
            "grid_gap": null,
            "grid_row": null,
            "grid_template_areas": null,
            "grid_template_columns": null,
            "grid_template_rows": null,
            "height": null,
            "justify_content": null,
            "justify_items": null,
            "left": null,
            "margin": null,
            "max_height": null,
            "max_width": null,
            "min_height": null,
            "min_width": null,
            "object_fit": null,
            "object_position": null,
            "order": null,
            "overflow": null,
            "overflow_x": null,
            "overflow_y": null,
            "padding": null,
            "right": null,
            "top": null,
            "visibility": null,
            "width": null
          }
        },
        "1a4321b62321467f8ac71f7223fe7585": {
          "model_module": "@jupyter-widgets/controls",
          "model_name": "ProgressStyleModel",
          "model_module_version": "1.5.0",
          "state": {
            "_model_module": "@jupyter-widgets/controls",
            "_model_module_version": "1.5.0",
            "_model_name": "ProgressStyleModel",
            "_view_count": null,
            "_view_module": "@jupyter-widgets/base",
            "_view_module_version": "1.2.0",
            "_view_name": "StyleView",
            "bar_color": null,
            "description_width": ""
          }
        },
        "8b2cde5e6e674ee09a9ceeec2fb8a975": {
          "model_module": "@jupyter-widgets/base",
          "model_name": "LayoutModel",
          "model_module_version": "1.2.0",
          "state": {
            "_model_module": "@jupyter-widgets/base",
            "_model_module_version": "1.2.0",
            "_model_name": "LayoutModel",
            "_view_count": null,
            "_view_module": "@jupyter-widgets/base",
            "_view_module_version": "1.2.0",
            "_view_name": "LayoutView",
            "align_content": null,
            "align_items": null,
            "align_self": null,
            "border": null,
            "bottom": null,
            "display": null,
            "flex": null,
            "flex_flow": null,
            "grid_area": null,
            "grid_auto_columns": null,
            "grid_auto_flow": null,
            "grid_auto_rows": null,
            "grid_column": null,
            "grid_gap": null,
            "grid_row": null,
            "grid_template_areas": null,
            "grid_template_columns": null,
            "grid_template_rows": null,
            "height": null,
            "justify_content": null,
            "justify_items": null,
            "left": null,
            "margin": null,
            "max_height": null,
            "max_width": null,
            "min_height": null,
            "min_width": null,
            "object_fit": null,
            "object_position": null,
            "order": null,
            "overflow": null,
            "overflow_x": null,
            "overflow_y": null,
            "padding": null,
            "right": null,
            "top": null,
            "visibility": null,
            "width": null
          }
        },
        "9b58e4bae98f4685ba265f80e2001c87": {
          "model_module": "@jupyter-widgets/controls",
          "model_name": "DescriptionStyleModel",
          "model_module_version": "1.5.0",
          "state": {
            "_model_module": "@jupyter-widgets/controls",
            "_model_module_version": "1.5.0",
            "_model_name": "DescriptionStyleModel",
            "_view_count": null,
            "_view_module": "@jupyter-widgets/base",
            "_view_module_version": "1.2.0",
            "_view_name": "StyleView",
            "description_width": ""
          }
        },
        "0ef9cf7800bc487ab907af0a82214ee4": {
          "model_module": "@jupyter-widgets/controls",
          "model_name": "HBoxModel",
          "model_module_version": "1.5.0",
          "state": {
            "_dom_classes": [],
            "_model_module": "@jupyter-widgets/controls",
            "_model_module_version": "1.5.0",
            "_model_name": "HBoxModel",
            "_view_count": null,
            "_view_module": "@jupyter-widgets/controls",
            "_view_module_version": "1.5.0",
            "_view_name": "HBoxView",
            "box_style": "",
            "children": [
              "IPY_MODEL_17f421c095c9431f854bc6a452381ab7",
              "IPY_MODEL_7944bd609a354e9b8f3775efc7b89e93",
              "IPY_MODEL_51f45a8154984144874518d4dafe56f2"
            ],
            "layout": "IPY_MODEL_34d0e80863ff43fcac7842e3a87281aa"
          }
        },
        "17f421c095c9431f854bc6a452381ab7": {
          "model_module": "@jupyter-widgets/controls",
          "model_name": "HTMLModel",
          "model_module_version": "1.5.0",
          "state": {
            "_dom_classes": [],
            "_model_module": "@jupyter-widgets/controls",
            "_model_module_version": "1.5.0",
            "_model_name": "HTMLModel",
            "_view_count": null,
            "_view_module": "@jupyter-widgets/controls",
            "_view_module_version": "1.5.0",
            "_view_name": "HTMLView",
            "description": "",
            "description_tooltip": null,
            "layout": "IPY_MODEL_c3523e0f959b48998e82d7cdb56e6709",
            "placeholder": "​",
            "style": "IPY_MODEL_47d2e114d516484ea6e96bca7753cbd6",
            "value": "Downloading: 100%"
          }
        },
        "7944bd609a354e9b8f3775efc7b89e93": {
          "model_module": "@jupyter-widgets/controls",
          "model_name": "FloatProgressModel",
          "model_module_version": "1.5.0",
          "state": {
            "_dom_classes": [],
            "_model_module": "@jupyter-widgets/controls",
            "_model_module_version": "1.5.0",
            "_model_name": "FloatProgressModel",
            "_view_count": null,
            "_view_module": "@jupyter-widgets/controls",
            "_view_module_version": "1.5.0",
            "_view_name": "ProgressView",
            "bar_style": "success",
            "description": "",
            "description_tooltip": null,
            "layout": "IPY_MODEL_5b18b97677e449eea90fdf4b3cc8cfde",
            "max": 666,
            "min": 0,
            "orientation": "horizontal",
            "style": "IPY_MODEL_1212cfc186514236b7a19a33f1e3f034",
            "value": 666
          }
        },
        "51f45a8154984144874518d4dafe56f2": {
          "model_module": "@jupyter-widgets/controls",
          "model_name": "HTMLModel",
          "model_module_version": "1.5.0",
          "state": {
            "_dom_classes": [],
            "_model_module": "@jupyter-widgets/controls",
            "_model_module_version": "1.5.0",
            "_model_name": "HTMLModel",
            "_view_count": null,
            "_view_module": "@jupyter-widgets/controls",
            "_view_module_version": "1.5.0",
            "_view_name": "HTMLView",
            "description": "",
            "description_tooltip": null,
            "layout": "IPY_MODEL_5438a14984d14fdf9c242fd7f4eb9202",
            "placeholder": "​",
            "style": "IPY_MODEL_97c2a9588037452198e6ff27de6152a4",
            "value": " 666/666 [00:00&lt;00:00, 27.3kB/s]"
          }
        },
        "34d0e80863ff43fcac7842e3a87281aa": {
          "model_module": "@jupyter-widgets/base",
          "model_name": "LayoutModel",
          "model_module_version": "1.2.0",
          "state": {
            "_model_module": "@jupyter-widgets/base",
            "_model_module_version": "1.2.0",
            "_model_name": "LayoutModel",
            "_view_count": null,
            "_view_module": "@jupyter-widgets/base",
            "_view_module_version": "1.2.0",
            "_view_name": "LayoutView",
            "align_content": null,
            "align_items": null,
            "align_self": null,
            "border": null,
            "bottom": null,
            "display": null,
            "flex": null,
            "flex_flow": null,
            "grid_area": null,
            "grid_auto_columns": null,
            "grid_auto_flow": null,
            "grid_auto_rows": null,
            "grid_column": null,
            "grid_gap": null,
            "grid_row": null,
            "grid_template_areas": null,
            "grid_template_columns": null,
            "grid_template_rows": null,
            "height": null,
            "justify_content": null,
            "justify_items": null,
            "left": null,
            "margin": null,
            "max_height": null,
            "max_width": null,
            "min_height": null,
            "min_width": null,
            "object_fit": null,
            "object_position": null,
            "order": null,
            "overflow": null,
            "overflow_x": null,
            "overflow_y": null,
            "padding": null,
            "right": null,
            "top": null,
            "visibility": null,
            "width": null
          }
        },
        "c3523e0f959b48998e82d7cdb56e6709": {
          "model_module": "@jupyter-widgets/base",
          "model_name": "LayoutModel",
          "model_module_version": "1.2.0",
          "state": {
            "_model_module": "@jupyter-widgets/base",
            "_model_module_version": "1.2.0",
            "_model_name": "LayoutModel",
            "_view_count": null,
            "_view_module": "@jupyter-widgets/base",
            "_view_module_version": "1.2.0",
            "_view_name": "LayoutView",
            "align_content": null,
            "align_items": null,
            "align_self": null,
            "border": null,
            "bottom": null,
            "display": null,
            "flex": null,
            "flex_flow": null,
            "grid_area": null,
            "grid_auto_columns": null,
            "grid_auto_flow": null,
            "grid_auto_rows": null,
            "grid_column": null,
            "grid_gap": null,
            "grid_row": null,
            "grid_template_areas": null,
            "grid_template_columns": null,
            "grid_template_rows": null,
            "height": null,
            "justify_content": null,
            "justify_items": null,
            "left": null,
            "margin": null,
            "max_height": null,
            "max_width": null,
            "min_height": null,
            "min_width": null,
            "object_fit": null,
            "object_position": null,
            "order": null,
            "overflow": null,
            "overflow_x": null,
            "overflow_y": null,
            "padding": null,
            "right": null,
            "top": null,
            "visibility": null,
            "width": null
          }
        },
        "47d2e114d516484ea6e96bca7753cbd6": {
          "model_module": "@jupyter-widgets/controls",
          "model_name": "DescriptionStyleModel",
          "model_module_version": "1.5.0",
          "state": {
            "_model_module": "@jupyter-widgets/controls",
            "_model_module_version": "1.5.0",
            "_model_name": "DescriptionStyleModel",
            "_view_count": null,
            "_view_module": "@jupyter-widgets/base",
            "_view_module_version": "1.2.0",
            "_view_name": "StyleView",
            "description_width": ""
          }
        },
        "5b18b97677e449eea90fdf4b3cc8cfde": {
          "model_module": "@jupyter-widgets/base",
          "model_name": "LayoutModel",
          "model_module_version": "1.2.0",
          "state": {
            "_model_module": "@jupyter-widgets/base",
            "_model_module_version": "1.2.0",
            "_model_name": "LayoutModel",
            "_view_count": null,
            "_view_module": "@jupyter-widgets/base",
            "_view_module_version": "1.2.0",
            "_view_name": "LayoutView",
            "align_content": null,
            "align_items": null,
            "align_self": null,
            "border": null,
            "bottom": null,
            "display": null,
            "flex": null,
            "flex_flow": null,
            "grid_area": null,
            "grid_auto_columns": null,
            "grid_auto_flow": null,
            "grid_auto_rows": null,
            "grid_column": null,
            "grid_gap": null,
            "grid_row": null,
            "grid_template_areas": null,
            "grid_template_columns": null,
            "grid_template_rows": null,
            "height": null,
            "justify_content": null,
            "justify_items": null,
            "left": null,
            "margin": null,
            "max_height": null,
            "max_width": null,
            "min_height": null,
            "min_width": null,
            "object_fit": null,
            "object_position": null,
            "order": null,
            "overflow": null,
            "overflow_x": null,
            "overflow_y": null,
            "padding": null,
            "right": null,
            "top": null,
            "visibility": null,
            "width": null
          }
        },
        "1212cfc186514236b7a19a33f1e3f034": {
          "model_module": "@jupyter-widgets/controls",
          "model_name": "ProgressStyleModel",
          "model_module_version": "1.5.0",
          "state": {
            "_model_module": "@jupyter-widgets/controls",
            "_model_module_version": "1.5.0",
            "_model_name": "ProgressStyleModel",
            "_view_count": null,
            "_view_module": "@jupyter-widgets/base",
            "_view_module_version": "1.2.0",
            "_view_name": "StyleView",
            "bar_color": null,
            "description_width": ""
          }
        },
        "5438a14984d14fdf9c242fd7f4eb9202": {
          "model_module": "@jupyter-widgets/base",
          "model_name": "LayoutModel",
          "model_module_version": "1.2.0",
          "state": {
            "_model_module": "@jupyter-widgets/base",
            "_model_module_version": "1.2.0",
            "_model_name": "LayoutModel",
            "_view_count": null,
            "_view_module": "@jupyter-widgets/base",
            "_view_module_version": "1.2.0",
            "_view_name": "LayoutView",
            "align_content": null,
            "align_items": null,
            "align_self": null,
            "border": null,
            "bottom": null,
            "display": null,
            "flex": null,
            "flex_flow": null,
            "grid_area": null,
            "grid_auto_columns": null,
            "grid_auto_flow": null,
            "grid_auto_rows": null,
            "grid_column": null,
            "grid_gap": null,
            "grid_row": null,
            "grid_template_areas": null,
            "grid_template_columns": null,
            "grid_template_rows": null,
            "height": null,
            "justify_content": null,
            "justify_items": null,
            "left": null,
            "margin": null,
            "max_height": null,
            "max_width": null,
            "min_height": null,
            "min_width": null,
            "object_fit": null,
            "object_position": null,
            "order": null,
            "overflow": null,
            "overflow_x": null,
            "overflow_y": null,
            "padding": null,
            "right": null,
            "top": null,
            "visibility": null,
            "width": null
          }
        },
        "97c2a9588037452198e6ff27de6152a4": {
          "model_module": "@jupyter-widgets/controls",
          "model_name": "DescriptionStyleModel",
          "model_module_version": "1.5.0",
          "state": {
            "_model_module": "@jupyter-widgets/controls",
            "_model_module_version": "1.5.0",
            "_model_name": "DescriptionStyleModel",
            "_view_count": null,
            "_view_module": "@jupyter-widgets/base",
            "_view_module_version": "1.2.0",
            "_view_name": "StyleView",
            "description_width": ""
          }
        },
        "b78270df239745ad83cf0b21b29d9041": {
          "model_module": "@jupyter-widgets/controls",
          "model_name": "HBoxModel",
          "model_module_version": "1.5.0",
          "state": {
            "_dom_classes": [],
            "_model_module": "@jupyter-widgets/controls",
            "_model_module_version": "1.5.0",
            "_model_name": "HBoxModel",
            "_view_count": null,
            "_view_module": "@jupyter-widgets/controls",
            "_view_module_version": "1.5.0",
            "_view_name": "HBoxView",
            "box_style": "",
            "children": [
              "IPY_MODEL_0032df789fae4440a75aa044b40fc03e",
              "IPY_MODEL_838847aae0b740d98b2dbb7f9239bca4",
              "IPY_MODEL_45e8e9f2daaa4d2a8e2c84e55e379181"
            ],
            "layout": "IPY_MODEL_b45c32ac41f74ff38ccbc325e6b4b478"
          }
        },
        "0032df789fae4440a75aa044b40fc03e": {
          "model_module": "@jupyter-widgets/controls",
          "model_name": "HTMLModel",
          "model_module_version": "1.5.0",
          "state": {
            "_dom_classes": [],
            "_model_module": "@jupyter-widgets/controls",
            "_model_module_version": "1.5.0",
            "_model_name": "HTMLModel",
            "_view_count": null,
            "_view_module": "@jupyter-widgets/controls",
            "_view_module_version": "1.5.0",
            "_view_name": "HTMLView",
            "description": "",
            "description_tooltip": null,
            "layout": "IPY_MODEL_9c32b94a010b42bfaa5e053262d29e13",
            "placeholder": "​",
            "style": "IPY_MODEL_4bbda70837934ca5a51866f5b8169081",
            "value": "Downloading: 100%"
          }
        },
        "838847aae0b740d98b2dbb7f9239bca4": {
          "model_module": "@jupyter-widgets/controls",
          "model_name": "FloatProgressModel",
          "model_module_version": "1.5.0",
          "state": {
            "_dom_classes": [],
            "_model_module": "@jupyter-widgets/controls",
            "_model_module_version": "1.5.0",
            "_model_name": "FloatProgressModel",
            "_view_count": null,
            "_view_module": "@jupyter-widgets/controls",
            "_view_module_version": "1.5.0",
            "_view_name": "ProgressView",
            "bar_style": "success",
            "description": "",
            "description_tooltip": null,
            "layout": "IPY_MODEL_8096a8fc2cd84c3199dcf269607ca842",
            "max": 440343552,
            "min": 0,
            "orientation": "horizontal",
            "style": "IPY_MODEL_49ba3c56936246e69b4d0e8600b37e9d",
            "value": 440343552
          }
        },
        "45e8e9f2daaa4d2a8e2c84e55e379181": {
          "model_module": "@jupyter-widgets/controls",
          "model_name": "HTMLModel",
          "model_module_version": "1.5.0",
          "state": {
            "_dom_classes": [],
            "_model_module": "@jupyter-widgets/controls",
            "_model_module_version": "1.5.0",
            "_model_name": "HTMLModel",
            "_view_count": null,
            "_view_module": "@jupyter-widgets/controls",
            "_view_module_version": "1.5.0",
            "_view_name": "HTMLView",
            "description": "",
            "description_tooltip": null,
            "layout": "IPY_MODEL_c3e5b2e5430d47d9995658d72a63bc67",
            "placeholder": "​",
            "style": "IPY_MODEL_8df255dfff52417580f482144b979d68",
            "value": " 420M/420M [00:06&lt;00:00, 63.1MB/s]"
          }
        },
        "b45c32ac41f74ff38ccbc325e6b4b478": {
          "model_module": "@jupyter-widgets/base",
          "model_name": "LayoutModel",
          "model_module_version": "1.2.0",
          "state": {
            "_model_module": "@jupyter-widgets/base",
            "_model_module_version": "1.2.0",
            "_model_name": "LayoutModel",
            "_view_count": null,
            "_view_module": "@jupyter-widgets/base",
            "_view_module_version": "1.2.0",
            "_view_name": "LayoutView",
            "align_content": null,
            "align_items": null,
            "align_self": null,
            "border": null,
            "bottom": null,
            "display": null,
            "flex": null,
            "flex_flow": null,
            "grid_area": null,
            "grid_auto_columns": null,
            "grid_auto_flow": null,
            "grid_auto_rows": null,
            "grid_column": null,
            "grid_gap": null,
            "grid_row": null,
            "grid_template_areas": null,
            "grid_template_columns": null,
            "grid_template_rows": null,
            "height": null,
            "justify_content": null,
            "justify_items": null,
            "left": null,
            "margin": null,
            "max_height": null,
            "max_width": null,
            "min_height": null,
            "min_width": null,
            "object_fit": null,
            "object_position": null,
            "order": null,
            "overflow": null,
            "overflow_x": null,
            "overflow_y": null,
            "padding": null,
            "right": null,
            "top": null,
            "visibility": null,
            "width": null
          }
        },
        "9c32b94a010b42bfaa5e053262d29e13": {
          "model_module": "@jupyter-widgets/base",
          "model_name": "LayoutModel",
          "model_module_version": "1.2.0",
          "state": {
            "_model_module": "@jupyter-widgets/base",
            "_model_module_version": "1.2.0",
            "_model_name": "LayoutModel",
            "_view_count": null,
            "_view_module": "@jupyter-widgets/base",
            "_view_module_version": "1.2.0",
            "_view_name": "LayoutView",
            "align_content": null,
            "align_items": null,
            "align_self": null,
            "border": null,
            "bottom": null,
            "display": null,
            "flex": null,
            "flex_flow": null,
            "grid_area": null,
            "grid_auto_columns": null,
            "grid_auto_flow": null,
            "grid_auto_rows": null,
            "grid_column": null,
            "grid_gap": null,
            "grid_row": null,
            "grid_template_areas": null,
            "grid_template_columns": null,
            "grid_template_rows": null,
            "height": null,
            "justify_content": null,
            "justify_items": null,
            "left": null,
            "margin": null,
            "max_height": null,
            "max_width": null,
            "min_height": null,
            "min_width": null,
            "object_fit": null,
            "object_position": null,
            "order": null,
            "overflow": null,
            "overflow_x": null,
            "overflow_y": null,
            "padding": null,
            "right": null,
            "top": null,
            "visibility": null,
            "width": null
          }
        },
        "4bbda70837934ca5a51866f5b8169081": {
          "model_module": "@jupyter-widgets/controls",
          "model_name": "DescriptionStyleModel",
          "model_module_version": "1.5.0",
          "state": {
            "_model_module": "@jupyter-widgets/controls",
            "_model_module_version": "1.5.0",
            "_model_name": "DescriptionStyleModel",
            "_view_count": null,
            "_view_module": "@jupyter-widgets/base",
            "_view_module_version": "1.2.0",
            "_view_name": "StyleView",
            "description_width": ""
          }
        },
        "8096a8fc2cd84c3199dcf269607ca842": {
          "model_module": "@jupyter-widgets/base",
          "model_name": "LayoutModel",
          "model_module_version": "1.2.0",
          "state": {
            "_model_module": "@jupyter-widgets/base",
            "_model_module_version": "1.2.0",
            "_model_name": "LayoutModel",
            "_view_count": null,
            "_view_module": "@jupyter-widgets/base",
            "_view_module_version": "1.2.0",
            "_view_name": "LayoutView",
            "align_content": null,
            "align_items": null,
            "align_self": null,
            "border": null,
            "bottom": null,
            "display": null,
            "flex": null,
            "flex_flow": null,
            "grid_area": null,
            "grid_auto_columns": null,
            "grid_auto_flow": null,
            "grid_auto_rows": null,
            "grid_column": null,
            "grid_gap": null,
            "grid_row": null,
            "grid_template_areas": null,
            "grid_template_columns": null,
            "grid_template_rows": null,
            "height": null,
            "justify_content": null,
            "justify_items": null,
            "left": null,
            "margin": null,
            "max_height": null,
            "max_width": null,
            "min_height": null,
            "min_width": null,
            "object_fit": null,
            "object_position": null,
            "order": null,
            "overflow": null,
            "overflow_x": null,
            "overflow_y": null,
            "padding": null,
            "right": null,
            "top": null,
            "visibility": null,
            "width": null
          }
        },
        "49ba3c56936246e69b4d0e8600b37e9d": {
          "model_module": "@jupyter-widgets/controls",
          "model_name": "ProgressStyleModel",
          "model_module_version": "1.5.0",
          "state": {
            "_model_module": "@jupyter-widgets/controls",
            "_model_module_version": "1.5.0",
            "_model_name": "ProgressStyleModel",
            "_view_count": null,
            "_view_module": "@jupyter-widgets/base",
            "_view_module_version": "1.2.0",
            "_view_name": "StyleView",
            "bar_color": null,
            "description_width": ""
          }
        },
        "c3e5b2e5430d47d9995658d72a63bc67": {
          "model_module": "@jupyter-widgets/base",
          "model_name": "LayoutModel",
          "model_module_version": "1.2.0",
          "state": {
            "_model_module": "@jupyter-widgets/base",
            "_model_module_version": "1.2.0",
            "_model_name": "LayoutModel",
            "_view_count": null,
            "_view_module": "@jupyter-widgets/base",
            "_view_module_version": "1.2.0",
            "_view_name": "LayoutView",
            "align_content": null,
            "align_items": null,
            "align_self": null,
            "border": null,
            "bottom": null,
            "display": null,
            "flex": null,
            "flex_flow": null,
            "grid_area": null,
            "grid_auto_columns": null,
            "grid_auto_flow": null,
            "grid_auto_rows": null,
            "grid_column": null,
            "grid_gap": null,
            "grid_row": null,
            "grid_template_areas": null,
            "grid_template_columns": null,
            "grid_template_rows": null,
            "height": null,
            "justify_content": null,
            "justify_items": null,
            "left": null,
            "margin": null,
            "max_height": null,
            "max_width": null,
            "min_height": null,
            "min_width": null,
            "object_fit": null,
            "object_position": null,
            "order": null,
            "overflow": null,
            "overflow_x": null,
            "overflow_y": null,
            "padding": null,
            "right": null,
            "top": null,
            "visibility": null,
            "width": null
          }
        },
        "8df255dfff52417580f482144b979d68": {
          "model_module": "@jupyter-widgets/controls",
          "model_name": "DescriptionStyleModel",
          "model_module_version": "1.5.0",
          "state": {
            "_model_module": "@jupyter-widgets/controls",
            "_model_module_version": "1.5.0",
            "_model_name": "DescriptionStyleModel",
            "_view_count": null,
            "_view_module": "@jupyter-widgets/base",
            "_view_module_version": "1.2.0",
            "_view_name": "StyleView",
            "description_width": ""
          }
        }
      }
    }
  },
  "cells": [
    {
      "cell_type": "markdown",
      "metadata": {
        "id": "view-in-github",
        "colab_type": "text"
      },
      "source": [
        "<a href=\"https://colab.research.google.com/github/zekaouinoureddine/Advanced-transformer-based-models-on-opinion-mining/blob/master/notebooks/Movie_Reviews_ELECTRA.ipynb\" target=\"_parent\"><img src=\"https://colab.research.google.com/assets/colab-badge.svg\" alt=\"Open In Colab\"/></a>"
      ]
    },
    {
      "cell_type": "code",
      "metadata": {
        "id": "kghl_NW-fIZ_",
        "colab": {
          "base_uri": "https://localhost:8080/"
        },
        "outputId": "94f4558b-8ad0-49d8-cb6d-9752b1b61974"
      },
      "source": [
        "!pip install transformers -q"
      ],
      "execution_count": null,
      "outputs": [
        {
          "output_type": "stream",
          "name": "stdout",
          "text": [
            "\u001b[K     |████████████████████████████████| 4.2 MB 5.1 MB/s \n",
            "\u001b[K     |████████████████████████████████| 6.6 MB 57.3 MB/s \n",
            "\u001b[K     |████████████████████████████████| 84 kB 4.0 MB/s \n",
            "\u001b[K     |████████████████████████████████| 596 kB 81.2 MB/s \n",
            "\u001b[?25h"
          ]
        }
      ]
    },
    {
      "cell_type": "markdown",
      "metadata": {
        "id": "QbOFi-L4gU2P"
      },
      "source": [
        "### Required libraries"
      ]
    },
    {
      "cell_type": "code",
      "metadata": {
        "id": "WPtUqb3NgUMS"
      },
      "source": [
        "import numpy as np\n",
        "import pandas as pd\n",
        "import matplotlib.pyplot as plt\n",
        "import seaborn as sns\n",
        "\n",
        "import torch\n",
        "import torch.nn as nn\n",
        "from torch.utils.data import Dataset, DataLoader\n",
        "\n",
        "import transformers\n",
        "from transformers import AdamW, get_linear_schedule_with_warmup\n",
        "\n",
        "from sklearn import model_selection, metrics\n",
        "\n",
        "from tqdm import tqdm\n",
        "from collections import defaultdict"
      ],
      "execution_count": null,
      "outputs": []
    },
    {
      "cell_type": "code",
      "metadata": {
        "colab": {
          "base_uri": "https://localhost:8080/"
        },
        "id": "kW35b0YMhRef",
        "outputId": "cef9d766-1efd-4e77-c166-c50a639343e8"
      },
      "source": [
        "!gdown --id 1xJYm-tNMllxx82_CQ1K1R5q0JW9KUV1j -q\n",
        "!unzip IMDb.zip"
      ],
      "execution_count": null,
      "outputs": [
        {
          "output_type": "stream",
          "name": "stdout",
          "text": [
            "/usr/local/lib/python3.7/dist-packages/gdown/cli.py:131: FutureWarning: Option `--id` was deprecated in version 4.3.1 and will be removed in 5.0. You don't need to pass it anymore to use a file ID.\n",
            "  category=FutureWarning,\n",
            "Archive:  IMDb.zip\n",
            "  inflating: IMDB Dataset.csv        \n"
          ]
        }
      ]
    },
    {
      "cell_type": "code",
      "metadata": {
        "colab": {
          "base_uri": "https://localhost:8080/",
          "height": 369
        },
        "id": "BrovSMHehQ14",
        "outputId": "3ffa5439-615b-4580-a04d-429a584f343b"
      },
      "source": [
        "df = pd.read_csv(\"IMDB Dataset.csv\")\n",
        "\n",
        "df[\"sentiment\"].value_counts().plot(kind='bar',\n",
        "                                    color=['green','red'],\n",
        "                                    title='Distribution of Positive and Negative Reviews',\n",
        "                                    figsize=(5,5));"
      ],
      "execution_count": null,
      "outputs": [
        {
          "output_type": "display_data",
          "data": {
            "text/plain": [
              "<Figure size 360x360 with 1 Axes>"
            ],
            "image/png": "[encoded data removed]"
          },
          "metadata": {
            "needs_background": "light"
          }
        }
      ]
    },
    {
      "cell_type": "code",
      "metadata": {
        "id": "yyy3B-33hWc3",
        "colab": {
          "base_uri": "https://localhost:8080/",
          "height": 217,
          "referenced_widgets": [
            "2cc446d10ef141dcbf425db9f0e2d9f4",
            "ce74ca909e374183802c95eb860f8abc",
            "98f64bb142b84f3dab2816ec8cc9a591",
            "fb6a7eed1e88481490bae35482a6395f",
            "ee4a2e3537e84e2599f59c499216958e",
            "c46f9efac6184aeca46ed34e60f4f9a3",
            "c71121287c7c4228a0025475a8471c4b",
            "ff5f189fbb9148f79858af69cc862e32",
            "b765f2b19d044b848e60cf0ddd725027",
            "23e3a8777b9f4e738fc234b16079c2ef",
            "b37763b959234f8f851cb3bc4ea77c7b",
            "426e1351aaaf4e6da2a2855224ca95be",
            "6a5124ed161d4a7faaf3670be9ef40da",
            "2a609c2df4c749c49f774cfd2638442c",
            "581fbae3c52f49d39e6d0898bbe340e4",
            "a5b025df0ed44f0eaa7ce65ecf66bc9d",
            "b9b79f29570a4cecbf0a2de2282f3dd3",
            "d1b70a5f9b4c4bb0908a934168a7b610",
            "70f75465d4af4c9e84196427f9ffab4c",
            "1a4321b62321467f8ac71f7223fe7585",
            "8b2cde5e6e674ee09a9ceeec2fb8a975",
            "9b58e4bae98f4685ba265f80e2001c87",
            "0ef9cf7800bc487ab907af0a82214ee4",
            "17f421c095c9431f854bc6a452381ab7",
            "7944bd609a354e9b8f3775efc7b89e93",
            "51f45a8154984144874518d4dafe56f2",
            "34d0e80863ff43fcac7842e3a87281aa",
            "c3523e0f959b48998e82d7cdb56e6709",
            "47d2e114d516484ea6e96bca7753cbd6",
            "5b18b97677e449eea90fdf4b3cc8cfde",
            "1212cfc186514236b7a19a33f1e3f034",
            "5438a14984d14fdf9c242fd7f4eb9202",
            "97c2a9588037452198e6ff27de6152a4",
            "b78270df239745ad83cf0b21b29d9041",
            "0032df789fae4440a75aa044b40fc03e",
            "838847aae0b740d98b2dbb7f9239bca4",
            "45e8e9f2daaa4d2a8e2c84e55e379181",
            "b45c32ac41f74ff38ccbc325e6b4b478",
            "9c32b94a010b42bfaa5e053262d29e13",
            "4bbda70837934ca5a51866f5b8169081",
            "8096a8fc2cd84c3199dcf269607ca842",
            "49ba3c56936246e69b4d0e8600b37e9d",
            "c3e5b2e5430d47d9995658d72a63bc67",
            "8df255dfff52417580f482144b979d68"
          ]
        },
        "outputId": "6e63c7ad-cb9e-408c-b8ad-2e2df96c87f4"
      },
      "source": [
        "class Config:\n",
        "  MAX_LEN = 384\n",
        "  TRAIN_BATCH_SIZE = 8\n",
        "  VALID_BATCH_SIZE = 4\n",
        "  EPOCHS = 4\n",
        "  DEVICE = torch.device(\"cuda\" if torch.cuda.is_available() else \"cpu\")\n",
        "\n",
        "  ELECTRA_PATH = \"google/electra-base-discriminator\"\n",
        "  MODEL_PATH = \"ELECTRAModel.bin\"\n",
        "  TRAINING_DATA = \"IMDB Dataset.csv\"\n",
        "\n",
        "  TOKENIZER = transformers.ElectraTokenizer.from_pretrained(ELECTRA_PATH, do_lower_case = True)\n",
        "  MODEL = transformers.ElectraModel.from_pretrained(ELECTRA_PATH, return_dict=False)"
      ],
      "execution_count": null,
      "outputs": [
        {
          "output_type": "display_data",
          "data": {
            "text/plain": [
              "Downloading:   0%|          | 0.00/226k [00:00<?, ?B/s]"
            ],
            "application/vnd.jupyter.widget-view+json": {
              "version_major": 2,
              "version_minor": 0,
              "model_id": "2cc446d10ef141dcbf425db9f0e2d9f4"
            }
          },
          "metadata": {}
        },
        {
          "output_type": "display_data",
          "data": {
            "text/plain": [
              "Downloading:   0%|          | 0.00/27.0 [00:00<?, ?B/s]"
            ],
            "application/vnd.jupyter.widget-view+json": {
              "version_major": 2,
              "version_minor": 0,
              "model_id": "426e1351aaaf4e6da2a2855224ca95be"
            }
          },
          "metadata": {}
        },
        {
          "output_type": "display_data",
          "data": {
            "text/plain": [
              "Downloading:   0%|          | 0.00/666 [00:00<?, ?B/s]"
            ],
            "application/vnd.jupyter.widget-view+json": {
              "version_major": 2,
              "version_minor": 0,
              "model_id": "0ef9cf7800bc487ab907af0a82214ee4"
            }
          },
          "metadata": {}
        },
        {
          "output_type": "display_data",
          "data": {
            "text/plain": [
              "Downloading:   0%|          | 0.00/420M [00:00<?, ?B/s]"
            ],
            "application/vnd.jupyter.widget-view+json": {
              "version_major": 2,
              "version_minor": 0,
              "model_id": "b78270df239745ad83cf0b21b29d9041"
            }
          },
          "metadata": {}
        },
        {
          "output_type": "stream",
          "name": "stderr",
          "text": [
            "Some weights of the model checkpoint at google/electra-base-discriminator were not used when initializing ElectraModel: ['discriminator_predictions.dense_prediction.bias', 'discriminator_predictions.dense.bias', 'discriminator_predictions.dense_prediction.weight', 'discriminator_predictions.dense.weight']\n",
            "- This IS expected if you are initializing ElectraModel from the checkpoint of a model trained on another task or with another architecture (e.g. initializing a BertForSequenceClassification model from a BertForPreTraining model).\n",
            "- This IS NOT expected if you are initializing ElectraModel from the checkpoint of a model that you expect to be exactly identical (initializing a BertForSequenceClassification model from a BertForSequenceClassification model).\n"
          ]
        }
      ]
    },
    {
      "cell_type": "markdown",
      "metadata": {
        "id": "g-hu9adLiLur"
      },
      "source": [
        "### Dataset"
      ]
    },
    {
      "cell_type": "code",
      "metadata": {
        "id": "NFeK1yJshsMl"
      },
      "source": [
        "class DataProcess:\n",
        "  def __init__(self, review):\n",
        "    self.tokenizer = Config.TOKENIZER\n",
        "    self.max_len = Config.MAX_LEN\n",
        "    self.review = review\n",
        "    \n",
        "  def preprocess_bert(self):\n",
        "    reviw = \" \".join(self.review.split())\n",
        "    inputs = self.tokenizer.encode_plus(\n",
        "        reviw,\n",
        "        None,\n",
        "        add_special_tokens=True,\n",
        "        max_length=self.max_len,\n",
        "        # padding = \"max_length\",\n",
        "        truncation=True\n",
        "        )\n",
        "\n",
        "    input_ids = inputs[\"input_ids\"]\n",
        "    attention_mask = inputs[\"attention_mask\"]\n",
        "    token_type_ids = inputs[\"token_type_ids\"]\n",
        "\n",
        "    return (\n",
        "        torch.tensor(input_ids, dtype=torch.long).unsqueeze(0),\n",
        "        torch.tensor(attention_mask, dtype=torch.long).unsqueeze(0),\n",
        "        torch.tensor(token_type_ids, dtype=torch.long).unsqueeze(0)\n",
        "        )\n",
        "    \n",
        "  def preprocess_output(self, outputs):\n",
        "    outputs = torch.sigmoid(outputs).cpu().detach().numpy()\n",
        "    return outputs[0][0]\n",
        "\n",
        "\n",
        "class MovieReviewDatSet:\n",
        "  def __init__(self, data_path):\n",
        "    \n",
        "    self.data = pd.read_csv(data_path).fillna('none')\n",
        "    self.data.sentiment = self.data.sentiment.apply(lambda x: 1 if x == \"positive\" else 0)\n",
        "    self.data = self.data.reset_index(drop=True)\n",
        "    self.tokenizer = Config.TOKENIZER\n",
        "    self.max_len = Config.MAX_LEN\n",
        "    self.review = self.data.review.values\n",
        "    self.label = self.data.sentiment.values\n",
        "\n",
        "  def __len__(self):\n",
        "    return len(self.review)\n",
        "\n",
        "  def __getitem__(self, item):\n",
        "    review = str(self.review[item])\n",
        "    review = \" \".join(review.split())\n",
        "\n",
        "    inputs = self.tokenizer.encode_plus(\n",
        "        review,\n",
        "        None,\n",
        "        add_special_tokens = True,\n",
        "        max_length = self.max_len,\n",
        "        padding = \"max_length\",\n",
        "        truncation= True\n",
        "    )\n",
        "\n",
        "    input_ids = inputs[\"input_ids\"]\n",
        "    attention_mask = inputs[\"attention_mask\"]\n",
        "    token_type_ids = inputs[\"token_type_ids\"]\n",
        "\n",
        "    return {\n",
        "        \"input_ids\" : torch.tensor(input_ids, dtype=torch.long),\n",
        "        \"attention_mask\" : torch.tensor(attention_mask, dtype=torch.long),\n",
        "        \"token_type_ids\" : torch.tensor(token_type_ids, dtype=torch.long),\n",
        "        \"labels\" : torch.tensor(self.label[item], dtype=torch.float)\n",
        "        }"
      ],
      "execution_count": null,
      "outputs": []
    },
    {
      "cell_type": "markdown",
      "metadata": {
        "id": "2fNDcd6dnAez"
      },
      "source": [
        "### Model"
      ]
    },
    {
      "cell_type": "markdown",
      "metadata": {
        "id": "FkJxthyb4Xpq"
      },
      "source": [
        "![mrelectra.png](data:image/png;base64,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)"
      ]
    },
    {
      "cell_type": "code",
      "metadata": {
        "id": "k6E0JQcKmt4n"
      },
      "source": [
        "class ELECTRAModel(nn.Module):\n",
        "  def __init__(self):\n",
        "    super(ELECTRAModel, self).__init__()\n",
        "    self.electra = Config.MODEL\n",
        "    self.electra_drop = nn.Dropout(0.3)\n",
        "    self.out = nn.Linear(768, 1)\n",
        "\n",
        "  def forward(self, input_ids, attention_mask, token_type_ids):\n",
        "    discriminator_hidden_states  = self.electra(input_ids=input_ids, attention_mask=attention_mask, token_type_ids=token_type_ids)\n",
        "    mean_last_hidden_state = torch.mean(discriminator_hidden_states[0],1)\n",
        "    rbo = self.electra_drop(mean_last_hidden_state)\n",
        "    output = self.out(rbo)\n",
        "    \n",
        "    return output"
      ],
      "execution_count": null,
      "outputs": []
    },
    {
      "cell_type": "markdown",
      "metadata": {
        "id": "GwyaafNEnTiU"
      },
      "source": [
        "### Engine"
      ]
    },
    {
      "cell_type": "code",
      "metadata": {
        "id": "WHkGIii7nSK6"
      },
      "source": [
        "def loss_fn(outputs, labels):\n",
        "  return nn.BCEWithLogitsLoss()(outputs, labels.view(-1, 1))\n",
        "\n",
        "def train_fn(train_dataloader, model, optimizer, device, scheduler):\n",
        "  model.train()\n",
        "  final_loss = 0\n",
        "\n",
        "  fin_labels = []\n",
        "  fin_outputs = []\n",
        "  for bi, d in tqdm(enumerate(train_dataloader), total=len(train_dataloader)):\n",
        "    input_ids = d[\"input_ids\"]\n",
        "    attention_mask = d[\"attention_mask\"]\n",
        "    token_type_ids = d[\"token_type_ids\"]\n",
        "    labels = d[\"labels\"]\n",
        "\n",
        "    input_ids = input_ids.to(device, dtype=torch.long)\n",
        "    attention_mask = attention_mask.to(device, dtype=torch.long)\n",
        "    token_type_ids = token_type_ids.to(device, dtype = torch.long)\n",
        "    labels = labels.to(device, dtype = torch.float)\n",
        "\n",
        "    optimizer.zero_grad()\n",
        "    outputs = model(input_ids=input_ids, attention_mask=attention_mask, token_type_ids = token_type_ids)\n",
        "    loss = loss_fn(outputs, labels)\n",
        "    \n",
        "    final_loss += loss.item()\n",
        "    fin_labels.extend(labels.cpu().detach().numpy().tolist())\n",
        "    fin_outputs.extend(torch.sigmoid(outputs).cpu().detach().numpy().tolist())\n",
        "    \n",
        "    loss.backward()\n",
        "    optimizer.step()\n",
        "    scheduler.step()\n",
        "\n",
        "  return fin_outputs, fin_labels, final_loss/len(train_dataloader)\n",
        "\n",
        "def eval_fn(valid_dataloader, model, device):\n",
        "  model.eval()\n",
        "  final_loss = 0\n",
        "\n",
        "  fin_labels = []\n",
        "  fin_outputs = []\n",
        "  with torch.no_grad():\n",
        "    for bi, d in tqdm(enumerate(valid_dataloader), total=len(valid_dataloader)):\n",
        "      input_ids = d[\"input_ids\"]\n",
        "      attention_mask = d[\"attention_mask\"]\n",
        "      token_type_ids = d[\"token_type_ids\"]\n",
        "      labels = d[\"labels\"]\n",
        "\n",
        "      input_ids = input_ids.to(device, dtype=torch.long)\n",
        "      attention_mask = attention_mask.to(device, dtype=torch.long)\n",
        "      token_type_ids = token_type_ids.to(device, dtype = torch.long)\n",
        "      labels = labels.to(device, dtype = torch.float)\n",
        "\n",
        "      outputs = model(input_ids=input_ids, attention_mask=attention_mask, token_type_ids = token_type_ids)\n",
        "      \n",
        "      loss = loss_fn(outputs, labels)\n",
        "      final_loss += loss.item()\n",
        "      \n",
        "      fin_labels.extend(labels.cpu().detach().numpy().tolist())\n",
        "      fin_outputs.extend(torch.sigmoid(outputs).cpu().detach().numpy().tolist())\n",
        "      \n",
        "\n",
        "  return fin_outputs, fin_labels, final_loss/len(valid_dataloader)"
      ],
      "execution_count": null,
      "outputs": []
    },
    {
      "cell_type": "markdown",
      "metadata": {
        "id": "QZMJggKRnYPT"
      },
      "source": [
        "### Train"
      ]
    },
    {
      "cell_type": "code",
      "metadata": {
        "colab": {
          "base_uri": "https://localhost:8080/"
        },
        "id": "aBB7RycsnW9I",
        "outputId": "7c1e85d4-dab6-4f33-9a5f-39aedda16f9b"
      },
      "source": [
        "dataset = MovieReviewDatSet(Config.TRAINING_DATA)\n",
        "\n",
        "train_data, valid_data = model_selection.train_test_split(dataset, test_size = 0.1)\n",
        "train_dataloader = DataLoader(train_data, batch_size=Config.TRAIN_BATCH_SIZE, num_workers=4)\n",
        "valid_dataloader = DataLoader(valid_data, batch_size=Config.VALID_BATCH_SIZE, num_workers=1)\n",
        "\n",
        "model = ELECTRAModel()\n",
        "model.to(Config.DEVICE)\n",
        "\n",
        "param_optimizer = list(model.named_parameters())\n",
        "no_decay = [\"bias\", \"LayerNorm.bias\", \"LayerNorm.weight\"]\n",
        "optimizer_parameters = [\n",
        "                        {\n",
        "                            \"params\": [\n",
        "                                       p for n, p in param_optimizer if not any(nd in n for nd in no_decay)\n",
        "                                       ],\n",
        "                         \"weight_decay\": 0.001,\n",
        "                         },\n",
        "                        {\n",
        "                            \"params\": [\n",
        "                                       p for n, p in param_optimizer if any(nd in n for nd in no_decay)\n",
        "                                       ],\n",
        "                         \"weight_decay\": 0.0,\n",
        "                         },\n",
        "                        ]\n",
        "\n",
        "num_train_steps = int(len(train_data) / Config.TRAIN_BATCH_SIZE * Config.EPOCHS)\n",
        "optimizer = AdamW(optimizer_parameters, lr=3e-5)\n",
        "scheduler = get_linear_schedule_with_warmup(\n",
        "    optimizer, num_warmup_steps=0, num_training_steps=num_train_steps\n",
        "    )\n",
        "\n",
        "history = defaultdict(list)\n",
        "\n",
        "best_accuracy = 0\n",
        "for epoch in range(1, Config.EPOCHS+1):\n",
        "  train_outputs, train_labels, train_loss = train_fn(train_dataloader, model, optimizer, Config.DEVICE, scheduler)\n",
        "  valid_outputs, valid_labels, valid_loss = eval_fn(valid_dataloader, model, Config.DEVICE)\n",
        "  \n",
        "  train_outputs = np.array(train_outputs) >= 0.5\n",
        "  valid_outputs = np.array(valid_outputs) >= 0.5\n",
        "\n",
        "  train_accuracy = metrics.accuracy_score(train_labels, train_outputs)\n",
        "  valid_accuracy = metrics.accuracy_score(valid_labels, valid_outputs)\n",
        "\n",
        "  print(f\"Epoch: {epoch}\\nTrain Loss: {train_loss} - Train Accuracy: {train_accuracy} \\nValid Loss: {valid_loss} - Valid Accuracy: {valid_accuracy}\\n\")\n",
        "  \n",
        "  history['Train Loss'].append(train_loss)\n",
        "  history['Train Accuracy'].append(train_accuracy)\n",
        "  history['Valid Loss'].append(valid_loss)\n",
        "  history['Valid Accuracy'].append(valid_accuracy)\n",
        "  \n",
        "  if valid_accuracy > best_accuracy:\n",
        "    torch.save(model.state_dict(), Config.MODEL_PATH)\n",
        "    best_accuracy = valid_accuracy"
      ],
      "execution_count": null,
      "outputs": [
        {
          "output_type": "stream",
          "name": "stderr",
          "text": [
            "/usr/local/lib/python3.7/dist-packages/transformers/optimization.py:309: FutureWarning: This implementation of AdamW is deprecated and will be removed in a future version. Use the PyTorch implementation torch.optim.AdamW instead, or set `no_deprecation_warning=True` to disable this warning\n",
            "  FutureWarning,\n",
            "100%|██████████| 5625/5625 [05:15<00:00, 17.84it/s]\n",
            "100%|██████████| 1250/1250 [00:19<00:00, 65.75it/s]\n"
          ]
        },
        {
          "output_type": "stream",
          "name": "stdout",
          "text": [
            "Epoch: 1\n",
            "Train Loss: 0.17864503918050065 - Train Accuracy: 0.9325333333333333 \n",
            "Valid Loss: 0.14559101655194537 - Valid Accuracy: 0.9498\n",
            "\n"
          ]
        },
        {
          "output_type": "stream",
          "name": "stderr",
          "text": [
            "100%|██████████| 5625/5625 [05:14<00:00, 17.88it/s]\n",
            "100%|██████████| 1250/1250 [00:18<00:00, 66.00it/s]\n"
          ]
        },
        {
          "output_type": "stream",
          "name": "stdout",
          "text": [
            "Epoch: 2\n",
            "Train Loss: 0.08837034320597434 - Train Accuracy: 0.9705555555555555 \n",
            "Valid Loss: 0.165488288845215 - Valid Accuracy: 0.9504\n",
            "\n"
          ]
        },
        {
          "output_type": "stream",
          "name": "stderr",
          "text": [
            "100%|██████████| 5625/5625 [05:15<00:00, 17.84it/s]\n",
            "100%|██████████| 1250/1250 [00:18<00:00, 65.85it/s]\n"
          ]
        },
        {
          "output_type": "stream",
          "name": "stdout",
          "text": [
            "Epoch: 3\n",
            "Train Loss: 0.040830054026552376 - Train Accuracy: 0.9885555555555555 \n",
            "Valid Loss: 0.17896205378533342 - Valid Accuracy: 0.9536\n",
            "\n"
          ]
        },
        {
          "output_type": "stream",
          "name": "stderr",
          "text": [
            "100%|██████████| 5625/5625 [05:14<00:00, 17.88it/s]\n",
            "100%|██████████| 1250/1250 [00:19<00:00, 65.59it/s]\n"
          ]
        },
        {
          "output_type": "stream",
          "name": "stdout",
          "text": [
            "Epoch: 4\n",
            "Train Loss: 0.020947803694568574 - Train Accuracy: 0.9949777777777777 \n",
            "Valid Loss: 0.19423187617284712 - Valid Accuracy: 0.9558\n",
            "\n"
          ]
        }
      ]
    },
    {
      "cell_type": "markdown",
      "metadata": {
        "id": "1Z2cUhVk3rOt"
      },
      "source": [
        "### Error Analysis & Performance auditing"
      ]
    },
    {
      "cell_type": "code",
      "metadata": {
        "id": "2lbpyHien7o_"
      },
      "source": [
        "def get_metrics(labels, outputs):\n",
        "  accuracy = metrics.accuracy_score(labels, outputs)\n",
        "  recall = metrics.recall_score(labels, outputs)\n",
        "  precision = metrics.precision_score(labels, outputs)\n",
        "  f1 = metrics.f1_score(labels, outputs)\n",
        "  return accuracy, recall, precision, f1"
      ],
      "execution_count": null,
      "outputs": []
    },
    {
      "cell_type": "code",
      "metadata": {
        "colab": {
          "base_uri": "https://localhost:8080/",
          "height": 677
        },
        "id": "s_qQmbox3wdh",
        "outputId": "dec7cd2f-8276-4d5d-ea6d-24e04f7daaae"
      },
      "source": [
        "accuracy, recall, precision, f1 = get_metrics(valid_labels, valid_outputs)\n",
        "\n",
        "print(\"===\"*50)\n",
        "print(\"\\nResults summary\\n\")\n",
        "print(f\"Accuracy Score  : {accuracy}\")\n",
        "print(f\"Recall Score    : {recall}\")\n",
        "print(f\"Precision Score : {precision}\")\n",
        "print(f\"F1 Score        : {f1}\")\n",
        "\n",
        "print(\"===\"*50)\n",
        "print(\"\\nClassification report \\n\\n\", metrics.classification_report(valid_labels, valid_outputs))\n",
        "\n",
        "print(\"===\"*50)\n",
        "cm = metrics.confusion_matrix(valid_labels, valid_outputs)\n",
        "fig, ax = plt.subplots()\n",
        "sns.heatmap(cm, annot=True, fmt='d', ax=ax, cmap=plt.cm.Blues, cbar=False)\n",
        "ax.set(xlabel=\"Predicted Label\", \n",
        "       ylabel=\"True Label\", \n",
        "       xticklabels=np.unique(valid_labels), \n",
        "       yticklabels=np.unique(valid_labels), \n",
        "       title=\"CONFUSION MATRIX\")\n",
        "plt.yticks(rotation=0);"
      ],
      "execution_count": null,
      "outputs": [
        {
          "output_type": "stream",
          "name": "stdout",
          "text": [
            "======================================================================================================================================================\n",
            "\n",
            "Results summary\n",
            "\n",
            "Accuracy Score  : 0.9558\n",
            "Recall Score    : 0.9577689243027888\n",
            "Precision Score : 0.9543469630805875\n",
            "F1 Score        : 0.95605488168622\n",
            "======================================================================================================================================================\n",
            "\n",
            "Classification report \n",
            "\n",
            "               precision    recall  f1-score   support\n",
            "\n",
            "         0.0       0.96      0.95      0.96      2490\n",
            "         1.0       0.95      0.96      0.96      2510\n",
            "\n",
            "    accuracy                           0.96      5000\n",
            "   macro avg       0.96      0.96      0.96      5000\n",
            "weighted avg       0.96      0.96      0.96      5000\n",
            "\n",
            "======================================================================================================================================================\n"
          ]
        },
        {
          "output_type": "display_data",
          "data": {
            "text/plain": [
              "<Figure size 432x288 with 1 Axes>"
            ],
            "image/png": "[encoded data removed]"
          },
          "metadata": {
            "needs_background": "light"
          }
        }
      ]
    },
    {
      "cell_type": "code",
      "metadata": {
        "colab": {
          "base_uri": "https://localhost:8080/",
          "height": 295
        },
        "id": "Oll3WKbZ3zJ2",
        "outputId": "3a32a08d-70cd-45dc-c932-110231dfd88a"
      },
      "source": [
        "plt.plot(history['Train Accuracy'], '-o', label='Train Accuracy')\n",
        "plt.plot(history['Valid Accuracy'], '-o', label='Validation Accuracy')\n",
        "plt.title('Training History')\n",
        "plt.ylabel('Accuracy')\n",
        "plt.xlabel('Epoch')\n",
        "plt.legend()\n",
        "plt.ylim([0, 1]);"
      ],
      "execution_count": null,
      "outputs": [
        {
          "output_type": "display_data",
          "data": {
            "text/plain": [
              "<Figure size 432x288 with 1 Axes>"
            ],
            "image/png": "[encoded data removed]"
          },
          "metadata": {
            "needs_background": "light"
          }
        }
      ]
    },
    {
      "cell_type": "code",
      "metadata": {
        "colab": {
          "base_uri": "https://localhost:8080/",
          "height": 295
        },
        "id": "gVv0lGqU323T",
        "outputId": "25f3876e-549d-4000-90ff-8272c3b79ee9"
      },
      "source": [
        "plt.plot(history['Train Loss'], '-o', label='Train Loss')\n",
        "plt.plot(history['Valid Loss'], '-o', label='Validation Loss')\n",
        "plt.title('Training History')\n",
        "plt.ylabel('Loss')\n",
        "plt.xlabel('Epoch')\n",
        "plt.legend()\n",
        "plt.ylim([0, 1]);"
      ],
      "execution_count": null,
      "outputs": [
        {
          "output_type": "display_data",
          "data": {
            "text/plain": [
              "<Figure size 432x288 with 1 Axes>"
            ],
            "image/png": "[encoded data removed]"
          },
          "metadata": {
            "needs_background": "light"
          }
        }
      ]
    },
    {
      "cell_type": "markdown",
      "metadata": {
        "id": "WdiqofWW36Py"
      },
      "source": [
        "### Inference"
      ]
    },
    {
      "cell_type": "code",
      "metadata": {
        "id": "rqN14HPB35Oq"
      },
      "source": [
        "model = ELECTRAModel()\n",
        "model.to(Config.DEVICE)\n",
        "model.load_state_dict(\n",
        "    torch.load(\n",
        "        Config.MODEL_PATH,\n",
        "        map_location=torch.device(Config.DEVICE)\n",
        "        )\n",
        "    )\n",
        "\n",
        "def predict(review: str):\n",
        "  data = DataProcess(review)\n",
        "  input_ids, attention_mask, token_type_ids = data.preprocess_bert()\n",
        "  \n",
        "  input_ids = input_ids.to(Config.DEVICE, dtype=torch.long)\n",
        "  attention_mask = attention_mask.to(Config.DEVICE, dtype=torch.long)\n",
        "  token_type_ids = token_type_ids.to(Config.DEVICE, dtype=torch.long)\n",
        "  \n",
        "  outputs = model(input_ids, attention_mask, token_type_ids) \n",
        "  positive_prediction = data.preprocess_output(outputs)\n",
        "  negative_prediction = 1 - positive_prediction\n",
        "  \n",
        "  return {\n",
        "      \"review\": review,\n",
        "      \"positive\": str(positive_prediction),\n",
        "      \"negative\": str(negative_prediction),\n",
        "  }"
      ],
      "execution_count": null,
      "outputs": []
    },
    {
      "cell_type": "code",
      "metadata": {
        "colab": {
          "base_uri": "https://localhost:8080/"
        },
        "id": "kuOTo14I4AE_",
        "outputId": "83b19bad-d2f3-4f12-b681-ed7666a4690e"
      },
      "source": [
        "sentiment = predict(\"I like this amazing movie\")\n",
        "print(sentiment)"
      ],
      "execution_count": null,
      "outputs": [
        {
          "output_type": "stream",
          "name": "stdout",
          "text": [
            "{'review': 'I like this amazing movie', 'positive': '0.9977416', 'negative': '0.0022584199905395508'}\n"
          ]
        }
      ]
    },
    {
      "cell_type": "code",
      "source": [],
      "metadata": {
        "id": "RMSKwTSzmBMt"
      },
      "execution_count": null,
      "outputs": []
    },
    {
      "cell_type": "markdown",
      "metadata": {
        "id": "HFMtuoXR4EXh"
      },
      "source": [
        "References:\n",
        "* **Kevin Clark, Minh-Thang Luong, Quoc V. Le, Christopher D. Manning. 2020. [ELECTRA: Pre-training Text Encoders as Discriminators Rather Than Generators](https://arxiv.org/abs/2003.10555)**"
      ]
    }
  ]
}