{
  "cells": [
    {
      "cell_type": "markdown",
      "metadata": {
        "id": "view-in-github",
        "colab_type": "text"
      },
      "source": [
        "<a href=\"https://colab.research.google.com/github/zekaouinoureddine/Advanced-transformer-based-models-on-opinion-mining/blob/master/notebooks/Movie_Reviews_RoBERTa.ipynb\" target=\"_parent\"><img src=\"https://colab.research.google.com/assets/colab-badge.svg\" alt=\"Open In Colab\"/></a>"
      ]
    },
    {
      "cell_type": "markdown",
      "metadata": {
        "id": "FHKxx_mV56pv"
      },
      "source": [
        "---\n",
        "<h1 align=\"center\"><strong>Movie Reviews RoBERTa</strong><h1>\n",
        "\n",
        "---"
      ]
    },
    {
      "cell_type": "code",
      "execution_count": null,
      "metadata": {
        "colab": {
          "base_uri": "https://localhost:8080/"
        },
        "id": "cduvVEPl500T",
        "outputId": "98efa5ab-699a-4abc-e29b-956a36adcc2f"
      },
      "outputs": [
        {
          "name": "stdout",
          "output_type": "stream",
          "text": [
            "\u001b[K     |████████████████████████████████| 4.2 MB 4.2 MB/s \n",
            "\u001b[K     |████████████████████████████████| 596 kB 55.8 MB/s \n",
            "\u001b[K     |████████████████████████████████| 6.6 MB 56.3 MB/s \n",
            "\u001b[K     |████████████████████████████████| 84 kB 3.8 MB/s \n",
            "\u001b[?25h"
          ]
        }
      ],
      "source": [
        "!pip install transformers -q"
      ]
    },
    {
      "cell_type": "markdown",
      "metadata": {
        "id": "yMRHsMrp6IB-"
      },
      "source": [
        "### Required libraries"
      ]
    },
    {
      "cell_type": "code",
      "execution_count": null,
      "metadata": {
        "id": "-mCM700X6Keh"
      },
      "outputs": [],
      "source": [
        "import numpy as np\n",
        "import pandas as pd\n",
        "import matplotlib.pyplot as plt\n",
        "import seaborn as sns\n",
        "\n",
        "import torch\n",
        "import torch.nn as nn\n",
        "from torch.utils.data import Dataset, DataLoader\n",
        "\n",
        "import transformers\n",
        "from transformers import AdamW, get_linear_schedule_with_warmup\n",
        "\n",
        "from sklearn import model_selection, metrics\n",
        "\n",
        "from tqdm import tqdm\n",
        "from collections import defaultdict"
      ]
    },
    {
      "cell_type": "code",
      "execution_count": null,
      "metadata": {
        "colab": {
          "base_uri": "https://localhost:8080/"
        },
        "id": "vgqYwHus-3pE",
        "outputId": "c74f9ca1-9275-4946-b04f-5dc4dd04113b"
      },
      "outputs": [
        {
          "name": "stdout",
          "output_type": "stream",
          "text": [
            "/usr/local/lib/python3.7/dist-packages/gdown/cli.py:131: FutureWarning: Option `--id` was deprecated in version 4.3.1 and will be removed in 5.0. You don't need to pass it anymore to use a file ID.\n",
            "  category=FutureWarning,\n",
            "Archive:  IMDb.zip\n",
            "  inflating: IMDB Dataset.csv        \n"
          ]
        }
      ],
      "source": [
        "!gdown --id 1xJYm-tNMllxx82_CQ1K1R5q0JW9KUV1j -q\n",
        "!unzip IMDb.zip"
      ]
    },
    {
      "cell_type": "code",
      "execution_count": null,
      "metadata": {
        "colab": {
          "base_uri": "https://localhost:8080/",
          "height": 369
        },
        "id": "__IuX_Ae_SGA",
        "outputId": "2a002ee8-8415-4f19-859b-e864e89bf8ca"
      },
      "outputs": [
        {
          "data": {
            "image/png": "[encoded data removed]",
            "text/plain": [
              "<Figure size 360x360 with 1 Axes>"
            ]
          },
          "metadata": {},
          "output_type": "display_data"
        }
      ],
      "source": [
        "df = pd.read_csv(\"IMDB Dataset.csv\")\n",
        "\n",
        "df[\"sentiment\"].value_counts().plot(kind='bar',\n",
        "                                    color=['green','red'],\n",
        "                                    title='Distribution of Positive and Negative Reviews',\n",
        "                                    figsize=(5,5));"
      ]
    },
    {
      "cell_type": "code",
      "execution_count": null,
      "metadata": {
        "colab": {
          "base_uri": "https://localhost:8080/",
          "height": 217,
          "referenced_widgets": [
            "f6dad4c1bf054168b3866d03ff905c9e",
            "952e40a70cc444fab83bec761871feb6",
            "3d7fd0381ebd41d6a47b4577a8e79419",
            "fdde794f63b742a0a23c97da6abe8f76",
            "35d248cbea364a08aa878d062763532e",
            "a44632b304c046d782711f43ff15b8b5",
            "9cd2c1d483ca4d36b4207164f04f59a3",
            "f52b95c89d414780b82491d375233ced",
            "47a999c9b21c40b4b77f8ce8fa52eba8",
            "d1016dfeb5314301acdf17edd08fdf9d",
            "4a51c5e963da486c9a1104674e2f5886",
            "f985d142199c4d79a0cc3c75202bd03c",
            "a0f98b45fbcf4c42828cc2a0be6c3834",
            "9eb2713f4c5d48e8a780c7237d0649b9",
            "ccfb0079db09473e9df5f945da0a204b",
            "a6f958ffad6b4707a78b2eaa0e21e101",
            "00ab2c67fc204eaab974cefaf6a3524e",
            "ce2733bab2504ea08eed112548042669",
            "b7874b703a914b348b4e30fbb14959b9",
            "f16c4a688abc4a4d818f6aea8cf48962",
            "f9fa40d28e2245e98b3840aee91f38f1",
            "245330affeb1415ab56e854bbf93cae5",
            "cbff75a7456242628d83beb5f4fe2718",
            "fec0620f860f4925b835fc3a3d4a2407",
            "014f3d0060af4b1eabdf0aac998689ad",
            "88f807e8a2ad4534a8643b61df548726",
            "38750bcb5a7f4ddfa2aeb6501dac1ca5",
            "cb1a9c8c84c5418f87081c8766556758",
            "2672bb9e7c1a4d79987d8a8300a8e212",
            "2cd5181865ee4d128a5a5f1f390ad705",
            "2ab68d3b249940b482340b7afcac8124",
            "a9c1f1336ff3465f90f2916a1a154c3b",
            "b3999e5a0b684d298bfece8abf1d41c4",
            "b916effb8c514407a1b5243d5fd9a0f1",
            "29087b1c39c54894af2584ffdba16b2e",
            "24fa1b0950e14cbc94ff6de41b43fc19",
            "2d51c3dcae804dc8995cd2ec1d9c8e9f",
            "2bb3000e25ea4ad8b6885e35f16a938a",
            "0cdac64b9aa848ae8dd95c455697704e",
            "df15e3455e4d45bbb9317c079013349b",
            "8b022aebfba543ae85fe4bdd42ba9ba0",
            "10a675d0caa64453a1b9d7babe3f0814",
            "87647ca5d8c34645a0c5aaf1d8733fa2",
            "13b6304d7f9847a7bd4ffce6eb77ded5"
          ]
        },
        "id": "bjMu1emU_XJi",
        "outputId": "5c0a423e-de2f-43ab-8ee2-02b95d6bef45"
      },
      "outputs": [
        {
          "data": {
            "application/vnd.jupyter.widget-view+json": {
              "model_id": "f6dad4c1bf054168b3866d03ff905c9e",
              "version_major": 2,
              "version_minor": 0
            },
            "text/plain": [
              "Downloading:   0%|          | 0.00/878k [00:00<?, ?B/s]"
            ]
          },
          "metadata": {},
          "output_type": "display_data"
        },
        {
          "data": {
            "application/vnd.jupyter.widget-view+json": {
              "model_id": "f985d142199c4d79a0cc3c75202bd03c",
              "version_major": 2,
              "version_minor": 0
            },
            "text/plain": [
              "Downloading:   0%|          | 0.00/446k [00:00<?, ?B/s]"
            ]
          },
          "metadata": {},
          "output_type": "display_data"
        },
        {
          "data": {
            "application/vnd.jupyter.widget-view+json": {
              "model_id": "cbff75a7456242628d83beb5f4fe2718",
              "version_major": 2,
              "version_minor": 0
            },
            "text/plain": [
              "Downloading:   0%|          | 0.00/481 [00:00<?, ?B/s]"
            ]
          },
          "metadata": {},
          "output_type": "display_data"
        },
        {
          "data": {
            "application/vnd.jupyter.widget-view+json": {
              "model_id": "b916effb8c514407a1b5243d5fd9a0f1",
              "version_major": 2,
              "version_minor": 0
            },
            "text/plain": [
              "Downloading:   0%|          | 0.00/478M [00:00<?, ?B/s]"
            ]
          },
          "metadata": {},
          "output_type": "display_data"
        },
        {
          "name": "stderr",
          "output_type": "stream",
          "text": [
            "Some weights of the model checkpoint at roberta-base were not used when initializing RobertaModel: ['lm_head.dense.bias', 'lm_head.layer_norm.bias', 'lm_head.dense.weight', 'lm_head.decoder.weight', 'lm_head.bias', 'lm_head.layer_norm.weight']\n",
            "- This IS expected if you are initializing RobertaModel from the checkpoint of a model trained on another task or with another architecture (e.g. initializing a BertForSequenceClassification model from a BertForPreTraining model).\n",
            "- This IS NOT expected if you are initializing RobertaModel from the checkpoint of a model that you expect to be exactly identical (initializing a BertForSequenceClassification model from a BertForSequenceClassification model).\n"
          ]
        }
      ],
      "source": [
        "class Config:\n",
        "  MAX_LEN = 384\n",
        "  TRAIN_BATCH_SIZE = 8\n",
        "  VALID_BATCH_SIZE = 4\n",
        "  EPOCHS = 4\n",
        "  DEVICE = torch.device(\"cuda\" if torch.cuda.is_available() else \"cpu\")\n",
        "\n",
        "  RaBERTa_PATH = \"roberta-base\"\n",
        "  MODEL_PATH = \"RBERTaModel.bin\"\n",
        "  TRAINING_DATA = \"IMDB Dataset.csv\"\n",
        "\n",
        "  TOKENIZER = transformers.RobertaTokenizer.from_pretrained(RaBERTa_PATH, do_lower_case = True)\n",
        "  MODEL = transformers.RobertaModel.from_pretrained(RaBERTa_PATH, return_dict=False)"
      ]
    },
    {
      "cell_type": "markdown",
      "metadata": {
        "id": "_pXvarT5_9g4"
      },
      "source": [
        "### Dataset"
      ]
    },
    {
      "cell_type": "code",
      "execution_count": null,
      "metadata": {
        "id": "uM4OxpG-_2j_"
      },
      "outputs": [],
      "source": [
        "class DataProcess:\n",
        "  def __init__(self, review):\n",
        "    self.tokenizer = Config.TOKENIZER\n",
        "    self.max_len = Config.MAX_LEN\n",
        "    self.review = review\n",
        "    \n",
        "  def preprocess_bert(self):\n",
        "    reviw = \" \".join(self.review.split())\n",
        "    inputs = self.tokenizer.encode_plus(\n",
        "        reviw,\n",
        "        None,\n",
        "        add_special_tokens=True,\n",
        "        max_length=self.max_len,\n",
        "        # padding = \"max_length\",\n",
        "        truncation=True\n",
        "        )\n",
        "\n",
        "    input_ids = inputs[\"input_ids\"]\n",
        "    attention_mask = inputs[\"attention_mask\"]\n",
        "\n",
        "    return (\n",
        "        torch.tensor(input_ids, dtype=torch.long).unsqueeze(0),\n",
        "        torch.tensor(attention_mask, dtype=torch.long).unsqueeze(0)\n",
        "        )\n",
        "    \n",
        "  def preprocess_output(self, outputs):\n",
        "    outputs = torch.sigmoid(outputs).cpu().detach().numpy()\n",
        "    return outputs[0][0]\n",
        "\n",
        "\n",
        "class MovieReviewDataset:\n",
        "  def __init__(self,  review, label):\n",
        "    self.review = review\n",
        "    self.label = label\n",
        "    self.max_len = Config.MAX_LEN\n",
        "    self.tokenizer = Config.TOKENIZER\n",
        "  \n",
        "  def __len__(self):\n",
        "    return len(self.review)\n",
        "  \n",
        "  def __getitem__(self, item):\n",
        "    review = str(self.review[item])\n",
        "    review = \" \".join(review.split())\n",
        "\n",
        "    inputs = self.tokenizer.encode_plus(\n",
        "        review,\n",
        "        None,\n",
        "        add_special_tokens=True,\n",
        "        max_length=self.max_len,\n",
        "        padding=\"max_length\",\n",
        "        truncation=True\n",
        "    )\n",
        "\n",
        "    input_ids = inputs[\"input_ids\"]\n",
        "    attention_mask = inputs[\"attention_mask\"]\n",
        "\n",
        "    return {\n",
        "        \"input_ids\" : torch.tensor(input_ids, dtype=torch.long),\n",
        "        \"attention_mask\" : torch.tensor(attention_mask, dtype=torch.long),\n",
        "        \"labels\" : torch.tensor(self.label[item], dtype=torch.float)\n",
        "    }"
      ]
    },
    {
      "cell_type": "markdown",
      "metadata": {
        "id": "9WWMk3LWEe3Q"
      },
      "source": [
        "### Model"
      ]
    },
    {
      "cell_type": "markdown",
      "metadata": {
        "id": "xD-G5YReRMYj"
      },
      "source": [
        "![mrroberta.png](data:image/png;base64,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)"
      ]
    },
    {
      "cell_type": "code",
      "execution_count": null,
      "metadata": {
        "id": "Rc1T_69ODfDn"
      },
      "outputs": [],
      "source": [
        "class RoBERTaModel(nn.Module):\n",
        "  def __init__(self):\n",
        "    super(RoBERTaModel, self).__init__()\n",
        "    self.roberta = Config.MODEL\n",
        "    self.robertadrop = nn.Dropout(0.3)\n",
        "    self.out = nn.Linear(768, 1)\n",
        "\n",
        "  def forward(self, input_ids, attention_mask):\n",
        "    _, pooled_output = self.roberta(input_ids=input_ids, attention_mask=attention_mask)\n",
        "    rbo = self.robertadrop(pooled_output)\n",
        "    output = self.out(rbo)\n",
        "    \n",
        "    return output"
      ]
    },
    {
      "cell_type": "markdown",
      "metadata": {
        "id": "K-FeKYMHGJTT"
      },
      "source": [
        "### Engine"
      ]
    },
    {
      "cell_type": "code",
      "execution_count": null,
      "metadata": {
        "id": "W1MTMuv0GG2D"
      },
      "outputs": [],
      "source": [
        "def loss_fn(outputs, labels):\n",
        "  return nn.BCEWithLogitsLoss()(outputs, labels.view(-1, 1))\n",
        "\n",
        "def train_fn(train_dataloader, model, optimizer, device, scheduler):\n",
        "  model.train()\n",
        "  final_loss = 0\n",
        "\n",
        "  fin_labels = []\n",
        "  fin_outputs = []\n",
        "  for bi, d in tqdm(enumerate(train_dataloader), total=len(train_dataloader)):\n",
        "    input_ids = d[\"input_ids\"]\n",
        "    attention_mask = d[\"attention_mask\"]\n",
        "    labels = d[\"labels\"]\n",
        "\n",
        "    input_ids = input_ids.to(device, dtype=torch.long)\n",
        "    attention_mask = attention_mask.to(device, dtype=torch.long)\n",
        "    labels = labels.to(device, dtype = torch.float)\n",
        "\n",
        "    optimizer.zero_grad()\n",
        "    outputs = model(input_ids=input_ids, attention_mask=attention_mask)\n",
        "    loss = loss_fn(outputs, labels)\n",
        "    \n",
        "    final_loss += loss.item()\n",
        "    fin_labels.extend(labels.cpu().detach().numpy().tolist())\n",
        "    fin_outputs.extend(torch.sigmoid(outputs).cpu().detach().numpy().tolist())\n",
        "    \n",
        "    loss.backward()\n",
        "    optimizer.step()\n",
        "    scheduler.step()\n",
        "\n",
        "  return fin_outputs, fin_labels, final_loss/len(train_dataloader)\n",
        "\n",
        "\n",
        "def eval_fn(valid_dataloader, model, device):\n",
        "  model.eval()\n",
        "  final_loss = 0\n",
        "\n",
        "  fin_labels = []\n",
        "  fin_outputs = []\n",
        "  with torch.no_grad():\n",
        "    for bi, d in tqdm(enumerate(valid_dataloader), total=len(valid_dataloader)):\n",
        "      input_ids = d[\"input_ids\"]\n",
        "      attention_mask = d[\"attention_mask\"]\n",
        "      labels = d[\"labels\"]\n",
        "\n",
        "      input_ids = input_ids.to(device, dtype=torch.long)\n",
        "      attention_mask = attention_mask.to(device, dtype=torch.long)\n",
        "      labels = labels.to(device, dtype = torch.float)\n",
        "\n",
        "      outputs = model(input_ids=input_ids, attention_mask=attention_mask)\n",
        "      \n",
        "      loss = loss_fn(outputs, labels)\n",
        "      final_loss += loss.item()\n",
        "      \n",
        "      fin_labels.extend(labels.cpu().detach().numpy().tolist())\n",
        "      fin_outputs.extend(torch.sigmoid(outputs).cpu().detach().numpy().tolist())\n",
        "      \n",
        "\n",
        "  return fin_outputs, fin_labels, final_loss/len(valid_dataloader)"
      ]
    },
    {
      "cell_type": "markdown",
      "metadata": {
        "id": "ajLh7g98Hmg-"
      },
      "source": [
        "### Train"
      ]
    },
    {
      "cell_type": "code",
      "execution_count": null,
      "metadata": {
        "colab": {
          "background_save": true,
          "base_uri": "https://localhost:8080/"
        },
        "id": "jJtXvA9YHd8f",
        "outputId": "74dad168-3b07-47a6-cf56-0a7791d2eab5"
      },
      "outputs": [
        {
          "name": "stderr",
          "output_type": "stream",
          "text": [
            "/usr/local/lib/python3.7/dist-packages/torch/utils/data/dataloader.py:490: UserWarning: This DataLoader will create 4 worker processes in total. Our suggested max number of worker in current system is 2, which is smaller than what this DataLoader is going to create. Please be aware that excessive worker creation might get DataLoader running slow or even freeze, lower the worker number to avoid potential slowness/freeze if necessary.\n",
            "  cpuset_checked))\n",
            "/usr/local/lib/python3.7/dist-packages/transformers/optimization.py:309: FutureWarning: This implementation of AdamW is deprecated and will be removed in a future version. Use the PyTorch implementation torch.optim.AdamW instead, or set `no_deprecation_warning=True` to disable this warning\n",
            "  FutureWarning,\n",
            "100%|██████████| 5625/5625 [17:46<00:00,  5.27it/s]\n",
            "100%|██████████| 1250/1250 [00:40<00:00, 30.82it/s]\n"
          ]
        },
        {
          "name": "stdout",
          "output_type": "stream",
          "text": [
            "Epoch: 1\n",
            "Train Loss: 0.2120858155866464 - Train Accuracy: 0.9192222222222223 \n",
            "Valid Loss: 0.17456661167629065 - Valid Accuracy: 0.9332\n",
            "\n"
          ]
        },
        {
          "name": "stderr",
          "output_type": "stream",
          "text": [
            "/usr/local/lib/python3.7/dist-packages/torch/utils/data/dataloader.py:490: UserWarning: This DataLoader will create 4 worker processes in total. Our suggested max number of worker in current system is 2, which is smaller than what this DataLoader is going to create. Please be aware that excessive worker creation might get DataLoader running slow or even freeze, lower the worker number to avoid potential slowness/freeze if necessary.\n",
            "  cpuset_checked))\n",
            "100%|██████████| 5625/5625 [17:42<00:00,  5.29it/s]\n",
            "100%|██████████| 1250/1250 [00:40<00:00, 31.00it/s]\n"
          ]
        },
        {
          "name": "stdout",
          "output_type": "stream",
          "text": [
            "Epoch: 2\n",
            "Train Loss: 0.12021632747441116 - Train Accuracy: 0.9587555555555556 \n",
            "Valid Loss: 0.16881172609543427 - Valid Accuracy: 0.9404\n",
            "\n"
          ]
        },
        {
          "name": "stderr",
          "output_type": "stream",
          "text": [
            "/usr/local/lib/python3.7/dist-packages/torch/utils/data/dataloader.py:490: UserWarning: This DataLoader will create 4 worker processes in total. Our suggested max number of worker in current system is 2, which is smaller than what this DataLoader is going to create. Please be aware that excessive worker creation might get DataLoader running slow or even freeze, lower the worker number to avoid potential slowness/freeze if necessary.\n",
            "  cpuset_checked))\n",
            "100%|██████████| 5625/5625 [17:39<00:00,  5.31it/s]\n",
            "100%|██████████| 1250/1250 [00:40<00:00, 31.05it/s]\n"
          ]
        },
        {
          "name": "stdout",
          "output_type": "stream",
          "text": [
            "Epoch: 3\n",
            "Train Loss: 0.06355440762200289 - Train Accuracy: 0.9792222222222222 \n",
            "Valid Loss: 0.20856866280972025 - Valid Accuracy: 0.9426\n",
            "\n"
          ]
        },
        {
          "name": "stderr",
          "output_type": "stream",
          "text": [
            "/usr/local/lib/python3.7/dist-packages/torch/utils/data/dataloader.py:490: UserWarning: This DataLoader will create 4 worker processes in total. Our suggested max number of worker in current system is 2, which is smaller than what this DataLoader is going to create. Please be aware that excessive worker creation might get DataLoader running slow or even freeze, lower the worker number to avoid potential slowness/freeze if necessary.\n",
            "  cpuset_checked))\n",
            "100%|██████████| 5625/5625 [17:39<00:00,  5.31it/s]\n",
            "100%|██████████| 1250/1250 [00:40<00:00, 30.80it/s]\n"
          ]
        },
        {
          "name": "stdout",
          "output_type": "stream",
          "text": [
            "Epoch: 4\n",
            "Train Loss: 0.03281349204459952 - Train Accuracy: 0.9913333333333333 \n",
            "Valid Loss: 0.19282510531237348 - Valid Accuracy: 0.9528\n",
            "\n"
          ]
        }
      ],
      "source": [
        "dfx = pd.read_csv(Config.TRAINING_DATA).fillna(\"none\")\n",
        "dfx.sentiment = dfx.sentiment.apply(lambda x: 1 if x == \"positive\" else 0)\n",
        "\n",
        "df_train, df_valid = model_selection.train_test_split(\n",
        "    dfx, test_size=0.1, random_state=42, stratify=dfx.sentiment.values\n",
        "    )\n",
        "\n",
        "df_train = df_train.reset_index(drop=True)\n",
        "df_valid = df_valid.reset_index(drop=True)\n",
        "\n",
        "train_dataset = MovieReviewDataset(\n",
        "    review=df_train.review.values, label=df_train.sentiment.values\n",
        ")\n",
        "train_dataloader = DataLoader(train_dataset, batch_size=Config.TRAIN_BATCH_SIZE, num_workers=4)\n",
        "\n",
        "valid_dataset = MovieReviewDataset(\n",
        "    review=df_valid.review.values, label=df_valid.sentiment.values\n",
        ")\n",
        "valid_dataloader = DataLoader(valid_dataset, batch_size=Config.VALID_BATCH_SIZE, num_workers=1)\n",
        "\n",
        "model = RoBERTaModel()\n",
        "model.to(Config.DEVICE)\n",
        "\n",
        "param_optimizer = list(model.named_parameters())\n",
        "no_decay = [\"bias\", \"LayerNorm.bias\", \"LayerNorm.weight\"]\n",
        "optimizer_parameters = [\n",
        "                        {\n",
        "                            \"params\": [\n",
        "                                       p for n, p in param_optimizer if not any(nd in n for nd in no_decay)\n",
        "                                       ],\n",
        "                         \"weight_decay\": 0.001,\n",
        "                         },\n",
        "                        {\n",
        "                            \"params\": [\n",
        "                                       p for n, p in param_optimizer if any(nd in n for nd in no_decay)\n",
        "                                       ],\n",
        "                         \"weight_decay\": 0.0,\n",
        "                         },\n",
        "                        ]\n",
        "\n",
        "num_train_steps = int(len(df_train) / Config.TRAIN_BATCH_SIZE * Config.EPOCHS)\n",
        "optimizer = AdamW(optimizer_parameters, lr=3e-5)\n",
        "scheduler = get_linear_schedule_with_warmup(\n",
        "    optimizer, num_warmup_steps=0, num_training_steps=num_train_steps\n",
        "    )\n",
        "\n",
        "history = defaultdict(list)\n",
        "\n",
        "best_accuracy = 0\n",
        "for epoch in range(1, Config.EPOCHS+1):\n",
        "  train_outputs, train_labels, train_loss = train_fn(train_dataloader, model, optimizer, Config.DEVICE, scheduler)\n",
        "  valid_outputs, valid_labels, valid_loss = eval_fn(valid_dataloader, model, Config.DEVICE)\n",
        "  \n",
        "  train_outputs = np.array(train_outputs) >= 0.5\n",
        "  valid_outputs = np.array(valid_outputs) >= 0.5\n",
        "\n",
        "  train_accuracy = metrics.accuracy_score(train_labels, train_outputs)\n",
        "  valid_accuracy = metrics.accuracy_score(valid_labels, valid_outputs)\n",
        "\n",
        "  print(f\"Epoch: {epoch}\\nTrain Loss: {train_loss} - Train Accuracy: {train_accuracy} \\nValid Loss: {valid_loss} - Valid Accuracy: {valid_accuracy}\\n\")\n",
        "  \n",
        "  history['Train Loss'].append(train_loss)\n",
        "  history['Train Accuracy'].append(train_accuracy)\n",
        "  history['Valid Loss'].append(valid_loss)\n",
        "  history['Valid Accuracy'].append(valid_accuracy)\n",
        "  \n",
        "  if valid_accuracy > best_accuracy:\n",
        "    torch.save(model.state_dict(), Config.MODEL_PATH)\n",
        "    best_accuracy = valid_accuracy"
      ]
    },
    {
      "cell_type": "markdown",
      "metadata": {
        "id": "vE-M7pWhNoWP"
      },
      "source": [
        "### Error Analysis & Performance auditing"
      ]
    },
    {
      "cell_type": "code",
      "execution_count": null,
      "metadata": {
        "colab": {
          "background_save": true
        },
        "id": "uhEwvJWgJipP"
      },
      "outputs": [],
      "source": [
        "def get_metrics(labels, outputs):\n",
        "  accuracy = metrics.accuracy_score(labels, outputs)\n",
        "  recall = metrics.recall_score(labels, outputs)\n",
        "  precision = metrics.precision_score(labels, outputs)\n",
        "  f1 = metrics.f1_score(labels, outputs)\n",
        "  return accuracy, recall, precision, f1"
      ]
    },
    {
      "cell_type": "code",
      "execution_count": null,
      "metadata": {
        "colab": {
          "background_save": true
        },
        "id": "PrI2neBZNsb4",
        "outputId": "2b30c9d8-6505-4f66-f605-8d536c99877d"
      },
      "outputs": [
        {
          "name": "stdout",
          "output_type": "stream",
          "text": [
            "======================================================================================================================================================\n",
            "\n",
            "Results summary\n",
            "\n",
            "Accuracy Score  : 0.9528\n",
            "Recall Score    : 0.9604\n",
            "Precision Score : 0.94602048857368\n",
            "F1 Score        : 0.9531560142913855\n",
            "======================================================================================================================================================\n",
            "\n",
            "Classification report \n",
            "\n",
            "               precision    recall  f1-score   support\n",
            "\n",
            "         0.0       0.96      0.95      0.95      2500\n",
            "         1.0       0.95      0.96      0.95      2500\n",
            "\n",
            "    accuracy                           0.95      5000\n",
            "   macro avg       0.95      0.95      0.95      5000\n",
            "weighted avg       0.95      0.95      0.95      5000\n",
            "\n",
            "======================================================================================================================================================\n"
          ]
        },
        {
          "data": {
            "image/png": "[encoded data removed]",
            "text/plain": [
              "<Figure size 432x288 with 1 Axes>"
            ]
          },
          "metadata": {},
          "output_type": "display_data"
        }
      ],
      "source": [
        "accuracy, recall, precision, f1 = get_metrics(valid_labels, valid_outputs)\n",
        "\n",
        "print(\"===\"*50)\n",
        "print(\"\\nResults summary\\n\")\n",
        "print(f\"Accuracy Score  : {accuracy}\")\n",
        "print(f\"Recall Score    : {recall}\")\n",
        "print(f\"Precision Score : {precision}\")\n",
        "print(f\"F1 Score        : {f1}\")\n",
        "\n",
        "print(\"===\"*50)\n",
        "print(\"\\nClassification report \\n\\n\", metrics.classification_report(valid_labels, valid_outputs))\n",
        "\n",
        "print(\"===\"*50)\n",
        "cm = metrics.confusion_matrix(valid_labels, valid_outputs)\n",
        "fig, ax = plt.subplots()\n",
        "sns.heatmap(cm, annot=True, fmt='d', ax=ax, cmap=plt.cm.Blues, cbar=False)\n",
        "ax.set(xlabel=\"Predicted Label\", \n",
        "       ylabel=\"True Label\", \n",
        "       xticklabels=np.unique(valid_labels), \n",
        "       yticklabels=np.unique(valid_labels), \n",
        "       title=\"CONFUSION MATRIX\")\n",
        "plt.yticks(rotation=0);"
      ]
    },
    {
      "cell_type": "code",
      "execution_count": null,
      "metadata": {
        "colab": {
          "background_save": true
        },
        "id": "p6vSHJNcNvns",
        "outputId": "8797df9c-024f-484f-ed57-e9beb7347a65"
      },
      "outputs": [
        {
          "data": {
            "image/png": "[encoded data removed]",
            "text/plain": [
              "<Figure size 432x288 with 1 Axes>"
            ]
          },
          "metadata": {},
          "output_type": "display_data"
        }
      ],
      "source": [
        "plt.plot(history['Train Accuracy'], '-o', label='Train Accuracy')\n",
        "plt.plot(history['Valid Accuracy'], '-o', label='Validation Accuracy')\n",
        "plt.title('Training History')\n",
        "plt.ylabel('Accuracy')\n",
        "plt.xlabel('Epoch')\n",
        "plt.legend()\n",
        "plt.ylim([0, 1]);"
      ]
    },
    {
      "cell_type": "code",
      "execution_count": null,
      "metadata": {
        "colab": {
          "background_save": true
        },
        "id": "SnZXZA60N5Ro",
        "outputId": "49c5d899-9217-44b8-ca8b-3d5e69aee4e9"
      },
      "outputs": [
        {
          "data": {
            "image/png": "[encoded data removed]",
            "text/plain": [
              "<Figure size 432x288 with 1 Axes>"
            ]
          },
          "metadata": {},
          "output_type": "display_data"
        }
      ],
      "source": [
        "plt.plot(history['Train Loss'], '-o', label='Train Loss')\n",
        "plt.plot(history['Valid Loss'], '-o', label='Validation Loss')\n",
        "plt.title('Training History')\n",
        "plt.ylabel('Loss')\n",
        "plt.xlabel('Epoch')\n",
        "plt.legend()\n",
        "plt.ylim([0, 1]);"
      ]
    },
    {
      "cell_type": "markdown",
      "metadata": {
        "id": "S_iAUJFrN8kc"
      },
      "source": [
        "### Inference"
      ]
    },
    {
      "cell_type": "code",
      "execution_count": null,
      "metadata": {
        "colab": {
          "background_save": true
        },
        "id": "S1xsK-b-N7Vq"
      },
      "outputs": [],
      "source": [
        "model = RoBERTaModel()\n",
        "model.to(Config.DEVICE)\n",
        "model.load_state_dict(\n",
        "    torch.load(\n",
        "        Config.MODEL_PATH,\n",
        "        map_location=torch.device(Config.DEVICE)\n",
        "        )\n",
        "    )\n",
        "\n",
        "def predict(review: str):\n",
        "  data = DataProcess(review)\n",
        "  input_ids, attention_mask = data.preprocess_bert()\n",
        "  \n",
        "  input_ids = input_ids.to(Config.DEVICE, dtype=torch.long)\n",
        "  attention_mask = attention_mask.to(Config.DEVICE, dtype=torch.long)\n",
        "  \n",
        "  outputs = model(input_ids, attention_mask) \n",
        "  positive_prediction = data.preprocess_output(outputs)\n",
        "  negative_prediction = 1 - positive_prediction\n",
        "  \n",
        "  return {\n",
        "      \"review\": review,\n",
        "      \"positive\": str(positive_prediction),\n",
        "      \"negative\": str(negative_prediction),\n",
        "  }"
      ]
    },
    {
      "cell_type": "code",
      "execution_count": null,
      "metadata": {
        "colab": {
          "background_save": true
        },
        "id": "kSy1LWaSODot",
        "outputId": "7c3217cd-dfc9-4656-981f-6673b3e5acff"
      },
      "outputs": [
        {
          "name": "stdout",
          "output_type": "stream",
          "text": [
            "{'review': 'I like this amazing movie', 'positive': '0.99849343', 'negative': '0.0015065670013427734'}\n"
          ]
        }
      ],
      "source": [
        "sentiment = predict(\"I like this amazing movie\")\n",
        "print(sentiment)"
      ]
    },
    {
      "cell_type": "code",
      "execution_count": null,
      "metadata": {
        "colab": {
          "background_save": true
        },
        "id": "CaCVnIeaOK_d"
      },
      "outputs": [],
      "source": []
    },
    {
      "cell_type": "markdown",
      "metadata": {
        "id": "nehMIkyFOa8a"
      },
      "source": [
        "### References\n",
        "* **Yinhan Liu, Myle Ott, Naman Goyal, Jingfei Du, Mandar Joshi, Danqi Chen, Omer Levy, Mike Lewis, Luke Zettlemoyer, Veselin Stoyanov. 2019. [RoBERTa: A Robustly Optimized BERT Pretraining Approach](https://arxiv.org/abs/1907.11692). arXiv preprint arXiv:1907.11692**"
      ]
    }
  ],
  "metadata": {
    "accelerator": "GPU",
    "colab": {
      "provenance": [],
      "include_colab_link": true
    },
    "kernelspec": {
      "display_name": "Python 3",
      "name": "python3"
    },
    "language_info": {
      "name": "python"
    },
    "widgets": {
      "application/vnd.jupyter.widget-state+json": {
        "00ab2c67fc204eaab974cefaf6a3524e": {
          "model_module": "@jupyter-widgets/base",
          "model_module_version": "1.2.0",
          "model_name": "LayoutModel",
          "state": {
            "_model_module": "@jupyter-widgets/base",
            "_model_module_version": "1.2.0",
            "_model_name": "LayoutModel",
            "_view_count": null,
            "_view_module": "@jupyter-widgets/base",
            "_view_module_version": "1.2.0",
            "_view_name": "LayoutView",
            "align_content": null,
            "align_items": null,
            "align_self": null,
            "border": null,
            "bottom": null,
            "display": null,
            "flex": null,
            "flex_flow": null,
            "grid_area": null,
            "grid_auto_columns": null,
            "grid_auto_flow": null,
            "grid_auto_rows": null,
            "grid_column": null,
            "grid_gap": null,
            "grid_row": null,
            "grid_template_areas": null,
            "grid_template_columns": null,
            "grid_template_rows": null,
            "height": null,
            "justify_content": null,
            "justify_items": null,
            "left": null,
            "margin": null,
            "max_height": null,
            "max_width": null,
            "min_height": null,
            "min_width": null,
            "object_fit": null,
            "object_position": null,
            "order": null,
            "overflow": null,
            "overflow_x": null,
            "overflow_y": null,
            "padding": null,
            "right": null,
            "top": null,
            "visibility": null,
            "width": null
          }
        },
        "014f3d0060af4b1eabdf0aac998689ad": {
          "model_module": "@jupyter-widgets/controls",
          "model_module_version": "1.5.0",
          "model_name": "FloatProgressModel",
          "state": {
            "_dom_classes": [],
            "_model_module": "@jupyter-widgets/controls",
            "_model_module_version": "1.5.0",
            "_model_name": "FloatProgressModel",
            "_view_count": null,
            "_view_module": "@jupyter-widgets/controls",
            "_view_module_version": "1.5.0",
            "_view_name": "ProgressView",
            "bar_style": "success",
            "description": "",
            "description_tooltip": null,
            "layout": "IPY_MODEL_2cd5181865ee4d128a5a5f1f390ad705",
            "max": 481,
            "min": 0,
            "orientation": "horizontal",
            "style": "IPY_MODEL_2ab68d3b249940b482340b7afcac8124",
            "value": 481
          }
        },
        "0cdac64b9aa848ae8dd95c455697704e": {
          "model_module": "@jupyter-widgets/base",
          "model_module_version": "1.2.0",
          "model_name": "LayoutModel",
          "state": {
            "_model_module": "@jupyter-widgets/base",
            "_model_module_version": "1.2.0",
            "_model_name": "LayoutModel",
            "_view_count": null,
            "_view_module": "@jupyter-widgets/base",
            "_view_module_version": "1.2.0",
            "_view_name": "LayoutView",
            "align_content": null,
            "align_items": null,
            "align_self": null,
            "border": null,
            "bottom": null,
            "display": null,
            "flex": null,
            "flex_flow": null,
            "grid_area": null,
            "grid_auto_columns": null,
            "grid_auto_flow": null,
            "grid_auto_rows": null,
            "grid_column": null,
            "grid_gap": null,
            "grid_row": null,
            "grid_template_areas": null,
            "grid_template_columns": null,
            "grid_template_rows": null,
            "height": null,
            "justify_content": null,
            "justify_items": null,
            "left": null,
            "margin": null,
            "max_height": null,
            "max_width": null,
            "min_height": null,
            "min_width": null,
            "object_fit": null,
            "object_position": null,
            "order": null,
            "overflow": null,
            "overflow_x": null,
            "overflow_y": null,
            "padding": null,
            "right": null,
            "top": null,
            "visibility": null,
            "width": null
          }
        },
        "10a675d0caa64453a1b9d7babe3f0814": {
          "model_module": "@jupyter-widgets/controls",
          "model_module_version": "1.5.0",
          "model_name": "ProgressStyleModel",
          "state": {
            "_model_module": "@jupyter-widgets/controls",
            "_model_module_version": "1.5.0",
            "_model_name": "ProgressStyleModel",
            "_view_count": null,
            "_view_module": "@jupyter-widgets/base",
            "_view_module_version": "1.2.0",
            "_view_name": "StyleView",
            "bar_color": null,
            "description_width": ""
          }
        },
        "13b6304d7f9847a7bd4ffce6eb77ded5": {
          "model_module": "@jupyter-widgets/controls",
          "model_module_version": "1.5.0",
          "model_name": "DescriptionStyleModel",
          "state": {
            "_model_module": "@jupyter-widgets/controls",
            "_model_module_version": "1.5.0",
            "_model_name": "DescriptionStyleModel",
            "_view_count": null,
            "_view_module": "@jupyter-widgets/base",
            "_view_module_version": "1.2.0",
            "_view_name": "StyleView",
            "description_width": ""
          }
        },
        "245330affeb1415ab56e854bbf93cae5": {
          "model_module": "@jupyter-widgets/controls",
          "model_module_version": "1.5.0",
          "model_name": "DescriptionStyleModel",
          "state": {
            "_model_module": "@jupyter-widgets/controls",
            "_model_module_version": "1.5.0",
            "_model_name": "DescriptionStyleModel",
            "_view_count": null,
            "_view_module": "@jupyter-widgets/base",
            "_view_module_version": "1.2.0",
            "_view_name": "StyleView",
            "description_width": ""
          }
        },
        "24fa1b0950e14cbc94ff6de41b43fc19": {
          "model_module": "@jupyter-widgets/controls",
          "model_module_version": "1.5.0",
          "model_name": "FloatProgressModel",
          "state": {
            "_dom_classes": [],
            "_model_module": "@jupyter-widgets/controls",
            "_model_module_version": "1.5.0",
            "_model_name": "FloatProgressModel",
            "_view_count": null,
            "_view_module": "@jupyter-widgets/controls",
            "_view_module_version": "1.5.0",
            "_view_name": "ProgressView",
            "bar_style": "success",
            "description": "",
            "description_tooltip": null,
            "layout": "IPY_MODEL_8b022aebfba543ae85fe4bdd42ba9ba0",
            "max": 501200538,
            "min": 0,
            "orientation": "horizontal",
            "style": "IPY_MODEL_10a675d0caa64453a1b9d7babe3f0814",
            "value": 501200538
          }
        },
        "2672bb9e7c1a4d79987d8a8300a8e212": {
          "model_module": "@jupyter-widgets/controls",
          "model_module_version": "1.5.0",
          "model_name": "DescriptionStyleModel",
          "state": {
            "_model_module": "@jupyter-widgets/controls",
            "_model_module_version": "1.5.0",
            "_model_name": "DescriptionStyleModel",
            "_view_count": null,
            "_view_module": "@jupyter-widgets/base",
            "_view_module_version": "1.2.0",
            "_view_name": "StyleView",
            "description_width": ""
          }
        },
        "29087b1c39c54894af2584ffdba16b2e": {
          "model_module": "@jupyter-widgets/controls",
          "model_module_version": "1.5.0",
          "model_name": "HTMLModel",
          "state": {
            "_dom_classes": [],
            "_model_module": "@jupyter-widgets/controls",
            "_model_module_version": "1.5.0",
            "_model_name": "HTMLModel",
            "_view_count": null,
            "_view_module": "@jupyter-widgets/controls",
            "_view_module_version": "1.5.0",
            "_view_name": "HTMLView",
            "description": "",
            "description_tooltip": null,
            "layout": "IPY_MODEL_0cdac64b9aa848ae8dd95c455697704e",
            "placeholder": "​",
            "style": "IPY_MODEL_df15e3455e4d45bbb9317c079013349b",
            "value": "Downloading: 100%"
          }
        },
        "2ab68d3b249940b482340b7afcac8124": {
          "model_module": "@jupyter-widgets/controls",
          "model_module_version": "1.5.0",
          "model_name": "ProgressStyleModel",
          "state": {
            "_model_module": "@jupyter-widgets/controls",
            "_model_module_version": "1.5.0",
            "_model_name": "ProgressStyleModel",
            "_view_count": null,
            "_view_module": "@jupyter-widgets/base",
            "_view_module_version": "1.2.0",
            "_view_name": "StyleView",
            "bar_color": null,
            "description_width": ""
          }
        },
        "2bb3000e25ea4ad8b6885e35f16a938a": {
          "model_module": "@jupyter-widgets/base",
          "model_module_version": "1.2.0",
          "model_name": "LayoutModel",
          "state": {
            "_model_module": "@jupyter-widgets/base",
            "_model_module_version": "1.2.0",
            "_model_name": "LayoutModel",
            "_view_count": null,
            "_view_module": "@jupyter-widgets/base",
            "_view_module_version": "1.2.0",
            "_view_name": "LayoutView",
            "align_content": null,
            "align_items": null,
            "align_self": null,
            "border": null,
            "bottom": null,
            "display": null,
            "flex": null,
            "flex_flow": null,
            "grid_area": null,
            "grid_auto_columns": null,
            "grid_auto_flow": null,
            "grid_auto_rows": null,
            "grid_column": null,
            "grid_gap": null,
            "grid_row": null,
            "grid_template_areas": null,
            "grid_template_columns": null,
            "grid_template_rows": null,
            "height": null,
            "justify_content": null,
            "justify_items": null,
            "left": null,
            "margin": null,
            "max_height": null,
            "max_width": null,
            "min_height": null,
            "min_width": null,
            "object_fit": null,
            "object_position": null,
            "order": null,
            "overflow": null,
            "overflow_x": null,
            "overflow_y": null,
            "padding": null,
            "right": null,
            "top": null,
            "visibility": null,
            "width": null
          }
        },
        "2cd5181865ee4d128a5a5f1f390ad705": {
          "model_module": "@jupyter-widgets/base",
          "model_module_version": "1.2.0",
          "model_name": "LayoutModel",
          "state": {
            "_model_module": "@jupyter-widgets/base",
            "_model_module_version": "1.2.0",
            "_model_name": "LayoutModel",
            "_view_count": null,
            "_view_module": "@jupyter-widgets/base",
            "_view_module_version": "1.2.0",
            "_view_name": "LayoutView",
            "align_content": null,
            "align_items": null,
            "align_self": null,
            "border": null,
            "bottom": null,
            "display": null,
            "flex": null,
            "flex_flow": null,
            "grid_area": null,
            "grid_auto_columns": null,
            "grid_auto_flow": null,
            "grid_auto_rows": null,
            "grid_column": null,
            "grid_gap": null,
            "grid_row": null,
            "grid_template_areas": null,
            "grid_template_columns": null,
            "grid_template_rows": null,
            "height": null,
            "justify_content": null,
            "justify_items": null,
            "left": null,
            "margin": null,
            "max_height": null,
            "max_width": null,
            "min_height": null,
            "min_width": null,
            "object_fit": null,
            "object_position": null,
            "order": null,
            "overflow": null,
            "overflow_x": null,
            "overflow_y": null,
            "padding": null,
            "right": null,
            "top": null,
            "visibility": null,
            "width": null
          }
        },
        "2d51c3dcae804dc8995cd2ec1d9c8e9f": {
          "model_module": "@jupyter-widgets/controls",
          "model_module_version": "1.5.0",
          "model_name": "HTMLModel",
          "state": {
            "_dom_classes": [],
            "_model_module": "@jupyter-widgets/controls",
            "_model_module_version": "1.5.0",
            "_model_name": "HTMLModel",
            "_view_count": null,
            "_view_module": "@jupyter-widgets/controls",
            "_view_module_version": "1.5.0",
            "_view_name": "HTMLView",
            "description": "",
            "description_tooltip": null,
            "layout": "IPY_MODEL_87647ca5d8c34645a0c5aaf1d8733fa2",
            "placeholder": "​",
            "style": "IPY_MODEL_13b6304d7f9847a7bd4ffce6eb77ded5",
            "value": " 478M/478M [00:18&lt;00:00, 60.3MB/s]"
          }
        },
        "35d248cbea364a08aa878d062763532e": {
          "model_module": "@jupyter-widgets/base",
          "model_module_version": "1.2.0",
          "model_name": "LayoutModel",
          "state": {
            "_model_module": "@jupyter-widgets/base",
            "_model_module_version": "1.2.0",
            "_model_name": "LayoutModel",
            "_view_count": null,
            "_view_module": "@jupyter-widgets/base",
            "_view_module_version": "1.2.0",
            "_view_name": "LayoutView",
            "align_content": null,
            "align_items": null,
            "align_self": null,
            "border": null,
            "bottom": null,
            "display": null,
            "flex": null,
            "flex_flow": null,
            "grid_area": null,
            "grid_auto_columns": null,
            "grid_auto_flow": null,
            "grid_auto_rows": null,
            "grid_column": null,
            "grid_gap": null,
            "grid_row": null,
            "grid_template_areas": null,
            "grid_template_columns": null,
            "grid_template_rows": null,
            "height": null,
            "justify_content": null,
            "justify_items": null,
            "left": null,
            "margin": null,
            "max_height": null,
            "max_width": null,
            "min_height": null,
            "min_width": null,
            "object_fit": null,
            "object_position": null,
            "order": null,
            "overflow": null,
            "overflow_x": null,
            "overflow_y": null,
            "padding": null,
            "right": null,
            "top": null,
            "visibility": null,
            "width": null
          }
        },
        "38750bcb5a7f4ddfa2aeb6501dac1ca5": {
          "model_module": "@jupyter-widgets/base",
          "model_module_version": "1.2.0",
          "model_name": "LayoutModel",
          "state": {
            "_model_module": "@jupyter-widgets/base",
            "_model_module_version": "1.2.0",
            "_model_name": "LayoutModel",
            "_view_count": null,
            "_view_module": "@jupyter-widgets/base",
            "_view_module_version": "1.2.0",
            "_view_name": "LayoutView",
            "align_content": null,
            "align_items": null,
            "align_self": null,
            "border": null,
            "bottom": null,
            "display": null,
            "flex": null,
            "flex_flow": null,
            "grid_area": null,
            "grid_auto_columns": null,
            "grid_auto_flow": null,
            "grid_auto_rows": null,
            "grid_column": null,
            "grid_gap": null,
            "grid_row": null,
            "grid_template_areas": null,
            "grid_template_columns": null,
            "grid_template_rows": null,
            "height": null,
            "justify_content": null,
            "justify_items": null,
            "left": null,
            "margin": null,
            "max_height": null,
            "max_width": null,
            "min_height": null,
            "min_width": null,
            "object_fit": null,
            "object_position": null,
            "order": null,
            "overflow": null,
            "overflow_x": null,
            "overflow_y": null,
            "padding": null,
            "right": null,
            "top": null,
            "visibility": null,
            "width": null
          }
        },
        "3d7fd0381ebd41d6a47b4577a8e79419": {
          "model_module": "@jupyter-widgets/controls",
          "model_module_version": "1.5.0",
          "model_name": "FloatProgressModel",
          "state": {
            "_dom_classes": [],
            "_model_module": "@jupyter-widgets/controls",
            "_model_module_version": "1.5.0",
            "_model_name": "FloatProgressModel",
            "_view_count": null,
            "_view_module": "@jupyter-widgets/controls",
            "_view_module_version": "1.5.0",
            "_view_name": "ProgressView",
            "bar_style": "success",
            "description": "",
            "description_tooltip": null,
            "layout": "IPY_MODEL_f52b95c89d414780b82491d375233ced",
            "max": 898823,
            "min": 0,
            "orientation": "horizontal",
            "style": "IPY_MODEL_47a999c9b21c40b4b77f8ce8fa52eba8",
            "value": 898823
          }
        },
        "47a999c9b21c40b4b77f8ce8fa52eba8": {
          "model_module": "@jupyter-widgets/controls",
          "model_module_version": "1.5.0",
          "model_name": "ProgressStyleModel",
          "state": {
            "_model_module": "@jupyter-widgets/controls",
            "_model_module_version": "1.5.0",
            "_model_name": "ProgressStyleModel",
            "_view_count": null,
            "_view_module": "@jupyter-widgets/base",
            "_view_module_version": "1.2.0",
            "_view_name": "StyleView",
            "bar_color": null,
            "description_width": ""
          }
        },
        "4a51c5e963da486c9a1104674e2f5886": {
          "model_module": "@jupyter-widgets/controls",
          "model_module_version": "1.5.0",
          "model_name": "DescriptionStyleModel",
          "state": {
            "_model_module": "@jupyter-widgets/controls",
            "_model_module_version": "1.5.0",
            "_model_name": "DescriptionStyleModel",
            "_view_count": null,
            "_view_module": "@jupyter-widgets/base",
            "_view_module_version": "1.2.0",
            "_view_name": "StyleView",
            "description_width": ""
          }
        },
        "87647ca5d8c34645a0c5aaf1d8733fa2": {
          "model_module": "@jupyter-widgets/base",
          "model_module_version": "1.2.0",
          "model_name": "LayoutModel",
          "state": {
            "_model_module": "@jupyter-widgets/base",
            "_model_module_version": "1.2.0",
            "_model_name": "LayoutModel",
            "_view_count": null,
            "_view_module": "@jupyter-widgets/base",
            "_view_module_version": "1.2.0",
            "_view_name": "LayoutView",
            "align_content": null,
            "align_items": null,
            "align_self": null,
            "border": null,
            "bottom": null,
            "display": null,
            "flex": null,
            "flex_flow": null,
            "grid_area": null,
            "grid_auto_columns": null,
            "grid_auto_flow": null,
            "grid_auto_rows": null,
            "grid_column": null,
            "grid_gap": null,
            "grid_row": null,
            "grid_template_areas": null,
            "grid_template_columns": null,
            "grid_template_rows": null,
            "height": null,
            "justify_content": null,
            "justify_items": null,
            "left": null,
            "margin": null,
            "max_height": null,
            "max_width": null,
            "min_height": null,
            "min_width": null,
            "object_fit": null,
            "object_position": null,
            "order": null,
            "overflow": null,
            "overflow_x": null,
            "overflow_y": null,
            "padding": null,
            "right": null,
            "top": null,
            "visibility": null,
            "width": null
          }
        },
        "88f807e8a2ad4534a8643b61df548726": {
          "model_module": "@jupyter-widgets/controls",
          "model_module_version": "1.5.0",
          "model_name": "HTMLModel",
          "state": {
            "_dom_classes": [],
            "_model_module": "@jupyter-widgets/controls",
            "_model_module_version": "1.5.0",
            "_model_name": "HTMLModel",
            "_view_count": null,
            "_view_module": "@jupyter-widgets/controls",
            "_view_module_version": "1.5.0",
            "_view_name": "HTMLView",
            "description": "",
            "description_tooltip": null,
            "layout": "IPY_MODEL_a9c1f1336ff3465f90f2916a1a154c3b",
            "placeholder": "​",
            "style": "IPY_MODEL_b3999e5a0b684d298bfece8abf1d41c4",
            "value": " 481/481 [00:00&lt;00:00, 5.76kB/s]"
          }
        },
        "8b022aebfba543ae85fe4bdd42ba9ba0": {
          "model_module": "@jupyter-widgets/base",
          "model_module_version": "1.2.0",
          "model_name": "LayoutModel",
          "state": {
            "_model_module": "@jupyter-widgets/base",
            "_model_module_version": "1.2.0",
            "_model_name": "LayoutModel",
            "_view_count": null,
            "_view_module": "@jupyter-widgets/base",
            "_view_module_version": "1.2.0",
            "_view_name": "LayoutView",
            "align_content": null,
            "align_items": null,
            "align_self": null,
            "border": null,
            "bottom": null,
            "display": null,
            "flex": null,
            "flex_flow": null,
            "grid_area": null,
            "grid_auto_columns": null,
            "grid_auto_flow": null,
            "grid_auto_rows": null,
            "grid_column": null,
            "grid_gap": null,
            "grid_row": null,
            "grid_template_areas": null,
            "grid_template_columns": null,
            "grid_template_rows": null,
            "height": null,
            "justify_content": null,
            "justify_items": null,
            "left": null,
            "margin": null,
            "max_height": null,
            "max_width": null,
            "min_height": null,
            "min_width": null,
            "object_fit": null,
            "object_position": null,
            "order": null,
            "overflow": null,
            "overflow_x": null,
            "overflow_y": null,
            "padding": null,
            "right": null,
            "top": null,
            "visibility": null,
            "width": null
          }
        },
        "952e40a70cc444fab83bec761871feb6": {
          "model_module": "@jupyter-widgets/controls",
          "model_module_version": "1.5.0",
          "model_name": "HTMLModel",
          "state": {
            "_dom_classes": [],
            "_model_module": "@jupyter-widgets/controls",
            "_model_module_version": "1.5.0",
            "_model_name": "HTMLModel",
            "_view_count": null,
            "_view_module": "@jupyter-widgets/controls",
            "_view_module_version": "1.5.0",
            "_view_name": "HTMLView",
            "description": "",
            "description_tooltip": null,
            "layout": "IPY_MODEL_a44632b304c046d782711f43ff15b8b5",
            "placeholder": "​",
            "style": "IPY_MODEL_9cd2c1d483ca4d36b4207164f04f59a3",
            "value": "Downloading: 100%"
          }
        },
        "9cd2c1d483ca4d36b4207164f04f59a3": {
          "model_module": "@jupyter-widgets/controls",
          "model_module_version": "1.5.0",
          "model_name": "DescriptionStyleModel",
          "state": {
            "_model_module": "@jupyter-widgets/controls",
            "_model_module_version": "1.5.0",
            "_model_name": "DescriptionStyleModel",
            "_view_count": null,
            "_view_module": "@jupyter-widgets/base",
            "_view_module_version": "1.2.0",
            "_view_name": "StyleView",
            "description_width": ""
          }
        },
        "9eb2713f4c5d48e8a780c7237d0649b9": {
          "model_module": "@jupyter-widgets/controls",
          "model_module_version": "1.5.0",
          "model_name": "FloatProgressModel",
          "state": {
            "_dom_classes": [],
            "_model_module": "@jupyter-widgets/controls",
            "_model_module_version": "1.5.0",
            "_model_name": "FloatProgressModel",
            "_view_count": null,
            "_view_module": "@jupyter-widgets/controls",
            "_view_module_version": "1.5.0",
            "_view_name": "ProgressView",
            "bar_style": "success",
            "description": "",
            "description_tooltip": null,
            "layout": "IPY_MODEL_b7874b703a914b348b4e30fbb14959b9",
            "max": 456318,
            "min": 0,
            "orientation": "horizontal",
            "style": "IPY_MODEL_f16c4a688abc4a4d818f6aea8cf48962",
            "value": 456318
          }
        },
        "a0f98b45fbcf4c42828cc2a0be6c3834": {
          "model_module": "@jupyter-widgets/controls",
          "model_module_version": "1.5.0",
          "model_name": "HTMLModel",
          "state": {
            "_dom_classes": [],
            "_model_module": "@jupyter-widgets/controls",
            "_model_module_version": "1.5.0",
            "_model_name": "HTMLModel",
            "_view_count": null,
            "_view_module": "@jupyter-widgets/controls",
            "_view_module_version": "1.5.0",
            "_view_name": "HTMLView",
            "description": "",
            "description_tooltip": null,
            "layout": "IPY_MODEL_00ab2c67fc204eaab974cefaf6a3524e",
            "placeholder": "​",
            "style": "IPY_MODEL_ce2733bab2504ea08eed112548042669",
            "value": "Downloading: 100%"
          }
        },
        "a44632b304c046d782711f43ff15b8b5": {
          "model_module": "@jupyter-widgets/base",
          "model_module_version": "1.2.0",
          "model_name": "LayoutModel",
          "state": {
            "_model_module": "@jupyter-widgets/base",
            "_model_module_version": "1.2.0",
            "_model_name": "LayoutModel",
            "_view_count": null,
            "_view_module": "@jupyter-widgets/base",
            "_view_module_version": "1.2.0",
            "_view_name": "LayoutView",
            "align_content": null,
            "align_items": null,
            "align_self": null,
            "border": null,
            "bottom": null,
            "display": null,
            "flex": null,
            "flex_flow": null,
            "grid_area": null,
            "grid_auto_columns": null,
            "grid_auto_flow": null,
            "grid_auto_rows": null,
            "grid_column": null,
            "grid_gap": null,
            "grid_row": null,
            "grid_template_areas": null,
            "grid_template_columns": null,
            "grid_template_rows": null,
            "height": null,
            "justify_content": null,
            "justify_items": null,
            "left": null,
            "margin": null,
            "max_height": null,
            "max_width": null,
            "min_height": null,
            "min_width": null,
            "object_fit": null,
            "object_position": null,
            "order": null,
            "overflow": null,
            "overflow_x": null,
            "overflow_y": null,
            "padding": null,
            "right": null,
            "top": null,
            "visibility": null,
            "width": null
          }
        },
        "a6f958ffad6b4707a78b2eaa0e21e101": {
          "model_module": "@jupyter-widgets/base",
          "model_module_version": "1.2.0",
          "model_name": "LayoutModel",
          "state": {
            "_model_module": "@jupyter-widgets/base",
            "_model_module_version": "1.2.0",
            "_model_name": "LayoutModel",
            "_view_count": null,
            "_view_module": "@jupyter-widgets/base",
            "_view_module_version": "1.2.0",
            "_view_name": "LayoutView",
            "align_content": null,
            "align_items": null,
            "align_self": null,
            "border": null,
            "bottom": null,
            "display": null,
            "flex": null,
            "flex_flow": null,
            "grid_area": null,
            "grid_auto_columns": null,
            "grid_auto_flow": null,
            "grid_auto_rows": null,
            "grid_column": null,
            "grid_gap": null,
            "grid_row": null,
            "grid_template_areas": null,
            "grid_template_columns": null,
            "grid_template_rows": null,
            "height": null,
            "justify_content": null,
            "justify_items": null,
            "left": null,
            "margin": null,
            "max_height": null,
            "max_width": null,
            "min_height": null,
            "min_width": null,
            "object_fit": null,
            "object_position": null,
            "order": null,
            "overflow": null,
            "overflow_x": null,
            "overflow_y": null,
            "padding": null,
            "right": null,
            "top": null,
            "visibility": null,
            "width": null
          }
        },
        "a9c1f1336ff3465f90f2916a1a154c3b": {
          "model_module": "@jupyter-widgets/base",
          "model_module_version": "1.2.0",
          "model_name": "LayoutModel",
          "state": {
            "_model_module": "@jupyter-widgets/base",
            "_model_module_version": "1.2.0",
            "_model_name": "LayoutModel",
            "_view_count": null,
            "_view_module": "@jupyter-widgets/base",
            "_view_module_version": "1.2.0",
            "_view_name": "LayoutView",
            "align_content": null,
            "align_items": null,
            "align_self": null,
            "border": null,
            "bottom": null,
            "display": null,
            "flex": null,
            "flex_flow": null,
            "grid_area": null,
            "grid_auto_columns": null,
            "grid_auto_flow": null,
            "grid_auto_rows": null,
            "grid_column": null,
            "grid_gap": null,
            "grid_row": null,
            "grid_template_areas": null,
            "grid_template_columns": null,
            "grid_template_rows": null,
            "height": null,
            "justify_content": null,
            "justify_items": null,
            "left": null,
            "margin": null,
            "max_height": null,
            "max_width": null,
            "min_height": null,
            "min_width": null,
            "object_fit": null,
            "object_position": null,
            "order": null,
            "overflow": null,
            "overflow_x": null,
            "overflow_y": null,
            "padding": null,
            "right": null,
            "top": null,
            "visibility": null,
            "width": null
          }
        },
        "b3999e5a0b684d298bfece8abf1d41c4": {
          "model_module": "@jupyter-widgets/controls",
          "model_module_version": "1.5.0",
          "model_name": "DescriptionStyleModel",
          "state": {
            "_model_module": "@jupyter-widgets/controls",
            "_model_module_version": "1.5.0",
            "_model_name": "DescriptionStyleModel",
            "_view_count": null,
            "_view_module": "@jupyter-widgets/base",
            "_view_module_version": "1.2.0",
            "_view_name": "StyleView",
            "description_width": ""
          }
        },
        "b7874b703a914b348b4e30fbb14959b9": {
          "model_module": "@jupyter-widgets/base",
          "model_module_version": "1.2.0",
          "model_name": "LayoutModel",
          "state": {
            "_model_module": "@jupyter-widgets/base",
            "_model_module_version": "1.2.0",
            "_model_name": "LayoutModel",
            "_view_count": null,
            "_view_module": "@jupyter-widgets/base",
            "_view_module_version": "1.2.0",
            "_view_name": "LayoutView",
            "align_content": null,
            "align_items": null,
            "align_self": null,
            "border": null,
            "bottom": null,
            "display": null,
            "flex": null,
            "flex_flow": null,
            "grid_area": null,
            "grid_auto_columns": null,
            "grid_auto_flow": null,
            "grid_auto_rows": null,
            "grid_column": null,
            "grid_gap": null,
            "grid_row": null,
            "grid_template_areas": null,
            "grid_template_columns": null,
            "grid_template_rows": null,
            "height": null,
            "justify_content": null,
            "justify_items": null,
            "left": null,
            "margin": null,
            "max_height": null,
            "max_width": null,
            "min_height": null,
            "min_width": null,
            "object_fit": null,
            "object_position": null,
            "order": null,
            "overflow": null,
            "overflow_x": null,
            "overflow_y": null,
            "padding": null,
            "right": null,
            "top": null,
            "visibility": null,
            "width": null
          }
        },
        "b916effb8c514407a1b5243d5fd9a0f1": {
          "model_module": "@jupyter-widgets/controls",
          "model_module_version": "1.5.0",
          "model_name": "HBoxModel",
          "state": {
            "_dom_classes": [],
            "_model_module": "@jupyter-widgets/controls",
            "_model_module_version": "1.5.0",
            "_model_name": "HBoxModel",
            "_view_count": null,
            "_view_module": "@jupyter-widgets/controls",
            "_view_module_version": "1.5.0",
            "_view_name": "HBoxView",
            "box_style": "",
            "children": [
              "IPY_MODEL_29087b1c39c54894af2584ffdba16b2e",
              "IPY_MODEL_24fa1b0950e14cbc94ff6de41b43fc19",
              "IPY_MODEL_2d51c3dcae804dc8995cd2ec1d9c8e9f"
            ],
            "layout": "IPY_MODEL_2bb3000e25ea4ad8b6885e35f16a938a"
          }
        },
        "cb1a9c8c84c5418f87081c8766556758": {
          "model_module": "@jupyter-widgets/base",
          "model_module_version": "1.2.0",
          "model_name": "LayoutModel",
          "state": {
            "_model_module": "@jupyter-widgets/base",
            "_model_module_version": "1.2.0",
            "_model_name": "LayoutModel",
            "_view_count": null,
            "_view_module": "@jupyter-widgets/base",
            "_view_module_version": "1.2.0",
            "_view_name": "LayoutView",
            "align_content": null,
            "align_items": null,
            "align_self": null,
            "border": null,
            "bottom": null,
            "display": null,
            "flex": null,
            "flex_flow": null,
            "grid_area": null,
            "grid_auto_columns": null,
            "grid_auto_flow": null,
            "grid_auto_rows": null,
            "grid_column": null,
            "grid_gap": null,
            "grid_row": null,
            "grid_template_areas": null,
            "grid_template_columns": null,
            "grid_template_rows": null,
            "height": null,
            "justify_content": null,
            "justify_items": null,
            "left": null,
            "margin": null,
            "max_height": null,
            "max_width": null,
            "min_height": null,
            "min_width": null,
            "object_fit": null,
            "object_position": null,
            "order": null,
            "overflow": null,
            "overflow_x": null,
            "overflow_y": null,
            "padding": null,
            "right": null,
            "top": null,
            "visibility": null,
            "width": null
          }
        },
        "cbff75a7456242628d83beb5f4fe2718": {
          "model_module": "@jupyter-widgets/controls",
          "model_module_version": "1.5.0",
          "model_name": "HBoxModel",
          "state": {
            "_dom_classes": [],
            "_model_module": "@jupyter-widgets/controls",
            "_model_module_version": "1.5.0",
            "_model_name": "HBoxModel",
            "_view_count": null,
            "_view_module": "@jupyter-widgets/controls",
            "_view_module_version": "1.5.0",
            "_view_name": "HBoxView",
            "box_style": "",
            "children": [
              "IPY_MODEL_fec0620f860f4925b835fc3a3d4a2407",
              "IPY_MODEL_014f3d0060af4b1eabdf0aac998689ad",
              "IPY_MODEL_88f807e8a2ad4534a8643b61df548726"
            ],
            "layout": "IPY_MODEL_38750bcb5a7f4ddfa2aeb6501dac1ca5"
          }
        },
        "ccfb0079db09473e9df5f945da0a204b": {
          "model_module": "@jupyter-widgets/controls",
          "model_module_version": "1.5.0",
          "model_name": "HTMLModel",
          "state": {
            "_dom_classes": [],
            "_model_module": "@jupyter-widgets/controls",
            "_model_module_version": "1.5.0",
            "_model_name": "HTMLModel",
            "_view_count": null,
            "_view_module": "@jupyter-widgets/controls",
            "_view_module_version": "1.5.0",
            "_view_name": "HTMLView",
            "description": "",
            "description_tooltip": null,
            "layout": "IPY_MODEL_f9fa40d28e2245e98b3840aee91f38f1",
            "placeholder": "​",
            "style": "IPY_MODEL_245330affeb1415ab56e854bbf93cae5",
            "value": " 446k/446k [00:00&lt;00:00, 616kB/s]"
          }
        },
        "ce2733bab2504ea08eed112548042669": {
          "model_module": "@jupyter-widgets/controls",
          "model_module_version": "1.5.0",
          "model_name": "DescriptionStyleModel",
          "state": {
            "_model_module": "@jupyter-widgets/controls",
            "_model_module_version": "1.5.0",
            "_model_name": "DescriptionStyleModel",
            "_view_count": null,
            "_view_module": "@jupyter-widgets/base",
            "_view_module_version": "1.2.0",
            "_view_name": "StyleView",
            "description_width": ""
          }
        },
        "d1016dfeb5314301acdf17edd08fdf9d": {
          "model_module": "@jupyter-widgets/base",
          "model_module_version": "1.2.0",
          "model_name": "LayoutModel",
          "state": {
            "_model_module": "@jupyter-widgets/base",
            "_model_module_version": "1.2.0",
            "_model_name": "LayoutModel",
            "_view_count": null,
            "_view_module": "@jupyter-widgets/base",
            "_view_module_version": "1.2.0",
            "_view_name": "LayoutView",
            "align_content": null,
            "align_items": null,
            "align_self": null,
            "border": null,
            "bottom": null,
            "display": null,
            "flex": null,
            "flex_flow": null,
            "grid_area": null,
            "grid_auto_columns": null,
            "grid_auto_flow": null,
            "grid_auto_rows": null,
            "grid_column": null,
            "grid_gap": null,
            "grid_row": null,
            "grid_template_areas": null,
            "grid_template_columns": null,
            "grid_template_rows": null,
            "height": null,
            "justify_content": null,
            "justify_items": null,
            "left": null,
            "margin": null,
            "max_height": null,
            "max_width": null,
            "min_height": null,
            "min_width": null,
            "object_fit": null,
            "object_position": null,
            "order": null,
            "overflow": null,
            "overflow_x": null,
            "overflow_y": null,
            "padding": null,
            "right": null,
            "top": null,
            "visibility": null,
            "width": null
          }
        },
        "df15e3455e4d45bbb9317c079013349b": {
          "model_module": "@jupyter-widgets/controls",
          "model_module_version": "1.5.0",
          "model_name": "DescriptionStyleModel",
          "state": {
            "_model_module": "@jupyter-widgets/controls",
            "_model_module_version": "1.5.0",
            "_model_name": "DescriptionStyleModel",
            "_view_count": null,
            "_view_module": "@jupyter-widgets/base",
            "_view_module_version": "1.2.0",
            "_view_name": "StyleView",
            "description_width": ""
          }
        },
        "f16c4a688abc4a4d818f6aea8cf48962": {
          "model_module": "@jupyter-widgets/controls",
          "model_module_version": "1.5.0",
          "model_name": "ProgressStyleModel",
          "state": {
            "_model_module": "@jupyter-widgets/controls",
            "_model_module_version": "1.5.0",
            "_model_name": "ProgressStyleModel",
            "_view_count": null,
            "_view_module": "@jupyter-widgets/base",
            "_view_module_version": "1.2.0",
            "_view_name": "StyleView",
            "bar_color": null,
            "description_width": ""
          }
        },
        "f52b95c89d414780b82491d375233ced": {
          "model_module": "@jupyter-widgets/base",
          "model_module_version": "1.2.0",
          "model_name": "LayoutModel",
          "state": {
            "_model_module": "@jupyter-widgets/base",
            "_model_module_version": "1.2.0",
            "_model_name": "LayoutModel",
            "_view_count": null,
            "_view_module": "@jupyter-widgets/base",
            "_view_module_version": "1.2.0",
            "_view_name": "LayoutView",
            "align_content": null,
            "align_items": null,
            "align_self": null,
            "border": null,
            "bottom": null,
            "display": null,
            "flex": null,
            "flex_flow": null,
            "grid_area": null,
            "grid_auto_columns": null,
            "grid_auto_flow": null,
            "grid_auto_rows": null,
            "grid_column": null,
            "grid_gap": null,
            "grid_row": null,
            "grid_template_areas": null,
            "grid_template_columns": null,
            "grid_template_rows": null,
            "height": null,
            "justify_content": null,
            "justify_items": null,
            "left": null,
            "margin": null,
            "max_height": null,
            "max_width": null,
            "min_height": null,
            "min_width": null,
            "object_fit": null,
            "object_position": null,
            "order": null,
            "overflow": null,
            "overflow_x": null,
            "overflow_y": null,
            "padding": null,
            "right": null,
            "top": null,
            "visibility": null,
            "width": null
          }
        },
        "f6dad4c1bf054168b3866d03ff905c9e": {
          "model_module": "@jupyter-widgets/controls",
          "model_module_version": "1.5.0",
          "model_name": "HBoxModel",
          "state": {
            "_dom_classes": [],
            "_model_module": "@jupyter-widgets/controls",
            "_model_module_version": "1.5.0",
            "_model_name": "HBoxModel",
            "_view_count": null,
            "_view_module": "@jupyter-widgets/controls",
            "_view_module_version": "1.5.0",
            "_view_name": "HBoxView",
            "box_style": "",
            "children": [
              "IPY_MODEL_952e40a70cc444fab83bec761871feb6",
              "IPY_MODEL_3d7fd0381ebd41d6a47b4577a8e79419",
              "IPY_MODEL_fdde794f63b742a0a23c97da6abe8f76"
            ],
            "layout": "IPY_MODEL_35d248cbea364a08aa878d062763532e"
          }
        },
        "f985d142199c4d79a0cc3c75202bd03c": {
          "model_module": "@jupyter-widgets/controls",
          "model_module_version": "1.5.0",
          "model_name": "HBoxModel",
          "state": {
            "_dom_classes": [],
            "_model_module": "@jupyter-widgets/controls",
            "_model_module_version": "1.5.0",
            "_model_name": "HBoxModel",
            "_view_count": null,
            "_view_module": "@jupyter-widgets/controls",
            "_view_module_version": "1.5.0",
            "_view_name": "HBoxView",
            "box_style": "",
            "children": [
              "IPY_MODEL_a0f98b45fbcf4c42828cc2a0be6c3834",
              "IPY_MODEL_9eb2713f4c5d48e8a780c7237d0649b9",
              "IPY_MODEL_ccfb0079db09473e9df5f945da0a204b"
            ],
            "layout": "IPY_MODEL_a6f958ffad6b4707a78b2eaa0e21e101"
          }
        },
        "f9fa40d28e2245e98b3840aee91f38f1": {
          "model_module": "@jupyter-widgets/base",
          "model_module_version": "1.2.0",
          "model_name": "LayoutModel",
          "state": {
            "_model_module": "@jupyter-widgets/base",
            "_model_module_version": "1.2.0",
            "_model_name": "LayoutModel",
            "_view_count": null,
            "_view_module": "@jupyter-widgets/base",
            "_view_module_version": "1.2.0",
            "_view_name": "LayoutView",
            "align_content": null,
            "align_items": null,
            "align_self": null,
            "border": null,
            "bottom": null,
            "display": null,
            "flex": null,
            "flex_flow": null,
            "grid_area": null,
            "grid_auto_columns": null,
            "grid_auto_flow": null,
            "grid_auto_rows": null,
            "grid_column": null,
            "grid_gap": null,
            "grid_row": null,
            "grid_template_areas": null,
            "grid_template_columns": null,
            "grid_template_rows": null,
            "height": null,
            "justify_content": null,
            "justify_items": null,
            "left": null,
            "margin": null,
            "max_height": null,
            "max_width": null,
            "min_height": null,
            "min_width": null,
            "object_fit": null,
            "object_position": null,
            "order": null,
            "overflow": null,
            "overflow_x": null,
            "overflow_y": null,
            "padding": null,
            "right": null,
            "top": null,
            "visibility": null,
            "width": null
          }
        },
        "fdde794f63b742a0a23c97da6abe8f76": {
          "model_module": "@jupyter-widgets/controls",
          "model_module_version": "1.5.0",
          "model_name": "HTMLModel",
          "state": {
            "_dom_classes": [],
            "_model_module": "@jupyter-widgets/controls",
            "_model_module_version": "1.5.0",
            "_model_name": "HTMLModel",
            "_view_count": null,
            "_view_module": "@jupyter-widgets/controls",
            "_view_module_version": "1.5.0",
            "_view_name": "HTMLView",
            "description": "",
            "description_tooltip": null,
            "layout": "IPY_MODEL_d1016dfeb5314301acdf17edd08fdf9d",
            "placeholder": "​",
            "style": "IPY_MODEL_4a51c5e963da486c9a1104674e2f5886",
            "value": " 878k/878k [00:01&lt;00:00, 1.13MB/s]"
          }
        },
        "fec0620f860f4925b835fc3a3d4a2407": {
          "model_module": "@jupyter-widgets/controls",
          "model_module_version": "1.5.0",
          "model_name": "HTMLModel",
          "state": {
            "_dom_classes": [],
            "_model_module": "@jupyter-widgets/controls",
            "_model_module_version": "1.5.0",
            "_model_name": "HTMLModel",
            "_view_count": null,
            "_view_module": "@jupyter-widgets/controls",
            "_view_module_version": "1.5.0",
            "_view_name": "HTMLView",
            "description": "",
            "description_tooltip": null,
            "layout": "IPY_MODEL_cb1a9c8c84c5418f87081c8766556758",
            "placeholder": "​",
            "style": "IPY_MODEL_2672bb9e7c1a4d79987d8a8300a8e212",
            "value": "Downloading: 100%"
          }
        }
      }
    }
  },
  "nbformat": 4,
  "nbformat_minor": 0
}