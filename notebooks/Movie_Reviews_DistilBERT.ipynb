{
  "cells": [
    {
      "cell_type": "markdown",
      "metadata": {
        "id": "view-in-github",
        "colab_type": "text"
      },
      "source": [
        "<a href=\"https://colab.research.google.com/github/zekaouinoureddine/Advanced-transformer-based-models-on-opinion-mining/blob/master/notebooks/Movie_Reviews_DistilBERT.ipynb\" target=\"_parent\"><img src=\"https://colab.research.google.com/assets/colab-badge.svg\" alt=\"Open In Colab\"/></a>"
      ]
    },
    {
      "cell_type": "markdown",
      "metadata": {
        "id": "c0eMyn0S-omv"
      },
      "source": [
        "---\n",
        "<h1 align=\"center\"><strong>Movie Reviews DistilBERT</strong><h1>\n",
        "\n",
        "---"
      ]
    },
    {
      "cell_type": "code",
      "execution_count": null,
      "metadata": {
        "colab": {
          "base_uri": "https://localhost:8080/"
        },
        "id": "qUuL8u1w-l-f",
        "outputId": "78bdccd0-fc8b-4e4d-8c5c-8f6edc48d748"
      },
      "outputs": [
        {
          "name": "stdout",
          "output_type": "stream",
          "text": [
            "\u001b[K     |████████████████████████████████| 4.0 MB 17.4 MB/s \n",
            "\u001b[K     |████████████████████████████████| 6.6 MB 49.5 MB/s \n",
            "\u001b[K     |████████████████████████████████| 77 kB 8.0 MB/s \n",
            "\u001b[K     |████████████████████████████████| 895 kB 59.5 MB/s \n",
            "\u001b[K     |████████████████████████████████| 596 kB 71.2 MB/s \n",
            "\u001b[?25h"
          ]
        }
      ],
      "source": [
        "!pip install transformers -q"
      ]
    },
    {
      "cell_type": "markdown",
      "metadata": {
        "id": "QNW34h1h--_u"
      },
      "source": [
        "### Required Libraries"
      ]
    },
    {
      "cell_type": "code",
      "execution_count": null,
      "metadata": {
        "id": "hYWTmUcM-3Co"
      },
      "outputs": [],
      "source": [
        "import pandas as pd\n",
        "import numpy as np\n",
        "import matplotlib.pyplot as plt\n",
        "import seaborn as sns\n",
        "\n",
        "import torch\n",
        "import torch.nn as nn\n",
        "from torch.utils.data import Dataset, DataLoader\n",
        "\n",
        "from tqdm import tqdm\n",
        "\n",
        "import transformers\n",
        "from transformers import AdamW, get_linear_schedule_with_warmup\n",
        "\n",
        "from sklearn.model_selection import train_test_split\n",
        "from sklearn import metrics\n",
        "\n",
        "from collections import defaultdict\n",
        "\n",
        "import warnings\n",
        "warnings.filterwarnings('ignore')"
      ]
    },
    {
      "cell_type": "code",
      "execution_count": null,
      "metadata": {
        "colab": {
          "base_uri": "https://localhost:8080/"
        },
        "id": "jqx_ArwG_D_H",
        "outputId": "e5670e9d-5427-43dc-a37e-32d4bf0e4352"
      },
      "outputs": [
        {
          "name": "stdout",
          "output_type": "stream",
          "text": [
            "/usr/local/lib/python3.7/dist-packages/gdown/cli.py:131: FutureWarning: Option `--id` was deprecated in version 4.3.1 and will be removed in 5.0. You don't need to pass it anymore to use a file ID.\n",
            "  category=FutureWarning,\n",
            "Archive:  IMDb.zip\n",
            "  inflating: IMDB Dataset.csv        \n"
          ]
        }
      ],
      "source": [
        "!gdown --id 1xJYm-tNMllxx82_CQ1K1R5q0JW9KUV1j -q\n",
        "!unzip IMDb.zip"
      ]
    },
    {
      "cell_type": "code",
      "execution_count": null,
      "metadata": {
        "colab": {
          "base_uri": "https://localhost:8080/",
          "height": 369
        },
        "id": "Fs6aJApB_G_J",
        "outputId": "a854d76d-f8b3-405f-b2fd-d0d9220d8e6f"
      },
      "outputs": [
        {
          "data": {
            "image/png": "[encoded data removed]",
            "text/plain": [
              "<Figure size 360x360 with 1 Axes>"
            ]
          },
          "metadata": {},
          "output_type": "display_data"
        }
      ],
      "source": [
        "df = pd.read_csv(\"IMDB Dataset.csv\")\n",
        "\n",
        "df[\"sentiment\"].value_counts().plot(kind='bar',\n",
        "                                    color=['green','red'],\n",
        "                                    title='Distribution of Positive and Negative Reviews',\n",
        "                                    figsize=(5,5));"
      ]
    },
    {
      "cell_type": "markdown",
      "metadata": {
        "id": "AosxdFSn_cgn"
      },
      "source": [
        "### Config"
      ]
    },
    {
      "cell_type": "code",
      "execution_count": null,
      "metadata": {
        "colab": {
          "base_uri": "https://localhost:8080/",
          "height": 217,
          "referenced_widgets": [
            "3be6c3e0d4af4847b22df83dbee49926",
            "d7fc8cc25a644de89c2cb9ae4cc536c8",
            "dca0c4d592f24818854fbae9a17a0012",
            "7e2778727e6d4b24a3f210b894398077",
            "198a37eb500f48a384a07da705c78876",
            "00000581ab1041eaa55f886cfde031bf",
            "7f9ee75fa46d449e8a2b2a654ed56162",
            "b45d9f519f74400fb38428db26b63cb9",
            "9b3fb0dab9934e6b93b2846f4d6c0a2f",
            "1492b3b0c9b34866b778d2f42164a4ed",
            "528832eb4e2a4671a5f55b2e5c3bec39",
            "31182e94808f40079b44b456eaa08217",
            "5d95911be4364c42b654b6f557369cb5",
            "fb1633d67765414ea2b10b8f09553055",
            "b2b2f9b2e26c4f44b1675779a91ef2bb",
            "cccd03d1dea44efb82d8f466c2be7efb",
            "c891c218381c45c8afae5b6fc9e2623a",
            "6f0910e494be45e3aecf94781afabd5a",
            "763eb4cc9ef14322b7481f5e5be81486",
            "df81d100b3fd46a3aa2a64ea414ccbe8",
            "eea5dce0630e4120a2156ec54021e5b2",
            "943d62414c9249469ef187cc97b14c63",
            "9b400fbaec754e16948b2a1804503ce6",
            "35a06991740c462aa809e2feaacdc7b4",
            "f72319fd1915471b9a7a4c0ab3a47a46",
            "660c169376154e0a8b28ad6f2cc7ef50",
            "c5f9293b739743d3b79adb5c62813204",
            "2cdd0f64554a4f3786b0d9f04e3b5829",
            "c20f73e606884a3bb573ddd1cefb75d6",
            "06e8b4b986284bebac1071f0a2181adb",
            "a906b47161fd4fff90416cb53746246e",
            "a811b48229c1404e94810c891013d179",
            "0c5ea9f272124d8084b9dbdce7d1c443",
            "53589e8f11af4e0998deb0bc426b4ad1",
            "b29a22b57a504c9182013051d5d2780b",
            "0f240e9f605c4c85bc52482617159588",
            "fbf6ab6bdbf9476da39014a9cd083792",
            "21168fbc4f434362a3ed9165ac9b8ad8",
            "77871cee6569454ba2b5498f5c994425",
            "b73a3379374340e6aac6b915f94075ca",
            "f70a93184c7245779ccaabff7b9b6cdb",
            "dbf6c5ed26304e77b881a4af1f8d4aae",
            "0eb8d95bced54addb3e78590790d4f21",
            "e59a8f7e67d04466bcaadb1eb1c4f9c7"
          ]
        },
        "id": "HirbBsEx_bUa",
        "outputId": "1a3aa1d7-5fb2-482a-c78a-3a72fae9ae2f"
      },
      "outputs": [
        {
          "data": {
            "application/vnd.jupyter.widget-view+json": {
              "model_id": "3be6c3e0d4af4847b22df83dbee49926",
              "version_major": 2,
              "version_minor": 0
            },
            "text/plain": [
              "Downloading:   0%|          | 0.00/226k [00:00<?, ?B/s]"
            ]
          },
          "metadata": {},
          "output_type": "display_data"
        },
        {
          "data": {
            "application/vnd.jupyter.widget-view+json": {
              "model_id": "31182e94808f40079b44b456eaa08217",
              "version_major": 2,
              "version_minor": 0
            },
            "text/plain": [
              "Downloading:   0%|          | 0.00/28.0 [00:00<?, ?B/s]"
            ]
          },
          "metadata": {},
          "output_type": "display_data"
        },
        {
          "data": {
            "application/vnd.jupyter.widget-view+json": {
              "model_id": "9b400fbaec754e16948b2a1804503ce6",
              "version_major": 2,
              "version_minor": 0
            },
            "text/plain": [
              "Downloading:   0%|          | 0.00/483 [00:00<?, ?B/s]"
            ]
          },
          "metadata": {},
          "output_type": "display_data"
        },
        {
          "data": {
            "application/vnd.jupyter.widget-view+json": {
              "model_id": "53589e8f11af4e0998deb0bc426b4ad1",
              "version_major": 2,
              "version_minor": 0
            },
            "text/plain": [
              "Downloading:   0%|          | 0.00/256M [00:00<?, ?B/s]"
            ]
          },
          "metadata": {},
          "output_type": "display_data"
        },
        {
          "name": "stderr",
          "output_type": "stream",
          "text": [
            "Some weights of the model checkpoint at distilbert-base-uncased were not used when initializing DistilBertModel: ['vocab_projector.bias', 'vocab_transform.bias', 'vocab_transform.weight', 'vocab_projector.weight', 'vocab_layer_norm.weight', 'vocab_layer_norm.bias']\n",
            "- This IS expected if you are initializing DistilBertModel from the checkpoint of a model trained on another task or with another architecture (e.g. initializing a BertForSequenceClassification model from a BertForPreTraining model).\n",
            "- This IS NOT expected if you are initializing DistilBertModel from the checkpoint of a model that you expect to be exactly identical (initializing a BertForSequenceClassification model from a BertForSequenceClassification model).\n"
          ]
        }
      ],
      "source": [
        "class Config:\n",
        "  MAX_LEN = 384\n",
        "  TRAIN_BATCH_SIZE = 8\n",
        "  VALID_BATCH_SIZE = 4\n",
        "  EPOCHS = 4\n",
        "  DEVICE = torch.device(\"cuda\" if torch.cuda.is_available() else \"cpu\")\n",
        "\n",
        "  DistilBERT_PATH = \"distilbert-base-uncased\"\n",
        "  MODEL_PATH = \"DistilBERTModel.bin\"\n",
        "  TRAINING_DATA = \"IMDB Dataset.csv\"\n",
        "\n",
        "  TOKENIZER = transformers.DistilBertTokenizer.from_pretrained(DistilBERT_PATH, do_lower_case=True)\n",
        "  MODEL = transformers.DistilBertModel.from_pretrained(DistilBERT_PATH, return_dict=False)"
      ]
    },
    {
      "cell_type": "markdown",
      "metadata": {
        "id": "leIRaIES_uQI"
      },
      "source": [
        "### Dataset"
      ]
    },
    {
      "cell_type": "code",
      "execution_count": null,
      "metadata": {
        "id": "D_1P0jh-_stv"
      },
      "outputs": [],
      "source": [
        "class DataProcess:\n",
        "  def __init__(self, review):\n",
        "    self.tokenizer = Config.TOKENIZER\n",
        "    self.max_len = Config.MAX_LEN\n",
        "    self.review = review\n",
        "    \n",
        "  def preprocess_bert(self):\n",
        "    reviw = \" \".join(self.review.split())\n",
        "    inputs = self.tokenizer.encode_plus(\n",
        "        reviw,\n",
        "        None,\n",
        "        add_special_tokens=True,\n",
        "        max_length=self.max_len,\n",
        "        # padding = \"max_length\",\n",
        "        truncation=True\n",
        "        )\n",
        "\n",
        "    input_ids = inputs[\"input_ids\"]\n",
        "    attention_mask = inputs[\"attention_mask\"]\n",
        "\n",
        "    return (\n",
        "        torch.tensor(input_ids, dtype=torch.long).unsqueeze(0),\n",
        "        torch.tensor(attention_mask, dtype=torch.long).unsqueeze(0)\n",
        "        )\n",
        "    \n",
        "  def preprocess_output(self, outputs):\n",
        "    outputs = torch.sigmoid(outputs).cpu().detach().numpy()\n",
        "    return outputs[0][0]\n",
        "\n",
        "\n",
        "class MovieReviewDataset:\n",
        "  def __init__(self,  review, label):\n",
        "    self.review = review\n",
        "    self.label = label\n",
        "    self.max_len = Config.MAX_LEN\n",
        "    self.tokenizer = Config.TOKENIZER\n",
        "  \n",
        "  def __len__(self):\n",
        "    return len(self.review)\n",
        "  \n",
        "  def __getitem__(self, item):\n",
        "    review = str(self.review[item])\n",
        "    review = \" \".join(review.split())\n",
        "\n",
        "    inputs = self.tokenizer.encode_plus(\n",
        "        review,\n",
        "        None,\n",
        "        add_special_tokens=True,\n",
        "        max_length=self.max_len,\n",
        "        padding=\"max_length\",\n",
        "        truncation=True\n",
        "    )\n",
        "\n",
        "    input_ids = inputs[\"input_ids\"]\n",
        "    attention_mask = inputs[\"attention_mask\"]\n",
        "\n",
        "    return {\n",
        "        \"input_ids\" : torch.tensor(input_ids, dtype=torch.long),\n",
        "        \"attention_mask\" : torch.tensor(attention_mask, dtype=torch.long),\n",
        "        \"labels\" : torch.tensor(self.label[item], dtype=torch.float)\n",
        "    }"
      ]
    },
    {
      "cell_type": "markdown",
      "metadata": {
        "id": "wr2xf0RVDZpB"
      },
      "source": [
        "### Model"
      ]
    },
    {
      "cell_type": "markdown",
      "metadata": {
        "id": "4XNDxP8cH_Uu"
      },
      "source": [
        "![mrdistilbert.png](data:image/png;base64,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)"
      ]
    },
    {
      "cell_type": "code",
      "execution_count": null,
      "metadata": {
        "id": "BMfBBfjhDY2S"
      },
      "outputs": [],
      "source": [
        "class DistilBERTModel(nn.Module):\n",
        "  def __init__(self):\n",
        "    super(DistilBERTModel, self).__init__()\n",
        "    self.distilbert = Config.MODEL\n",
        "    self.relu = nn.ReLU()\n",
        "    self.distilbert_drop = nn.Dropout(0.3)\n",
        "    self.out = nn.Linear(768, 1)\n",
        "\n",
        "  def forward(self, input_ids, attention_mask):\n",
        "    distilbert_output = self.distilbert(input_ids=input_ids, attention_mask=attention_mask)\n",
        "    hidden_state = distilbert_output[0]  # (bs, seq_len, dim)\n",
        "    pooled_output = self.relu(hidden_state[:, 0]) # pooled ouput (bs, dim)\n",
        "    dbo = self.distilbert_drop(pooled_output)\n",
        "    output = self.out(dbo)\n",
        "    \n",
        "    return output"
      ]
    },
    {
      "cell_type": "markdown",
      "metadata": {
        "id": "JMI_OJkrDp_w"
      },
      "source": [
        "### Engine"
      ]
    },
    {
      "cell_type": "code",
      "execution_count": null,
      "metadata": {
        "id": "PvuXKB0QDnEA"
      },
      "outputs": [],
      "source": [
        "def loss_fn(outputs, labels):\n",
        "  return nn.BCEWithLogitsLoss()(outputs, labels.view(-1, 1))\n",
        "\n",
        "def train_fn(train_dataloader, model, optimizer, device, scheduler):\n",
        "  model.train()\n",
        "  final_loss = 0\n",
        "\n",
        "  fin_labels = []\n",
        "  fin_outputs = []\n",
        "  for bi, d in tqdm(enumerate(train_dataloader), total=len(train_dataloader)):\n",
        "    input_ids = d[\"input_ids\"]\n",
        "    attention_mask = d[\"attention_mask\"]\n",
        "    labels = d[\"labels\"]\n",
        "\n",
        "    input_ids = input_ids.to(device, dtype=torch.long)\n",
        "    attention_mask = attention_mask.to(device, dtype=torch.long)\n",
        "    labels = labels.to(device, dtype = torch.float)\n",
        "\n",
        "    optimizer.zero_grad()\n",
        "    outputs = model(input_ids=input_ids, attention_mask=attention_mask)\n",
        "    loss = loss_fn(outputs, labels)\n",
        "    \n",
        "    final_loss += loss.item()\n",
        "    fin_labels.extend(labels.cpu().detach().numpy().tolist())\n",
        "    fin_outputs.extend(torch.sigmoid(outputs).cpu().detach().numpy().tolist())\n",
        "    \n",
        "    loss.backward()\n",
        "    optimizer.step()\n",
        "    scheduler.step()\n",
        "\n",
        "  return fin_outputs, fin_labels, final_loss/len(train_dataloader)\n",
        "\n",
        "def eval_fn(valid_dataloader, model, device):\n",
        "  model.eval()\n",
        "  final_loss = 0\n",
        "\n",
        "  fin_labels = []\n",
        "  fin_outputs = []\n",
        "  with torch.no_grad():\n",
        "    for bi, d in tqdm(enumerate(valid_dataloader), total=len(valid_dataloader)):\n",
        "      input_ids = d[\"input_ids\"]\n",
        "      attention_mask = d[\"attention_mask\"]\n",
        "      labels = d[\"labels\"]\n",
        "\n",
        "      input_ids = input_ids.to(device, dtype=torch.long)\n",
        "      attention_mask = attention_mask.to(device, dtype=torch.long)\n",
        "      labels = labels.to(device, dtype = torch.float)\n",
        "\n",
        "      outputs = model(input_ids=input_ids, attention_mask=attention_mask)\n",
        "      \n",
        "      loss = loss_fn(outputs, labels)\n",
        "      final_loss += loss.item()\n",
        "      \n",
        "      fin_labels.extend(labels.cpu().detach().numpy().tolist())\n",
        "      fin_outputs.extend(torch.sigmoid(outputs).cpu().detach().numpy().tolist())\n",
        "      \n",
        "\n",
        "  return fin_outputs, fin_labels, final_loss/len(valid_dataloader)"
      ]
    },
    {
      "cell_type": "markdown",
      "metadata": {
        "id": "lAovMX3yDsQI"
      },
      "source": [
        "### Train"
      ]
    },
    {
      "cell_type": "code",
      "execution_count": null,
      "metadata": {
        "colab": {
          "background_save": true,
          "base_uri": "https://localhost:8080/"
        },
        "id": "D7M5a0PwDtqO",
        "outputId": "0a5ebaff-19cf-418b-b065-9d06c0c53d88"
      },
      "outputs": [
        {
          "name": "stderr",
          "output_type": "stream",
          "text": [
            "100%|██████████| 5625/5625 [08:53<00:00, 10.54it/s]\n",
            "100%|██████████| 1250/1250 [00:44<00:00, 28.18it/s]\n"
          ]
        },
        {
          "name": "stdout",
          "output_type": "stream",
          "text": [
            "Epoch: 1\n",
            "Train Loss: 0.24181155889431635 - Train Accuracy: 0.9021333333333333 \n",
            "Valid Loss: 0.20046133604831995 - Valid Accuracy: 0.9184\n",
            "\n"
          ]
        },
        {
          "name": "stderr",
          "output_type": "stream",
          "text": [
            "100%|██████████| 5625/5625 [08:51<00:00, 10.58it/s]\n",
            "100%|██████████| 1250/1250 [00:44<00:00, 28.32it/s]\n"
          ]
        },
        {
          "name": "stdout",
          "output_type": "stream",
          "text": [
            "Epoch: 2\n",
            "Train Loss: 0.11613595713434947 - Train Accuracy: 0.959 \n",
            "Valid Loss: 0.1979062423273921 - Valid Accuracy: 0.9282\n",
            "\n"
          ]
        },
        {
          "name": "stderr",
          "output_type": "stream",
          "text": [
            "100%|██████████| 5625/5625 [08:49<00:00, 10.62it/s]\n",
            "100%|██████████| 1250/1250 [00:43<00:00, 29.06it/s]"
          ]
        },
        {
          "name": "stdout",
          "output_type": "stream",
          "text": [
            "Epoch: 3\n",
            "Train Loss: 0.05030514799166057 - Train Accuracy: 0.9860666666666666 \n",
            "Valid Loss: 0.25306318957637997 - Valid Accuracy: 0.928\n",
            "\n"
          ]
        },
        {
          "name": "stderr",
          "output_type": "stream",
          "text": [
            "\n",
            "100%|██████████| 5625/5625 [08:50<00:00, 10.61it/s]\n",
            "100%|██████████| 1250/1250 [00:43<00:00, 28.82it/s]\n"
          ]
        },
        {
          "name": "stdout",
          "output_type": "stream",
          "text": [
            "Epoch: 4\n",
            "Train Loss: 0.026559938137191864 - Train Accuracy: 0.9941777777777778 \n",
            "Valid Loss: 0.2654636411936022 - Valid Accuracy: 0.9342\n",
            "\n"
          ]
        }
      ],
      "source": [
        "dfx = pd.read_csv(Config.TRAINING_DATA).fillna(\"none\")\n",
        "dfx.sentiment = dfx.sentiment.apply(lambda x: 1 if x == \"positive\" else 0)\n",
        "\n",
        "df_train, df_valid = train_test_split(\n",
        "    dfx, test_size=0.1, random_state=42, stratify=dfx.sentiment.values\n",
        "    )\n",
        "\n",
        "df_train = df_train.reset_index(drop=True)\n",
        "df_valid = df_valid.reset_index(drop=True)\n",
        "\n",
        "train_dataset = MovieReviewDataset(\n",
        "    review=df_train.review.values, label=df_train.sentiment.values\n",
        ")\n",
        "train_dataloader = DataLoader(train_dataset, batch_size=Config.TRAIN_BATCH_SIZE, num_workers=4)\n",
        "\n",
        "valid_dataset = MovieReviewDataset(\n",
        "    review=df_valid.review.values, label=df_valid.sentiment.values\n",
        ")\n",
        "valid_dataloader = DataLoader(valid_dataset, batch_size=Config.VALID_BATCH_SIZE, num_workers=1)\n",
        "\n",
        "model = DistilBERTModel()\n",
        "model.to(Config.DEVICE)\n",
        "\n",
        "param_optimizer = list(model.named_parameters())\n",
        "no_decay = [\"bias\", \"LayerNorm.bias\", \"LayerNorm.weight\"]\n",
        "optimizer_parameters = [\n",
        "                        {\n",
        "                            \"params\": [\n",
        "                                       p for n, p in param_optimizer if not any(nd in n for nd in no_decay)\n",
        "                                       ],\n",
        "                         \"weight_decay\": 0.001,\n",
        "                         },\n",
        "                        {\n",
        "                            \"params\": [\n",
        "                                       p for n, p in param_optimizer if any(nd in n for nd in no_decay)\n",
        "                                       ],\n",
        "                         \"weight_decay\": 0.0,\n",
        "                         },\n",
        "                        ]\n",
        "\n",
        "num_train_steps = int(len(df_train) / Config.TRAIN_BATCH_SIZE * Config.EPOCHS)\n",
        "optimizer = AdamW(optimizer_parameters, lr=3e-5)\n",
        "scheduler = get_linear_schedule_with_warmup(\n",
        "    optimizer, num_warmup_steps=0, num_training_steps=num_train_steps\n",
        "    )\n",
        "\n",
        "history = defaultdict(list)\n",
        "\n",
        "best_accuracy = 0\n",
        "for epoch in range(1, Config.EPOCHS+1):\n",
        "  train_outputs, train_labels, train_loss = train_fn(train_dataloader, model, optimizer, Config.DEVICE, scheduler)\n",
        "  valid_outputs, valid_labels, valid_loss = eval_fn(valid_dataloader, model, Config.DEVICE)\n",
        "  \n",
        "  train_outputs = np.array(train_outputs) >= 0.5\n",
        "  valid_outputs = np.array(valid_outputs) >= 0.5\n",
        "\n",
        "  train_accuracy = metrics.accuracy_score(train_labels, train_outputs)\n",
        "  valid_accuracy = metrics.accuracy_score(valid_labels, valid_outputs)\n",
        "\n",
        "  print(f\"Epoch: {epoch}\\nTrain Loss: {train_loss} - Train Accuracy: {train_accuracy} \\nValid Loss: {valid_loss} - Valid Accuracy: {valid_accuracy}\\n\")\n",
        "  \n",
        "  history['Train Loss'].append(train_loss)\n",
        "  history['Train Accuracy'].append(train_accuracy)\n",
        "  history['Valid Loss'].append(valid_loss)\n",
        "  history['Valid Accuracy'].append(valid_accuracy)\n",
        "  \n",
        "  if valid_accuracy > best_accuracy:\n",
        "    torch.save(model.state_dict(), Config.MODEL_PATH)\n",
        "    best_accuracy = valid_accuracy"
      ]
    },
    {
      "cell_type": "markdown",
      "metadata": {
        "id": "0l1Yl9jfFWmr"
      },
      "source": [
        "### Error analysis & Performance auditing"
      ]
    },
    {
      "cell_type": "code",
      "execution_count": null,
      "metadata": {
        "colab": {
          "background_save": true
        },
        "id": "tADm-TC3Dz2J"
      },
      "outputs": [],
      "source": [
        "def get_metrics(labels, outputs):\n",
        "  accuracy = metrics.accuracy_score(labels, outputs)\n",
        "  recall = metrics.recall_score(labels, outputs)\n",
        "  precision = metrics.precision_score(labels, outputs)\n",
        "  f1 = metrics.f1_score(labels, outputs)\n",
        "  return accuracy, recall, precision, f1"
      ]
    },
    {
      "cell_type": "code",
      "execution_count": null,
      "metadata": {
        "colab": {
          "background_save": true
        },
        "id": "hlpeibMVFdet",
        "outputId": "2c7e00d7-dec3-4ade-d615-428143e6152d"
      },
      "outputs": [
        {
          "name": "stdout",
          "output_type": "stream",
          "text": [
            "======================================================================================================================================================\n",
            "\n",
            "Results summary\n",
            "\n",
            "Accuracy Score  : 0.9342\n",
            "Recall Score    : 0.9428\n",
            "Precision Score : 0.9268580416830515\n",
            "F1 Score        : 0.9347610549276224\n",
            "======================================================================================================================================================\n",
            "\n",
            "Classification report \n",
            "\n",
            "               precision    recall  f1-score   support\n",
            "\n",
            "         0.0       0.94      0.93      0.93      2500\n",
            "         1.0       0.93      0.94      0.93      2500\n",
            "\n",
            "    accuracy                           0.93      5000\n",
            "   macro avg       0.93      0.93      0.93      5000\n",
            "weighted avg       0.93      0.93      0.93      5000\n",
            "\n",
            "======================================================================================================================================================\n"
          ]
        },
        {
          "data": {
            "image/png": "[encoded data removed]",
            "text/plain": [
              "<Figure size 432x288 with 1 Axes>"
            ]
          },
          "metadata": {},
          "output_type": "display_data"
        }
      ],
      "source": [
        "accuracy, recall, precision, f1 = get_metrics(valid_labels, valid_outputs)\n",
        "\n",
        "print(\"===\"*50)\n",
        "print(\"\\nResults summary\\n\")\n",
        "print(f\"Accuracy Score  : {accuracy}\")\n",
        "print(f\"Recall Score    : {recall}\")\n",
        "print(f\"Precision Score : {precision}\")\n",
        "print(f\"F1 Score        : {f1}\")\n",
        "\n",
        "print(\"===\"*50)\n",
        "print(\"\\nClassification report \\n\\n\", metrics.classification_report(valid_labels, valid_outputs))\n",
        "\n",
        "print(\"===\"*50)\n",
        "cm = metrics.confusion_matrix(valid_labels, valid_outputs)\n",
        "fig, ax = plt.subplots()\n",
        "sns.heatmap(cm, annot=True, fmt='d', ax=ax, cmap=plt.cm.Blues, cbar=False)\n",
        "ax.set(xlabel=\"Predicted Label\", \n",
        "       ylabel=\"True Label\", \n",
        "       xticklabels=np.unique(valid_labels), \n",
        "       yticklabels=np.unique(valid_labels), \n",
        "       title=\"CONFUSION MATRIX\")\n",
        "plt.yticks(rotation=0);"
      ]
    },
    {
      "cell_type": "code",
      "execution_count": null,
      "metadata": {
        "colab": {
          "background_save": true
        },
        "id": "jcS18xN_Fg8s",
        "outputId": "5aec2b9b-7d34-465d-eb5c-300a74fde104"
      },
      "outputs": [
        {
          "data": {
            "image/png": "[encoded data removed]",
            "text/plain": [
              "<Figure size 432x288 with 1 Axes>"
            ]
          },
          "metadata": {},
          "output_type": "display_data"
        }
      ],
      "source": [
        "plt.plot(history['Train Accuracy'], '-o', label='Train Accuracy')\n",
        "plt.plot(history['Valid Accuracy'], '-o', label='Validation Accuracy')\n",
        "plt.title('Training History')\n",
        "plt.ylabel('Accuracy')\n",
        "plt.xlabel('Epoch')\n",
        "plt.legend()\n",
        "plt.ylim([0, 1]);"
      ]
    },
    {
      "cell_type": "code",
      "execution_count": null,
      "metadata": {
        "colab": {
          "background_save": true
        },
        "id": "95bsNry0FkQr",
        "outputId": "63539c80-8c58-42b4-b85d-38dba014b4c1"
      },
      "outputs": [
        {
          "data": {
            "image/png": "[encoded data removed]",
            "text/plain": [
              "<Figure size 432x288 with 1 Axes>"
            ]
          },
          "metadata": {},
          "output_type": "display_data"
        }
      ],
      "source": [
        "plt.plot(history['Train Loss'], '-o', label='Train Loss')\n",
        "plt.plot(history['Valid Loss'], '-o', label='Validation Loss')\n",
        "plt.title('Training History')\n",
        "plt.ylabel('Loss')\n",
        "plt.xlabel('Epoch')\n",
        "plt.legend()\n",
        "plt.ylim([0, 1]);"
      ]
    },
    {
      "cell_type": "markdown",
      "metadata": {
        "id": "XMV4cXnVFn7B"
      },
      "source": [
        "### Inference"
      ]
    },
    {
      "cell_type": "code",
      "execution_count": null,
      "metadata": {
        "colab": {
          "background_save": true
        },
        "id": "42AZpzNIFm-Z"
      },
      "outputs": [],
      "source": [
        "model = DistilBERTModel()\n",
        "model.to(Config.DEVICE)\n",
        "model.load_state_dict(\n",
        "    torch.load(\n",
        "        Config.MODEL_PATH,\n",
        "        map_location=torch.device(Config.DEVICE)\n",
        "        )\n",
        "    )\n",
        "\n",
        "def predict(review: str):\n",
        "  data = DataProcess(review)\n",
        "  input_ids, attention_mask = data.preprocess_bert()\n",
        "  \n",
        "  input_ids = input_ids.to(Config.DEVICE, dtype=torch.long)\n",
        "  attention_mask = attention_mask.to(Config.DEVICE, dtype=torch.long)\n",
        "  \n",
        "  outputs = model(input_ids, attention_mask) \n",
        "  positive_prediction = data.preprocess_output(outputs)\n",
        "  negative_prediction = 1 - positive_prediction\n",
        "  \n",
        "  return {\n",
        "      \"review\": review,\n",
        "      \"positive\": str(positive_prediction),\n",
        "      \"negative\": str(negative_prediction),\n",
        "  }"
      ]
    },
    {
      "cell_type": "code",
      "execution_count": null,
      "metadata": {
        "colab": {
          "background_save": true
        },
        "id": "U7OgYagCFtuD",
        "outputId": "e3d3cdae-796f-4a55-c047-ee1ded6270bc"
      },
      "outputs": [
        {
          "name": "stdout",
          "output_type": "stream",
          "text": [
            "{'review': 'I like this amazing movie', 'positive': '0.9974451', 'negative': '0.0025548934936523438'}\n"
          ]
        }
      ],
      "source": [
        "sentiment = predict(\"I like this amazing movie\")\n",
        "print(sentiment)"
      ]
    },
    {
      "cell_type": "code",
      "execution_count": null,
      "metadata": {
        "colab": {
          "background_save": true
        },
        "id": "H24TDsi8Fzm6"
      },
      "outputs": [],
      "source": []
    },
    {
      "cell_type": "markdown",
      "metadata": {
        "id": "FjjAwQzmF1BH"
      },
      "source": [
        "### References:\n",
        "* **Victor Sanh, Lysandre Debut, Julien Chaumond, Thomas Wolf. 2019. [DistilBERT, a distilled version of BERT: smaller, faster, cheaper and lighter](https://arxiv.org/abs/1910.01108). arXiv preprint arXiv:1910.01108.**"
      ]
    }
  ],
  "metadata": {
    "accelerator": "GPU",
    "colab": {
      "provenance": [],
      "include_colab_link": true
    },
    "kernelspec": {
      "display_name": "Python 3",
      "name": "python3"
    },
    "language_info": {
      "name": "python"
    },
    "widgets": {
      "application/vnd.jupyter.widget-state+json": {
        "00000581ab1041eaa55f886cfde031bf": {
          "model_module": "@jupyter-widgets/base",
          "model_module_version": "1.2.0",
          "model_name": "LayoutModel",
          "state": {
            "_model_module": "@jupyter-widgets/base",
            "_model_module_version": "1.2.0",
            "_model_name": "LayoutModel",
            "_view_count": null,
            "_view_module": "@jupyter-widgets/base",
            "_view_module_version": "1.2.0",
            "_view_name": "LayoutView",
            "align_content": null,
            "align_items": null,
            "align_self": null,
            "border": null,
            "bottom": null,
            "display": null,
            "flex": null,
            "flex_flow": null,
            "grid_area": null,
            "grid_auto_columns": null,
            "grid_auto_flow": null,
            "grid_auto_rows": null,
            "grid_column": null,
            "grid_gap": null,
            "grid_row": null,
            "grid_template_areas": null,
            "grid_template_columns": null,
            "grid_template_rows": null,
            "height": null,
            "justify_content": null,
            "justify_items": null,
            "left": null,
            "margin": null,
            "max_height": null,
            "max_width": null,
            "min_height": null,
            "min_width": null,
            "object_fit": null,
            "object_position": null,
            "order": null,
            "overflow": null,
            "overflow_x": null,
            "overflow_y": null,
            "padding": null,
            "right": null,
            "top": null,
            "visibility": null,
            "width": null
          }
        },
        "06e8b4b986284bebac1071f0a2181adb": {
          "model_module": "@jupyter-widgets/base",
          "model_module_version": "1.2.0",
          "model_name": "LayoutModel",
          "state": {
            "_model_module": "@jupyter-widgets/base",
            "_model_module_version": "1.2.0",
            "_model_name": "LayoutModel",
            "_view_count": null,
            "_view_module": "@jupyter-widgets/base",
            "_view_module_version": "1.2.0",
            "_view_name": "LayoutView",
            "align_content": null,
            "align_items": null,
            "align_self": null,
            "border": null,
            "bottom": null,
            "display": null,
            "flex": null,
            "flex_flow": null,
            "grid_area": null,
            "grid_auto_columns": null,
            "grid_auto_flow": null,
            "grid_auto_rows": null,
            "grid_column": null,
            "grid_gap": null,
            "grid_row": null,
            "grid_template_areas": null,
            "grid_template_columns": null,
            "grid_template_rows": null,
            "height": null,
            "justify_content": null,
            "justify_items": null,
            "left": null,
            "margin": null,
            "max_height": null,
            "max_width": null,
            "min_height": null,
            "min_width": null,
            "object_fit": null,
            "object_position": null,
            "order": null,
            "overflow": null,
            "overflow_x": null,
            "overflow_y": null,
            "padding": null,
            "right": null,
            "top": null,
            "visibility": null,
            "width": null
          }
        },
        "0c5ea9f272124d8084b9dbdce7d1c443": {
          "model_module": "@jupyter-widgets/controls",
          "model_module_version": "1.5.0",
          "model_name": "DescriptionStyleModel",
          "state": {
            "_model_module": "@jupyter-widgets/controls",
            "_model_module_version": "1.5.0",
            "_model_name": "DescriptionStyleModel",
            "_view_count": null,
            "_view_module": "@jupyter-widgets/base",
            "_view_module_version": "1.2.0",
            "_view_name": "StyleView",
            "description_width": ""
          }
        },
        "0eb8d95bced54addb3e78590790d4f21": {
          "model_module": "@jupyter-widgets/base",
          "model_module_version": "1.2.0",
          "model_name": "LayoutModel",
          "state": {
            "_model_module": "@jupyter-widgets/base",
            "_model_module_version": "1.2.0",
            "_model_name": "LayoutModel",
            "_view_count": null,
            "_view_module": "@jupyter-widgets/base",
            "_view_module_version": "1.2.0",
            "_view_name": "LayoutView",
            "align_content": null,
            "align_items": null,
            "align_self": null,
            "border": null,
            "bottom": null,
            "display": null,
            "flex": null,
            "flex_flow": null,
            "grid_area": null,
            "grid_auto_columns": null,
            "grid_auto_flow": null,
            "grid_auto_rows": null,
            "grid_column": null,
            "grid_gap": null,
            "grid_row": null,
            "grid_template_areas": null,
            "grid_template_columns": null,
            "grid_template_rows": null,
            "height": null,
            "justify_content": null,
            "justify_items": null,
            "left": null,
            "margin": null,
            "max_height": null,
            "max_width": null,
            "min_height": null,
            "min_width": null,
            "object_fit": null,
            "object_position": null,
            "order": null,
            "overflow": null,
            "overflow_x": null,
            "overflow_y": null,
            "padding": null,
            "right": null,
            "top": null,
            "visibility": null,
            "width": null
          }
        },
        "0f240e9f605c4c85bc52482617159588": {
          "model_module": "@jupyter-widgets/controls",
          "model_module_version": "1.5.0",
          "model_name": "FloatProgressModel",
          "state": {
            "_dom_classes": [],
            "_model_module": "@jupyter-widgets/controls",
            "_model_module_version": "1.5.0",
            "_model_name": "FloatProgressModel",
            "_view_count": null,
            "_view_module": "@jupyter-widgets/controls",
            "_view_module_version": "1.5.0",
            "_view_name": "ProgressView",
            "bar_style": "success",
            "description": "",
            "description_tooltip": null,
            "layout": "IPY_MODEL_f70a93184c7245779ccaabff7b9b6cdb",
            "max": 267967963,
            "min": 0,
            "orientation": "horizontal",
            "style": "IPY_MODEL_dbf6c5ed26304e77b881a4af1f8d4aae",
            "value": 267967963
          }
        },
        "1492b3b0c9b34866b778d2f42164a4ed": {
          "model_module": "@jupyter-widgets/base",
          "model_module_version": "1.2.0",
          "model_name": "LayoutModel",
          "state": {
            "_model_module": "@jupyter-widgets/base",
            "_model_module_version": "1.2.0",
            "_model_name": "LayoutModel",
            "_view_count": null,
            "_view_module": "@jupyter-widgets/base",
            "_view_module_version": "1.2.0",
            "_view_name": "LayoutView",
            "align_content": null,
            "align_items": null,
            "align_self": null,
            "border": null,
            "bottom": null,
            "display": null,
            "flex": null,
            "flex_flow": null,
            "grid_area": null,
            "grid_auto_columns": null,
            "grid_auto_flow": null,
            "grid_auto_rows": null,
            "grid_column": null,
            "grid_gap": null,
            "grid_row": null,
            "grid_template_areas": null,
            "grid_template_columns": null,
            "grid_template_rows": null,
            "height": null,
            "justify_content": null,
            "justify_items": null,
            "left": null,
            "margin": null,
            "max_height": null,
            "max_width": null,
            "min_height": null,
            "min_width": null,
            "object_fit": null,
            "object_position": null,
            "order": null,
            "overflow": null,
            "overflow_x": null,
            "overflow_y": null,
            "padding": null,
            "right": null,
            "top": null,
            "visibility": null,
            "width": null
          }
        },
        "198a37eb500f48a384a07da705c78876": {
          "model_module": "@jupyter-widgets/base",
          "model_module_version": "1.2.0",
          "model_name": "LayoutModel",
          "state": {
            "_model_module": "@jupyter-widgets/base",
            "_model_module_version": "1.2.0",
            "_model_name": "LayoutModel",
            "_view_count": null,
            "_view_module": "@jupyter-widgets/base",
            "_view_module_version": "1.2.0",
            "_view_name": "LayoutView",
            "align_content": null,
            "align_items": null,
            "align_self": null,
            "border": null,
            "bottom": null,
            "display": null,
            "flex": null,
            "flex_flow": null,
            "grid_area": null,
            "grid_auto_columns": null,
            "grid_auto_flow": null,
            "grid_auto_rows": null,
            "grid_column": null,
            "grid_gap": null,
            "grid_row": null,
            "grid_template_areas": null,
            "grid_template_columns": null,
            "grid_template_rows": null,
            "height": null,
            "justify_content": null,
            "justify_items": null,
            "left": null,
            "margin": null,
            "max_height": null,
            "max_width": null,
            "min_height": null,
            "min_width": null,
            "object_fit": null,
            "object_position": null,
            "order": null,
            "overflow": null,
            "overflow_x": null,
            "overflow_y": null,
            "padding": null,
            "right": null,
            "top": null,
            "visibility": null,
            "width": null
          }
        },
        "21168fbc4f434362a3ed9165ac9b8ad8": {
          "model_module": "@jupyter-widgets/base",
          "model_module_version": "1.2.0",
          "model_name": "LayoutModel",
          "state": {
            "_model_module": "@jupyter-widgets/base",
            "_model_module_version": "1.2.0",
            "_model_name": "LayoutModel",
            "_view_count": null,
            "_view_module": "@jupyter-widgets/base",
            "_view_module_version": "1.2.0",
            "_view_name": "LayoutView",
            "align_content": null,
            "align_items": null,
            "align_self": null,
            "border": null,
            "bottom": null,
            "display": null,
            "flex": null,
            "flex_flow": null,
            "grid_area": null,
            "grid_auto_columns": null,
            "grid_auto_flow": null,
            "grid_auto_rows": null,
            "grid_column": null,
            "grid_gap": null,
            "grid_row": null,
            "grid_template_areas": null,
            "grid_template_columns": null,
            "grid_template_rows": null,
            "height": null,
            "justify_content": null,
            "justify_items": null,
            "left": null,
            "margin": null,
            "max_height": null,
            "max_width": null,
            "min_height": null,
            "min_width": null,
            "object_fit": null,
            "object_position": null,
            "order": null,
            "overflow": null,
            "overflow_x": null,
            "overflow_y": null,
            "padding": null,
            "right": null,
            "top": null,
            "visibility": null,
            "width": null
          }
        },
        "2cdd0f64554a4f3786b0d9f04e3b5829": {
          "model_module": "@jupyter-widgets/base",
          "model_module_version": "1.2.0",
          "model_name": "LayoutModel",
          "state": {
            "_model_module": "@jupyter-widgets/base",
            "_model_module_version": "1.2.0",
            "_model_name": "LayoutModel",
            "_view_count": null,
            "_view_module": "@jupyter-widgets/base",
            "_view_module_version": "1.2.0",
            "_view_name": "LayoutView",
            "align_content": null,
            "align_items": null,
            "align_self": null,
            "border": null,
            "bottom": null,
            "display": null,
            "flex": null,
            "flex_flow": null,
            "grid_area": null,
            "grid_auto_columns": null,
            "grid_auto_flow": null,
            "grid_auto_rows": null,
            "grid_column": null,
            "grid_gap": null,
            "grid_row": null,
            "grid_template_areas": null,
            "grid_template_columns": null,
            "grid_template_rows": null,
            "height": null,
            "justify_content": null,
            "justify_items": null,
            "left": null,
            "margin": null,
            "max_height": null,
            "max_width": null,
            "min_height": null,
            "min_width": null,
            "object_fit": null,
            "object_position": null,
            "order": null,
            "overflow": null,
            "overflow_x": null,
            "overflow_y": null,
            "padding": null,
            "right": null,
            "top": null,
            "visibility": null,
            "width": null
          }
        },
        "31182e94808f40079b44b456eaa08217": {
          "model_module": "@jupyter-widgets/controls",
          "model_module_version": "1.5.0",
          "model_name": "HBoxModel",
          "state": {
            "_dom_classes": [],
            "_model_module": "@jupyter-widgets/controls",
            "_model_module_version": "1.5.0",
            "_model_name": "HBoxModel",
            "_view_count": null,
            "_view_module": "@jupyter-widgets/controls",
            "_view_module_version": "1.5.0",
            "_view_name": "HBoxView",
            "box_style": "",
            "children": [
              "IPY_MODEL_5d95911be4364c42b654b6f557369cb5",
              "IPY_MODEL_fb1633d67765414ea2b10b8f09553055",
              "IPY_MODEL_b2b2f9b2e26c4f44b1675779a91ef2bb"
            ],
            "layout": "IPY_MODEL_cccd03d1dea44efb82d8f466c2be7efb"
          }
        },
        "35a06991740c462aa809e2feaacdc7b4": {
          "model_module": "@jupyter-widgets/controls",
          "model_module_version": "1.5.0",
          "model_name": "HTMLModel",
          "state": {
            "_dom_classes": [],
            "_model_module": "@jupyter-widgets/controls",
            "_model_module_version": "1.5.0",
            "_model_name": "HTMLModel",
            "_view_count": null,
            "_view_module": "@jupyter-widgets/controls",
            "_view_module_version": "1.5.0",
            "_view_name": "HTMLView",
            "description": "",
            "description_tooltip": null,
            "layout": "IPY_MODEL_2cdd0f64554a4f3786b0d9f04e3b5829",
            "placeholder": "​",
            "style": "IPY_MODEL_c20f73e606884a3bb573ddd1cefb75d6",
            "value": "Downloading: 100%"
          }
        },
        "3be6c3e0d4af4847b22df83dbee49926": {
          "model_module": "@jupyter-widgets/controls",
          "model_module_version": "1.5.0",
          "model_name": "HBoxModel",
          "state": {
            "_dom_classes": [],
            "_model_module": "@jupyter-widgets/controls",
            "_model_module_version": "1.5.0",
            "_model_name": "HBoxModel",
            "_view_count": null,
            "_view_module": "@jupyter-widgets/controls",
            "_view_module_version": "1.5.0",
            "_view_name": "HBoxView",
            "box_style": "",
            "children": [
              "IPY_MODEL_d7fc8cc25a644de89c2cb9ae4cc536c8",
              "IPY_MODEL_dca0c4d592f24818854fbae9a17a0012",
              "IPY_MODEL_7e2778727e6d4b24a3f210b894398077"
            ],
            "layout": "IPY_MODEL_198a37eb500f48a384a07da705c78876"
          }
        },
        "528832eb4e2a4671a5f55b2e5c3bec39": {
          "model_module": "@jupyter-widgets/controls",
          "model_module_version": "1.5.0",
          "model_name": "DescriptionStyleModel",
          "state": {
            "_model_module": "@jupyter-widgets/controls",
            "_model_module_version": "1.5.0",
            "_model_name": "DescriptionStyleModel",
            "_view_count": null,
            "_view_module": "@jupyter-widgets/base",
            "_view_module_version": "1.2.0",
            "_view_name": "StyleView",
            "description_width": ""
          }
        },
        "53589e8f11af4e0998deb0bc426b4ad1": {
          "model_module": "@jupyter-widgets/controls",
          "model_module_version": "1.5.0",
          "model_name": "HBoxModel",
          "state": {
            "_dom_classes": [],
            "_model_module": "@jupyter-widgets/controls",
            "_model_module_version": "1.5.0",
            "_model_name": "HBoxModel",
            "_view_count": null,
            "_view_module": "@jupyter-widgets/controls",
            "_view_module_version": "1.5.0",
            "_view_name": "HBoxView",
            "box_style": "",
            "children": [
              "IPY_MODEL_b29a22b57a504c9182013051d5d2780b",
              "IPY_MODEL_0f240e9f605c4c85bc52482617159588",
              "IPY_MODEL_fbf6ab6bdbf9476da39014a9cd083792"
            ],
            "layout": "IPY_MODEL_21168fbc4f434362a3ed9165ac9b8ad8"
          }
        },
        "5d95911be4364c42b654b6f557369cb5": {
          "model_module": "@jupyter-widgets/controls",
          "model_module_version": "1.5.0",
          "model_name": "HTMLModel",
          "state": {
            "_dom_classes": [],
            "_model_module": "@jupyter-widgets/controls",
            "_model_module_version": "1.5.0",
            "_model_name": "HTMLModel",
            "_view_count": null,
            "_view_module": "@jupyter-widgets/controls",
            "_view_module_version": "1.5.0",
            "_view_name": "HTMLView",
            "description": "",
            "description_tooltip": null,
            "layout": "IPY_MODEL_c891c218381c45c8afae5b6fc9e2623a",
            "placeholder": "​",
            "style": "IPY_MODEL_6f0910e494be45e3aecf94781afabd5a",
            "value": "Downloading: 100%"
          }
        },
        "660c169376154e0a8b28ad6f2cc7ef50": {
          "model_module": "@jupyter-widgets/controls",
          "model_module_version": "1.5.0",
          "model_name": "HTMLModel",
          "state": {
            "_dom_classes": [],
            "_model_module": "@jupyter-widgets/controls",
            "_model_module_version": "1.5.0",
            "_model_name": "HTMLModel",
            "_view_count": null,
            "_view_module": "@jupyter-widgets/controls",
            "_view_module_version": "1.5.0",
            "_view_name": "HTMLView",
            "description": "",
            "description_tooltip": null,
            "layout": "IPY_MODEL_a811b48229c1404e94810c891013d179",
            "placeholder": "​",
            "style": "IPY_MODEL_0c5ea9f272124d8084b9dbdce7d1c443",
            "value": " 483/483 [00:00&lt;00:00, 5.05kB/s]"
          }
        },
        "6f0910e494be45e3aecf94781afabd5a": {
          "model_module": "@jupyter-widgets/controls",
          "model_module_version": "1.5.0",
          "model_name": "DescriptionStyleModel",
          "state": {
            "_model_module": "@jupyter-widgets/controls",
            "_model_module_version": "1.5.0",
            "_model_name": "DescriptionStyleModel",
            "_view_count": null,
            "_view_module": "@jupyter-widgets/base",
            "_view_module_version": "1.2.0",
            "_view_name": "StyleView",
            "description_width": ""
          }
        },
        "763eb4cc9ef14322b7481f5e5be81486": {
          "model_module": "@jupyter-widgets/base",
          "model_module_version": "1.2.0",
          "model_name": "LayoutModel",
          "state": {
            "_model_module": "@jupyter-widgets/base",
            "_model_module_version": "1.2.0",
            "_model_name": "LayoutModel",
            "_view_count": null,
            "_view_module": "@jupyter-widgets/base",
            "_view_module_version": "1.2.0",
            "_view_name": "LayoutView",
            "align_content": null,
            "align_items": null,
            "align_self": null,
            "border": null,
            "bottom": null,
            "display": null,
            "flex": null,
            "flex_flow": null,
            "grid_area": null,
            "grid_auto_columns": null,
            "grid_auto_flow": null,
            "grid_auto_rows": null,
            "grid_column": null,
            "grid_gap": null,
            "grid_row": null,
            "grid_template_areas": null,
            "grid_template_columns": null,
            "grid_template_rows": null,
            "height": null,
            "justify_content": null,
            "justify_items": null,
            "left": null,
            "margin": null,
            "max_height": null,
            "max_width": null,
            "min_height": null,
            "min_width": null,
            "object_fit": null,
            "object_position": null,
            "order": null,
            "overflow": null,
            "overflow_x": null,
            "overflow_y": null,
            "padding": null,
            "right": null,
            "top": null,
            "visibility": null,
            "width": null
          }
        },
        "77871cee6569454ba2b5498f5c994425": {
          "model_module": "@jupyter-widgets/base",
          "model_module_version": "1.2.0",
          "model_name": "LayoutModel",
          "state": {
            "_model_module": "@jupyter-widgets/base",
            "_model_module_version": "1.2.0",
            "_model_name": "LayoutModel",
            "_view_count": null,
            "_view_module": "@jupyter-widgets/base",
            "_view_module_version": "1.2.0",
            "_view_name": "LayoutView",
            "align_content": null,
            "align_items": null,
            "align_self": null,
            "border": null,
            "bottom": null,
            "display": null,
            "flex": null,
            "flex_flow": null,
            "grid_area": null,
            "grid_auto_columns": null,
            "grid_auto_flow": null,
            "grid_auto_rows": null,
            "grid_column": null,
            "grid_gap": null,
            "grid_row": null,
            "grid_template_areas": null,
            "grid_template_columns": null,
            "grid_template_rows": null,
            "height": null,
            "justify_content": null,
            "justify_items": null,
            "left": null,
            "margin": null,
            "max_height": null,
            "max_width": null,
            "min_height": null,
            "min_width": null,
            "object_fit": null,
            "object_position": null,
            "order": null,
            "overflow": null,
            "overflow_x": null,
            "overflow_y": null,
            "padding": null,
            "right": null,
            "top": null,
            "visibility": null,
            "width": null
          }
        },
        "7e2778727e6d4b24a3f210b894398077": {
          "model_module": "@jupyter-widgets/controls",
          "model_module_version": "1.5.0",
          "model_name": "HTMLModel",
          "state": {
            "_dom_classes": [],
            "_model_module": "@jupyter-widgets/controls",
            "_model_module_version": "1.5.0",
            "_model_name": "HTMLModel",
            "_view_count": null,
            "_view_module": "@jupyter-widgets/controls",
            "_view_module_version": "1.5.0",
            "_view_name": "HTMLView",
            "description": "",
            "description_tooltip": null,
            "layout": "IPY_MODEL_1492b3b0c9b34866b778d2f42164a4ed",
            "placeholder": "​",
            "style": "IPY_MODEL_528832eb4e2a4671a5f55b2e5c3bec39",
            "value": " 226k/226k [00:00&lt;00:00, 631kB/s]"
          }
        },
        "7f9ee75fa46d449e8a2b2a654ed56162": {
          "model_module": "@jupyter-widgets/controls",
          "model_module_version": "1.5.0",
          "model_name": "DescriptionStyleModel",
          "state": {
            "_model_module": "@jupyter-widgets/controls",
            "_model_module_version": "1.5.0",
            "_model_name": "DescriptionStyleModel",
            "_view_count": null,
            "_view_module": "@jupyter-widgets/base",
            "_view_module_version": "1.2.0",
            "_view_name": "StyleView",
            "description_width": ""
          }
        },
        "943d62414c9249469ef187cc97b14c63": {
          "model_module": "@jupyter-widgets/controls",
          "model_module_version": "1.5.0",
          "model_name": "DescriptionStyleModel",
          "state": {
            "_model_module": "@jupyter-widgets/controls",
            "_model_module_version": "1.5.0",
            "_model_name": "DescriptionStyleModel",
            "_view_count": null,
            "_view_module": "@jupyter-widgets/base",
            "_view_module_version": "1.2.0",
            "_view_name": "StyleView",
            "description_width": ""
          }
        },
        "9b3fb0dab9934e6b93b2846f4d6c0a2f": {
          "model_module": "@jupyter-widgets/controls",
          "model_module_version": "1.5.0",
          "model_name": "ProgressStyleModel",
          "state": {
            "_model_module": "@jupyter-widgets/controls",
            "_model_module_version": "1.5.0",
            "_model_name": "ProgressStyleModel",
            "_view_count": null,
            "_view_module": "@jupyter-widgets/base",
            "_view_module_version": "1.2.0",
            "_view_name": "StyleView",
            "bar_color": null,
            "description_width": ""
          }
        },
        "9b400fbaec754e16948b2a1804503ce6": {
          "model_module": "@jupyter-widgets/controls",
          "model_module_version": "1.5.0",
          "model_name": "HBoxModel",
          "state": {
            "_dom_classes": [],
            "_model_module": "@jupyter-widgets/controls",
            "_model_module_version": "1.5.0",
            "_model_name": "HBoxModel",
            "_view_count": null,
            "_view_module": "@jupyter-widgets/controls",
            "_view_module_version": "1.5.0",
            "_view_name": "HBoxView",
            "box_style": "",
            "children": [
              "IPY_MODEL_35a06991740c462aa809e2feaacdc7b4",
              "IPY_MODEL_f72319fd1915471b9a7a4c0ab3a47a46",
              "IPY_MODEL_660c169376154e0a8b28ad6f2cc7ef50"
            ],
            "layout": "IPY_MODEL_c5f9293b739743d3b79adb5c62813204"
          }
        },
        "a811b48229c1404e94810c891013d179": {
          "model_module": "@jupyter-widgets/base",
          "model_module_version": "1.2.0",
          "model_name": "LayoutModel",
          "state": {
            "_model_module": "@jupyter-widgets/base",
            "_model_module_version": "1.2.0",
            "_model_name": "LayoutModel",
            "_view_count": null,
            "_view_module": "@jupyter-widgets/base",
            "_view_module_version": "1.2.0",
            "_view_name": "LayoutView",
            "align_content": null,
            "align_items": null,
            "align_self": null,
            "border": null,
            "bottom": null,
            "display": null,
            "flex": null,
            "flex_flow": null,
            "grid_area": null,
            "grid_auto_columns": null,
            "grid_auto_flow": null,
            "grid_auto_rows": null,
            "grid_column": null,
            "grid_gap": null,
            "grid_row": null,
            "grid_template_areas": null,
            "grid_template_columns": null,
            "grid_template_rows": null,
            "height": null,
            "justify_content": null,
            "justify_items": null,
            "left": null,
            "margin": null,
            "max_height": null,
            "max_width": null,
            "min_height": null,
            "min_width": null,
            "object_fit": null,
            "object_position": null,
            "order": null,
            "overflow": null,
            "overflow_x": null,
            "overflow_y": null,
            "padding": null,
            "right": null,
            "top": null,
            "visibility": null,
            "width": null
          }
        },
        "a906b47161fd4fff90416cb53746246e": {
          "model_module": "@jupyter-widgets/controls",
          "model_module_version": "1.5.0",
          "model_name": "ProgressStyleModel",
          "state": {
            "_model_module": "@jupyter-widgets/controls",
            "_model_module_version": "1.5.0",
            "_model_name": "ProgressStyleModel",
            "_view_count": null,
            "_view_module": "@jupyter-widgets/base",
            "_view_module_version": "1.2.0",
            "_view_name": "StyleView",
            "bar_color": null,
            "description_width": ""
          }
        },
        "b29a22b57a504c9182013051d5d2780b": {
          "model_module": "@jupyter-widgets/controls",
          "model_module_version": "1.5.0",
          "model_name": "HTMLModel",
          "state": {
            "_dom_classes": [],
            "_model_module": "@jupyter-widgets/controls",
            "_model_module_version": "1.5.0",
            "_model_name": "HTMLModel",
            "_view_count": null,
            "_view_module": "@jupyter-widgets/controls",
            "_view_module_version": "1.5.0",
            "_view_name": "HTMLView",
            "description": "",
            "description_tooltip": null,
            "layout": "IPY_MODEL_77871cee6569454ba2b5498f5c994425",
            "placeholder": "​",
            "style": "IPY_MODEL_b73a3379374340e6aac6b915f94075ca",
            "value": "Downloading: 100%"
          }
        },
        "b2b2f9b2e26c4f44b1675779a91ef2bb": {
          "model_module": "@jupyter-widgets/controls",
          "model_module_version": "1.5.0",
          "model_name": "HTMLModel",
          "state": {
            "_dom_classes": [],
            "_model_module": "@jupyter-widgets/controls",
            "_model_module_version": "1.5.0",
            "_model_name": "HTMLModel",
            "_view_count": null,
            "_view_module": "@jupyter-widgets/controls",
            "_view_module_version": "1.5.0",
            "_view_name": "HTMLView",
            "description": "",
            "description_tooltip": null,
            "layout": "IPY_MODEL_eea5dce0630e4120a2156ec54021e5b2",
            "placeholder": "​",
            "style": "IPY_MODEL_943d62414c9249469ef187cc97b14c63",
            "value": " 28.0/28.0 [00:00&lt;00:00, 275B/s]"
          }
        },
        "b45d9f519f74400fb38428db26b63cb9": {
          "model_module": "@jupyter-widgets/base",
          "model_module_version": "1.2.0",
          "model_name": "LayoutModel",
          "state": {
            "_model_module": "@jupyter-widgets/base",
            "_model_module_version": "1.2.0",
            "_model_name": "LayoutModel",
            "_view_count": null,
            "_view_module": "@jupyter-widgets/base",
            "_view_module_version": "1.2.0",
            "_view_name": "LayoutView",
            "align_content": null,
            "align_items": null,
            "align_self": null,
            "border": null,
            "bottom": null,
            "display": null,
            "flex": null,
            "flex_flow": null,
            "grid_area": null,
            "grid_auto_columns": null,
            "grid_auto_flow": null,
            "grid_auto_rows": null,
            "grid_column": null,
            "grid_gap": null,
            "grid_row": null,
            "grid_template_areas": null,
            "grid_template_columns": null,
            "grid_template_rows": null,
            "height": null,
            "justify_content": null,
            "justify_items": null,
            "left": null,
            "margin": null,
            "max_height": null,
            "max_width": null,
            "min_height": null,
            "min_width": null,
            "object_fit": null,
            "object_position": null,
            "order": null,
            "overflow": null,
            "overflow_x": null,
            "overflow_y": null,
            "padding": null,
            "right": null,
            "top": null,
            "visibility": null,
            "width": null
          }
        },
        "b73a3379374340e6aac6b915f94075ca": {
          "model_module": "@jupyter-widgets/controls",
          "model_module_version": "1.5.0",
          "model_name": "DescriptionStyleModel",
          "state": {
            "_model_module": "@jupyter-widgets/controls",
            "_model_module_version": "1.5.0",
            "_model_name": "DescriptionStyleModel",
            "_view_count": null,
            "_view_module": "@jupyter-widgets/base",
            "_view_module_version": "1.2.0",
            "_view_name": "StyleView",
            "description_width": ""
          }
        },
        "c20f73e606884a3bb573ddd1cefb75d6": {
          "model_module": "@jupyter-widgets/controls",
          "model_module_version": "1.5.0",
          "model_name": "DescriptionStyleModel",
          "state": {
            "_model_module": "@jupyter-widgets/controls",
            "_model_module_version": "1.5.0",
            "_model_name": "DescriptionStyleModel",
            "_view_count": null,
            "_view_module": "@jupyter-widgets/base",
            "_view_module_version": "1.2.0",
            "_view_name": "StyleView",
            "description_width": ""
          }
        },
        "c5f9293b739743d3b79adb5c62813204": {
          "model_module": "@jupyter-widgets/base",
          "model_module_version": "1.2.0",
          "model_name": "LayoutModel",
          "state": {
            "_model_module": "@jupyter-widgets/base",
            "_model_module_version": "1.2.0",
            "_model_name": "LayoutModel",
            "_view_count": null,
            "_view_module": "@jupyter-widgets/base",
            "_view_module_version": "1.2.0",
            "_view_name": "LayoutView",
            "align_content": null,
            "align_items": null,
            "align_self": null,
            "border": null,
            "bottom": null,
            "display": null,
            "flex": null,
            "flex_flow": null,
            "grid_area": null,
            "grid_auto_columns": null,
            "grid_auto_flow": null,
            "grid_auto_rows": null,
            "grid_column": null,
            "grid_gap": null,
            "grid_row": null,
            "grid_template_areas": null,
            "grid_template_columns": null,
            "grid_template_rows": null,
            "height": null,
            "justify_content": null,
            "justify_items": null,
            "left": null,
            "margin": null,
            "max_height": null,
            "max_width": null,
            "min_height": null,
            "min_width": null,
            "object_fit": null,
            "object_position": null,
            "order": null,
            "overflow": null,
            "overflow_x": null,
            "overflow_y": null,
            "padding": null,
            "right": null,
            "top": null,
            "visibility": null,
            "width": null
          }
        },
        "c891c218381c45c8afae5b6fc9e2623a": {
          "model_module": "@jupyter-widgets/base",
          "model_module_version": "1.2.0",
          "model_name": "LayoutModel",
          "state": {
            "_model_module": "@jupyter-widgets/base",
            "_model_module_version": "1.2.0",
            "_model_name": "LayoutModel",
            "_view_count": null,
            "_view_module": "@jupyter-widgets/base",
            "_view_module_version": "1.2.0",
            "_view_name": "LayoutView",
            "align_content": null,
            "align_items": null,
            "align_self": null,
            "border": null,
            "bottom": null,
            "display": null,
            "flex": null,
            "flex_flow": null,
            "grid_area": null,
            "grid_auto_columns": null,
            "grid_auto_flow": null,
            "grid_auto_rows": null,
            "grid_column": null,
            "grid_gap": null,
            "grid_row": null,
            "grid_template_areas": null,
            "grid_template_columns": null,
            "grid_template_rows": null,
            "height": null,
            "justify_content": null,
            "justify_items": null,
            "left": null,
            "margin": null,
            "max_height": null,
            "max_width": null,
            "min_height": null,
            "min_width": null,
            "object_fit": null,
            "object_position": null,
            "order": null,
            "overflow": null,
            "overflow_x": null,
            "overflow_y": null,
            "padding": null,
            "right": null,
            "top": null,
            "visibility": null,
            "width": null
          }
        },
        "cccd03d1dea44efb82d8f466c2be7efb": {
          "model_module": "@jupyter-widgets/base",
          "model_module_version": "1.2.0",
          "model_name": "LayoutModel",
          "state": {
            "_model_module": "@jupyter-widgets/base",
            "_model_module_version": "1.2.0",
            "_model_name": "LayoutModel",
            "_view_count": null,
            "_view_module": "@jupyter-widgets/base",
            "_view_module_version": "1.2.0",
            "_view_name": "LayoutView",
            "align_content": null,
            "align_items": null,
            "align_self": null,
            "border": null,
            "bottom": null,
            "display": null,
            "flex": null,
            "flex_flow": null,
            "grid_area": null,
            "grid_auto_columns": null,
            "grid_auto_flow": null,
            "grid_auto_rows": null,
            "grid_column": null,
            "grid_gap": null,
            "grid_row": null,
            "grid_template_areas": null,
            "grid_template_columns": null,
            "grid_template_rows": null,
            "height": null,
            "justify_content": null,
            "justify_items": null,
            "left": null,
            "margin": null,
            "max_height": null,
            "max_width": null,
            "min_height": null,
            "min_width": null,
            "object_fit": null,
            "object_position": null,
            "order": null,
            "overflow": null,
            "overflow_x": null,
            "overflow_y": null,
            "padding": null,
            "right": null,
            "top": null,
            "visibility": null,
            "width": null
          }
        },
        "d7fc8cc25a644de89c2cb9ae4cc536c8": {
          "model_module": "@jupyter-widgets/controls",
          "model_module_version": "1.5.0",
          "model_name": "HTMLModel",
          "state": {
            "_dom_classes": [],
            "_model_module": "@jupyter-widgets/controls",
            "_model_module_version": "1.5.0",
            "_model_name": "HTMLModel",
            "_view_count": null,
            "_view_module": "@jupyter-widgets/controls",
            "_view_module_version": "1.5.0",
            "_view_name": "HTMLView",
            "description": "",
            "description_tooltip": null,
            "layout": "IPY_MODEL_00000581ab1041eaa55f886cfde031bf",
            "placeholder": "​",
            "style": "IPY_MODEL_7f9ee75fa46d449e8a2b2a654ed56162",
            "value": "Downloading: 100%"
          }
        },
        "dbf6c5ed26304e77b881a4af1f8d4aae": {
          "model_module": "@jupyter-widgets/controls",
          "model_module_version": "1.5.0",
          "model_name": "ProgressStyleModel",
          "state": {
            "_model_module": "@jupyter-widgets/controls",
            "_model_module_version": "1.5.0",
            "_model_name": "ProgressStyleModel",
            "_view_count": null,
            "_view_module": "@jupyter-widgets/base",
            "_view_module_version": "1.2.0",
            "_view_name": "StyleView",
            "bar_color": null,
            "description_width": ""
          }
        },
        "dca0c4d592f24818854fbae9a17a0012": {
          "model_module": "@jupyter-widgets/controls",
          "model_module_version": "1.5.0",
          "model_name": "FloatProgressModel",
          "state": {
            "_dom_classes": [],
            "_model_module": "@jupyter-widgets/controls",
            "_model_module_version": "1.5.0",
            "_model_name": "FloatProgressModel",
            "_view_count": null,
            "_view_module": "@jupyter-widgets/controls",
            "_view_module_version": "1.5.0",
            "_view_name": "ProgressView",
            "bar_style": "success",
            "description": "",
            "description_tooltip": null,
            "layout": "IPY_MODEL_b45d9f519f74400fb38428db26b63cb9",
            "max": 231508,
            "min": 0,
            "orientation": "horizontal",
            "style": "IPY_MODEL_9b3fb0dab9934e6b93b2846f4d6c0a2f",
            "value": 231508
          }
        },
        "df81d100b3fd46a3aa2a64ea414ccbe8": {
          "model_module": "@jupyter-widgets/controls",
          "model_module_version": "1.5.0",
          "model_name": "ProgressStyleModel",
          "state": {
            "_model_module": "@jupyter-widgets/controls",
            "_model_module_version": "1.5.0",
            "_model_name": "ProgressStyleModel",
            "_view_count": null,
            "_view_module": "@jupyter-widgets/base",
            "_view_module_version": "1.2.0",
            "_view_name": "StyleView",
            "bar_color": null,
            "description_width": ""
          }
        },
        "e59a8f7e67d04466bcaadb1eb1c4f9c7": {
          "model_module": "@jupyter-widgets/controls",
          "model_module_version": "1.5.0",
          "model_name": "DescriptionStyleModel",
          "state": {
            "_model_module": "@jupyter-widgets/controls",
            "_model_module_version": "1.5.0",
            "_model_name": "DescriptionStyleModel",
            "_view_count": null,
            "_view_module": "@jupyter-widgets/base",
            "_view_module_version": "1.2.0",
            "_view_name": "StyleView",
            "description_width": ""
          }
        },
        "eea5dce0630e4120a2156ec54021e5b2": {
          "model_module": "@jupyter-widgets/base",
          "model_module_version": "1.2.0",
          "model_name": "LayoutModel",
          "state": {
            "_model_module": "@jupyter-widgets/base",
            "_model_module_version": "1.2.0",
            "_model_name": "LayoutModel",
            "_view_count": null,
            "_view_module": "@jupyter-widgets/base",
            "_view_module_version": "1.2.0",
            "_view_name": "LayoutView",
            "align_content": null,
            "align_items": null,
            "align_self": null,
            "border": null,
            "bottom": null,
            "display": null,
            "flex": null,
            "flex_flow": null,
            "grid_area": null,
            "grid_auto_columns": null,
            "grid_auto_flow": null,
            "grid_auto_rows": null,
            "grid_column": null,
            "grid_gap": null,
            "grid_row": null,
            "grid_template_areas": null,
            "grid_template_columns": null,
            "grid_template_rows": null,
            "height": null,
            "justify_content": null,
            "justify_items": null,
            "left": null,
            "margin": null,
            "max_height": null,
            "max_width": null,
            "min_height": null,
            "min_width": null,
            "object_fit": null,
            "object_position": null,
            "order": null,
            "overflow": null,
            "overflow_x": null,
            "overflow_y": null,
            "padding": null,
            "right": null,
            "top": null,
            "visibility": null,
            "width": null
          }
        },
        "f70a93184c7245779ccaabff7b9b6cdb": {
          "model_module": "@jupyter-widgets/base",
          "model_module_version": "1.2.0",
          "model_name": "LayoutModel",
          "state": {
            "_model_module": "@jupyter-widgets/base",
            "_model_module_version": "1.2.0",
            "_model_name": "LayoutModel",
            "_view_count": null,
            "_view_module": "@jupyter-widgets/base",
            "_view_module_version": "1.2.0",
            "_view_name": "LayoutView",
            "align_content": null,
            "align_items": null,
            "align_self": null,
            "border": null,
            "bottom": null,
            "display": null,
            "flex": null,
            "flex_flow": null,
            "grid_area": null,
            "grid_auto_columns": null,
            "grid_auto_flow": null,
            "grid_auto_rows": null,
            "grid_column": null,
            "grid_gap": null,
            "grid_row": null,
            "grid_template_areas": null,
            "grid_template_columns": null,
            "grid_template_rows": null,
            "height": null,
            "justify_content": null,
            "justify_items": null,
            "left": null,
            "margin": null,
            "max_height": null,
            "max_width": null,
            "min_height": null,
            "min_width": null,
            "object_fit": null,
            "object_position": null,
            "order": null,
            "overflow": null,
            "overflow_x": null,
            "overflow_y": null,
            "padding": null,
            "right": null,
            "top": null,
            "visibility": null,
            "width": null
          }
        },
        "f72319fd1915471b9a7a4c0ab3a47a46": {
          "model_module": "@jupyter-widgets/controls",
          "model_module_version": "1.5.0",
          "model_name": "FloatProgressModel",
          "state": {
            "_dom_classes": [],
            "_model_module": "@jupyter-widgets/controls",
            "_model_module_version": "1.5.0",
            "_model_name": "FloatProgressModel",
            "_view_count": null,
            "_view_module": "@jupyter-widgets/controls",
            "_view_module_version": "1.5.0",
            "_view_name": "ProgressView",
            "bar_style": "success",
            "description": "",
            "description_tooltip": null,
            "layout": "IPY_MODEL_06e8b4b986284bebac1071f0a2181adb",
            "max": 483,
            "min": 0,
            "orientation": "horizontal",
            "style": "IPY_MODEL_a906b47161fd4fff90416cb53746246e",
            "value": 483
          }
        },
        "fb1633d67765414ea2b10b8f09553055": {
          "model_module": "@jupyter-widgets/controls",
          "model_module_version": "1.5.0",
          "model_name": "FloatProgressModel",
          "state": {
            "_dom_classes": [],
            "_model_module": "@jupyter-widgets/controls",
            "_model_module_version": "1.5.0",
            "_model_name": "FloatProgressModel",
            "_view_count": null,
            "_view_module": "@jupyter-widgets/controls",
            "_view_module_version": "1.5.0",
            "_view_name": "ProgressView",
            "bar_style": "success",
            "description": "",
            "description_tooltip": null,
            "layout": "IPY_MODEL_763eb4cc9ef14322b7481f5e5be81486",
            "max": 28,
            "min": 0,
            "orientation": "horizontal",
            "style": "IPY_MODEL_df81d100b3fd46a3aa2a64ea414ccbe8",
            "value": 28
          }
        },
        "fbf6ab6bdbf9476da39014a9cd083792": {
          "model_module": "@jupyter-widgets/controls",
          "model_module_version": "1.5.0",
          "model_name": "HTMLModel",
          "state": {
            "_dom_classes": [],
            "_model_module": "@jupyter-widgets/controls",
            "_model_module_version": "1.5.0",
            "_model_name": "HTMLModel",
            "_view_count": null,
            "_view_module": "@jupyter-widgets/controls",
            "_view_module_version": "1.5.0",
            "_view_name": "HTMLView",
            "description": "",
            "description_tooltip": null,
            "layout": "IPY_MODEL_0eb8d95bced54addb3e78590790d4f21",
            "placeholder": "​",
            "style": "IPY_MODEL_e59a8f7e67d04466bcaadb1eb1c4f9c7",
            "value": " 256M/256M [00:12&lt;00:00, 22.7MB/s]"
          }
        }
      }
    }
  },
  "nbformat": 4,
  "nbformat_minor": 0
}