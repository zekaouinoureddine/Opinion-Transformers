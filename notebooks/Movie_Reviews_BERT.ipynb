{
  "nbformat": 4,
  "nbformat_minor": 0,
  "metadata": {
    "colab": {
      "provenance": [],
      "machine_shape": "hm",
      "include_colab_link": true
    },
    "kernelspec": {
      "display_name": "Python 3",
      "language": "python",
      "name": "python3"
    },
    "language_info": {
      "codemirror_mode": {
        "name": "ipython",
        "version": 3
      },
      "file_extension": ".py",
      "mimetype": "text/x-python",
      "name": "python",
      "nbconvert_exporter": "python",
      "pygments_lexer": "ipython3",
      "version": "3.7.7"
    },
    "accelerator": "GPU"
  },
  "cells": [
    {
      "cell_type": "markdown",
      "metadata": {
        "id": "view-in-github",
        "colab_type": "text"
      },
      "source": [
        "<a href=\"https://colab.research.google.com/github/zekaouinoureddine/Advanced-transformer-based-models-on-opinion-mining/blob/master/notebooks/Movie_Reviews_BERT.ipynb\" target=\"_parent\"><img src=\"https://colab.research.google.com/assets/colab-badge.svg\" alt=\"Open In Colab\"/></a>"
      ]
    },
    {
      "cell_type": "markdown",
      "metadata": {
        "id": "EdHVQrqyDB50"
      },
      "source": [
        "---\n",
        "<h1 align=\"center\"><strong>Movie Reviews BERT</strong></h1>\n",
        "\n",
        "---"
      ]
    },
    {
      "cell_type": "code",
      "metadata": {
        "colab": {
          "base_uri": "https://localhost:8080/"
        },
        "id": "l2y8SSwFL7aS",
        "outputId": "40d5f975-72d8-445e-c989-ca378788cce7"
      },
      "source": [
        "!pip install transformers -q"
      ],
      "execution_count": null,
      "outputs": [
        {
          "output_type": "stream",
          "name": "stdout",
          "text": [
            "\u001b[K     |████████████████████████████████| 5.8 MB 14.8 MB/s \n",
            "\u001b[K     |████████████████████████████████| 7.6 MB 34.6 MB/s \n",
            "\u001b[K     |████████████████████████████████| 182 kB 77.9 MB/s \n",
            "\u001b[?25h"
          ]
        }
      ]
    },
    {
      "cell_type": "markdown",
      "metadata": {
        "id": "91FedSxFMSsP"
      },
      "source": [
        "### Required Libraries"
      ]
    },
    {
      "cell_type": "code",
      "metadata": {
        "id": "fW0Cs-w3MP9B"
      },
      "source": [
        "import pandas as pd\n",
        "import numpy as np\n",
        "import matplotlib.pyplot as plt\n",
        "import seaborn as sns\n",
        "\n",
        "import torch\n",
        "import torch.nn as nn\n",
        "from torch.utils.data import Dataset, DataLoader\n",
        "\n",
        "from tqdm import tqdm\n",
        "\n",
        "import transformers\n",
        "from transformers import AdamW, get_linear_schedule_with_warmup\n",
        "\n",
        "from sklearn.model_selection import train_test_split\n",
        "from sklearn import metrics\n",
        "\n",
        "from collections import defaultdict\n",
        "\n",
        "import warnings\n",
        "warnings.filterwarnings('ignore')"
      ],
      "execution_count": null,
      "outputs": []
    },
    {
      "cell_type": "code",
      "metadata": {
        "id": "lHdCzlO-ZL9m"
      },
      "source": [
        "!gdown --id 1qaw9jL-KpuSsjeP3K_2hc2mkrn9bdGJN -q\n",
        "!unzip \"IMDB Dataset.csv.zip\""
      ],
      "execution_count": null,
      "outputs": []
    },
    {
      "cell_type": "code",
      "source": [
        "!gdown --id 1xJYm-tNMllxx82_CQ1K1R5q0JW9KUV1j -q\n",
        "!unzip IMDb.zip"
      ],
      "metadata": {
        "id": "b4zJGtg4OREl"
      },
      "execution_count": null,
      "outputs": []
    },
    {
      "cell_type": "code",
      "source": [
        "from google.colab import drive\n",
        "drive.mount('/content/drive')"
      ],
      "metadata": {
        "colab": {
          "base_uri": "https://localhost:8080/"
        },
        "id": "xJOP6PLOAA4K",
        "outputId": "8b91db56-3771-4790-b1f6-703a2fd30c4e"
      },
      "execution_count": null,
      "outputs": [
        {
          "output_type": "stream",
          "name": "stdout",
          "text": [
            "Mounted at /content/drive\n"
          ]
        }
      ]
    },
    {
      "cell_type": "code",
      "source": [
        "!unzip /content/drive/MyDrive/DATASETS/IMDb.zip"
      ],
      "metadata": {
        "colab": {
          "base_uri": "https://localhost:8080/"
        },
        "id": "UwBcLFeA_-7X",
        "outputId": "ad28f655-357b-4401-a5c8-9c1b21886f53"
      },
      "execution_count": null,
      "outputs": [
        {
          "output_type": "stream",
          "name": "stdout",
          "text": [
            "Archive:  /content/drive/MyDrive/DATASETS/IMDb.zip\n",
            "  inflating: IMDB Dataset.csv        \n"
          ]
        }
      ]
    },
    {
      "cell_type": "code",
      "source": [
        "df = pd.read_csv(\"/content/IMDB Dataset.csv\")"
      ],
      "metadata": {
        "id": "yyqNqO1_O_wq"
      },
      "execution_count": null,
      "outputs": []
    },
    {
      "cell_type": "code",
      "source": [
        "df = pd.DataFrame({\n",
        "    \"review\": [\"hello worls\", \"mm kk world\", \"kmm state\"],\n",
        "    \"sentiment\": [\"positive\", \"negative\", \"positive\"],\n",
        "})\n",
        "\n",
        "df.to_csv(\"IMDB Dataset.csv\")"
      ],
      "metadata": {
        "id": "x-j7vZbhvAXB"
      },
      "execution_count": null,
      "outputs": []
    },
    {
      "cell_type": "code",
      "source": [
        "def plot_tokens_count(df: pd.DataFrame, colmun_name:str):\n",
        "  token_lens = []\n",
        "  for text in df[f\"{colmun_name}\"]:\n",
        "    token_lens.append(len(text.split()))\n",
        "\n",
        "  # sns.distplot(token_lens, color='red')\n",
        "  plt.hist(token_lens, color='red', bins=50, alpha=0.5)\n",
        "  plt.xlim([0, 800]);\n",
        "  # plt.ylim([0, 0.020]);\n",
        "  plt.xlabel(\"Tokens Count\")\n",
        "  plt.ylabel(\"Frequency\")\n",
        "  plt.show();"
      ],
      "metadata": {
        "id": "VYqDIKEgO-kF"
      },
      "execution_count": null,
      "outputs": []
    },
    {
      "cell_type": "code",
      "metadata": {
        "colab": {
          "base_uri": "https://localhost:8080/",
          "height": 336
        },
        "id": "W3eoxrvRfQGn",
        "outputId": "22278220-329c-4db9-a913-f63f20ca405a"
      },
      "source": [
        "# df = pd.read_csv(\"IMDB Dataset.csv\")\n",
        "\n",
        "df[\"sentiment\"].value_counts().plot(kind='barh',\n",
        "                                    color=['green','red'],\n",
        "                                    title='Distribution of Positive and Negative Reviews',\n",
        "                                    figsize=(9,5));"
      ],
      "execution_count": null,
      "outputs": [
        {
          "output_type": "display_data",
          "data": {
            "text/plain": [
              "<Figure size 648x360 with 1 Axes>"
            ],
            "image/png": "[encoded data removed]"
          },
          "metadata": {
            "needs_background": "light"
          }
        }
      ]
    },
    {
      "cell_type": "code",
      "source": [
        "plot_tokens_count(df, colmun_name=\"review\")"
      ],
      "metadata": {
        "colab": {
          "base_uri": "https://localhost:8080/",
          "height": 279
        },
        "id": "m491IHjRPNIj",
        "outputId": "40240fb4-b0cd-4be5-b132-612902486ccb"
      },
      "execution_count": null,
      "outputs": [
        {
          "output_type": "display_data",
          "data": {
            "text/plain": [
              "<Figure size 432x288 with 1 Axes>"
            ],
            "image/png": "[encoded data removed]"
          },
          "metadata": {
            "needs_background": "light"
          }
        }
      ]
    },
    {
      "cell_type": "markdown",
      "metadata": {
        "id": "du7h0icwZ8Po"
      },
      "source": [
        "### Config"
      ]
    },
    {
      "cell_type": "code",
      "metadata": {
        "id": "0AkWioQrZ43r"
      },
      "source": [
        "class Config:\n",
        "  MAX_LEN = 64\n",
        "  TRAIN_BATCH_SIZE = 8\n",
        "  VALID_BATCH_SIZE = 4\n",
        "  EPOCHS = 4\n",
        "  DEVICE = torch.device(\"cuda\" if torch.cuda.is_available() else \"cpu\")\n",
        "\n",
        "  BERT_PATH = \"bert-base-uncased\"\n",
        "  MODEL_PATH = \"BERTModel.bin\"\n",
        "  TRAINING_DATA = \"IMDB Dataset.csv\"\n",
        "\n",
        "  TOKENIZER = transformers.BertTokenizer.from_pretrained(BERT_PATH, do_lower_case = True)\n",
        "  MODEL = transformers.BertModel.from_pretrained(BERT_PATH, return_dict=False)"
      ],
      "execution_count": null,
      "outputs": []
    },
    {
      "cell_type": "markdown",
      "metadata": {
        "id": "-xL-ZGnOPK_a"
      },
      "source": [
        "### Dataset"
      ]
    },
    {
      "cell_type": "code",
      "metadata": {
        "id": "gi9ViEWtPShj"
      },
      "source": [
        "class DataProcess:\n",
        "  def __init__(self, review):\n",
        "    self.tokenizer = Config.TOKENIZER\n",
        "    self.max_len = Config.MAX_LEN\n",
        "    self.review = review\n",
        "    \n",
        "  def preprocess_bert(self):\n",
        "    reviw = \" \".join(self.review.split())\n",
        "    inputs = self.tokenizer.encode_plus(\n",
        "        reviw,\n",
        "        None,\n",
        "        add_special_tokens=True,\n",
        "        max_length=self.max_len,\n",
        "        # padding = \"max_length\",\n",
        "        truncation=True\n",
        "        )\n",
        "\n",
        "    input_ids = inputs[\"input_ids\"]\n",
        "    attention_mask = inputs[\"attention_mask\"]\n",
        "    token_type_ids = inputs[\"token_type_ids\"]\n",
        "\n",
        "    return (\n",
        "        torch.tensor(input_ids, dtype=torch.long).unsqueeze(0),\n",
        "        torch.tensor(attention_mask, dtype=torch.long).unsqueeze(0),\n",
        "        torch.tensor(token_type_ids, dtype=torch.long).unsqueeze(0)\n",
        "        )\n",
        "    \n",
        "  def preprocess_output(self, outputs):\n",
        "    outputs = torch.sigmoid(outputs).cpu().detach().numpy()\n",
        "    return outputs[0][0]\n",
        "\n",
        "class MovieReviewDatSet:\n",
        "  def __init__(self, data_path):\n",
        "    \n",
        "    self.data = pd.read_csv(data_path).fillna('none')\n",
        "    self.data.sentiment = self.data.sentiment.apply(lambda x: 1 if x == \"positive\" else 0)\n",
        "    self.data = self.data.reset_index(drop=True)\n",
        "    self.tokenizer = Config.TOKENIZER\n",
        "    self.max_len = Config.MAX_LEN\n",
        "    self.review = self.data.review.values\n",
        "    self.label = self.data.sentiment.values\n",
        "\n",
        "  def __len__(self):\n",
        "    return len(self.review)\n",
        "\n",
        "  def __getitem__(self, item):\n",
        "    review = str(self.review[item])\n",
        "    review = \" \".join(review.split())\n",
        "\n",
        "    inputs = self.tokenizer.encode_plus(\n",
        "        review,\n",
        "        None,\n",
        "        add_special_tokens = True,\n",
        "        max_length = self.max_len,\n",
        "        padding = \"max_length\",\n",
        "        truncation= True\n",
        "    )\n",
        "\n",
        "    input_ids = inputs[\"input_ids\"]\n",
        "    attention_mask = inputs[\"attention_mask\"]\n",
        "    token_type_ids = inputs[\"token_type_ids\"]\n",
        "\n",
        "    return {\n",
        "        \"input_ids\" : torch.tensor(input_ids, dtype=torch.long),\n",
        "        \"attention_mask\" : torch.tensor(attention_mask, dtype=torch.long),\n",
        "        \"token_type_ids\" : torch.tensor(token_type_ids, dtype=torch.long),\n",
        "        \"labels\" : torch.tensor(self.label[item], dtype=torch.float)\n",
        "        }"
      ],
      "execution_count": null,
      "outputs": []
    },
    {
      "cell_type": "markdown",
      "metadata": {
        "id": "p68dmB8qd4Hc"
      },
      "source": [
        "### Model"
      ]
    },
    {
      "cell_type": "markdown",
      "metadata": {
        "id": "t-PLLJdXKuLL"
      },
      "source": [
        "![mrbert.png](data:image/png;base64,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)"
      ]
    },
    {
      "cell_type": "code",
      "metadata": {
        "id": "78ZGJsH9dyLu"
      },
      "source": [
        "class BERTModel(nn.Module):\n",
        "  def __init__(self):\n",
        "    super(BERTModel, self).__init__()\n",
        "    self.bert = Config.MODEL\n",
        "    self.bert_drop = nn.Dropout(0.3)\n",
        "    self.out = nn.Linear(768, 1)\n",
        "\n",
        "  def forward(self, input_ids, attention_mask, token_type_ids):\n",
        "    _, pooled_output  = self.bert(input_ids=input_ids, attention_mask=attention_mask, token_type_ids = token_type_ids)\n",
        "    bo = self.bert_drop(pooled_output)\n",
        "    output = self.out(bo)\n",
        "    \n",
        "    return output"
      ],
      "execution_count": null,
      "outputs": []
    },
    {
      "cell_type": "markdown",
      "metadata": {
        "id": "BnCOgDkuaVBT"
      },
      "source": [
        "### Engine"
      ]
    },
    {
      "cell_type": "code",
      "metadata": {
        "id": "E4s6QHpEBRpC"
      },
      "source": [
        "def loss_fn(outputs, labels):\n",
        "  return nn.BCEWithLogitsLoss()(outputs, labels.view(-1, 1))\n",
        "\n",
        "def train_fn(train_dataloader, model, optimizer, device, scheduler):\n",
        "  model.train()\n",
        "  final_loss = 0\n",
        "\n",
        "  fin_labels = []\n",
        "  fin_outputs = []\n",
        "  for bi, d in tqdm(enumerate(train_dataloader), total=len(train_dataloader)):\n",
        "    input_ids = d[\"input_ids\"]\n",
        "    attention_mask = d[\"attention_mask\"]\n",
        "    token_type_ids = d[\"token_type_ids\"]\n",
        "    labels = d[\"labels\"]\n",
        "\n",
        "    input_ids = input_ids.to(device, dtype=torch.long)\n",
        "    attention_mask = attention_mask.to(device, dtype=torch.long)\n",
        "    token_type_ids = token_type_ids.to(device, dtype = torch.long)\n",
        "    labels = labels.to(device, dtype = torch.float)\n",
        "\n",
        "    optimizer.zero_grad()\n",
        "    outputs = model(input_ids=input_ids, attention_mask=attention_mask, token_type_ids = token_type_ids)\n",
        "    loss = loss_fn(outputs, labels)\n",
        "    \n",
        "    final_loss += loss.item()\n",
        "    fin_labels.extend(labels.cpu().detach().numpy().tolist())\n",
        "    fin_outputs.extend(torch.sigmoid(outputs).cpu().detach().numpy().tolist())\n",
        "    \n",
        "    loss.backward()\n",
        "    optimizer.step()\n",
        "    scheduler.step()\n",
        "\n",
        "  return fin_outputs, fin_labels, final_loss/len(train_dataloader)\n",
        "\n",
        "def eval_fn(valid_dataloader, model, device):\n",
        "  model.eval()\n",
        "  final_loss = 0\n",
        "\n",
        "  fin_labels = []\n",
        "  fin_outputs = []\n",
        "  with torch.no_grad():\n",
        "    for bi, d in tqdm(enumerate(valid_dataloader), total=len(valid_dataloader)):\n",
        "      input_ids = d[\"input_ids\"]\n",
        "      attention_mask = d[\"attention_mask\"]\n",
        "      token_type_ids = d[\"token_type_ids\"]\n",
        "      labels = d[\"labels\"]\n",
        "\n",
        "      input_ids = input_ids.to(device, dtype=torch.long)\n",
        "      attention_mask = attention_mask.to(device, dtype=torch.long)\n",
        "      token_type_ids = token_type_ids.to(device, dtype = torch.long)\n",
        "      labels = labels.to(device, dtype = torch.float)\n",
        "\n",
        "      outputs = model(input_ids=input_ids, attention_mask=attention_mask, token_type_ids = token_type_ids)\n",
        "      \n",
        "      loss = loss_fn(outputs, labels)\n",
        "      final_loss += loss.item()\n",
        "      \n",
        "      fin_labels.extend(labels.cpu().detach().numpy().tolist())\n",
        "      fin_outputs.extend(torch.sigmoid(outputs).cpu().detach().numpy().tolist())\n",
        "      \n",
        "\n",
        "  return fin_outputs, fin_labels, final_loss/len(valid_dataloader)"
      ],
      "execution_count": null,
      "outputs": []
    },
    {
      "cell_type": "markdown",
      "metadata": {
        "id": "R9Herf-_JgFG"
      },
      "source": [
        "### **Train**"
      ]
    },
    {
      "cell_type": "code",
      "metadata": {
        "id": "pQaLNbXpEXdl"
      },
      "source": [
        "dataset = MovieReviewDatSet(Config.TRAINING_DATA)\n",
        "\n",
        "train_data, valid_data = train_test_split(dataset, test_size = 0.1)\n",
        "train_dataloader = DataLoader(train_data, batch_size=Config.TRAIN_BATCH_SIZE, num_workers=4)\n",
        "valid_dataloader = DataLoader(valid_data, batch_size=Config.VALID_BATCH_SIZE, num_workers=1)\n",
        "\n",
        "model = BERTModel()\n",
        "model.to(Config.DEVICE)\n",
        "\n",
        "param_optimizer = list(model.named_parameters())\n",
        "no_decay = [\"bias\", \"LayerNorm.bias\", \"LayerNorm.weight\"]\n",
        "optimizer_parameters = [\n",
        "                        {\n",
        "                            \"params\": [\n",
        "                                       p for n, p in param_optimizer if not any(nd in n for nd in no_decay)\n",
        "                                       ],\n",
        "                         \"weight_decay\": 0.001,\n",
        "                         },\n",
        "                        {\n",
        "                            \"params\": [\n",
        "                                       p for n, p in param_optimizer if any(nd in n for nd in no_decay)\n",
        "                                       ],\n",
        "                         \"weight_decay\": 0.0,\n",
        "                         },\n",
        "                        ]\n",
        "\n",
        "num_train_steps = int(len(train_data) / Config.TRAIN_BATCH_SIZE * Config.EPOCHS)\n",
        "optimizer = AdamW(optimizer_parameters, lr=3e-5)\n",
        "scheduler = get_linear_schedule_with_warmup(\n",
        "    optimizer, num_warmup_steps=0, num_training_steps=num_train_steps\n",
        "    )\n",
        "\n",
        "history = defaultdict(list)\n",
        "\n",
        "best_accuracy = 0\n",
        "for epoch in range(1, Config.EPOCHS+1):\n",
        "  train_outputs, train_labels, train_loss = train_fn(train_dataloader, model, optimizer, Config.DEVICE, scheduler)\n",
        "  valid_outputs, valid_labels, valid_loss = eval_fn(valid_dataloader, model, Config.DEVICE)\n",
        "  \n",
        "  train_outputs = np.array(train_outputs) >= 0.5\n",
        "  valid_outputs = np.array(valid_outputs) >= 0.5\n",
        "\n",
        "  train_accuracy = metrics.accuracy_score(train_labels, train_outputs)\n",
        "  valid_accuracy = metrics.accuracy_score(valid_labels, valid_outputs)\n",
        "\n",
        "  print(f\"Epoch: {epoch}\\nTrain Loss: {train_loss} - Train Accuracy: {train_accuracy} \\nValid Loss: {valid_loss} - Valid Accuracy: {valid_accuracy}\\n\")\n",
        "  \n",
        "  history['Train Loss'].append(train_loss)\n",
        "  history['Train Accuracy'].append(train_accuracy)\n",
        "  history['Valid Loss'].append(valid_loss)\n",
        "  history['Valid Accuracy'].append(valid_accuracy)\n",
        "  \n",
        "  if valid_accuracy > best_accuracy:\n",
        "    torch.save(model.state_dict(), Config.MODEL_PATH)\n",
        "    best_accuracy = valid_accuracy"
      ],
      "execution_count": null,
      "outputs": []
    },
    {
      "cell_type": "markdown",
      "metadata": {
        "id": "gi4wQN77rWIN"
      },
      "source": [
        "### Error Analysis & Performance auditing"
      ]
    },
    {
      "cell_type": "code",
      "metadata": {
        "id": "y-LtJ10E5qGv"
      },
      "source": [
        "def get_metrics(labels, outputs):\n",
        "  accuracy = metrics.accuracy_score(labels, outputs)\n",
        "  recall = metrics.recall_score(labels, outputs)\n",
        "  precision = metrics.precision_score(labels, outputs)\n",
        "  f1 = metrics.f1_score(labels, outputs)\n",
        "  return accuracy, recall, precision, f1"
      ],
      "execution_count": null,
      "outputs": []
    },
    {
      "cell_type": "code",
      "metadata": {
        "colab": {
          "base_uri": "https://localhost:8080/",
          "height": 697
        },
        "id": "Kq73kbX_7jBH",
        "outputId": "ef06e093-916a-440c-d851-ae1b25d58c55"
      },
      "source": [
        "accuracy, recall, precision, f1 = get_metrics(valid_labels, valid_outputs)\n",
        "\n",
        "print(\"===\"*50)\n",
        "print(\"\\nResults summary\\n\")\n",
        "print(f\"Accuracy Score  : {accuracy}\")\n",
        "print(f\"Recall Score    : {recall}\")\n",
        "print(f\"Precision Score : {precision}\")\n",
        "print(f\"F1 Score        : {f1}\")\n",
        "\n",
        "print(\"===\"*50)\n",
        "print(\"\\nClassification report \\n\\n\", metrics.classification_report(valid_labels, valid_outputs))\n",
        "\n",
        "print(\"===\"*50)\n",
        "cm = metrics.confusion_matrix(valid_labels, valid_outputs)\n",
        "fig, ax = plt.subplots()\n",
        "sns.heatmap(cm, annot=True, fmt='d', ax=ax, cmap=plt.cm.Blues, cbar=False)\n",
        "ax.set(xlabel=\"Predicted Label\", \n",
        "       ylabel=\"True Label\", \n",
        "       xticklabels=np.unique(valid_labels), \n",
        "       yticklabels=np.unique(valid_labels), \n",
        "       title=\"CONFUSION MATRIX\")\n",
        "plt.yticks(rotation=0);"
      ],
      "execution_count": null,
      "outputs": [
        {
          "output_type": "stream",
          "name": "stdout",
          "text": [
            "======================================================================================================================================================\n",
            "\n",
            "Results summary\n",
            "\n",
            "Accuracy Score  : 0.8556\n",
            "Recall Score    : 0.8682634730538922\n",
            "Precision Score : 0.8472925594078691\n",
            "F1 Score        : 0.8576498422712935\n",
            "======================================================================================================================================================\n",
            "\n",
            "Classification report \n",
            "\n",
            "               precision    recall  f1-score   support\n",
            "\n",
            "         0.0       0.86      0.84      0.85      2495\n",
            "         1.0       0.85      0.87      0.86      2505\n",
            "\n",
            "    accuracy                           0.86      5000\n",
            "   macro avg       0.86      0.86      0.86      5000\n",
            "weighted avg       0.86      0.86      0.86      5000\n",
            "\n",
            "======================================================================================================================================================\n"
          ]
        },
        {
          "output_type": "display_data",
          "data": {
            "text/plain": [
              "<Figure size 432x288 with 1 Axes>"
            ],
            "image/png": "[encoded data removed]"
          },
          "metadata": {
            "needs_background": "light"
          }
        }
      ]
    },
    {
      "cell_type": "code",
      "metadata": {
        "id": "hL6kljfpbfR8",
        "colab": {
          "base_uri": "https://localhost:8080/",
          "height": 295
        },
        "outputId": "c27a99f0-4db5-4391-acaa-bf334ad7c28b"
      },
      "source": [
        "plt.plot(history['Train Accuracy'], '-o', label='Train Accuracy')\n",
        "plt.plot(history['Valid Accuracy'], '-o', label='Validation Accuracy')\n",
        "plt.title('Training History')\n",
        "plt.ylabel('Accuracy')\n",
        "plt.xlabel('Epoch')\n",
        "plt.legend()\n",
        "plt.ylim([0, 1]);"
      ],
      "execution_count": null,
      "outputs": [
        {
          "output_type": "display_data",
          "data": {
            "text/plain": [
              "<Figure size 432x288 with 1 Axes>"
            ],
            "image/png": "[encoded data removed]"
          },
          "metadata": {
            "needs_background": "light"
          }
        }
      ]
    },
    {
      "cell_type": "code",
      "metadata": {
        "id": "cLC3AtQib4lQ",
        "colab": {
          "base_uri": "https://localhost:8080/",
          "height": 295
        },
        "outputId": "11e69950-c080-40ed-d245-21b1d2bdf5ae"
      },
      "source": [
        "plt.plot(history['Train Loss'], '-o', label='Train Loss')\n",
        "plt.plot(history['Valid Loss'], '-o', label='Validation Loss')\n",
        "plt.title('Training History')\n",
        "plt.ylabel('Loss')\n",
        "plt.xlabel('Epoch')\n",
        "plt.legend()\n",
        "plt.ylim([0, 1]);"
      ],
      "execution_count": null,
      "outputs": [
        {
          "output_type": "display_data",
          "data": {
            "text/plain": [
              "<Figure size 432x288 with 1 Axes>"
            ],
            "image/png": "[encoded data removed]"
          },
          "metadata": {
            "needs_background": "light"
          }
        }
      ]
    },
    {
      "cell_type": "markdown",
      "metadata": {
        "id": "eTT2RGIgbZKn"
      },
      "source": [
        "### Inference"
      ]
    },
    {
      "cell_type": "code",
      "metadata": {
        "id": "PN3qUp22bYLa"
      },
      "source": [
        "model = BERTModel()\n",
        "model.to(Config.DEVICE)\n",
        "model.load_state_dict(\n",
        "    torch.load(\n",
        "        Config.MODEL_PATH,\n",
        "        map_location=torch.device(Config.DEVICE)\n",
        "        )\n",
        "    )\n",
        "\n",
        "def predict(review: str):\n",
        "  data = DataProcess(review)\n",
        "  input_ids, attention_mask, token_type_ids = data.preprocess_bert()\n",
        "  \n",
        "  input_ids = input_ids.to(Config.DEVICE, dtype=torch.long)\n",
        "  attention_mask = attention_mask.to(Config.DEVICE, dtype=torch.long)\n",
        "  token_type_ids = token_type_ids.to(Config.DEVICE, dtype=torch.long)\n",
        "  \n",
        "  outputs = model(input_ids, attention_mask, token_type_ids) \n",
        "  positive_prediction = data.preprocess_output(outputs)\n",
        "  negative_prediction = 1 - positive_prediction\n",
        "  \n",
        "  return {\n",
        "      \"review\": review,\n",
        "      \"positive\": str(positive_prediction),\n",
        "      \"negative\": str(negative_prediction),\n",
        "  }"
      ],
      "execution_count": null,
      "outputs": []
    },
    {
      "cell_type": "code",
      "metadata": {
        "id": "CwgblZ27KcaN",
        "colab": {
          "base_uri": "https://localhost:8080/"
        },
        "outputId": "e53c9fee-a9b9-4743-c3bd-a9d5b7ca32a6"
      },
      "source": [
        "sentiment = predict(\"I like this amazing movie\")\n",
        "print(sentiment)"
      ],
      "execution_count": null,
      "outputs": [
        {
          "output_type": "stream",
          "name": "stdout",
          "text": [
            "{'review': 'I like this amazing movie', 'positive': '0.9976132', 'negative': '0.002386808395385742'}\n"
          ]
        }
      ]
    },
    {
      "cell_type": "code",
      "metadata": {
        "id": "IWmmV5PZ0HIf"
      },
      "source": [],
      "execution_count": null,
      "outputs": []
    },
    {
      "cell_type": "markdown",
      "metadata": {
        "id": "kCvz-6UbmY5V"
      },
      "source": [
        "### References:\n",
        "\n",
        "* **Jacob Devlin, Ming-Wei Chang, Kenton Lee, and Kristina Toutanova. 2019. [BERT: Pre-training of deep bidirectional transformers for language understanding](https://arxiv.org/abs/1810.04805). In North American Association for Computational Linguistics (NAACL). arXiv preprint arXiv:1810.04805.**\n"
      ]
    }
  ]
}