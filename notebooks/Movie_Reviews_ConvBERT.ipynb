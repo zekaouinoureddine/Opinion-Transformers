{
  "cells": [
    {
      "cell_type": "markdown",
      "metadata": {
        "id": "view-in-github",
        "colab_type": "text"
      },
      "source": [
        "<a href=\"https://colab.research.google.com/github/zekaouinoureddine/Advanced-transformer-based-models-on-opinion-mining/blob/master/notebooks/Movie_Reviews_ConvBERT.ipynb\" target=\"_parent\"><img src=\"https://colab.research.google.com/assets/colab-badge.svg\" alt=\"Open In Colab\"/></a>"
      ]
    },
    {
      "cell_type": "markdown",
      "metadata": {
        "id": "yqQZXrZ82S19"
      },
      "source": [
        "---\n",
        "<h1 align=\"center\"><strong>Movie Reviews ConvBERT</strong></h1>\n",
        "\n",
        "---"
      ]
    },
    {
      "cell_type": "code",
      "execution_count": null,
      "metadata": {
        "colab": {
          "base_uri": "https://localhost:8080/"
        },
        "id": "qqU5zBB_2KHw",
        "outputId": "6471345e-9cb4-498c-9208-c77eed1c3774"
      },
      "outputs": [
        {
          "name": "stdout",
          "output_type": "stream",
          "text": [
            "\u001b[K     |████████████████████████████████| 4.0 MB 5.0 MB/s \n",
            "\u001b[K     |████████████████████████████████| 77 kB 6.6 MB/s \n",
            "\u001b[K     |████████████████████████████████| 596 kB 80.9 MB/s \n",
            "\u001b[K     |████████████████████████████████| 895 kB 81.1 MB/s \n",
            "\u001b[K     |████████████████████████████████| 6.6 MB 78.2 MB/s \n",
            "\u001b[?25h"
          ]
        }
      ],
      "source": [
        "!pip install transformers -q"
      ]
    },
    {
      "cell_type": "markdown",
      "metadata": {
        "id": "s5Zn0zta6AcX"
      },
      "source": [
        "### Required Libraries"
      ]
    },
    {
      "cell_type": "code",
      "execution_count": null,
      "metadata": {
        "id": "CfWe_FtU6Cal"
      },
      "outputs": [],
      "source": [
        "import pandas as pd\n",
        "import numpy as np\n",
        "import matplotlib.pyplot as plt\n",
        "import seaborn as sns\n",
        "\n",
        "import torch\n",
        "import torch.nn as nn\n",
        "from torch.utils.data import Dataset, DataLoader\n",
        "\n",
        "from tqdm import tqdm\n",
        "\n",
        "import transformers\n",
        "from transformers import AdamW, get_linear_schedule_with_warmup\n",
        "\n",
        "from sklearn.model_selection import train_test_split\n",
        "from sklearn import metrics\n",
        "\n",
        "from collections import defaultdict\n",
        "\n",
        "import warnings\n",
        "warnings.filterwarnings('ignore')"
      ]
    },
    {
      "cell_type": "code",
      "execution_count": null,
      "metadata": {
        "colab": {
          "base_uri": "https://localhost:8080/"
        },
        "id": "BOfac3pS6Il-",
        "outputId": "e3cb80c8-92ca-4be6-ec3c-1e5658bf65a2"
      },
      "outputs": [
        {
          "name": "stdout",
          "output_type": "stream",
          "text": [
            "/usr/local/lib/python3.7/dist-packages/gdown/cli.py:131: FutureWarning: Option `--id` was deprecated in version 4.3.1 and will be removed in 5.0. You don't need to pass it anymore to use a file ID.\n",
            "  category=FutureWarning,\n",
            "Archive:  IMDb.zip\n",
            "  inflating: IMDB Dataset.csv        \n"
          ]
        }
      ],
      "source": [
        "!gdown --id 1xJYm-tNMllxx82_CQ1K1R5q0JW9KUV1j -q\n",
        "!unzip IMDb.zip"
      ]
    },
    {
      "cell_type": "code",
      "execution_count": null,
      "metadata": {
        "colab": {
          "base_uri": "https://localhost:8080/",
          "height": 369
        },
        "id": "4co_N6Ty6L3B",
        "outputId": "edfbf1e2-66af-4cce-f23a-c8402603f06a"
      },
      "outputs": [
        {
          "data": {
            "image/png": "[encoded data removed]",
            "text/plain": [
              "<Figure size 360x360 with 1 Axes>"
            ]
          },
          "metadata": {},
          "output_type": "display_data"
        }
      ],
      "source": [
        "df = pd.read_csv(\"IMDB Dataset.csv\")\n",
        "\n",
        "df[\"sentiment\"].value_counts().plot(kind='bar',\n",
        "                                    color=['green','red'],\n",
        "                                    title='Distribution of Positive and Negative Reviews',\n",
        "                                    figsize=(5,5));"
      ]
    },
    {
      "cell_type": "markdown",
      "metadata": {
        "id": "AeGYpUav6Qcg"
      },
      "source": [
        "### Config"
      ]
    },
    {
      "cell_type": "code",
      "execution_count": null,
      "metadata": {
        "colab": {
          "base_uri": "https://localhost:8080/",
          "height": 113,
          "referenced_widgets": [
            "ace639ff37294ab083a9ae5642cc6812",
            "49fc0277b77a4c4c84fe89b07566886f",
            "bfc119abad7d49b5a3ee2c36981aa7a1",
            "b5db0a31e02544fe8168b133acadd715",
            "24221d0d1dd24b13958c27b1508a477e",
            "3eb691c7d2b249e39a9b9df31f8bca4c",
            "0ac9d0b0e3b54395941fa2e41cdbf33d",
            "6ef2569917284d8e875707e705b598a2",
            "5aa92b69e6a947bb85f15d21c3a15d93",
            "3f157176406341e28461a4c9a5a6c577",
            "25f089dac2ec44b48604daebbeb0c109",
            "c481a01c134e4e05a7f34ad387c893c1",
            "4938585ff14f4a3aaa583664dfff357d",
            "f69aec5113974899a0df3148616447cb",
            "59a0186cef314347b9f04c35af8db0ae",
            "d26756072b684c18928ad558aa9d2c7e",
            "4404df25aa9e465ca7683da24e55227c",
            "78e0874329d44195ae1be8303d9b277e",
            "2ba6064ad30c4284802f339af24346a6",
            "74a82629d0c04acdb92266e423c7a0ef",
            "116635e8b19b43a7a942ff4963098178",
            "17f704e026774a4d9b53089ec47345b1",
            "3379ee63faaa483f9ab08f2b7cd2452d",
            "8b285f10657a464291f531d1c0641535",
            "f53f9a316ea84f94be9c160078dba988",
            "9d68bd83f87c43db811d5e337009ff30",
            "4a02c340b9c640d0abb395c7093c051e",
            "388aacb21a734ad2b6c6bfe8a6143574",
            "4f4d6e443f1c4c62b6baf2879be84dce",
            "40163e810af24e0aa70027fa394ff7a2",
            "467b1192494948b3a1291e5d5ef6294e",
            "9faaf8e6edd5431a9626abf26adc0bc2",
            "d4634557dd3549e7ae743ccdc2caf6b7"
          ]
        },
        "id": "DZhg7GmD6PL2",
        "outputId": "0e7ba57c-3ef2-4637-eefb-98be6234345a"
      },
      "outputs": [
        {
          "data": {
            "application/vnd.jupyter.widget-view+json": {
              "model_id": "ace639ff37294ab083a9ae5642cc6812",
              "version_major": 2,
              "version_minor": 0
            },
            "text/plain": [
              "Downloading:   0%|          | 0.00/260k [00:00<?, ?B/s]"
            ]
          },
          "metadata": {},
          "output_type": "display_data"
        },
        {
          "data": {
            "application/vnd.jupyter.widget-view+json": {
              "model_id": "c481a01c134e4e05a7f34ad387c893c1",
              "version_major": 2,
              "version_minor": 0
            },
            "text/plain": [
              "Downloading:   0%|          | 0.00/674 [00:00<?, ?B/s]"
            ]
          },
          "metadata": {},
          "output_type": "display_data"
        },
        {
          "data": {
            "application/vnd.jupyter.widget-view+json": {
              "model_id": "3379ee63faaa483f9ab08f2b7cd2452d",
              "version_major": 2,
              "version_minor": 0
            },
            "text/plain": [
              "Downloading:   0%|          | 0.00/403M [00:00<?, ?B/s]"
            ]
          },
          "metadata": {},
          "output_type": "display_data"
        }
      ],
      "source": [
        "class Config:\n",
        "  MAX_LEN = 384\n",
        "  TRAIN_BATCH_SIZE = 8\n",
        "  VALID_BATCH_SIZE = 4\n",
        "  EPOCHS = 4\n",
        "  DEVICE = torch.device(\"cuda\" if torch.cuda.is_available() else \"cpu\")\n",
        "\n",
        "  ConvBERT_PATH = \"YituTech/conv-bert-base\"\n",
        "  MODEL_PATH = \"ConvBERTModel.bin\"\n",
        "  TRAINING_DATA = \"IMDB Dataset.csv\"\n",
        "\n",
        "  TOKENIZER = transformers.ConvBertTokenizer.from_pretrained(ConvBERT_PATH, do_lower_case=True)\n",
        "  MODEL = transformers.ConvBertModel.from_pretrained(ConvBERT_PATH, return_dict=False)"
      ]
    },
    {
      "cell_type": "markdown",
      "metadata": {
        "id": "hcOd1D6p7FGT"
      },
      "source": [
        "### Dataset"
      ]
    },
    {
      "cell_type": "code",
      "execution_count": null,
      "metadata": {
        "id": "Gb2WOdjo64nd"
      },
      "outputs": [],
      "source": [
        "class DataProcess:\n",
        "  def __init__(self, review):\n",
        "    self.tokenizer = Config.TOKENIZER\n",
        "    self.max_len = Config.MAX_LEN\n",
        "    self.review = review\n",
        "    \n",
        "  def preprocess_bert(self):\n",
        "    reviw = \" \".join(self.review.split())\n",
        "    inputs = self.tokenizer.encode_plus(\n",
        "        reviw,\n",
        "        None,\n",
        "        add_special_tokens=True,\n",
        "        max_length=self.max_len,\n",
        "        # padding = \"max_length\",\n",
        "        truncation=True\n",
        "        )\n",
        "\n",
        "    input_ids = inputs[\"input_ids\"]\n",
        "    attention_mask = inputs[\"attention_mask\"]\n",
        "    token_type_ids = inputs[\"token_type_ids\"]\n",
        "\n",
        "    return (\n",
        "        torch.tensor(input_ids, dtype=torch.long).unsqueeze(0),\n",
        "        torch.tensor(attention_mask, dtype=torch.long).unsqueeze(0),\n",
        "        torch.tensor(token_type_ids, dtype=torch.long).unsqueeze(0)\n",
        "        )\n",
        "    \n",
        "  def preprocess_output(self, outputs):\n",
        "    outputs = torch.sigmoid(outputs).cpu().detach().numpy()\n",
        "    return outputs[0][0]\n",
        "\n",
        "class MovieReviewDatSet:\n",
        "  def __init__(self, data_path):\n",
        "    \n",
        "    self.data = pd.read_csv(data_path).fillna('none')\n",
        "    self.data.sentiment = self.data.sentiment.apply(lambda x: 1 if x == \"positive\" else 0)\n",
        "    self.data = self.data.reset_index(drop=True)\n",
        "    self.tokenizer = Config.TOKENIZER\n",
        "    self.max_len = Config.MAX_LEN\n",
        "    self.review = self.data.review.values\n",
        "    self.label = self.data.sentiment.values\n",
        "\n",
        "  def __len__(self):\n",
        "    return len(self.review)\n",
        "\n",
        "  def __getitem__(self, item):\n",
        "    review = str(self.review[item])\n",
        "    review = \" \".join(review.split())\n",
        "\n",
        "    inputs = self.tokenizer.encode_plus(\n",
        "        review,\n",
        "        None,\n",
        "        add_special_tokens = True,\n",
        "        max_length = self.max_len,\n",
        "        padding = \"max_length\",\n",
        "        truncation= True\n",
        "    )\n",
        "\n",
        "    input_ids = inputs[\"input_ids\"]\n",
        "    attention_mask = inputs[\"attention_mask\"]\n",
        "    token_type_ids = inputs[\"token_type_ids\"]\n",
        "\n",
        "    return {\n",
        "        \"input_ids\" : torch.tensor(input_ids, dtype=torch.long),\n",
        "        \"attention_mask\" : torch.tensor(attention_mask, dtype=torch.long),\n",
        "        \"token_type_ids\" : torch.tensor(token_type_ids, dtype=torch.long),\n",
        "        \"labels\" : torch.tensor(self.label[item], dtype=torch.float)\n",
        "        }"
      ]
    },
    {
      "cell_type": "markdown",
      "metadata": {
        "id": "It68asDB7iLZ"
      },
      "source": [
        "### Model"
      ]
    },
    {
      "cell_type": "markdown",
      "metadata": {
        "id": "1oY0UqtQ968n"
      },
      "source": [
        "![mrconvbert.png](data:image/png;base64,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)"
      ]
    },
    {
      "cell_type": "code",
      "execution_count": null,
      "metadata": {
        "id": "PfOsYI7r7hfr"
      },
      "outputs": [],
      "source": [
        "class ConvBERTModel(nn.Module):\n",
        "  def __init__(self):\n",
        "    super(ConvBERTModel, self).__init__()\n",
        "    self.convbert = Config.MODEL\n",
        "    self.convbert_drop = nn.Dropout(0.3)\n",
        "    self.out = nn.Linear(768, 1)\n",
        "\n",
        "  def forward(self, input_ids, attention_mask, token_type_ids):\n",
        "    outputs  = self.convbert(input_ids=input_ids, attention_mask=attention_mask, token_type_ids = token_type_ids)\n",
        "    hidden_states = outputs[0] # Last hidden state (bs, seq_len, dim)\n",
        "    cbo = self.convbert_drop(hidden_states[:, 0]) # Pooled output (bs, dim)\n",
        "    output = self.out(cbo)\n",
        "    \n",
        "    return output"
      ]
    },
    {
      "cell_type": "markdown",
      "metadata": {
        "id": "gaUizEqF78zy"
      },
      "source": [
        "### Engine"
      ]
    },
    {
      "cell_type": "code",
      "execution_count": null,
      "metadata": {
        "id": "wC4MhiFf78NT"
      },
      "outputs": [],
      "source": [
        "def loss_fn(outputs, labels):\n",
        "  return nn.BCEWithLogitsLoss()(outputs, labels.view(-1, 1))\n",
        "\n",
        "def train_fn(train_dataloader, model, optimizer, device, scheduler):\n",
        "  model.train()\n",
        "  final_loss = 0\n",
        "\n",
        "  fin_labels = []\n",
        "  fin_outputs = []\n",
        "  for bi, d in tqdm(enumerate(train_dataloader), total=len(train_dataloader)):\n",
        "    input_ids = d[\"input_ids\"]\n",
        "    attention_mask = d[\"attention_mask\"]\n",
        "    token_type_ids = d[\"token_type_ids\"]\n",
        "    labels = d[\"labels\"]\n",
        "\n",
        "    input_ids = input_ids.to(device, dtype=torch.long)\n",
        "    attention_mask = attention_mask.to(device, dtype=torch.long)\n",
        "    token_type_ids = token_type_ids.to(device, dtype = torch.long)\n",
        "    labels = labels.to(device, dtype = torch.float)\n",
        "\n",
        "    optimizer.zero_grad()\n",
        "    outputs = model(input_ids=input_ids, attention_mask=attention_mask, token_type_ids = token_type_ids)\n",
        "    loss = loss_fn(outputs, labels)\n",
        "    \n",
        "    final_loss += loss.item()\n",
        "    fin_labels.extend(labels.cpu().detach().numpy().tolist())\n",
        "    fin_outputs.extend(torch.sigmoid(outputs).cpu().detach().numpy().tolist())\n",
        "    \n",
        "    loss.backward()\n",
        "    optimizer.step()\n",
        "    scheduler.step()\n",
        "\n",
        "  return fin_outputs, fin_labels, final_loss/len(train_dataloader)\n",
        "\n",
        "def eval_fn(valid_dataloader, model, device):\n",
        "  model.eval()\n",
        "  final_loss = 0\n",
        "\n",
        "  fin_labels = []\n",
        "  fin_outputs = []\n",
        "  with torch.no_grad():\n",
        "    for bi, d in tqdm(enumerate(valid_dataloader), total=len(valid_dataloader)):\n",
        "      input_ids = d[\"input_ids\"]\n",
        "      attention_mask = d[\"attention_mask\"]\n",
        "      token_type_ids = d[\"token_type_ids\"]\n",
        "      labels = d[\"labels\"]\n",
        "\n",
        "      input_ids = input_ids.to(device, dtype=torch.long)\n",
        "      attention_mask = attention_mask.to(device, dtype=torch.long)\n",
        "      token_type_ids = token_type_ids.to(device, dtype = torch.long)\n",
        "      labels = labels.to(device, dtype = torch.float)\n",
        "\n",
        "      outputs = model(input_ids=input_ids, attention_mask=attention_mask, token_type_ids = token_type_ids)\n",
        "      \n",
        "      loss = loss_fn(outputs, labels)\n",
        "      final_loss += loss.item()\n",
        "      \n",
        "      fin_labels.extend(labels.cpu().detach().numpy().tolist())\n",
        "      fin_outputs.extend(torch.sigmoid(outputs).cpu().detach().numpy().tolist())\n",
        "      \n",
        "\n",
        "  return fin_outputs, fin_labels, final_loss/len(valid_dataloader)"
      ]
    },
    {
      "cell_type": "markdown",
      "metadata": {
        "id": "t2e3DOT_8G4R"
      },
      "source": [
        "### Train"
      ]
    },
    {
      "cell_type": "code",
      "execution_count": null,
      "metadata": {
        "colab": {
          "background_save": true
        },
        "id": "a5oxO0bj8F8_",
        "outputId": "d6ffda97-d7da-4841-c9c4-55cc63522a47"
      },
      "outputs": [
        {
          "name": "stderr",
          "output_type": "stream",
          "text": [
            "100%|██████████| 5625/5625 [07:47<00:00, 12.04it/s]\n",
            "100%|██████████| 1250/1250 [00:30<00:00, 41.55it/s]\n"
          ]
        },
        {
          "name": "stdout",
          "output_type": "stream",
          "text": [
            "Epoch: 1\n",
            "Train Loss: 0.19614860207157003 - Train Accuracy: 0.9241555555555555 \n",
            "Valid Loss: 0.17254967720415443 - Valid Accuracy: 0.942\n",
            "\n"
          ]
        },
        {
          "name": "stderr",
          "output_type": "stream",
          "text": [
            "100%|██████████| 5625/5625 [07:50<00:00, 11.96it/s]\n",
            "100%|██████████| 1250/1250 [00:30<00:00, 40.91it/s]\n"
          ]
        },
        {
          "name": "stdout",
          "output_type": "stream",
          "text": [
            "Epoch: 2\n",
            "Train Loss: 0.09405215767795841 - Train Accuracy: 0.9687777777777777 \n",
            "Valid Loss: 0.1940195658736862 - Valid Accuracy: 0.9444\n",
            "\n"
          ]
        },
        {
          "name": "stderr",
          "output_type": "stream",
          "text": [
            "100%|██████████| 5625/5625 [07:48<00:00, 11.99it/s]\n",
            "100%|██████████| 1250/1250 [00:30<00:00, 41.32it/s]"
          ]
        },
        {
          "name": "stdout",
          "output_type": "stream",
          "text": [
            "Epoch: 3\n",
            "Train Loss: 0.0417939454405879 - Train Accuracy: 0.9885777777777778 \n",
            "Valid Loss: 0.21908327355948276 - Valid Accuracy: 0.9442\n",
            "\n"
          ]
        },
        {
          "name": "stderr",
          "output_type": "stream",
          "text": [
            "\n",
            "100%|██████████| 5625/5625 [07:47<00:00, 12.03it/s]\n",
            "100%|██████████| 1250/1250 [00:30<00:00, 41.17it/s]\n"
          ]
        },
        {
          "name": "stdout",
          "output_type": "stream",
          "text": [
            "Epoch: 4\n",
            "Train Loss: 0.02189977516764775 - Train Accuracy: 0.9952888888888889 \n",
            "Valid Loss: 0.22896054397714324 - Valid Accuracy: 0.9452\n",
            "\n"
          ]
        }
      ],
      "source": [
        "dataset = MovieReviewDatSet(Config.TRAINING_DATA)\n",
        "\n",
        "train_data, valid_data = train_test_split(dataset, test_size = 0.1)\n",
        "train_dataloader = DataLoader(train_data, batch_size=Config.TRAIN_BATCH_SIZE, num_workers=4)\n",
        "valid_dataloader = DataLoader(valid_data, batch_size=Config.VALID_BATCH_SIZE, num_workers=1)\n",
        "\n",
        "model = ConvBERTModel()\n",
        "model.to(Config.DEVICE)\n",
        "\n",
        "param_optimizer = list(model.named_parameters())\n",
        "no_decay = [\"bias\", \"LayerNorm.bias\", \"LayerNorm.weight\"]\n",
        "optimizer_parameters = [\n",
        "                        {\n",
        "                            \"params\": [\n",
        "                                       p for n, p in param_optimizer if not any(nd in n for nd in no_decay)\n",
        "                                       ],\n",
        "                         \"weight_decay\": 0.001,\n",
        "                         },\n",
        "                        {\n",
        "                            \"params\": [\n",
        "                                       p for n, p in param_optimizer if any(nd in n for nd in no_decay)\n",
        "                                       ],\n",
        "                         \"weight_decay\": 0.0,\n",
        "                         },\n",
        "                        ]\n",
        "\n",
        "num_train_steps = int(len(train_data) / Config.TRAIN_BATCH_SIZE * Config.EPOCHS)\n",
        "optimizer = AdamW(optimizer_parameters, lr=3e-5)\n",
        "scheduler = get_linear_schedule_with_warmup(\n",
        "    optimizer, num_warmup_steps=0, num_training_steps=num_train_steps\n",
        "    )\n",
        "\n",
        "history = defaultdict(list)\n",
        "\n",
        "best_accuracy = 0\n",
        "for epoch in range(1, Config.EPOCHS+1):\n",
        "  train_outputs, train_labels, train_loss = train_fn(train_dataloader, model, optimizer, Config.DEVICE, scheduler)\n",
        "  valid_outputs, valid_labels, valid_loss = eval_fn(valid_dataloader, model, Config.DEVICE)\n",
        "  \n",
        "  train_outputs = np.array(train_outputs) >= 0.5\n",
        "  valid_outputs = np.array(valid_outputs) >= 0.5\n",
        "\n",
        "  train_accuracy = metrics.accuracy_score(train_labels, train_outputs)\n",
        "  valid_accuracy = metrics.accuracy_score(valid_labels, valid_outputs)\n",
        "\n",
        "  print(f\"Epoch: {epoch}\\nTrain Loss: {train_loss} - Train Accuracy: {train_accuracy} \\nValid Loss: {valid_loss} - Valid Accuracy: {valid_accuracy}\\n\")\n",
        "  \n",
        "  history['Train Loss'].append(train_loss)\n",
        "  history['Train Accuracy'].append(train_accuracy)\n",
        "  history['Valid Loss'].append(valid_loss)\n",
        "  history['Valid Accuracy'].append(valid_accuracy)\n",
        "  \n",
        "  if valid_accuracy > best_accuracy:\n",
        "    torch.save(model.state_dict(), Config.MODEL_PATH)\n",
        "    best_accuracy = valid_accuracy"
      ]
    },
    {
      "cell_type": "markdown",
      "metadata": {
        "id": "ozwtaJHT8-E4"
      },
      "source": [
        "### Error Analysis & Performance Auditing"
      ]
    },
    {
      "cell_type": "code",
      "execution_count": null,
      "metadata": {
        "colab": {
          "background_save": true
        },
        "id": "CLEhy7Z78LF5"
      },
      "outputs": [],
      "source": [
        "def get_metrics(labels, outputs):\n",
        "  accuracy = metrics.accuracy_score(labels, outputs)\n",
        "  recall = metrics.recall_score(labels, outputs)\n",
        "  precision = metrics.precision_score(labels, outputs)\n",
        "  f1 = metrics.f1_score(labels, outputs)\n",
        "  return accuracy, recall, precision, f1"
      ]
    },
    {
      "cell_type": "code",
      "execution_count": null,
      "metadata": {
        "colab": {
          "background_save": true
        },
        "id": "jXLgzQcw9GFr",
        "outputId": "8590266f-4c8b-46f0-a078-ba6055420124"
      },
      "outputs": [
        {
          "name": "stdout",
          "output_type": "stream",
          "text": [
            "======================================================================================================================================================\n",
            "\n",
            "Results summary\n",
            "\n",
            "Accuracy Score  : 0.9452\n",
            "Recall Score    : 0.9553962564715253\n",
            "Precision Score : 0.9367434595860992\n",
            "F1 Score        : 0.9459779179810726\n",
            "======================================================================================================================================================\n",
            "\n",
            "Classification report \n",
            "\n",
            "               precision    recall  f1-score   support\n",
            "\n",
            "         0.0       0.95      0.93      0.94      2489\n",
            "         1.0       0.94      0.96      0.95      2511\n",
            "\n",
            "    accuracy                           0.95      5000\n",
            "   macro avg       0.95      0.95      0.95      5000\n",
            "weighted avg       0.95      0.95      0.95      5000\n",
            "\n",
            "======================================================================================================================================================\n"
          ]
        },
        {
          "data": {
            "image/png": "[encoded data removed]",
            "text/plain": [
              "<Figure size 432x288 with 1 Axes>"
            ]
          },
          "metadata": {},
          "output_type": "display_data"
        }
      ],
      "source": [
        "accuracy, recall, precision, f1 = get_metrics(valid_labels, valid_outputs)\n",
        "\n",
        "print(\"===\"*50)\n",
        "print(\"\\nResults summary\\n\")\n",
        "print(f\"Accuracy Score  : {accuracy}\")\n",
        "print(f\"Recall Score    : {recall}\")\n",
        "print(f\"Precision Score : {precision}\")\n",
        "print(f\"F1 Score        : {f1}\")\n",
        "\n",
        "print(\"===\"*50)\n",
        "print(\"\\nClassification report \\n\\n\", metrics.classification_report(valid_labels, valid_outputs))\n",
        "\n",
        "print(\"===\"*50)\n",
        "cm = metrics.confusion_matrix(valid_labels, valid_outputs)\n",
        "fig, ax = plt.subplots()\n",
        "sns.heatmap(cm, annot=True, fmt='d', ax=ax, cmap=plt.cm.Blues, cbar=False)\n",
        "ax.set(xlabel=\"Predicted Label\", \n",
        "       ylabel=\"True Label\", \n",
        "       xticklabels=np.unique(valid_labels), \n",
        "       yticklabels=np.unique(valid_labels), \n",
        "       title=\"CONFUSION MATRIX\")\n",
        "plt.yticks(rotation=0);"
      ]
    },
    {
      "cell_type": "code",
      "execution_count": null,
      "metadata": {
        "colab": {
          "background_save": true
        },
        "id": "XwAdubgj9IzF",
        "outputId": "ce7dbe69-9977-464f-d7d8-992d634cc0ce"
      },
      "outputs": [
        {
          "data": {
            "image/png": "[encoded data removed]",
            "text/plain": [
              "<Figure size 432x288 with 1 Axes>"
            ]
          },
          "metadata": {},
          "output_type": "display_data"
        }
      ],
      "source": [
        "plt.plot(history['Train Accuracy'], '-o', label='Train Accuracy')\n",
        "plt.plot(history['Valid Accuracy'], '-o', label='Validation Accuracy')\n",
        "plt.title('Training History')\n",
        "plt.ylabel('Accuracy')\n",
        "plt.xlabel('Epoch')\n",
        "plt.legend()\n",
        "plt.ylim([0, 1]);"
      ]
    },
    {
      "cell_type": "code",
      "execution_count": null,
      "metadata": {
        "colab": {
          "background_save": true
        },
        "id": "pAgzLIuc9Lf7",
        "outputId": "34e7bc5f-7f3c-4ec2-84ec-c532fbe99e1b"
      },
      "outputs": [
        {
          "data": {
            "image/png": "[encoded data removed]",
            "text/plain": [
              "<Figure size 432x288 with 1 Axes>"
            ]
          },
          "metadata": {},
          "output_type": "display_data"
        }
      ],
      "source": [
        "plt.plot(history['Train Loss'], '-o', label='Train Loss')\n",
        "plt.plot(history['Valid Loss'], '-o', label='Validation Loss')\n",
        "plt.title('Training History')\n",
        "plt.ylabel('Loss')\n",
        "plt.xlabel('Epoch')\n",
        "plt.legend()\n",
        "plt.ylim([0, 1]);"
      ]
    },
    {
      "cell_type": "markdown",
      "metadata": {
        "id": "HG5-LWum9Ocu"
      },
      "source": [
        "### Inference"
      ]
    },
    {
      "cell_type": "code",
      "execution_count": null,
      "metadata": {
        "colab": {
          "background_save": true
        },
        "id": "gm2RNID79NiP"
      },
      "outputs": [],
      "source": [
        "model = ConvBERTModel()\n",
        "model.to(Config.DEVICE)\n",
        "model.load_state_dict(\n",
        "    torch.load(\n",
        "        Config.MODEL_PATH,\n",
        "        map_location=torch.device(Config.DEVICE)\n",
        "        )\n",
        "    )\n",
        "\n",
        "def predict(review: str):\n",
        "  data = DataProcess(review)\n",
        "  input_ids, attention_mask, token_type_ids = data.preprocess_bert()\n",
        "  \n",
        "  input_ids = input_ids.to(Config.DEVICE, dtype=torch.long)\n",
        "  attention_mask = attention_mask.to(Config.DEVICE, dtype=torch.long)\n",
        "  token_type_ids = token_type_ids.to(Config.DEVICE, dtype=torch.long)\n",
        "  \n",
        "  outputs = model(input_ids, attention_mask, token_type_ids) \n",
        "  positive_prediction = data.preprocess_output(outputs)\n",
        "  negative_prediction = 1 - positive_prediction\n",
        "  \n",
        "  return {\n",
        "      \"review\": review,\n",
        "      \"positive\": str(positive_prediction),\n",
        "      \"negative\": str(negative_prediction),\n",
        "  }"
      ]
    },
    {
      "cell_type": "code",
      "execution_count": null,
      "metadata": {
        "colab": {
          "background_save": true
        },
        "id": "Jyhh_TTJ9VLO",
        "outputId": "9d3ed036-58f4-4de9-8f3d-4a5b8225ddc8"
      },
      "outputs": [
        {
          "name": "stdout",
          "output_type": "stream",
          "text": [
            "{'review': 'I like this amazing movie', 'positive': '0.994783', 'negative': '0.005217015743255615'}\n"
          ]
        }
      ],
      "source": [
        "sentiment = predict(\"I like this amazing movie\")\n",
        "print(sentiment)"
      ]
    },
    {
      "cell_type": "code",
      "execution_count": null,
      "metadata": {
        "colab": {
          "background_save": true
        },
        "id": "8EPCLgjL9XGf"
      },
      "outputs": [],
      "source": []
    },
    {
      "cell_type": "markdown",
      "metadata": {
        "id": "vZrT3tIq9YBO"
      },
      "source": [
        "### References:\n",
        "* **Zihang Jiang, Weihao Yu, Daquan Zhou, Yunpeng Chen, Jiashi Feng, Shuicheng Yan. 2020. [ConvBERT: Improving BERT with Span-based Dynamic Convolution](https://arxiv.org/abs/2008.02496).  arXiv preprint arXiv:2008.02496.**"
      ]
    }
  ],
  "metadata": {
    "accelerator": "GPU",
    "colab": {
      "provenance": [],
      "include_colab_link": true
    },
    "kernelspec": {
      "display_name": "Python 3",
      "name": "python3"
    },
    "language_info": {
      "name": "python"
    },
    "widgets": {
      "application/vnd.jupyter.widget-state+json": {
        "0ac9d0b0e3b54395941fa2e41cdbf33d": {
          "model_module": "@jupyter-widgets/controls",
          "model_module_version": "1.5.0",
          "model_name": "DescriptionStyleModel",
          "state": {
            "_model_module": "@jupyter-widgets/controls",
            "_model_module_version": "1.5.0",
            "_model_name": "DescriptionStyleModel",
            "_view_count": null,
            "_view_module": "@jupyter-widgets/base",
            "_view_module_version": "1.2.0",
            "_view_name": "StyleView",
            "description_width": ""
          }
        },
        "116635e8b19b43a7a942ff4963098178": {
          "model_module": "@jupyter-widgets/base",
          "model_module_version": "1.2.0",
          "model_name": "LayoutModel",
          "state": {
            "_model_module": "@jupyter-widgets/base",
            "_model_module_version": "1.2.0",
            "_model_name": "LayoutModel",
            "_view_count": null,
            "_view_module": "@jupyter-widgets/base",
            "_view_module_version": "1.2.0",
            "_view_name": "LayoutView",
            "align_content": null,
            "align_items": null,
            "align_self": null,
            "border": null,
            "bottom": null,
            "display": null,
            "flex": null,
            "flex_flow": null,
            "grid_area": null,
            "grid_auto_columns": null,
            "grid_auto_flow": null,
            "grid_auto_rows": null,
            "grid_column": null,
            "grid_gap": null,
            "grid_row": null,
            "grid_template_areas": null,
            "grid_template_columns": null,
            "grid_template_rows": null,
            "height": null,
            "justify_content": null,
            "justify_items": null,
            "left": null,
            "margin": null,
            "max_height": null,
            "max_width": null,
            "min_height": null,
            "min_width": null,
            "object_fit": null,
            "object_position": null,
            "order": null,
            "overflow": null,
            "overflow_x": null,
            "overflow_y": null,
            "padding": null,
            "right": null,
            "top": null,
            "visibility": null,
            "width": null
          }
        },
        "17f704e026774a4d9b53089ec47345b1": {
          "model_module": "@jupyter-widgets/controls",
          "model_module_version": "1.5.0",
          "model_name": "DescriptionStyleModel",
          "state": {
            "_model_module": "@jupyter-widgets/controls",
            "_model_module_version": "1.5.0",
            "_model_name": "DescriptionStyleModel",
            "_view_count": null,
            "_view_module": "@jupyter-widgets/base",
            "_view_module_version": "1.2.0",
            "_view_name": "StyleView",
            "description_width": ""
          }
        },
        "24221d0d1dd24b13958c27b1508a477e": {
          "model_module": "@jupyter-widgets/base",
          "model_module_version": "1.2.0",
          "model_name": "LayoutModel",
          "state": {
            "_model_module": "@jupyter-widgets/base",
            "_model_module_version": "1.2.0",
            "_model_name": "LayoutModel",
            "_view_count": null,
            "_view_module": "@jupyter-widgets/base",
            "_view_module_version": "1.2.0",
            "_view_name": "LayoutView",
            "align_content": null,
            "align_items": null,
            "align_self": null,
            "border": null,
            "bottom": null,
            "display": null,
            "flex": null,
            "flex_flow": null,
            "grid_area": null,
            "grid_auto_columns": null,
            "grid_auto_flow": null,
            "grid_auto_rows": null,
            "grid_column": null,
            "grid_gap": null,
            "grid_row": null,
            "grid_template_areas": null,
            "grid_template_columns": null,
            "grid_template_rows": null,
            "height": null,
            "justify_content": null,
            "justify_items": null,
            "left": null,
            "margin": null,
            "max_height": null,
            "max_width": null,
            "min_height": null,
            "min_width": null,
            "object_fit": null,
            "object_position": null,
            "order": null,
            "overflow": null,
            "overflow_x": null,
            "overflow_y": null,
            "padding": null,
            "right": null,
            "top": null,
            "visibility": null,
            "width": null
          }
        },
        "25f089dac2ec44b48604daebbeb0c109": {
          "model_module": "@jupyter-widgets/controls",
          "model_module_version": "1.5.0",
          "model_name": "DescriptionStyleModel",
          "state": {
            "_model_module": "@jupyter-widgets/controls",
            "_model_module_version": "1.5.0",
            "_model_name": "DescriptionStyleModel",
            "_view_count": null,
            "_view_module": "@jupyter-widgets/base",
            "_view_module_version": "1.2.0",
            "_view_name": "StyleView",
            "description_width": ""
          }
        },
        "2ba6064ad30c4284802f339af24346a6": {
          "model_module": "@jupyter-widgets/base",
          "model_module_version": "1.2.0",
          "model_name": "LayoutModel",
          "state": {
            "_model_module": "@jupyter-widgets/base",
            "_model_module_version": "1.2.0",
            "_model_name": "LayoutModel",
            "_view_count": null,
            "_view_module": "@jupyter-widgets/base",
            "_view_module_version": "1.2.0",
            "_view_name": "LayoutView",
            "align_content": null,
            "align_items": null,
            "align_self": null,
            "border": null,
            "bottom": null,
            "display": null,
            "flex": null,
            "flex_flow": null,
            "grid_area": null,
            "grid_auto_columns": null,
            "grid_auto_flow": null,
            "grid_auto_rows": null,
            "grid_column": null,
            "grid_gap": null,
            "grid_row": null,
            "grid_template_areas": null,
            "grid_template_columns": null,
            "grid_template_rows": null,
            "height": null,
            "justify_content": null,
            "justify_items": null,
            "left": null,
            "margin": null,
            "max_height": null,
            "max_width": null,
            "min_height": null,
            "min_width": null,
            "object_fit": null,
            "object_position": null,
            "order": null,
            "overflow": null,
            "overflow_x": null,
            "overflow_y": null,
            "padding": null,
            "right": null,
            "top": null,
            "visibility": null,
            "width": null
          }
        },
        "3379ee63faaa483f9ab08f2b7cd2452d": {
          "model_module": "@jupyter-widgets/controls",
          "model_module_version": "1.5.0",
          "model_name": "HBoxModel",
          "state": {
            "_dom_classes": [],
            "_model_module": "@jupyter-widgets/controls",
            "_model_module_version": "1.5.0",
            "_model_name": "HBoxModel",
            "_view_count": null,
            "_view_module": "@jupyter-widgets/controls",
            "_view_module_version": "1.5.0",
            "_view_name": "HBoxView",
            "box_style": "",
            "children": [
              "IPY_MODEL_8b285f10657a464291f531d1c0641535",
              "IPY_MODEL_f53f9a316ea84f94be9c160078dba988",
              "IPY_MODEL_9d68bd83f87c43db811d5e337009ff30"
            ],
            "layout": "IPY_MODEL_4a02c340b9c640d0abb395c7093c051e"
          }
        },
        "388aacb21a734ad2b6c6bfe8a6143574": {
          "model_module": "@jupyter-widgets/base",
          "model_module_version": "1.2.0",
          "model_name": "LayoutModel",
          "state": {
            "_model_module": "@jupyter-widgets/base",
            "_model_module_version": "1.2.0",
            "_model_name": "LayoutModel",
            "_view_count": null,
            "_view_module": "@jupyter-widgets/base",
            "_view_module_version": "1.2.0",
            "_view_name": "LayoutView",
            "align_content": null,
            "align_items": null,
            "align_self": null,
            "border": null,
            "bottom": null,
            "display": null,
            "flex": null,
            "flex_flow": null,
            "grid_area": null,
            "grid_auto_columns": null,
            "grid_auto_flow": null,
            "grid_auto_rows": null,
            "grid_column": null,
            "grid_gap": null,
            "grid_row": null,
            "grid_template_areas": null,
            "grid_template_columns": null,
            "grid_template_rows": null,
            "height": null,
            "justify_content": null,
            "justify_items": null,
            "left": null,
            "margin": null,
            "max_height": null,
            "max_width": null,
            "min_height": null,
            "min_width": null,
            "object_fit": null,
            "object_position": null,
            "order": null,
            "overflow": null,
            "overflow_x": null,
            "overflow_y": null,
            "padding": null,
            "right": null,
            "top": null,
            "visibility": null,
            "width": null
          }
        },
        "3eb691c7d2b249e39a9b9df31f8bca4c": {
          "model_module": "@jupyter-widgets/base",
          "model_module_version": "1.2.0",
          "model_name": "LayoutModel",
          "state": {
            "_model_module": "@jupyter-widgets/base",
            "_model_module_version": "1.2.0",
            "_model_name": "LayoutModel",
            "_view_count": null,
            "_view_module": "@jupyter-widgets/base",
            "_view_module_version": "1.2.0",
            "_view_name": "LayoutView",
            "align_content": null,
            "align_items": null,
            "align_self": null,
            "border": null,
            "bottom": null,
            "display": null,
            "flex": null,
            "flex_flow": null,
            "grid_area": null,
            "grid_auto_columns": null,
            "grid_auto_flow": null,
            "grid_auto_rows": null,
            "grid_column": null,
            "grid_gap": null,
            "grid_row": null,
            "grid_template_areas": null,
            "grid_template_columns": null,
            "grid_template_rows": null,
            "height": null,
            "justify_content": null,
            "justify_items": null,
            "left": null,
            "margin": null,
            "max_height": null,
            "max_width": null,
            "min_height": null,
            "min_width": null,
            "object_fit": null,
            "object_position": null,
            "order": null,
            "overflow": null,
            "overflow_x": null,
            "overflow_y": null,
            "padding": null,
            "right": null,
            "top": null,
            "visibility": null,
            "width": null
          }
        },
        "3f157176406341e28461a4c9a5a6c577": {
          "model_module": "@jupyter-widgets/base",
          "model_module_version": "1.2.0",
          "model_name": "LayoutModel",
          "state": {
            "_model_module": "@jupyter-widgets/base",
            "_model_module_version": "1.2.0",
            "_model_name": "LayoutModel",
            "_view_count": null,
            "_view_module": "@jupyter-widgets/base",
            "_view_module_version": "1.2.0",
            "_view_name": "LayoutView",
            "align_content": null,
            "align_items": null,
            "align_self": null,
            "border": null,
            "bottom": null,
            "display": null,
            "flex": null,
            "flex_flow": null,
            "grid_area": null,
            "grid_auto_columns": null,
            "grid_auto_flow": null,
            "grid_auto_rows": null,
            "grid_column": null,
            "grid_gap": null,
            "grid_row": null,
            "grid_template_areas": null,
            "grid_template_columns": null,
            "grid_template_rows": null,
            "height": null,
            "justify_content": null,
            "justify_items": null,
            "left": null,
            "margin": null,
            "max_height": null,
            "max_width": null,
            "min_height": null,
            "min_width": null,
            "object_fit": null,
            "object_position": null,
            "order": null,
            "overflow": null,
            "overflow_x": null,
            "overflow_y": null,
            "padding": null,
            "right": null,
            "top": null,
            "visibility": null,
            "width": null
          }
        },
        "40163e810af24e0aa70027fa394ff7a2": {
          "model_module": "@jupyter-widgets/base",
          "model_module_version": "1.2.0",
          "model_name": "LayoutModel",
          "state": {
            "_model_module": "@jupyter-widgets/base",
            "_model_module_version": "1.2.0",
            "_model_name": "LayoutModel",
            "_view_count": null,
            "_view_module": "@jupyter-widgets/base",
            "_view_module_version": "1.2.0",
            "_view_name": "LayoutView",
            "align_content": null,
            "align_items": null,
            "align_self": null,
            "border": null,
            "bottom": null,
            "display": null,
            "flex": null,
            "flex_flow": null,
            "grid_area": null,
            "grid_auto_columns": null,
            "grid_auto_flow": null,
            "grid_auto_rows": null,
            "grid_column": null,
            "grid_gap": null,
            "grid_row": null,
            "grid_template_areas": null,
            "grid_template_columns": null,
            "grid_template_rows": null,
            "height": null,
            "justify_content": null,
            "justify_items": null,
            "left": null,
            "margin": null,
            "max_height": null,
            "max_width": null,
            "min_height": null,
            "min_width": null,
            "object_fit": null,
            "object_position": null,
            "order": null,
            "overflow": null,
            "overflow_x": null,
            "overflow_y": null,
            "padding": null,
            "right": null,
            "top": null,
            "visibility": null,
            "width": null
          }
        },
        "4404df25aa9e465ca7683da24e55227c": {
          "model_module": "@jupyter-widgets/base",
          "model_module_version": "1.2.0",
          "model_name": "LayoutModel",
          "state": {
            "_model_module": "@jupyter-widgets/base",
            "_model_module_version": "1.2.0",
            "_model_name": "LayoutModel",
            "_view_count": null,
            "_view_module": "@jupyter-widgets/base",
            "_view_module_version": "1.2.0",
            "_view_name": "LayoutView",
            "align_content": null,
            "align_items": null,
            "align_self": null,
            "border": null,
            "bottom": null,
            "display": null,
            "flex": null,
            "flex_flow": null,
            "grid_area": null,
            "grid_auto_columns": null,
            "grid_auto_flow": null,
            "grid_auto_rows": null,
            "grid_column": null,
            "grid_gap": null,
            "grid_row": null,
            "grid_template_areas": null,
            "grid_template_columns": null,
            "grid_template_rows": null,
            "height": null,
            "justify_content": null,
            "justify_items": null,
            "left": null,
            "margin": null,
            "max_height": null,
            "max_width": null,
            "min_height": null,
            "min_width": null,
            "object_fit": null,
            "object_position": null,
            "order": null,
            "overflow": null,
            "overflow_x": null,
            "overflow_y": null,
            "padding": null,
            "right": null,
            "top": null,
            "visibility": null,
            "width": null
          }
        },
        "467b1192494948b3a1291e5d5ef6294e": {
          "model_module": "@jupyter-widgets/controls",
          "model_module_version": "1.5.0",
          "model_name": "ProgressStyleModel",
          "state": {
            "_model_module": "@jupyter-widgets/controls",
            "_model_module_version": "1.5.0",
            "_model_name": "ProgressStyleModel",
            "_view_count": null,
            "_view_module": "@jupyter-widgets/base",
            "_view_module_version": "1.2.0",
            "_view_name": "StyleView",
            "bar_color": null,
            "description_width": ""
          }
        },
        "4938585ff14f4a3aaa583664dfff357d": {
          "model_module": "@jupyter-widgets/controls",
          "model_module_version": "1.5.0",
          "model_name": "HTMLModel",
          "state": {
            "_dom_classes": [],
            "_model_module": "@jupyter-widgets/controls",
            "_model_module_version": "1.5.0",
            "_model_name": "HTMLModel",
            "_view_count": null,
            "_view_module": "@jupyter-widgets/controls",
            "_view_module_version": "1.5.0",
            "_view_name": "HTMLView",
            "description": "",
            "description_tooltip": null,
            "layout": "IPY_MODEL_4404df25aa9e465ca7683da24e55227c",
            "placeholder": "​",
            "style": "IPY_MODEL_78e0874329d44195ae1be8303d9b277e",
            "value": "Downloading: 100%"
          }
        },
        "49fc0277b77a4c4c84fe89b07566886f": {
          "model_module": "@jupyter-widgets/controls",
          "model_module_version": "1.5.0",
          "model_name": "HTMLModel",
          "state": {
            "_dom_classes": [],
            "_model_module": "@jupyter-widgets/controls",
            "_model_module_version": "1.5.0",
            "_model_name": "HTMLModel",
            "_view_count": null,
            "_view_module": "@jupyter-widgets/controls",
            "_view_module_version": "1.5.0",
            "_view_name": "HTMLView",
            "description": "",
            "description_tooltip": null,
            "layout": "IPY_MODEL_3eb691c7d2b249e39a9b9df31f8bca4c",
            "placeholder": "​",
            "style": "IPY_MODEL_0ac9d0b0e3b54395941fa2e41cdbf33d",
            "value": "Downloading: 100%"
          }
        },
        "4a02c340b9c640d0abb395c7093c051e": {
          "model_module": "@jupyter-widgets/base",
          "model_module_version": "1.2.0",
          "model_name": "LayoutModel",
          "state": {
            "_model_module": "@jupyter-widgets/base",
            "_model_module_version": "1.2.0",
            "_model_name": "LayoutModel",
            "_view_count": null,
            "_view_module": "@jupyter-widgets/base",
            "_view_module_version": "1.2.0",
            "_view_name": "LayoutView",
            "align_content": null,
            "align_items": null,
            "align_self": null,
            "border": null,
            "bottom": null,
            "display": null,
            "flex": null,
            "flex_flow": null,
            "grid_area": null,
            "grid_auto_columns": null,
            "grid_auto_flow": null,
            "grid_auto_rows": null,
            "grid_column": null,
            "grid_gap": null,
            "grid_row": null,
            "grid_template_areas": null,
            "grid_template_columns": null,
            "grid_template_rows": null,
            "height": null,
            "justify_content": null,
            "justify_items": null,
            "left": null,
            "margin": null,
            "max_height": null,
            "max_width": null,
            "min_height": null,
            "min_width": null,
            "object_fit": null,
            "object_position": null,
            "order": null,
            "overflow": null,
            "overflow_x": null,
            "overflow_y": null,
            "padding": null,
            "right": null,
            "top": null,
            "visibility": null,
            "width": null
          }
        },
        "4f4d6e443f1c4c62b6baf2879be84dce": {
          "model_module": "@jupyter-widgets/controls",
          "model_module_version": "1.5.0",
          "model_name": "DescriptionStyleModel",
          "state": {
            "_model_module": "@jupyter-widgets/controls",
            "_model_module_version": "1.5.0",
            "_model_name": "DescriptionStyleModel",
            "_view_count": null,
            "_view_module": "@jupyter-widgets/base",
            "_view_module_version": "1.2.0",
            "_view_name": "StyleView",
            "description_width": ""
          }
        },
        "59a0186cef314347b9f04c35af8db0ae": {
          "model_module": "@jupyter-widgets/controls",
          "model_module_version": "1.5.0",
          "model_name": "HTMLModel",
          "state": {
            "_dom_classes": [],
            "_model_module": "@jupyter-widgets/controls",
            "_model_module_version": "1.5.0",
            "_model_name": "HTMLModel",
            "_view_count": null,
            "_view_module": "@jupyter-widgets/controls",
            "_view_module_version": "1.5.0",
            "_view_name": "HTMLView",
            "description": "",
            "description_tooltip": null,
            "layout": "IPY_MODEL_116635e8b19b43a7a942ff4963098178",
            "placeholder": "​",
            "style": "IPY_MODEL_17f704e026774a4d9b53089ec47345b1",
            "value": " 674/674 [00:00&lt;00:00, 25.4kB/s]"
          }
        },
        "5aa92b69e6a947bb85f15d21c3a15d93": {
          "model_module": "@jupyter-widgets/controls",
          "model_module_version": "1.5.0",
          "model_name": "ProgressStyleModel",
          "state": {
            "_model_module": "@jupyter-widgets/controls",
            "_model_module_version": "1.5.0",
            "_model_name": "ProgressStyleModel",
            "_view_count": null,
            "_view_module": "@jupyter-widgets/base",
            "_view_module_version": "1.2.0",
            "_view_name": "StyleView",
            "bar_color": null,
            "description_width": ""
          }
        },
        "6ef2569917284d8e875707e705b598a2": {
          "model_module": "@jupyter-widgets/base",
          "model_module_version": "1.2.0",
          "model_name": "LayoutModel",
          "state": {
            "_model_module": "@jupyter-widgets/base",
            "_model_module_version": "1.2.0",
            "_model_name": "LayoutModel",
            "_view_count": null,
            "_view_module": "@jupyter-widgets/base",
            "_view_module_version": "1.2.0",
            "_view_name": "LayoutView",
            "align_content": null,
            "align_items": null,
            "align_self": null,
            "border": null,
            "bottom": null,
            "display": null,
            "flex": null,
            "flex_flow": null,
            "grid_area": null,
            "grid_auto_columns": null,
            "grid_auto_flow": null,
            "grid_auto_rows": null,
            "grid_column": null,
            "grid_gap": null,
            "grid_row": null,
            "grid_template_areas": null,
            "grid_template_columns": null,
            "grid_template_rows": null,
            "height": null,
            "justify_content": null,
            "justify_items": null,
            "left": null,
            "margin": null,
            "max_height": null,
            "max_width": null,
            "min_height": null,
            "min_width": null,
            "object_fit": null,
            "object_position": null,
            "order": null,
            "overflow": null,
            "overflow_x": null,
            "overflow_y": null,
            "padding": null,
            "right": null,
            "top": null,
            "visibility": null,
            "width": null
          }
        },
        "74a82629d0c04acdb92266e423c7a0ef": {
          "model_module": "@jupyter-widgets/controls",
          "model_module_version": "1.5.0",
          "model_name": "ProgressStyleModel",
          "state": {
            "_model_module": "@jupyter-widgets/controls",
            "_model_module_version": "1.5.0",
            "_model_name": "ProgressStyleModel",
            "_view_count": null,
            "_view_module": "@jupyter-widgets/base",
            "_view_module_version": "1.2.0",
            "_view_name": "StyleView",
            "bar_color": null,
            "description_width": ""
          }
        },
        "78e0874329d44195ae1be8303d9b277e": {
          "model_module": "@jupyter-widgets/controls",
          "model_module_version": "1.5.0",
          "model_name": "DescriptionStyleModel",
          "state": {
            "_model_module": "@jupyter-widgets/controls",
            "_model_module_version": "1.5.0",
            "_model_name": "DescriptionStyleModel",
            "_view_count": null,
            "_view_module": "@jupyter-widgets/base",
            "_view_module_version": "1.2.0",
            "_view_name": "StyleView",
            "description_width": ""
          }
        },
        "8b285f10657a464291f531d1c0641535": {
          "model_module": "@jupyter-widgets/controls",
          "model_module_version": "1.5.0",
          "model_name": "HTMLModel",
          "state": {
            "_dom_classes": [],
            "_model_module": "@jupyter-widgets/controls",
            "_model_module_version": "1.5.0",
            "_model_name": "HTMLModel",
            "_view_count": null,
            "_view_module": "@jupyter-widgets/controls",
            "_view_module_version": "1.5.0",
            "_view_name": "HTMLView",
            "description": "",
            "description_tooltip": null,
            "layout": "IPY_MODEL_388aacb21a734ad2b6c6bfe8a6143574",
            "placeholder": "​",
            "style": "IPY_MODEL_4f4d6e443f1c4c62b6baf2879be84dce",
            "value": "Downloading: 100%"
          }
        },
        "9d68bd83f87c43db811d5e337009ff30": {
          "model_module": "@jupyter-widgets/controls",
          "model_module_version": "1.5.0",
          "model_name": "HTMLModel",
          "state": {
            "_dom_classes": [],
            "_model_module": "@jupyter-widgets/controls",
            "_model_module_version": "1.5.0",
            "_model_name": "HTMLModel",
            "_view_count": null,
            "_view_module": "@jupyter-widgets/controls",
            "_view_module_version": "1.5.0",
            "_view_name": "HTMLView",
            "description": "",
            "description_tooltip": null,
            "layout": "IPY_MODEL_9faaf8e6edd5431a9626abf26adc0bc2",
            "placeholder": "​",
            "style": "IPY_MODEL_d4634557dd3549e7ae743ccdc2caf6b7",
            "value": " 403M/403M [00:07&lt;00:00, 64.5MB/s]"
          }
        },
        "9faaf8e6edd5431a9626abf26adc0bc2": {
          "model_module": "@jupyter-widgets/base",
          "model_module_version": "1.2.0",
          "model_name": "LayoutModel",
          "state": {
            "_model_module": "@jupyter-widgets/base",
            "_model_module_version": "1.2.0",
            "_model_name": "LayoutModel",
            "_view_count": null,
            "_view_module": "@jupyter-widgets/base",
            "_view_module_version": "1.2.0",
            "_view_name": "LayoutView",
            "align_content": null,
            "align_items": null,
            "align_self": null,
            "border": null,
            "bottom": null,
            "display": null,
            "flex": null,
            "flex_flow": null,
            "grid_area": null,
            "grid_auto_columns": null,
            "grid_auto_flow": null,
            "grid_auto_rows": null,
            "grid_column": null,
            "grid_gap": null,
            "grid_row": null,
            "grid_template_areas": null,
            "grid_template_columns": null,
            "grid_template_rows": null,
            "height": null,
            "justify_content": null,
            "justify_items": null,
            "left": null,
            "margin": null,
            "max_height": null,
            "max_width": null,
            "min_height": null,
            "min_width": null,
            "object_fit": null,
            "object_position": null,
            "order": null,
            "overflow": null,
            "overflow_x": null,
            "overflow_y": null,
            "padding": null,
            "right": null,
            "top": null,
            "visibility": null,
            "width": null
          }
        },
        "ace639ff37294ab083a9ae5642cc6812": {
          "model_module": "@jupyter-widgets/controls",
          "model_module_version": "1.5.0",
          "model_name": "HBoxModel",
          "state": {
            "_dom_classes": [],
            "_model_module": "@jupyter-widgets/controls",
            "_model_module_version": "1.5.0",
            "_model_name": "HBoxModel",
            "_view_count": null,
            "_view_module": "@jupyter-widgets/controls",
            "_view_module_version": "1.5.0",
            "_view_name": "HBoxView",
            "box_style": "",
            "children": [
              "IPY_MODEL_49fc0277b77a4c4c84fe89b07566886f",
              "IPY_MODEL_bfc119abad7d49b5a3ee2c36981aa7a1",
              "IPY_MODEL_b5db0a31e02544fe8168b133acadd715"
            ],
            "layout": "IPY_MODEL_24221d0d1dd24b13958c27b1508a477e"
          }
        },
        "b5db0a31e02544fe8168b133acadd715": {
          "model_module": "@jupyter-widgets/controls",
          "model_module_version": "1.5.0",
          "model_name": "HTMLModel",
          "state": {
            "_dom_classes": [],
            "_model_module": "@jupyter-widgets/controls",
            "_model_module_version": "1.5.0",
            "_model_name": "HTMLModel",
            "_view_count": null,
            "_view_module": "@jupyter-widgets/controls",
            "_view_module_version": "1.5.0",
            "_view_name": "HTMLView",
            "description": "",
            "description_tooltip": null,
            "layout": "IPY_MODEL_3f157176406341e28461a4c9a5a6c577",
            "placeholder": "​",
            "style": "IPY_MODEL_25f089dac2ec44b48604daebbeb0c109",
            "value": " 260k/260k [00:00&lt;00:00, 3.39MB/s]"
          }
        },
        "bfc119abad7d49b5a3ee2c36981aa7a1": {
          "model_module": "@jupyter-widgets/controls",
          "model_module_version": "1.5.0",
          "model_name": "FloatProgressModel",
          "state": {
            "_dom_classes": [],
            "_model_module": "@jupyter-widgets/controls",
            "_model_module_version": "1.5.0",
            "_model_name": "FloatProgressModel",
            "_view_count": null,
            "_view_module": "@jupyter-widgets/controls",
            "_view_module_version": "1.5.0",
            "_view_name": "ProgressView",
            "bar_style": "success",
            "description": "",
            "description_tooltip": null,
            "layout": "IPY_MODEL_6ef2569917284d8e875707e705b598a2",
            "max": 266699,
            "min": 0,
            "orientation": "horizontal",
            "style": "IPY_MODEL_5aa92b69e6a947bb85f15d21c3a15d93",
            "value": 266699
          }
        },
        "c481a01c134e4e05a7f34ad387c893c1": {
          "model_module": "@jupyter-widgets/controls",
          "model_module_version": "1.5.0",
          "model_name": "HBoxModel",
          "state": {
            "_dom_classes": [],
            "_model_module": "@jupyter-widgets/controls",
            "_model_module_version": "1.5.0",
            "_model_name": "HBoxModel",
            "_view_count": null,
            "_view_module": "@jupyter-widgets/controls",
            "_view_module_version": "1.5.0",
            "_view_name": "HBoxView",
            "box_style": "",
            "children": [
              "IPY_MODEL_4938585ff14f4a3aaa583664dfff357d",
              "IPY_MODEL_f69aec5113974899a0df3148616447cb",
              "IPY_MODEL_59a0186cef314347b9f04c35af8db0ae"
            ],
            "layout": "IPY_MODEL_d26756072b684c18928ad558aa9d2c7e"
          }
        },
        "d26756072b684c18928ad558aa9d2c7e": {
          "model_module": "@jupyter-widgets/base",
          "model_module_version": "1.2.0",
          "model_name": "LayoutModel",
          "state": {
            "_model_module": "@jupyter-widgets/base",
            "_model_module_version": "1.2.0",
            "_model_name": "LayoutModel",
            "_view_count": null,
            "_view_module": "@jupyter-widgets/base",
            "_view_module_version": "1.2.0",
            "_view_name": "LayoutView",
            "align_content": null,
            "align_items": null,
            "align_self": null,
            "border": null,
            "bottom": null,
            "display": null,
            "flex": null,
            "flex_flow": null,
            "grid_area": null,
            "grid_auto_columns": null,
            "grid_auto_flow": null,
            "grid_auto_rows": null,
            "grid_column": null,
            "grid_gap": null,
            "grid_row": null,
            "grid_template_areas": null,
            "grid_template_columns": null,
            "grid_template_rows": null,
            "height": null,
            "justify_content": null,
            "justify_items": null,
            "left": null,
            "margin": null,
            "max_height": null,
            "max_width": null,
            "min_height": null,
            "min_width": null,
            "object_fit": null,
            "object_position": null,
            "order": null,
            "overflow": null,
            "overflow_x": null,
            "overflow_y": null,
            "padding": null,
            "right": null,
            "top": null,
            "visibility": null,
            "width": null
          }
        },
        "d4634557dd3549e7ae743ccdc2caf6b7": {
          "model_module": "@jupyter-widgets/controls",
          "model_module_version": "1.5.0",
          "model_name": "DescriptionStyleModel",
          "state": {
            "_model_module": "@jupyter-widgets/controls",
            "_model_module_version": "1.5.0",
            "_model_name": "DescriptionStyleModel",
            "_view_count": null,
            "_view_module": "@jupyter-widgets/base",
            "_view_module_version": "1.2.0",
            "_view_name": "StyleView",
            "description_width": ""
          }
        },
        "f53f9a316ea84f94be9c160078dba988": {
          "model_module": "@jupyter-widgets/controls",
          "model_module_version": "1.5.0",
          "model_name": "FloatProgressModel",
          "state": {
            "_dom_classes": [],
            "_model_module": "@jupyter-widgets/controls",
            "_model_module_version": "1.5.0",
            "_model_name": "FloatProgressModel",
            "_view_count": null,
            "_view_module": "@jupyter-widgets/controls",
            "_view_module_version": "1.5.0",
            "_view_name": "ProgressView",
            "bar_style": "success",
            "description": "",
            "description_tooltip": null,
            "layout": "IPY_MODEL_40163e810af24e0aa70027fa394ff7a2",
            "max": 422840281,
            "min": 0,
            "orientation": "horizontal",
            "style": "IPY_MODEL_467b1192494948b3a1291e5d5ef6294e",
            "value": 422840281
          }
        },
        "f69aec5113974899a0df3148616447cb": {
          "model_module": "@jupyter-widgets/controls",
          "model_module_version": "1.5.0",
          "model_name": "FloatProgressModel",
          "state": {
            "_dom_classes": [],
            "_model_module": "@jupyter-widgets/controls",
            "_model_module_version": "1.5.0",
            "_model_name": "FloatProgressModel",
            "_view_count": null,
            "_view_module": "@jupyter-widgets/controls",
            "_view_module_version": "1.5.0",
            "_view_name": "ProgressView",
            "bar_style": "success",
            "description": "",
            "description_tooltip": null,
            "layout": "IPY_MODEL_2ba6064ad30c4284802f339af24346a6",
            "max": 674,
            "min": 0,
            "orientation": "horizontal",
            "style": "IPY_MODEL_74a82629d0c04acdb92266e423c7a0ef",
            "value": 674
          }
        }
      }
    }
  },
  "nbformat": 4,
  "nbformat_minor": 0
}