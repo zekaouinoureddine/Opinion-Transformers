{
  "nbformat": 4,
  "nbformat_minor": 0,
  "metadata": {
    "colab": {
      "provenance": [],
      "include_colab_link": true
    },
    "kernelspec": {
      "name": "python3",
      "display_name": "Python 3"
    },
    "language_info": {
      "name": "python"
    },
    "accelerator": "GPU",
    "widgets": {
      "application/vnd.jupyter.widget-state+json": {
        "8ca6a61f86db48a8b085e43a848d2c90": {
          "model_module": "@jupyter-widgets/controls",
          "model_name": "HBoxModel",
          "model_module_version": "1.5.0",
          "state": {
            "_dom_classes": [],
            "_model_module": "@jupyter-widgets/controls",
            "_model_module_version": "1.5.0",
            "_model_name": "HBoxModel",
            "_view_count": null,
            "_view_module": "@jupyter-widgets/controls",
            "_view_module_version": "1.5.0",
            "_view_name": "HBoxView",
            "box_style": "",
            "children": [
              "IPY_MODEL_89c389fcd0f346c0b346e30537dfbcf6",
              "IPY_MODEL_5b84a3ba4ed6411aba58604822d01acc",
              "IPY_MODEL_132b9e46ef424ebc8921f2e4c4e22989"
            ],
            "layout": "IPY_MODEL_4ff014c008cb410c9a184f76cdaab0ea"
          }
        },
        "89c389fcd0f346c0b346e30537dfbcf6": {
          "model_module": "@jupyter-widgets/controls",
          "model_name": "HTMLModel",
          "model_module_version": "1.5.0",
          "state": {
            "_dom_classes": [],
            "_model_module": "@jupyter-widgets/controls",
            "_model_module_version": "1.5.0",
            "_model_name": "HTMLModel",
            "_view_count": null,
            "_view_module": "@jupyter-widgets/controls",
            "_view_module_version": "1.5.0",
            "_view_name": "HTMLView",
            "description": "",
            "description_tooltip": null,
            "layout": "IPY_MODEL_876a7c28b6b0498bbdab335358a3d8a2",
            "placeholder": "​",
            "style": "IPY_MODEL_752b6cfe42d343818c19c12d720e0345",
            "value": "Downloading: 100%"
          }
        },
        "5b84a3ba4ed6411aba58604822d01acc": {
          "model_module": "@jupyter-widgets/controls",
          "model_name": "FloatProgressModel",
          "model_module_version": "1.5.0",
          "state": {
            "_dom_classes": [],
            "_model_module": "@jupyter-widgets/controls",
            "_model_module_version": "1.5.0",
            "_model_name": "FloatProgressModel",
            "_view_count": null,
            "_view_module": "@jupyter-widgets/controls",
            "_view_module_version": "1.5.0",
            "_view_name": "ProgressView",
            "bar_style": "success",
            "description": "",
            "description_tooltip": null,
            "layout": "IPY_MODEL_f7d04be477444c5aae4db952f527cacc",
            "max": 898825,
            "min": 0,
            "orientation": "horizontal",
            "style": "IPY_MODEL_f785083e511a47878f775e103b02b67e",
            "value": 898825
          }
        },
        "132b9e46ef424ebc8921f2e4c4e22989": {
          "model_module": "@jupyter-widgets/controls",
          "model_name": "HTMLModel",
          "model_module_version": "1.5.0",
          "state": {
            "_dom_classes": [],
            "_model_module": "@jupyter-widgets/controls",
            "_model_module_version": "1.5.0",
            "_model_name": "HTMLModel",
            "_view_count": null,
            "_view_module": "@jupyter-widgets/controls",
            "_view_module_version": "1.5.0",
            "_view_name": "HTMLView",
            "description": "",
            "description_tooltip": null,
            "layout": "IPY_MODEL_bdbafb1692884bbea6dec1998f594a8b",
            "placeholder": "​",
            "style": "IPY_MODEL_d7ebd36c9da4498cb788d9c7552cecab",
            "value": " 878k/878k [00:00&lt;00:00, 2.09MB/s]"
          }
        },
        "4ff014c008cb410c9a184f76cdaab0ea": {
          "model_module": "@jupyter-widgets/base",
          "model_name": "LayoutModel",
          "model_module_version": "1.2.0",
          "state": {
            "_model_module": "@jupyter-widgets/base",
            "_model_module_version": "1.2.0",
            "_model_name": "LayoutModel",
            "_view_count": null,
            "_view_module": "@jupyter-widgets/base",
            "_view_module_version": "1.2.0",
            "_view_name": "LayoutView",
            "align_content": null,
            "align_items": null,
            "align_self": null,
            "border": null,
            "bottom": null,
            "display": null,
            "flex": null,
            "flex_flow": null,
            "grid_area": null,
            "grid_auto_columns": null,
            "grid_auto_flow": null,
            "grid_auto_rows": null,
            "grid_column": null,
            "grid_gap": null,
            "grid_row": null,
            "grid_template_areas": null,
            "grid_template_columns": null,
            "grid_template_rows": null,
            "height": null,
            "justify_content": null,
            "justify_items": null,
            "left": null,
            "margin": null,
            "max_height": null,
            "max_width": null,
            "min_height": null,
            "min_width": null,
            "object_fit": null,
            "object_position": null,
            "order": null,
            "overflow": null,
            "overflow_x": null,
            "overflow_y": null,
            "padding": null,
            "right": null,
            "top": null,
            "visibility": null,
            "width": null
          }
        },
        "876a7c28b6b0498bbdab335358a3d8a2": {
          "model_module": "@jupyter-widgets/base",
          "model_name": "LayoutModel",
          "model_module_version": "1.2.0",
          "state": {
            "_model_module": "@jupyter-widgets/base",
            "_model_module_version": "1.2.0",
            "_model_name": "LayoutModel",
            "_view_count": null,
            "_view_module": "@jupyter-widgets/base",
            "_view_module_version": "1.2.0",
            "_view_name": "LayoutView",
            "align_content": null,
            "align_items": null,
            "align_self": null,
            "border": null,
            "bottom": null,
            "display": null,
            "flex": null,
            "flex_flow": null,
            "grid_area": null,
            "grid_auto_columns": null,
            "grid_auto_flow": null,
            "grid_auto_rows": null,
            "grid_column": null,
            "grid_gap": null,
            "grid_row": null,
            "grid_template_areas": null,
            "grid_template_columns": null,
            "grid_template_rows": null,
            "height": null,
            "justify_content": null,
            "justify_items": null,
            "left": null,
            "margin": null,
            "max_height": null,
            "max_width": null,
            "min_height": null,
            "min_width": null,
            "object_fit": null,
            "object_position": null,
            "order": null,
            "overflow": null,
            "overflow_x": null,
            "overflow_y": null,
            "padding": null,
            "right": null,
            "top": null,
            "visibility": null,
            "width": null
          }
        },
        "752b6cfe42d343818c19c12d720e0345": {
          "model_module": "@jupyter-widgets/controls",
          "model_name": "DescriptionStyleModel",
          "model_module_version": "1.5.0",
          "state": {
            "_model_module": "@jupyter-widgets/controls",
            "_model_module_version": "1.5.0",
            "_model_name": "DescriptionStyleModel",
            "_view_count": null,
            "_view_module": "@jupyter-widgets/base",
            "_view_module_version": "1.2.0",
            "_view_name": "StyleView",
            "description_width": ""
          }
        },
        "f7d04be477444c5aae4db952f527cacc": {
          "model_module": "@jupyter-widgets/base",
          "model_name": "LayoutModel",
          "model_module_version": "1.2.0",
          "state": {
            "_model_module": "@jupyter-widgets/base",
            "_model_module_version": "1.2.0",
            "_model_name": "LayoutModel",
            "_view_count": null,
            "_view_module": "@jupyter-widgets/base",
            "_view_module_version": "1.2.0",
            "_view_name": "LayoutView",
            "align_content": null,
            "align_items": null,
            "align_self": null,
            "border": null,
            "bottom": null,
            "display": null,
            "flex": null,
            "flex_flow": null,
            "grid_area": null,
            "grid_auto_columns": null,
            "grid_auto_flow": null,
            "grid_auto_rows": null,
            "grid_column": null,
            "grid_gap": null,
            "grid_row": null,
            "grid_template_areas": null,
            "grid_template_columns": null,
            "grid_template_rows": null,
            "height": null,
            "justify_content": null,
            "justify_items": null,
            "left": null,
            "margin": null,
            "max_height": null,
            "max_width": null,
            "min_height": null,
            "min_width": null,
            "object_fit": null,
            "object_position": null,
            "order": null,
            "overflow": null,
            "overflow_x": null,
            "overflow_y": null,
            "padding": null,
            "right": null,
            "top": null,
            "visibility": null,
            "width": null
          }
        },
        "f785083e511a47878f775e103b02b67e": {
          "model_module": "@jupyter-widgets/controls",
          "model_name": "ProgressStyleModel",
          "model_module_version": "1.5.0",
          "state": {
            "_model_module": "@jupyter-widgets/controls",
            "_model_module_version": "1.5.0",
            "_model_name": "ProgressStyleModel",
            "_view_count": null,
            "_view_module": "@jupyter-widgets/base",
            "_view_module_version": "1.2.0",
            "_view_name": "StyleView",
            "bar_color": null,
            "description_width": ""
          }
        },
        "bdbafb1692884bbea6dec1998f594a8b": {
          "model_module": "@jupyter-widgets/base",
          "model_name": "LayoutModel",
          "model_module_version": "1.2.0",
          "state": {
            "_model_module": "@jupyter-widgets/base",
            "_model_module_version": "1.2.0",
            "_model_name": "LayoutModel",
            "_view_count": null,
            "_view_module": "@jupyter-widgets/base",
            "_view_module_version": "1.2.0",
            "_view_name": "LayoutView",
            "align_content": null,
            "align_items": null,
            "align_self": null,
            "border": null,
            "bottom": null,
            "display": null,
            "flex": null,
            "flex_flow": null,
            "grid_area": null,
            "grid_auto_columns": null,
            "grid_auto_flow": null,
            "grid_auto_rows": null,
            "grid_column": null,
            "grid_gap": null,
            "grid_row": null,
            "grid_template_areas": null,
            "grid_template_columns": null,
            "grid_template_rows": null,
            "height": null,
            "justify_content": null,
            "justify_items": null,
            "left": null,
            "margin": null,
            "max_height": null,
            "max_width": null,
            "min_height": null,
            "min_width": null,
            "object_fit": null,
            "object_position": null,
            "order": null,
            "overflow": null,
            "overflow_x": null,
            "overflow_y": null,
            "padding": null,
            "right": null,
            "top": null,
            "visibility": null,
            "width": null
          }
        },
        "d7ebd36c9da4498cb788d9c7552cecab": {
          "model_module": "@jupyter-widgets/controls",
          "model_name": "DescriptionStyleModel",
          "model_module_version": "1.5.0",
          "state": {
            "_model_module": "@jupyter-widgets/controls",
            "_model_module_version": "1.5.0",
            "_model_name": "DescriptionStyleModel",
            "_view_count": null,
            "_view_module": "@jupyter-widgets/base",
            "_view_module_version": "1.2.0",
            "_view_name": "StyleView",
            "description_width": ""
          }
        },
        "170dc6e10a094b9a8ea11f2e08d6e7ad": {
          "model_module": "@jupyter-widgets/controls",
          "model_name": "HBoxModel",
          "model_module_version": "1.5.0",
          "state": {
            "_dom_classes": [],
            "_model_module": "@jupyter-widgets/controls",
            "_model_module_version": "1.5.0",
            "_model_name": "HBoxModel",
            "_view_count": null,
            "_view_module": "@jupyter-widgets/controls",
            "_view_module_version": "1.5.0",
            "_view_name": "HBoxView",
            "box_style": "",
            "children": [
              "IPY_MODEL_8836e03be7be43d9b8a0cecfc84f8b2e",
              "IPY_MODEL_d31b98c50a464f8e8bc1fbf2f9a1f0cc",
              "IPY_MODEL_b03f921e04fd442fb133cff8c4f0b0e2"
            ],
            "layout": "IPY_MODEL_9f2911da1ea846c991d9dcd8ef9fd3c5"
          }
        },
        "8836e03be7be43d9b8a0cecfc84f8b2e": {
          "model_module": "@jupyter-widgets/controls",
          "model_name": "HTMLModel",
          "model_module_version": "1.5.0",
          "state": {
            "_dom_classes": [],
            "_model_module": "@jupyter-widgets/controls",
            "_model_module_version": "1.5.0",
            "_model_name": "HTMLModel",
            "_view_count": null,
            "_view_module": "@jupyter-widgets/controls",
            "_view_module_version": "1.5.0",
            "_view_name": "HTMLView",
            "description": "",
            "description_tooltip": null,
            "layout": "IPY_MODEL_a6e0c31277914e1f97bc5579c954cd52",
            "placeholder": "​",
            "style": "IPY_MODEL_a57ec3bfe0e6499abfcb7b8e5f5a5ab8",
            "value": "Downloading: 100%"
          }
        },
        "d31b98c50a464f8e8bc1fbf2f9a1f0cc": {
          "model_module": "@jupyter-widgets/controls",
          "model_name": "FloatProgressModel",
          "model_module_version": "1.5.0",
          "state": {
            "_dom_classes": [],
            "_model_module": "@jupyter-widgets/controls",
            "_model_module_version": "1.5.0",
            "_model_name": "FloatProgressModel",
            "_view_count": null,
            "_view_module": "@jupyter-widgets/controls",
            "_view_module_version": "1.5.0",
            "_view_name": "ProgressView",
            "bar_style": "success",
            "description": "",
            "description_tooltip": null,
            "layout": "IPY_MODEL_b519dbe2e90b4d55aca15638fb29e31a",
            "max": 456318,
            "min": 0,
            "orientation": "horizontal",
            "style": "IPY_MODEL_dea555dd10df4ab98a04c52b6841254a",
            "value": 456318
          }
        },
        "b03f921e04fd442fb133cff8c4f0b0e2": {
          "model_module": "@jupyter-widgets/controls",
          "model_name": "HTMLModel",
          "model_module_version": "1.5.0",
          "state": {
            "_dom_classes": [],
            "_model_module": "@jupyter-widgets/controls",
            "_model_module_version": "1.5.0",
            "_model_name": "HTMLModel",
            "_view_count": null,
            "_view_module": "@jupyter-widgets/controls",
            "_view_module_version": "1.5.0",
            "_view_name": "HTMLView",
            "description": "",
            "description_tooltip": null,
            "layout": "IPY_MODEL_186f03bb07624a709195171c07a8f4a4",
            "placeholder": "​",
            "style": "IPY_MODEL_62bf6ab9286944d8a83ae51310c8c5cd",
            "value": " 446k/446k [00:00&lt;00:00, 636kB/s]"
          }
        },
        "9f2911da1ea846c991d9dcd8ef9fd3c5": {
          "model_module": "@jupyter-widgets/base",
          "model_name": "LayoutModel",
          "model_module_version": "1.2.0",
          "state": {
            "_model_module": "@jupyter-widgets/base",
            "_model_module_version": "1.2.0",
            "_model_name": "LayoutModel",
            "_view_count": null,
            "_view_module": "@jupyter-widgets/base",
            "_view_module_version": "1.2.0",
            "_view_name": "LayoutView",
            "align_content": null,
            "align_items": null,
            "align_self": null,
            "border": null,
            "bottom": null,
            "display": null,
            "flex": null,
            "flex_flow": null,
            "grid_area": null,
            "grid_auto_columns": null,
            "grid_auto_flow": null,
            "grid_auto_rows": null,
            "grid_column": null,
            "grid_gap": null,
            "grid_row": null,
            "grid_template_areas": null,
            "grid_template_columns": null,
            "grid_template_rows": null,
            "height": null,
            "justify_content": null,
            "justify_items": null,
            "left": null,
            "margin": null,
            "max_height": null,
            "max_width": null,
            "min_height": null,
            "min_width": null,
            "object_fit": null,
            "object_position": null,
            "order": null,
            "overflow": null,
            "overflow_x": null,
            "overflow_y": null,
            "padding": null,
            "right": null,
            "top": null,
            "visibility": null,
            "width": null
          }
        },
        "a6e0c31277914e1f97bc5579c954cd52": {
          "model_module": "@jupyter-widgets/base",
          "model_name": "LayoutModel",
          "model_module_version": "1.2.0",
          "state": {
            "_model_module": "@jupyter-widgets/base",
            "_model_module_version": "1.2.0",
            "_model_name": "LayoutModel",
            "_view_count": null,
            "_view_module": "@jupyter-widgets/base",
            "_view_module_version": "1.2.0",
            "_view_name": "LayoutView",
            "align_content": null,
            "align_items": null,
            "align_self": null,
            "border": null,
            "bottom": null,
            "display": null,
            "flex": null,
            "flex_flow": null,
            "grid_area": null,
            "grid_auto_columns": null,
            "grid_auto_flow": null,
            "grid_auto_rows": null,
            "grid_column": null,
            "grid_gap": null,
            "grid_row": null,
            "grid_template_areas": null,
            "grid_template_columns": null,
            "grid_template_rows": null,
            "height": null,
            "justify_content": null,
            "justify_items": null,
            "left": null,
            "margin": null,
            "max_height": null,
            "max_width": null,
            "min_height": null,
            "min_width": null,
            "object_fit": null,
            "object_position": null,
            "order": null,
            "overflow": null,
            "overflow_x": null,
            "overflow_y": null,
            "padding": null,
            "right": null,
            "top": null,
            "visibility": null,
            "width": null
          }
        },
        "a57ec3bfe0e6499abfcb7b8e5f5a5ab8": {
          "model_module": "@jupyter-widgets/controls",
          "model_name": "DescriptionStyleModel",
          "model_module_version": "1.5.0",
          "state": {
            "_model_module": "@jupyter-widgets/controls",
            "_model_module_version": "1.5.0",
            "_model_name": "DescriptionStyleModel",
            "_view_count": null,
            "_view_module": "@jupyter-widgets/base",
            "_view_module_version": "1.2.0",
            "_view_name": "StyleView",
            "description_width": ""
          }
        },
        "b519dbe2e90b4d55aca15638fb29e31a": {
          "model_module": "@jupyter-widgets/base",
          "model_name": "LayoutModel",
          "model_module_version": "1.2.0",
          "state": {
            "_model_module": "@jupyter-widgets/base",
            "_model_module_version": "1.2.0",
            "_model_name": "LayoutModel",
            "_view_count": null,
            "_view_module": "@jupyter-widgets/base",
            "_view_module_version": "1.2.0",
            "_view_name": "LayoutView",
            "align_content": null,
            "align_items": null,
            "align_self": null,
            "border": null,
            "bottom": null,
            "display": null,
            "flex": null,
            "flex_flow": null,
            "grid_area": null,
            "grid_auto_columns": null,
            "grid_auto_flow": null,
            "grid_auto_rows": null,
            "grid_column": null,
            "grid_gap": null,
            "grid_row": null,
            "grid_template_areas": null,
            "grid_template_columns": null,
            "grid_template_rows": null,
            "height": null,
            "justify_content": null,
            "justify_items": null,
            "left": null,
            "margin": null,
            "max_height": null,
            "max_width": null,
            "min_height": null,
            "min_width": null,
            "object_fit": null,
            "object_position": null,
            "order": null,
            "overflow": null,
            "overflow_x": null,
            "overflow_y": null,
            "padding": null,
            "right": null,
            "top": null,
            "visibility": null,
            "width": null
          }
        },
        "dea555dd10df4ab98a04c52b6841254a": {
          "model_module": "@jupyter-widgets/controls",
          "model_name": "ProgressStyleModel",
          "model_module_version": "1.5.0",
          "state": {
            "_model_module": "@jupyter-widgets/controls",
            "_model_module_version": "1.5.0",
            "_model_name": "ProgressStyleModel",
            "_view_count": null,
            "_view_module": "@jupyter-widgets/base",
            "_view_module_version": "1.2.0",
            "_view_name": "StyleView",
            "bar_color": null,
            "description_width": ""
          }
        },
        "186f03bb07624a709195171c07a8f4a4": {
          "model_module": "@jupyter-widgets/base",
          "model_name": "LayoutModel",
          "model_module_version": "1.2.0",
          "state": {
            "_model_module": "@jupyter-widgets/base",
            "_model_module_version": "1.2.0",
            "_model_name": "LayoutModel",
            "_view_count": null,
            "_view_module": "@jupyter-widgets/base",
            "_view_module_version": "1.2.0",
            "_view_name": "LayoutView",
            "align_content": null,
            "align_items": null,
            "align_self": null,
            "border": null,
            "bottom": null,
            "display": null,
            "flex": null,
            "flex_flow": null,
            "grid_area": null,
            "grid_auto_columns": null,
            "grid_auto_flow": null,
            "grid_auto_rows": null,
            "grid_column": null,
            "grid_gap": null,
            "grid_row": null,
            "grid_template_areas": null,
            "grid_template_columns": null,
            "grid_template_rows": null,
            "height": null,
            "justify_content": null,
            "justify_items": null,
            "left": null,
            "margin": null,
            "max_height": null,
            "max_width": null,
            "min_height": null,
            "min_width": null,
            "object_fit": null,
            "object_position": null,
            "order": null,
            "overflow": null,
            "overflow_x": null,
            "overflow_y": null,
            "padding": null,
            "right": null,
            "top": null,
            "visibility": null,
            "width": null
          }
        },
        "62bf6ab9286944d8a83ae51310c8c5cd": {
          "model_module": "@jupyter-widgets/controls",
          "model_name": "DescriptionStyleModel",
          "model_module_version": "1.5.0",
          "state": {
            "_model_module": "@jupyter-widgets/controls",
            "_model_module_version": "1.5.0",
            "_model_name": "DescriptionStyleModel",
            "_view_count": null,
            "_view_module": "@jupyter-widgets/base",
            "_view_module_version": "1.2.0",
            "_view_name": "StyleView",
            "description_width": ""
          }
        },
        "f6baa6e5a66e4cd28c97a041a3595f5e": {
          "model_module": "@jupyter-widgets/controls",
          "model_name": "HBoxModel",
          "model_module_version": "1.5.0",
          "state": {
            "_dom_classes": [],
            "_model_module": "@jupyter-widgets/controls",
            "_model_module_version": "1.5.0",
            "_model_name": "HBoxModel",
            "_view_count": null,
            "_view_module": "@jupyter-widgets/controls",
            "_view_module_version": "1.5.0",
            "_view_name": "HBoxView",
            "box_style": "",
            "children": [
              "IPY_MODEL_904485b994e447ad986852caf4d24859",
              "IPY_MODEL_2ab678c72f114b529ebdb22b8b42518a",
              "IPY_MODEL_a48dd5d7e46645838899f88f9f40a068"
            ],
            "layout": "IPY_MODEL_7c50f4f6fb504a65973e8fd2a36bc4ca"
          }
        },
        "904485b994e447ad986852caf4d24859": {
          "model_module": "@jupyter-widgets/controls",
          "model_name": "HTMLModel",
          "model_module_version": "1.5.0",
          "state": {
            "_dom_classes": [],
            "_model_module": "@jupyter-widgets/controls",
            "_model_module_version": "1.5.0",
            "_model_name": "HTMLModel",
            "_view_count": null,
            "_view_module": "@jupyter-widgets/controls",
            "_view_module_version": "1.5.0",
            "_view_name": "HTMLView",
            "description": "",
            "description_tooltip": null,
            "layout": "IPY_MODEL_d4b7be9f41ab48d2af03faedf6cb05b2",
            "placeholder": "​",
            "style": "IPY_MODEL_15dcd0dbecaa41eb81b883ccd05d947d",
            "value": "Downloading: 100%"
          }
        },
        "2ab678c72f114b529ebdb22b8b42518a": {
          "model_module": "@jupyter-widgets/controls",
          "model_name": "FloatProgressModel",
          "model_module_version": "1.5.0",
          "state": {
            "_dom_classes": [],
            "_model_module": "@jupyter-widgets/controls",
            "_model_module_version": "1.5.0",
            "_model_name": "FloatProgressModel",
            "_view_count": null,
            "_view_module": "@jupyter-widgets/controls",
            "_view_module_version": "1.5.0",
            "_view_name": "ProgressView",
            "bar_style": "success",
            "description": "",
            "description_tooltip": null,
            "layout": "IPY_MODEL_14e4333ef3324955828613091ac1cac3",
            "max": 52,
            "min": 0,
            "orientation": "horizontal",
            "style": "IPY_MODEL_411b527d056f4c29b3d7686bc2e17ac9",
            "value": 52
          }
        },
        "a48dd5d7e46645838899f88f9f40a068": {
          "model_module": "@jupyter-widgets/controls",
          "model_name": "HTMLModel",
          "model_module_version": "1.5.0",
          "state": {
            "_dom_classes": [],
            "_model_module": "@jupyter-widgets/controls",
            "_model_module_version": "1.5.0",
            "_model_name": "HTMLModel",
            "_view_count": null,
            "_view_module": "@jupyter-widgets/controls",
            "_view_module_version": "1.5.0",
            "_view_name": "HTMLView",
            "description": "",
            "description_tooltip": null,
            "layout": "IPY_MODEL_8490edb8bab54916a8e66414eba0e0cf",
            "placeholder": "​",
            "style": "IPY_MODEL_7a82ff0589cb4d42a0956cae2a5249d0",
            "value": " 52.0/52.0 [00:00&lt;00:00, 1.60kB/s]"
          }
        },
        "7c50f4f6fb504a65973e8fd2a36bc4ca": {
          "model_module": "@jupyter-widgets/base",
          "model_name": "LayoutModel",
          "model_module_version": "1.2.0",
          "state": {
            "_model_module": "@jupyter-widgets/base",
            "_model_module_version": "1.2.0",
            "_model_name": "LayoutModel",
            "_view_count": null,
            "_view_module": "@jupyter-widgets/base",
            "_view_module_version": "1.2.0",
            "_view_name": "LayoutView",
            "align_content": null,
            "align_items": null,
            "align_self": null,
            "border": null,
            "bottom": null,
            "display": null,
            "flex": null,
            "flex_flow": null,
            "grid_area": null,
            "grid_auto_columns": null,
            "grid_auto_flow": null,
            "grid_auto_rows": null,
            "grid_column": null,
            "grid_gap": null,
            "grid_row": null,
            "grid_template_areas": null,
            "grid_template_columns": null,
            "grid_template_rows": null,
            "height": null,
            "justify_content": null,
            "justify_items": null,
            "left": null,
            "margin": null,
            "max_height": null,
            "max_width": null,
            "min_height": null,
            "min_width": null,
            "object_fit": null,
            "object_position": null,
            "order": null,
            "overflow": null,
            "overflow_x": null,
            "overflow_y": null,
            "padding": null,
            "right": null,
            "top": null,
            "visibility": null,
            "width": null
          }
        },
        "d4b7be9f41ab48d2af03faedf6cb05b2": {
          "model_module": "@jupyter-widgets/base",
          "model_name": "LayoutModel",
          "model_module_version": "1.2.0",
          "state": {
            "_model_module": "@jupyter-widgets/base",
            "_model_module_version": "1.2.0",
            "_model_name": "LayoutModel",
            "_view_count": null,
            "_view_module": "@jupyter-widgets/base",
            "_view_module_version": "1.2.0",
            "_view_name": "LayoutView",
            "align_content": null,
            "align_items": null,
            "align_self": null,
            "border": null,
            "bottom": null,
            "display": null,
            "flex": null,
            "flex_flow": null,
            "grid_area": null,
            "grid_auto_columns": null,
            "grid_auto_flow": null,
            "grid_auto_rows": null,
            "grid_column": null,
            "grid_gap": null,
            "grid_row": null,
            "grid_template_areas": null,
            "grid_template_columns": null,
            "grid_template_rows": null,
            "height": null,
            "justify_content": null,
            "justify_items": null,
            "left": null,
            "margin": null,
            "max_height": null,
            "max_width": null,
            "min_height": null,
            "min_width": null,
            "object_fit": null,
            "object_position": null,
            "order": null,
            "overflow": null,
            "overflow_x": null,
            "overflow_y": null,
            "padding": null,
            "right": null,
            "top": null,
            "visibility": null,
            "width": null
          }
        },
        "15dcd0dbecaa41eb81b883ccd05d947d": {
          "model_module": "@jupyter-widgets/controls",
          "model_name": "DescriptionStyleModel",
          "model_module_version": "1.5.0",
          "state": {
            "_model_module": "@jupyter-widgets/controls",
            "_model_module_version": "1.5.0",
            "_model_name": "DescriptionStyleModel",
            "_view_count": null,
            "_view_module": "@jupyter-widgets/base",
            "_view_module_version": "1.2.0",
            "_view_name": "StyleView",
            "description_width": ""
          }
        },
        "14e4333ef3324955828613091ac1cac3": {
          "model_module": "@jupyter-widgets/base",
          "model_name": "LayoutModel",
          "model_module_version": "1.2.0",
          "state": {
            "_model_module": "@jupyter-widgets/base",
            "_model_module_version": "1.2.0",
            "_model_name": "LayoutModel",
            "_view_count": null,
            "_view_module": "@jupyter-widgets/base",
            "_view_module_version": "1.2.0",
            "_view_name": "LayoutView",
            "align_content": null,
            "align_items": null,
            "align_self": null,
            "border": null,
            "bottom": null,
            "display": null,
            "flex": null,
            "flex_flow": null,
            "grid_area": null,
            "grid_auto_columns": null,
            "grid_auto_flow": null,
            "grid_auto_rows": null,
            "grid_column": null,
            "grid_gap": null,
            "grid_row": null,
            "grid_template_areas": null,
            "grid_template_columns": null,
            "grid_template_rows": null,
            "height": null,
            "justify_content": null,
            "justify_items": null,
            "left": null,
            "margin": null,
            "max_height": null,
            "max_width": null,
            "min_height": null,
            "min_width": null,
            "object_fit": null,
            "object_position": null,
            "order": null,
            "overflow": null,
            "overflow_x": null,
            "overflow_y": null,
            "padding": null,
            "right": null,
            "top": null,
            "visibility": null,
            "width": null
          }
        },
        "411b527d056f4c29b3d7686bc2e17ac9": {
          "model_module": "@jupyter-widgets/controls",
          "model_name": "ProgressStyleModel",
          "model_module_version": "1.5.0",
          "state": {
            "_model_module": "@jupyter-widgets/controls",
            "_model_module_version": "1.5.0",
            "_model_name": "ProgressStyleModel",
            "_view_count": null,
            "_view_module": "@jupyter-widgets/base",
            "_view_module_version": "1.2.0",
            "_view_name": "StyleView",
            "bar_color": null,
            "description_width": ""
          }
        },
        "8490edb8bab54916a8e66414eba0e0cf": {
          "model_module": "@jupyter-widgets/base",
          "model_name": "LayoutModel",
          "model_module_version": "1.2.0",
          "state": {
            "_model_module": "@jupyter-widgets/base",
            "_model_module_version": "1.2.0",
            "_model_name": "LayoutModel",
            "_view_count": null,
            "_view_module": "@jupyter-widgets/base",
            "_view_module_version": "1.2.0",
            "_view_name": "LayoutView",
            "align_content": null,
            "align_items": null,
            "align_self": null,
            "border": null,
            "bottom": null,
            "display": null,
            "flex": null,
            "flex_flow": null,
            "grid_area": null,
            "grid_auto_columns": null,
            "grid_auto_flow": null,
            "grid_auto_rows": null,
            "grid_column": null,
            "grid_gap": null,
            "grid_row": null,
            "grid_template_areas": null,
            "grid_template_columns": null,
            "grid_template_rows": null,
            "height": null,
            "justify_content": null,
            "justify_items": null,
            "left": null,
            "margin": null,
            "max_height": null,
            "max_width": null,
            "min_height": null,
            "min_width": null,
            "object_fit": null,
            "object_position": null,
            "order": null,
            "overflow": null,
            "overflow_x": null,
            "overflow_y": null,
            "padding": null,
            "right": null,
            "top": null,
            "visibility": null,
            "width": null
          }
        },
        "7a82ff0589cb4d42a0956cae2a5249d0": {
          "model_module": "@jupyter-widgets/controls",
          "model_name": "DescriptionStyleModel",
          "model_module_version": "1.5.0",
          "state": {
            "_model_module": "@jupyter-widgets/controls",
            "_model_module_version": "1.5.0",
            "_model_name": "DescriptionStyleModel",
            "_view_count": null,
            "_view_module": "@jupyter-widgets/base",
            "_view_module_version": "1.2.0",
            "_view_name": "StyleView",
            "description_width": ""
          }
        },
        "a4ec1e940a574a938431c84ecc24b60e": {
          "model_module": "@jupyter-widgets/controls",
          "model_name": "HBoxModel",
          "model_module_version": "1.5.0",
          "state": {
            "_dom_classes": [],
            "_model_module": "@jupyter-widgets/controls",
            "_model_module_version": "1.5.0",
            "_model_name": "HBoxModel",
            "_view_count": null,
            "_view_module": "@jupyter-widgets/controls",
            "_view_module_version": "1.5.0",
            "_view_name": "HBoxView",
            "box_style": "",
            "children": [
              "IPY_MODEL_505be92e6b1440d18e697bd410916b90",
              "IPY_MODEL_e783cc49d0d442f88d827886d1d8c845",
              "IPY_MODEL_f715fe36246f4e6494e7ca667d60bf54"
            ],
            "layout": "IPY_MODEL_62e1b230396645139f8efadc4b37bf31"
          }
        },
        "505be92e6b1440d18e697bd410916b90": {
          "model_module": "@jupyter-widgets/controls",
          "model_name": "HTMLModel",
          "model_module_version": "1.5.0",
          "state": {
            "_dom_classes": [],
            "_model_module": "@jupyter-widgets/controls",
            "_model_module_version": "1.5.0",
            "_model_name": "HTMLModel",
            "_view_count": null,
            "_view_module": "@jupyter-widgets/controls",
            "_view_module_version": "1.5.0",
            "_view_name": "HTMLView",
            "description": "",
            "description_tooltip": null,
            "layout": "IPY_MODEL_6e1f9049ff5a422ba212f9c2c386987c",
            "placeholder": "​",
            "style": "IPY_MODEL_7e9cf9926bb44b179df848853beb3c5e",
            "value": "Downloading: 100%"
          }
        },
        "e783cc49d0d442f88d827886d1d8c845": {
          "model_module": "@jupyter-widgets/controls",
          "model_name": "FloatProgressModel",
          "model_module_version": "1.5.0",
          "state": {
            "_dom_classes": [],
            "_model_module": "@jupyter-widgets/controls",
            "_model_module_version": "1.5.0",
            "_model_name": "FloatProgressModel",
            "_view_count": null,
            "_view_module": "@jupyter-widgets/controls",
            "_view_module_version": "1.5.0",
            "_view_name": "ProgressView",
            "bar_style": "success",
            "description": "",
            "description_tooltip": null,
            "layout": "IPY_MODEL_39d5c5708121475c861478f31df588ba",
            "max": 474,
            "min": 0,
            "orientation": "horizontal",
            "style": "IPY_MODEL_af455c6228a041b89fb8841743787dbd",
            "value": 474
          }
        },
        "f715fe36246f4e6494e7ca667d60bf54": {
          "model_module": "@jupyter-widgets/controls",
          "model_name": "HTMLModel",
          "model_module_version": "1.5.0",
          "state": {
            "_dom_classes": [],
            "_model_module": "@jupyter-widgets/controls",
            "_model_module_version": "1.5.0",
            "_model_name": "HTMLModel",
            "_view_count": null,
            "_view_module": "@jupyter-widgets/controls",
            "_view_module_version": "1.5.0",
            "_view_name": "HTMLView",
            "description": "",
            "description_tooltip": null,
            "layout": "IPY_MODEL_a263809705b04c0caf88cc9e9f6e20e0",
            "placeholder": "​",
            "style": "IPY_MODEL_711742b3681b40d2b8503a88df0a7cd2",
            "value": " 474/474 [00:00&lt;00:00, 14.1kB/s]"
          }
        },
        "62e1b230396645139f8efadc4b37bf31": {
          "model_module": "@jupyter-widgets/base",
          "model_name": "LayoutModel",
          "model_module_version": "1.2.0",
          "state": {
            "_model_module": "@jupyter-widgets/base",
            "_model_module_version": "1.2.0",
            "_model_name": "LayoutModel",
            "_view_count": null,
            "_view_module": "@jupyter-widgets/base",
            "_view_module_version": "1.2.0",
            "_view_name": "LayoutView",
            "align_content": null,
            "align_items": null,
            "align_self": null,
            "border": null,
            "bottom": null,
            "display": null,
            "flex": null,
            "flex_flow": null,
            "grid_area": null,
            "grid_auto_columns": null,
            "grid_auto_flow": null,
            "grid_auto_rows": null,
            "grid_column": null,
            "grid_gap": null,
            "grid_row": null,
            "grid_template_areas": null,
            "grid_template_columns": null,
            "grid_template_rows": null,
            "height": null,
            "justify_content": null,
            "justify_items": null,
            "left": null,
            "margin": null,
            "max_height": null,
            "max_width": null,
            "min_height": null,
            "min_width": null,
            "object_fit": null,
            "object_position": null,
            "order": null,
            "overflow": null,
            "overflow_x": null,
            "overflow_y": null,
            "padding": null,
            "right": null,
            "top": null,
            "visibility": null,
            "width": null
          }
        },
        "6e1f9049ff5a422ba212f9c2c386987c": {
          "model_module": "@jupyter-widgets/base",
          "model_name": "LayoutModel",
          "model_module_version": "1.2.0",
          "state": {
            "_model_module": "@jupyter-widgets/base",
            "_model_module_version": "1.2.0",
            "_model_name": "LayoutModel",
            "_view_count": null,
            "_view_module": "@jupyter-widgets/base",
            "_view_module_version": "1.2.0",
            "_view_name": "LayoutView",
            "align_content": null,
            "align_items": null,
            "align_self": null,
            "border": null,
            "bottom": null,
            "display": null,
            "flex": null,
            "flex_flow": null,
            "grid_area": null,
            "grid_auto_columns": null,
            "grid_auto_flow": null,
            "grid_auto_rows": null,
            "grid_column": null,
            "grid_gap": null,
            "grid_row": null,
            "grid_template_areas": null,
            "grid_template_columns": null,
            "grid_template_rows": null,
            "height": null,
            "justify_content": null,
            "justify_items": null,
            "left": null,
            "margin": null,
            "max_height": null,
            "max_width": null,
            "min_height": null,
            "min_width": null,
            "object_fit": null,
            "object_position": null,
            "order": null,
            "overflow": null,
            "overflow_x": null,
            "overflow_y": null,
            "padding": null,
            "right": null,
            "top": null,
            "visibility": null,
            "width": null
          }
        },
        "7e9cf9926bb44b179df848853beb3c5e": {
          "model_module": "@jupyter-widgets/controls",
          "model_name": "DescriptionStyleModel",
          "model_module_version": "1.5.0",
          "state": {
            "_model_module": "@jupyter-widgets/controls",
            "_model_module_version": "1.5.0",
            "_model_name": "DescriptionStyleModel",
            "_view_count": null,
            "_view_module": "@jupyter-widgets/base",
            "_view_module_version": "1.2.0",
            "_view_name": "StyleView",
            "description_width": ""
          }
        },
        "39d5c5708121475c861478f31df588ba": {
          "model_module": "@jupyter-widgets/base",
          "model_name": "LayoutModel",
          "model_module_version": "1.2.0",
          "state": {
            "_model_module": "@jupyter-widgets/base",
            "_model_module_version": "1.2.0",
            "_model_name": "LayoutModel",
            "_view_count": null,
            "_view_module": "@jupyter-widgets/base",
            "_view_module_version": "1.2.0",
            "_view_name": "LayoutView",
            "align_content": null,
            "align_items": null,
            "align_self": null,
            "border": null,
            "bottom": null,
            "display": null,
            "flex": null,
            "flex_flow": null,
            "grid_area": null,
            "grid_auto_columns": null,
            "grid_auto_flow": null,
            "grid_auto_rows": null,
            "grid_column": null,
            "grid_gap": null,
            "grid_row": null,
            "grid_template_areas": null,
            "grid_template_columns": null,
            "grid_template_rows": null,
            "height": null,
            "justify_content": null,
            "justify_items": null,
            "left": null,
            "margin": null,
            "max_height": null,
            "max_width": null,
            "min_height": null,
            "min_width": null,
            "object_fit": null,
            "object_position": null,
            "order": null,
            "overflow": null,
            "overflow_x": null,
            "overflow_y": null,
            "padding": null,
            "right": null,
            "top": null,
            "visibility": null,
            "width": null
          }
        },
        "af455c6228a041b89fb8841743787dbd": {
          "model_module": "@jupyter-widgets/controls",
          "model_name": "ProgressStyleModel",
          "model_module_version": "1.5.0",
          "state": {
            "_model_module": "@jupyter-widgets/controls",
            "_model_module_version": "1.5.0",
            "_model_name": "ProgressStyleModel",
            "_view_count": null,
            "_view_module": "@jupyter-widgets/base",
            "_view_module_version": "1.2.0",
            "_view_name": "StyleView",
            "bar_color": null,
            "description_width": ""
          }
        },
        "a263809705b04c0caf88cc9e9f6e20e0": {
          "model_module": "@jupyter-widgets/base",
          "model_name": "LayoutModel",
          "model_module_version": "1.2.0",
          "state": {
            "_model_module": "@jupyter-widgets/base",
            "_model_module_version": "1.2.0",
            "_model_name": "LayoutModel",
            "_view_count": null,
            "_view_module": "@jupyter-widgets/base",
            "_view_module_version": "1.2.0",
            "_view_name": "LayoutView",
            "align_content": null,
            "align_items": null,
            "align_self": null,
            "border": null,
            "bottom": null,
            "display": null,
            "flex": null,
            "flex_flow": null,
            "grid_area": null,
            "grid_auto_columns": null,
            "grid_auto_flow": null,
            "grid_auto_rows": null,
            "grid_column": null,
            "grid_gap": null,
            "grid_row": null,
            "grid_template_areas": null,
            "grid_template_columns": null,
            "grid_template_rows": null,
            "height": null,
            "justify_content": null,
            "justify_items": null,
            "left": null,
            "margin": null,
            "max_height": null,
            "max_width": null,
            "min_height": null,
            "min_width": null,
            "object_fit": null,
            "object_position": null,
            "order": null,
            "overflow": null,
            "overflow_x": null,
            "overflow_y": null,
            "padding": null,
            "right": null,
            "top": null,
            "visibility": null,
            "width": null
          }
        },
        "711742b3681b40d2b8503a88df0a7cd2": {
          "model_module": "@jupyter-widgets/controls",
          "model_name": "DescriptionStyleModel",
          "model_module_version": "1.5.0",
          "state": {
            "_model_module": "@jupyter-widgets/controls",
            "_model_module_version": "1.5.0",
            "_model_name": "DescriptionStyleModel",
            "_view_count": null,
            "_view_module": "@jupyter-widgets/base",
            "_view_module_version": "1.2.0",
            "_view_name": "StyleView",
            "description_width": ""
          }
        },
        "e29703dfd9e345c3bcdc2b70853d1542": {
          "model_module": "@jupyter-widgets/controls",
          "model_name": "HBoxModel",
          "model_module_version": "1.5.0",
          "state": {
            "_dom_classes": [],
            "_model_module": "@jupyter-widgets/controls",
            "_model_module_version": "1.5.0",
            "_model_name": "HBoxModel",
            "_view_count": null,
            "_view_module": "@jupyter-widgets/controls",
            "_view_module_version": "1.5.0",
            "_view_name": "HBoxView",
            "box_style": "",
            "children": [
              "IPY_MODEL_ead1fe651ddb4fd1b5d7d099cdb27a39",
              "IPY_MODEL_e47daf7e27f5487e9d1c7370b1c7745e",
              "IPY_MODEL_d4614426285f43638dc2f98ad3a185d1"
            ],
            "layout": "IPY_MODEL_cd0ac1c2449e419a87db37df78f49568"
          }
        },
        "ead1fe651ddb4fd1b5d7d099cdb27a39": {
          "model_module": "@jupyter-widgets/controls",
          "model_name": "HTMLModel",
          "model_module_version": "1.5.0",
          "state": {
            "_dom_classes": [],
            "_model_module": "@jupyter-widgets/controls",
            "_model_module_version": "1.5.0",
            "_model_name": "HTMLModel",
            "_view_count": null,
            "_view_module": "@jupyter-widgets/controls",
            "_view_module_version": "1.5.0",
            "_view_name": "HTMLView",
            "description": "",
            "description_tooltip": null,
            "layout": "IPY_MODEL_b09761875df847728e79ed2d303ceaa1",
            "placeholder": "​",
            "style": "IPY_MODEL_dd9da3bf5f684006bae574ac2f8ba5e1",
            "value": "Downloading: 100%"
          }
        },
        "e47daf7e27f5487e9d1c7370b1c7745e": {
          "model_module": "@jupyter-widgets/controls",
          "model_name": "FloatProgressModel",
          "model_module_version": "1.5.0",
          "state": {
            "_dom_classes": [],
            "_model_module": "@jupyter-widgets/controls",
            "_model_module_version": "1.5.0",
            "_model_name": "FloatProgressModel",
            "_view_count": null,
            "_view_module": "@jupyter-widgets/controls",
            "_view_module_version": "1.5.0",
            "_view_name": "ProgressView",
            "bar_style": "success",
            "description": "",
            "description_tooltip": null,
            "layout": "IPY_MODEL_cc52928659114c76ac71ab47d80a5c49",
            "max": 558614189,
            "min": 0,
            "orientation": "horizontal",
            "style": "IPY_MODEL_58bc229525db4dfdb9c9a3f20d30f649",
            "value": 558614189
          }
        },
        "d4614426285f43638dc2f98ad3a185d1": {
          "model_module": "@jupyter-widgets/controls",
          "model_name": "HTMLModel",
          "model_module_version": "1.5.0",
          "state": {
            "_dom_classes": [],
            "_model_module": "@jupyter-widgets/controls",
            "_model_module_version": "1.5.0",
            "_model_name": "HTMLModel",
            "_view_count": null,
            "_view_module": "@jupyter-widgets/controls",
            "_view_module_version": "1.5.0",
            "_view_name": "HTMLView",
            "description": "",
            "description_tooltip": null,
            "layout": "IPY_MODEL_b9512cd02e314118b43f9fa853c236d1",
            "placeholder": "​",
            "style": "IPY_MODEL_9a6e4029422f4f66a9338af4caed7d5f",
            "value": " 533M/533M [00:10&lt;00:00, 56.1MB/s]"
          }
        },
        "cd0ac1c2449e419a87db37df78f49568": {
          "model_module": "@jupyter-widgets/base",
          "model_name": "LayoutModel",
          "model_module_version": "1.2.0",
          "state": {
            "_model_module": "@jupyter-widgets/base",
            "_model_module_version": "1.2.0",
            "_model_name": "LayoutModel",
            "_view_count": null,
            "_view_module": "@jupyter-widgets/base",
            "_view_module_version": "1.2.0",
            "_view_name": "LayoutView",
            "align_content": null,
            "align_items": null,
            "align_self": null,
            "border": null,
            "bottom": null,
            "display": null,
            "flex": null,
            "flex_flow": null,
            "grid_area": null,
            "grid_auto_columns": null,
            "grid_auto_flow": null,
            "grid_auto_rows": null,
            "grid_column": null,
            "grid_gap": null,
            "grid_row": null,
            "grid_template_areas": null,
            "grid_template_columns": null,
            "grid_template_rows": null,
            "height": null,
            "justify_content": null,
            "justify_items": null,
            "left": null,
            "margin": null,
            "max_height": null,
            "max_width": null,
            "min_height": null,
            "min_width": null,
            "object_fit": null,
            "object_position": null,
            "order": null,
            "overflow": null,
            "overflow_x": null,
            "overflow_y": null,
            "padding": null,
            "right": null,
            "top": null,
            "visibility": null,
            "width": null
          }
        },
        "b09761875df847728e79ed2d303ceaa1": {
          "model_module": "@jupyter-widgets/base",
          "model_name": "LayoutModel",
          "model_module_version": "1.2.0",
          "state": {
            "_model_module": "@jupyter-widgets/base",
            "_model_module_version": "1.2.0",
            "_model_name": "LayoutModel",
            "_view_count": null,
            "_view_module": "@jupyter-widgets/base",
            "_view_module_version": "1.2.0",
            "_view_name": "LayoutView",
            "align_content": null,
            "align_items": null,
            "align_self": null,
            "border": null,
            "bottom": null,
            "display": null,
            "flex": null,
            "flex_flow": null,
            "grid_area": null,
            "grid_auto_columns": null,
            "grid_auto_flow": null,
            "grid_auto_rows": null,
            "grid_column": null,
            "grid_gap": null,
            "grid_row": null,
            "grid_template_areas": null,
            "grid_template_columns": null,
            "grid_template_rows": null,
            "height": null,
            "justify_content": null,
            "justify_items": null,
            "left": null,
            "margin": null,
            "max_height": null,
            "max_width": null,
            "min_height": null,
            "min_width": null,
            "object_fit": null,
            "object_position": null,
            "order": null,
            "overflow": null,
            "overflow_x": null,
            "overflow_y": null,
            "padding": null,
            "right": null,
            "top": null,
            "visibility": null,
            "width": null
          }
        },
        "dd9da3bf5f684006bae574ac2f8ba5e1": {
          "model_module": "@jupyter-widgets/controls",
          "model_name": "DescriptionStyleModel",
          "model_module_version": "1.5.0",
          "state": {
            "_model_module": "@jupyter-widgets/controls",
            "_model_module_version": "1.5.0",
            "_model_name": "DescriptionStyleModel",
            "_view_count": null,
            "_view_module": "@jupyter-widgets/base",
            "_view_module_version": "1.2.0",
            "_view_name": "StyleView",
            "description_width": ""
          }
        },
        "cc52928659114c76ac71ab47d80a5c49": {
          "model_module": "@jupyter-widgets/base",
          "model_name": "LayoutModel",
          "model_module_version": "1.2.0",
          "state": {
            "_model_module": "@jupyter-widgets/base",
            "_model_module_version": "1.2.0",
            "_model_name": "LayoutModel",
            "_view_count": null,
            "_view_module": "@jupyter-widgets/base",
            "_view_module_version": "1.2.0",
            "_view_name": "LayoutView",
            "align_content": null,
            "align_items": null,
            "align_self": null,
            "border": null,
            "bottom": null,
            "display": null,
            "flex": null,
            "flex_flow": null,
            "grid_area": null,
            "grid_auto_columns": null,
            "grid_auto_flow": null,
            "grid_auto_rows": null,
            "grid_column": null,
            "grid_gap": null,
            "grid_row": null,
            "grid_template_areas": null,
            "grid_template_columns": null,
            "grid_template_rows": null,
            "height": null,
            "justify_content": null,
            "justify_items": null,
            "left": null,
            "margin": null,
            "max_height": null,
            "max_width": null,
            "min_height": null,
            "min_width": null,
            "object_fit": null,
            "object_position": null,
            "order": null,
            "overflow": null,
            "overflow_x": null,
            "overflow_y": null,
            "padding": null,
            "right": null,
            "top": null,
            "visibility": null,
            "width": null
          }
        },
        "58bc229525db4dfdb9c9a3f20d30f649": {
          "model_module": "@jupyter-widgets/controls",
          "model_name": "ProgressStyleModel",
          "model_module_version": "1.5.0",
          "state": {
            "_model_module": "@jupyter-widgets/controls",
            "_model_module_version": "1.5.0",
            "_model_name": "ProgressStyleModel",
            "_view_count": null,
            "_view_module": "@jupyter-widgets/base",
            "_view_module_version": "1.2.0",
            "_view_name": "StyleView",
            "bar_color": null,
            "description_width": ""
          }
        },
        "b9512cd02e314118b43f9fa853c236d1": {
          "model_module": "@jupyter-widgets/base",
          "model_name": "LayoutModel",
          "model_module_version": "1.2.0",
          "state": {
            "_model_module": "@jupyter-widgets/base",
            "_model_module_version": "1.2.0",
            "_model_name": "LayoutModel",
            "_view_count": null,
            "_view_module": "@jupyter-widgets/base",
            "_view_module_version": "1.2.0",
            "_view_name": "LayoutView",
            "align_content": null,
            "align_items": null,
            "align_self": null,
            "border": null,
            "bottom": null,
            "display": null,
            "flex": null,
            "flex_flow": null,
            "grid_area": null,
            "grid_auto_columns": null,
            "grid_auto_flow": null,
            "grid_auto_rows": null,
            "grid_column": null,
            "grid_gap": null,
            "grid_row": null,
            "grid_template_areas": null,
            "grid_template_columns": null,
            "grid_template_rows": null,
            "height": null,
            "justify_content": null,
            "justify_items": null,
            "left": null,
            "margin": null,
            "max_height": null,
            "max_width": null,
            "min_height": null,
            "min_width": null,
            "object_fit": null,
            "object_position": null,
            "order": null,
            "overflow": null,
            "overflow_x": null,
            "overflow_y": null,
            "padding": null,
            "right": null,
            "top": null,
            "visibility": null,
            "width": null
          }
        },
        "9a6e4029422f4f66a9338af4caed7d5f": {
          "model_module": "@jupyter-widgets/controls",
          "model_name": "DescriptionStyleModel",
          "model_module_version": "1.5.0",
          "state": {
            "_model_module": "@jupyter-widgets/controls",
            "_model_module_version": "1.5.0",
            "_model_name": "DescriptionStyleModel",
            "_view_count": null,
            "_view_module": "@jupyter-widgets/base",
            "_view_module_version": "1.2.0",
            "_view_name": "StyleView",
            "description_width": ""
          }
        }
      }
    }
  },
  "cells": [
    {
      "cell_type": "markdown",
      "metadata": {
        "id": "view-in-github",
        "colab_type": "text"
      },
      "source": [
        "<a href=\"https://colab.research.google.com/github/zekaouinoureddine/Advanced-transformer-based-models-on-opinion-mining/blob/master/notebooks/Movie_Reviews_DeBERTa.ipynb\" target=\"_parent\"><img src=\"https://colab.research.google.com/assets/colab-badge.svg\" alt=\"Open In Colab\"/></a>"
      ]
    },
    {
      "cell_type": "markdown",
      "metadata": {
        "id": "7sXfZspauA5P"
      },
      "source": [
        "---\n",
        "<h1 align=\"center\"><strong>Movie Reviews DeBERTa</strong></h1>\n",
        "\n",
        "---"
      ]
    },
    {
      "cell_type": "code",
      "metadata": {
        "colab": {
          "base_uri": "https://localhost:8080/"
        },
        "id": "qt5LFQ6Qtv0_",
        "outputId": "56c8eb95-5248-4fbf-92b4-175c47ad7454"
      },
      "source": [
        "!pip install transformers -q"
      ],
      "execution_count": null,
      "outputs": [
        {
          "output_type": "stream",
          "name": "stdout",
          "text": [
            "\u001b[K     |████████████████████████████████| 4.0 MB 10.1 MB/s \n",
            "\u001b[K     |████████████████████████████████| 6.6 MB 45.8 MB/s \n",
            "\u001b[K     |████████████████████████████████| 895 kB 56.9 MB/s \n",
            "\u001b[K     |████████████████████████████████| 77 kB 5.8 MB/s \n",
            "\u001b[K     |████████████████████████████████| 596 kB 48.4 MB/s \n",
            "\u001b[?25h"
          ]
        }
      ]
    },
    {
      "cell_type": "markdown",
      "metadata": {
        "id": "UNNX6XiYuTVT"
      },
      "source": [
        "### Required Libraries"
      ]
    },
    {
      "cell_type": "code",
      "metadata": {
        "id": "nRvZ0bNpuPiu"
      },
      "source": [
        "import pandas as pd\n",
        "import numpy as np\n",
        "import matplotlib.pyplot as plt\n",
        "import seaborn as sns\n",
        "\n",
        "import torch\n",
        "import torch.nn as nn\n",
        "from torch.utils.data import Dataset, DataLoader\n",
        "\n",
        "from tqdm import tqdm\n",
        "\n",
        "import transformers\n",
        "from transformers import AdamW, get_linear_schedule_with_warmup\n",
        "\n",
        "from sklearn.model_selection import train_test_split\n",
        "from sklearn import metrics\n",
        "\n",
        "from collections import defaultdict"
      ],
      "execution_count": null,
      "outputs": []
    },
    {
      "cell_type": "code",
      "metadata": {
        "id": "C_x8GYWluXsF"
      },
      "source": [
        "!gdown --id 1xJYm-tNMllxx82_CQ1K1R5q0JW9KUV1j -q\n",
        "!unzip IMDb.zip"
      ],
      "execution_count": null,
      "outputs": []
    },
    {
      "cell_type": "code",
      "metadata": {
        "colab": {
          "base_uri": "https://localhost:8080/",
          "height": 369
        },
        "id": "TfUS7EFBupIK",
        "outputId": "e61561d0-f48d-4009-a85d-844dfe834b45"
      },
      "source": [
        "df = pd.read_csv(\"IMDB Dataset.csv\")\n",
        "\n",
        "df[\"sentiment\"].value_counts().plot(kind='bar',\n",
        "                                    color=['green','red'],\n",
        "                                    title='Distribution of Positive and Negative Reviews',\n",
        "                                    figsize=(5,5));"
      ],
      "execution_count": null,
      "outputs": [
        {
          "output_type": "display_data",
          "data": {
            "text/plain": [
              "<Figure size 360x360 with 1 Axes>"
            ],
            "image/png": "[encoded data removed]"
          },
          "metadata": {
            "needs_background": "light"
          }
        }
      ]
    },
    {
      "cell_type": "markdown",
      "metadata": {
        "id": "LG1ux3_sukOl"
      },
      "source": [
        "### Config"
      ]
    },
    {
      "cell_type": "code",
      "metadata": {
        "id": "4iu918OOuoGa",
        "colab": {
          "base_uri": "https://localhost:8080/",
          "height": 249,
          "referenced_widgets": [
            "8ca6a61f86db48a8b085e43a848d2c90",
            "89c389fcd0f346c0b346e30537dfbcf6",
            "5b84a3ba4ed6411aba58604822d01acc",
            "132b9e46ef424ebc8921f2e4c4e22989",
            "4ff014c008cb410c9a184f76cdaab0ea",
            "876a7c28b6b0498bbdab335358a3d8a2",
            "752b6cfe42d343818c19c12d720e0345",
            "f7d04be477444c5aae4db952f527cacc",
            "f785083e511a47878f775e103b02b67e",
            "bdbafb1692884bbea6dec1998f594a8b",
            "d7ebd36c9da4498cb788d9c7552cecab",
            "170dc6e10a094b9a8ea11f2e08d6e7ad",
            "8836e03be7be43d9b8a0cecfc84f8b2e",
            "d31b98c50a464f8e8bc1fbf2f9a1f0cc",
            "b03f921e04fd442fb133cff8c4f0b0e2",
            "9f2911da1ea846c991d9dcd8ef9fd3c5",
            "a6e0c31277914e1f97bc5579c954cd52",
            "a57ec3bfe0e6499abfcb7b8e5f5a5ab8",
            "b519dbe2e90b4d55aca15638fb29e31a",
            "dea555dd10df4ab98a04c52b6841254a",
            "186f03bb07624a709195171c07a8f4a4",
            "62bf6ab9286944d8a83ae51310c8c5cd",
            "f6baa6e5a66e4cd28c97a041a3595f5e",
            "904485b994e447ad986852caf4d24859",
            "2ab678c72f114b529ebdb22b8b42518a",
            "a48dd5d7e46645838899f88f9f40a068",
            "7c50f4f6fb504a65973e8fd2a36bc4ca",
            "d4b7be9f41ab48d2af03faedf6cb05b2",
            "15dcd0dbecaa41eb81b883ccd05d947d",
            "14e4333ef3324955828613091ac1cac3",
            "411b527d056f4c29b3d7686bc2e17ac9",
            "8490edb8bab54916a8e66414eba0e0cf",
            "7a82ff0589cb4d42a0956cae2a5249d0",
            "a4ec1e940a574a938431c84ecc24b60e",
            "505be92e6b1440d18e697bd410916b90",
            "e783cc49d0d442f88d827886d1d8c845",
            "f715fe36246f4e6494e7ca667d60bf54",
            "62e1b230396645139f8efadc4b37bf31",
            "6e1f9049ff5a422ba212f9c2c386987c",
            "7e9cf9926bb44b179df848853beb3c5e",
            "39d5c5708121475c861478f31df588ba",
            "af455c6228a041b89fb8841743787dbd",
            "a263809705b04c0caf88cc9e9f6e20e0",
            "711742b3681b40d2b8503a88df0a7cd2",
            "e29703dfd9e345c3bcdc2b70853d1542",
            "ead1fe651ddb4fd1b5d7d099cdb27a39",
            "e47daf7e27f5487e9d1c7370b1c7745e",
            "d4614426285f43638dc2f98ad3a185d1",
            "cd0ac1c2449e419a87db37df78f49568",
            "b09761875df847728e79ed2d303ceaa1",
            "dd9da3bf5f684006bae574ac2f8ba5e1",
            "cc52928659114c76ac71ab47d80a5c49",
            "58bc229525db4dfdb9c9a3f20d30f649",
            "b9512cd02e314118b43f9fa853c236d1",
            "9a6e4029422f4f66a9338af4caed7d5f"
          ]
        },
        "outputId": "24a204d9-10c7-4d39-f345-acea353d2b87"
      },
      "source": [
        "class Config:\n",
        "  MAX_LEN = 384\n",
        "  TRAIN_BATCH_SIZE = 8\n",
        "  VALID_BATCH_SIZE = 4\n",
        "  EPOCHS = 4\n",
        "  DEVICE = torch.device(\"cuda\" if torch.cuda.is_available() else \"cpu\")\n",
        "\n",
        "  DeBERTa_PATH = \"microsoft/deberta-base\"\n",
        "  MODEL_PATH = \"DeBERTaModel.bin\"\n",
        "  TRAINING_DATA = \"IMDB Dataset.csv\"\n",
        "\n",
        "  TOKENIZER = transformers.DebertaTokenizer.from_pretrained(DeBERTa_PATH, do_lower_case = True)\n",
        "  MODEL = transformers.DebertaModel.from_pretrained(DeBERTa_PATH, return_dict=False)"
      ],
      "execution_count": null,
      "outputs": [
        {
          "output_type": "display_data",
          "data": {
            "text/plain": [
              "Downloading:   0%|          | 0.00/878k [00:00<?, ?B/s]"
            ],
            "application/vnd.jupyter.widget-view+json": {
              "version_major": 2,
              "version_minor": 0,
              "model_id": "8ca6a61f86db48a8b085e43a848d2c90"
            }
          },
          "metadata": {}
        },
        {
          "output_type": "display_data",
          "data": {
            "text/plain": [
              "Downloading:   0%|          | 0.00/446k [00:00<?, ?B/s]"
            ],
            "application/vnd.jupyter.widget-view+json": {
              "version_major": 2,
              "version_minor": 0,
              "model_id": "170dc6e10a094b9a8ea11f2e08d6e7ad"
            }
          },
          "metadata": {}
        },
        {
          "output_type": "display_data",
          "data": {
            "text/plain": [
              "Downloading:   0%|          | 0.00/52.0 [00:00<?, ?B/s]"
            ],
            "application/vnd.jupyter.widget-view+json": {
              "version_major": 2,
              "version_minor": 0,
              "model_id": "f6baa6e5a66e4cd28c97a041a3595f5e"
            }
          },
          "metadata": {}
        },
        {
          "output_type": "display_data",
          "data": {
            "text/plain": [
              "Downloading:   0%|          | 0.00/474 [00:00<?, ?B/s]"
            ],
            "application/vnd.jupyter.widget-view+json": {
              "version_major": 2,
              "version_minor": 0,
              "model_id": "a4ec1e940a574a938431c84ecc24b60e"
            }
          },
          "metadata": {}
        },
        {
          "output_type": "display_data",
          "data": {
            "text/plain": [
              "Downloading:   0%|          | 0.00/533M [00:00<?, ?B/s]"
            ],
            "application/vnd.jupyter.widget-view+json": {
              "version_major": 2,
              "version_minor": 0,
              "model_id": "e29703dfd9e345c3bcdc2b70853d1542"
            }
          },
          "metadata": {}
        },
        {
          "output_type": "stream",
          "name": "stderr",
          "text": [
            "Some weights of the model checkpoint at microsoft/deberta-base were not used when initializing DebertaModel: ['lm_predictions.lm_head.LayerNorm.weight', 'lm_predictions.lm_head.dense.bias', 'lm_predictions.lm_head.dense.weight', 'lm_predictions.lm_head.LayerNorm.bias', 'lm_predictions.lm_head.bias']\n",
            "- This IS expected if you are initializing DebertaModel from the checkpoint of a model trained on another task or with another architecture (e.g. initializing a BertForSequenceClassification model from a BertForPreTraining model).\n",
            "- This IS NOT expected if you are initializing DebertaModel from the checkpoint of a model that you expect to be exactly identical (initializing a BertForSequenceClassification model from a BertForSequenceClassification model).\n"
          ]
        }
      ]
    },
    {
      "cell_type": "markdown",
      "metadata": {
        "id": "gAm_KcB3vVdu"
      },
      "source": [
        "### Dataset"
      ]
    },
    {
      "cell_type": "code",
      "metadata": {
        "id": "cfefUgcSvQbw"
      },
      "source": [
        "class DataProcess:\n",
        "  def __init__(self, review):\n",
        "    self.tokenizer = Config.TOKENIZER\n",
        "    self.max_len = Config.MAX_LEN\n",
        "    self.review = review\n",
        "    \n",
        "  def preprocess_bert(self):\n",
        "    reviw = \" \".join(self.review.split())\n",
        "    inputs = self.tokenizer.encode_plus(\n",
        "        reviw,\n",
        "        None,\n",
        "        add_special_tokens=True,\n",
        "        max_length=self.max_len,\n",
        "        # padding = \"max_length\",\n",
        "        truncation=True\n",
        "        )\n",
        "\n",
        "    input_ids = inputs[\"input_ids\"]\n",
        "    attention_mask = inputs[\"attention_mask\"]\n",
        "    token_type_ids = inputs[\"token_type_ids\"]\n",
        "\n",
        "    return (\n",
        "        torch.tensor(input_ids, dtype=torch.long).unsqueeze(0),\n",
        "        torch.tensor(attention_mask, dtype=torch.long).unsqueeze(0),\n",
        "        torch.tensor(token_type_ids, dtype=torch.long).unsqueeze(0)\n",
        "        )\n",
        "    \n",
        "  def preprocess_output(self, outputs):\n",
        "    outputs = torch.sigmoid(outputs).cpu().detach().numpy()\n",
        "    return outputs[0][0]\n",
        "\n",
        "class MovieReviewDatSet:\n",
        "  def __init__(self, data_path):\n",
        "    \n",
        "    self.data = pd.read_csv(data_path).fillna('none')\n",
        "    self.data.sentiment = self.data.sentiment.apply(lambda x: 1 if x == \"positive\" else 0)\n",
        "    self.data = self.data.reset_index(drop=True)\n",
        "    self.tokenizer = Config.TOKENIZER\n",
        "    self.max_len = Config.MAX_LEN\n",
        "    self.review = self.data.review.values\n",
        "    self.label = self.data.sentiment.values\n",
        "\n",
        "  def __len__(self):\n",
        "    return len(self.review)\n",
        "\n",
        "  def __getitem__(self, item):\n",
        "    review = str(self.review[item])\n",
        "    review = \" \".join(review.split())\n",
        "\n",
        "    inputs = self.tokenizer.encode_plus(\n",
        "        review,\n",
        "        None,\n",
        "        add_special_tokens = True,\n",
        "        max_length = self.max_len,\n",
        "        padding = \"max_length\",\n",
        "        truncation= True\n",
        "    )\n",
        "\n",
        "    input_ids = inputs[\"input_ids\"]\n",
        "    attention_mask = inputs[\"attention_mask\"]\n",
        "    token_type_ids = inputs[\"token_type_ids\"]\n",
        "\n",
        "    return {\n",
        "        \"input_ids\" : torch.tensor(input_ids, dtype=torch.long),\n",
        "        \"attention_mask\" : torch.tensor(attention_mask, dtype=torch.long),\n",
        "        \"token_type_ids\" : torch.tensor(token_type_ids, dtype=torch.long),\n",
        "        \"labels\" : torch.tensor(self.label[item], dtype=torch.float)\n",
        "    }"
      ],
      "execution_count": null,
      "outputs": []
    },
    {
      "cell_type": "markdown",
      "metadata": {
        "id": "wP_pTrsjvjZR"
      },
      "source": [
        "### Model"
      ]
    },
    {
      "cell_type": "markdown",
      "metadata": {
        "id": "ZbL6WE4HyWe3"
      },
      "source": [
        "![mrdeberta.png](data:image/png;base64,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)"
      ]
    },
    {
      "cell_type": "code",
      "metadata": {
        "id": "VJOLflZjva9A"
      },
      "source": [
        "class DeBERTaModel(nn.Module):\n",
        "  def __init__(self):\n",
        "    super(DeBERTaModel, self).__init__()\n",
        "    self.deberta = Config.MODEL\n",
        "    self.deberta_drop = nn.Dropout(0.3)\n",
        "    self.out = nn.Linear(768, 1)\n",
        "\n",
        "  def forward(self, input_ids, attention_mask, token_type_ids):\n",
        "    outputs  = self.deberta(input_ids=input_ids, attention_mask=attention_mask, token_type_ids = token_type_ids)\n",
        "    mean_last_hidden_state = torch.mean(outputs[0], dim=1)\n",
        "    dbo = self.deberta_drop(mean_last_hidden_state)\n",
        "    output = self.out(dbo)\n",
        "    \n",
        "    return output"
      ],
      "execution_count": null,
      "outputs": []
    },
    {
      "cell_type": "markdown",
      "metadata": {
        "id": "Ok_-jFtEv1Bp"
      },
      "source": [
        "### Engine"
      ]
    },
    {
      "cell_type": "code",
      "metadata": {
        "id": "IA-grO6VvyHP"
      },
      "source": [
        "def loss_fn(outputs, labels):\n",
        "  return nn.BCEWithLogitsLoss()(outputs, labels.view(-1, 1))\n",
        "\n",
        "def train_fn(train_dataloader, model, optimizer, device, scheduler):\n",
        "  model.train()\n",
        "  final_loss = 0\n",
        "\n",
        "  fin_labels = []\n",
        "  fin_outputs = []\n",
        "  for bi, d in tqdm(enumerate(train_dataloader), total=len(train_dataloader)):\n",
        "    input_ids = d[\"input_ids\"]\n",
        "    attention_mask = d[\"attention_mask\"]\n",
        "    token_type_ids = d[\"token_type_ids\"]\n",
        "    labels = d[\"labels\"]\n",
        "\n",
        "    input_ids = input_ids.to(device, dtype=torch.long)\n",
        "    attention_mask = attention_mask.to(device, dtype=torch.long)\n",
        "    token_type_ids = token_type_ids.to(device, dtype = torch.long)\n",
        "    labels = labels.to(device, dtype = torch.float)\n",
        "\n",
        "    optimizer.zero_grad()\n",
        "    outputs = model(input_ids=input_ids, attention_mask=attention_mask, token_type_ids = token_type_ids)\n",
        "    loss = loss_fn(outputs, labels)\n",
        "    \n",
        "    final_loss += loss.item()\n",
        "    fin_labels.extend(labels.cpu().detach().numpy().tolist())\n",
        "    fin_outputs.extend(torch.sigmoid(outputs).cpu().detach().numpy().tolist())\n",
        "    \n",
        "    loss.backward()\n",
        "    optimizer.step()\n",
        "    scheduler.step()\n",
        "\n",
        "  return fin_outputs, fin_labels, final_loss/len(train_dataloader)\n",
        "\n",
        "def eval_fn(valid_dataloader, model, device):\n",
        "  model.eval()\n",
        "  final_loss = 0\n",
        "\n",
        "  fin_labels = []\n",
        "  fin_outputs = []\n",
        "  with torch.no_grad():\n",
        "    for bi, d in tqdm(enumerate(valid_dataloader), total=len(valid_dataloader)):\n",
        "      input_ids = d[\"input_ids\"]\n",
        "      attention_mask = d[\"attention_mask\"]\n",
        "      token_type_ids = d[\"token_type_ids\"]\n",
        "      labels = d[\"labels\"]\n",
        "\n",
        "      input_ids = input_ids.to(device, dtype=torch.long)\n",
        "      attention_mask = attention_mask.to(device, dtype=torch.long)\n",
        "      token_type_ids = token_type_ids.to(device, dtype = torch.long)\n",
        "      labels = labels.to(device, dtype = torch.float)\n",
        "\n",
        "      outputs = model(input_ids=input_ids, attention_mask=attention_mask, token_type_ids = token_type_ids)\n",
        "      \n",
        "      loss = loss_fn(outputs, labels)\n",
        "      final_loss += loss.item()\n",
        "      \n",
        "      fin_labels.extend(labels.cpu().detach().numpy().tolist())\n",
        "      fin_outputs.extend(torch.sigmoid(outputs).cpu().detach().numpy().tolist())\n",
        "      \n",
        "\n",
        "  return fin_outputs, fin_labels, final_loss/len(valid_dataloader)"
      ],
      "execution_count": null,
      "outputs": []
    },
    {
      "cell_type": "markdown",
      "metadata": {
        "id": "d6-Z5L01v6zx"
      },
      "source": [
        "### Train"
      ]
    },
    {
      "cell_type": "code",
      "metadata": {
        "colab": {
          "base_uri": "https://localhost:8080/"
        },
        "id": "hOeiuoskv6Be",
        "outputId": "41b1d0e1-c81d-4cad-ee1b-92900fc8d214"
      },
      "source": [
        "dataset = MovieReviewDatSet(Config.TRAINING_DATA)\n",
        "\n",
        "train_data, valid_data = train_test_split(dataset, test_size = 0.1)\n",
        "train_dataloader = DataLoader(train_data, batch_size=Config.TRAIN_BATCH_SIZE, num_workers=4)\n",
        "valid_dataloader = DataLoader(valid_data, batch_size=Config.VALID_BATCH_SIZE, num_workers=1)\n",
        "\n",
        "model = DeBERTaModel()\n",
        "model.to(Config.DEVICE)\n",
        "\n",
        "param_optimizer = list(model.named_parameters())\n",
        "no_decay = [\"bias\", \"LayerNorm.bias\", \"LayerNorm.weight\"]\n",
        "optimizer_parameters = [\n",
        "                        {\n",
        "                            \"params\": [\n",
        "                                       p for n, p in param_optimizer if not any(nd in n for nd in no_decay)\n",
        "                                       ],\n",
        "                         \"weight_decay\": 0.001,\n",
        "                         },\n",
        "                        {\n",
        "                            \"params\": [\n",
        "                                       p for n, p in param_optimizer if any(nd in n for nd in no_decay)\n",
        "                                       ],\n",
        "                         \"weight_decay\": 0.0,\n",
        "                         },\n",
        "                        ]\n",
        "\n",
        "num_train_steps = int(len(train_data) / Config.TRAIN_BATCH_SIZE * Config.EPOCHS)\n",
        "optimizer = AdamW(optimizer_parameters, lr=3e-5)\n",
        "scheduler = get_linear_schedule_with_warmup(\n",
        "    optimizer, num_warmup_steps=0, num_training_steps=num_train_steps\n",
        "    )\n",
        "\n",
        "history = defaultdict(list)\n",
        "\n",
        "best_accuracy = 0\n",
        "for epoch in range(1, Config.EPOCHS+1):\n",
        "  train_outputs, train_labels, train_loss = train_fn(train_dataloader, model, optimizer, Config.DEVICE, scheduler)\n",
        "  valid_outputs, valid_labels, valid_loss = eval_fn(valid_dataloader, model, Config.DEVICE)\n",
        "  \n",
        "  train_outputs = np.array(train_outputs) >= 0.5\n",
        "  valid_outputs = np.array(valid_outputs) >= 0.5\n",
        "\n",
        "  train_accuracy = metrics.accuracy_score(train_labels, train_outputs)\n",
        "  valid_accuracy = metrics.accuracy_score(valid_labels, valid_outputs)\n",
        "\n",
        "  print(f\"Epoch: {epoch}\\nTrain Loss: {train_loss} - Train Accuracy: {train_accuracy} \\nValid Loss: {valid_loss} - Valid Accuracy: {valid_accuracy}\\n\")\n",
        "  \n",
        "  history['Train Loss'].append(train_loss)\n",
        "  history['Train Accuracy'].append(train_accuracy)\n",
        "  history['Valid Loss'].append(valid_loss)\n",
        "  history['Valid Accuracy'].append(valid_accuracy)\n",
        "  \n",
        "  if valid_accuracy > best_accuracy:\n",
        "    torch.save(model.state_dict(), Config.MODEL_PATH)\n",
        "    best_accuracy = valid_accuracy"
      ],
      "execution_count": null,
      "outputs": [
        {
          "output_type": "stream",
          "name": "stderr",
          "text": [
            "/usr/local/lib/python3.7/dist-packages/torch/utils/data/dataloader.py:490: UserWarning: This DataLoader will create 4 worker processes in total. Our suggested max number of worker in current system is 2, which is smaller than what this DataLoader is going to create. Please be aware that excessive worker creation might get DataLoader running slow or even freeze, lower the worker number to avoid potential slowness/freeze if necessary.\n",
            "  cpuset_checked))\n",
            "/usr/local/lib/python3.7/dist-packages/transformers/optimization.py:309: FutureWarning: This implementation of AdamW is deprecated and will be removed in a future version. Use the PyTorch implementation torch.optim.AdamW instead, or set `no_deprecation_warning=True` to disable this warning\n",
            "  FutureWarning,\n",
            "100%|██████████| 5625/5625 [26:22<00:00,  3.55it/s]\n",
            "100%|██████████| 1250/1250 [01:02<00:00, 20.07it/s]\n"
          ]
        },
        {
          "output_type": "stream",
          "name": "stdout",
          "text": [
            "Epoch: 1\n",
            "Train Loss: 0.20305731653062006 - Train Accuracy: 0.926 \n",
            "Valid Loss: 0.13862077959203162 - Valid Accuracy: 0.956\n",
            "\n"
          ]
        },
        {
          "output_type": "stream",
          "name": "stderr",
          "text": [
            "/usr/local/lib/python3.7/dist-packages/torch/utils/data/dataloader.py:490: UserWarning: This DataLoader will create 4 worker processes in total. Our suggested max number of worker in current system is 2, which is smaller than what this DataLoader is going to create. Please be aware that excessive worker creation might get DataLoader running slow or even freeze, lower the worker number to avoid potential slowness/freeze if necessary.\n",
            "  cpuset_checked))\n",
            "100%|██████████| 5625/5625 [26:22<00:00,  3.55it/s]\n",
            "100%|██████████| 1250/1250 [01:02<00:00, 20.11it/s]"
          ]
        },
        {
          "output_type": "stream",
          "name": "stdout",
          "text": [
            "Epoch: 2\n",
            "Train Loss: 0.10747575540635218 - Train Accuracy: 0.9641333333333333 \n",
            "Valid Loss: 0.16376498920030716 - Valid Accuracy: 0.952\n",
            "\n"
          ]
        },
        {
          "output_type": "stream",
          "name": "stderr",
          "text": [
            "\n",
            "/usr/local/lib/python3.7/dist-packages/torch/utils/data/dataloader.py:490: UserWarning: This DataLoader will create 4 worker processes in total. Our suggested max number of worker in current system is 2, which is smaller than what this DataLoader is going to create. Please be aware that excessive worker creation might get DataLoader running slow or even freeze, lower the worker number to avoid potential slowness/freeze if necessary.\n",
            "  cpuset_checked))\n",
            "100%|██████████| 5625/5625 [26:21<00:00,  3.56it/s]\n",
            "100%|██████████| 1250/1250 [01:02<00:00, 20.14it/s]\n"
          ]
        },
        {
          "output_type": "stream",
          "name": "stdout",
          "text": [
            "Epoch: 3\n",
            "Train Loss: 0.05390555714623899 - Train Accuracy: 0.9844444444444445 \n",
            "Valid Loss: 0.1744305085957145 - Valid Accuracy: 0.9526\n",
            "\n"
          ]
        },
        {
          "output_type": "stream",
          "name": "stderr",
          "text": [
            "/usr/local/lib/python3.7/dist-packages/torch/utils/data/dataloader.py:490: UserWarning: This DataLoader will create 4 worker processes in total. Our suggested max number of worker in current system is 2, which is smaller than what this DataLoader is going to create. Please be aware that excessive worker creation might get DataLoader running slow or even freeze, lower the worker number to avoid potential slowness/freeze if necessary.\n",
            "  cpuset_checked))\n",
            "100%|██████████| 5625/5625 [26:21<00:00,  3.56it/s]\n",
            "100%|██████████| 1250/1250 [01:02<00:00, 20.06it/s]\n"
          ]
        },
        {
          "output_type": "stream",
          "name": "stdout",
          "text": [
            "Epoch: 4\n",
            "Train Loss: 0.02611845447782479 - Train Accuracy: 0.9934222222222222 \n",
            "Valid Loss: 0.2111105752443078 - Valid Accuracy: 0.9506\n",
            "\n"
          ]
        }
      ]
    },
    {
      "cell_type": "markdown",
      "metadata": {
        "id": "ynj_IebCxFAA"
      },
      "source": [
        "### Error Analysis & Performance auditing"
      ]
    },
    {
      "cell_type": "code",
      "metadata": {
        "id": "AhhgK18Xv_WZ"
      },
      "source": [
        "def get_metrics(labels, outputs):\n",
        "  accuracy = metrics.accuracy_score(labels, outputs)\n",
        "  recall = metrics.recall_score(labels, outputs)\n",
        "  precision = metrics.precision_score(labels, outputs)\n",
        "  f1 = metrics.f1_score(labels, outputs)\n",
        "  return accuracy, recall, precision, f1"
      ],
      "execution_count": null,
      "outputs": []
    },
    {
      "cell_type": "code",
      "metadata": {
        "colab": {
          "base_uri": "https://localhost:8080/",
          "height": 677
        },
        "id": "bD3gJ1gjxMDz",
        "outputId": "df088404-e679-4026-f520-e1d131b33743"
      },
      "source": [
        "accuracy, recall, precision, f1 = get_metrics(valid_labels, valid_outputs)\n",
        "\n",
        "print(\"===\"*50)\n",
        "print(\"\\nResults summary\\n\")\n",
        "print(f\"Accuracy Score  : {accuracy}\")\n",
        "print(f\"Recall Score    : {recall}\")\n",
        "print(f\"Precision Score : {precision}\")\n",
        "print(f\"F1 Score        : {f1}\")\n",
        "\n",
        "print(\"===\"*50)\n",
        "print(\"\\nClassification report \\n\\n\", metrics.classification_report(valid_labels, valid_outputs))\n",
        "\n",
        "print(\"===\"*50)\n",
        "cm = metrics.confusion_matrix(valid_labels, valid_outputs)\n",
        "fig, ax = plt.subplots()\n",
        "sns.heatmap(cm, annot=True, fmt='d', ax=ax, cmap=plt.cm.Blues, cbar=False)\n",
        "ax.set(xlabel=\"Predicted Label\", \n",
        "       ylabel=\"True Label\", \n",
        "       xticklabels=np.unique(valid_labels), \n",
        "       yticklabels=np.unique(valid_labels), \n",
        "       title=\"CONFUSION MATRIX\")\n",
        "plt.yticks(rotation=0);"
      ],
      "execution_count": null,
      "outputs": [
        {
          "output_type": "stream",
          "name": "stdout",
          "text": [
            "======================================================================================================================================================\n",
            "\n",
            "Results summary\n",
            "\n",
            "Accuracy Score  : 0.9506\n",
            "Recall Score    : 0.9518886679920477\n",
            "Precision Score : 0.95\n",
            "F1 Score        : 0.9509433962264151\n",
            "======================================================================================================================================================\n",
            "\n",
            "Classification report \n",
            "\n",
            "               precision    recall  f1-score   support\n",
            "\n",
            "         0.0       0.95      0.95      0.95      2485\n",
            "         1.0       0.95      0.95      0.95      2515\n",
            "\n",
            "    accuracy                           0.95      5000\n",
            "   macro avg       0.95      0.95      0.95      5000\n",
            "weighted avg       0.95      0.95      0.95      5000\n",
            "\n",
            "======================================================================================================================================================\n"
          ]
        },
        {
          "output_type": "display_data",
          "data": {
            "text/plain": [
              "<Figure size 432x288 with 1 Axes>"
            ],
            "image/png": "[encoded data removed]"
          },
          "metadata": {
            "needs_background": "light"
          }
        }
      ]
    },
    {
      "cell_type": "code",
      "metadata": {
        "colab": {
          "base_uri": "https://localhost:8080/",
          "height": 295
        },
        "id": "M-5DLLioxPZY",
        "outputId": "0d28c2fd-0a0a-4101-f8e0-8f317baae0e8"
      },
      "source": [
        "plt.plot(history['Train Accuracy'], '-o', label='Train Accuracy')\n",
        "plt.plot(history['Valid Accuracy'], '-o', label='Validation Accuracy')\n",
        "plt.title('Training History')\n",
        "plt.ylabel('Accuracy')\n",
        "plt.xlabel('Epoch')\n",
        "plt.legend()\n",
        "plt.ylim([0, 1]);"
      ],
      "execution_count": null,
      "outputs": [
        {
          "output_type": "display_data",
          "data": {
            "text/plain": [
              "<Figure size 432x288 with 1 Axes>"
            ],
            "image/png": "[encoded data removed]"
          },
          "metadata": {
            "needs_background": "light"
          }
        }
      ]
    },
    {
      "cell_type": "code",
      "metadata": {
        "colab": {
          "base_uri": "https://localhost:8080/",
          "height": 295
        },
        "id": "3NeSESFvxT9l",
        "outputId": "a31a5ccc-535a-4697-c29d-732510972ea4"
      },
      "source": [
        "plt.plot(history['Train Loss'], '-o', label='Train Loss')\n",
        "plt.plot(history['Valid Loss'], '-o', label='Validation Loss')\n",
        "plt.title('Training History')\n",
        "plt.ylabel('Loss')\n",
        "plt.xlabel('Epoch')\n",
        "plt.legend()\n",
        "plt.ylim([0, 1]);"
      ],
      "execution_count": null,
      "outputs": [
        {
          "output_type": "display_data",
          "data": {
            "text/plain": [
              "<Figure size 432x288 with 1 Axes>"
            ],
            "image/png": "[encoded data removed]"
          },
          "metadata": {
            "needs_background": "light"
          }
        }
      ]
    },
    {
      "cell_type": "markdown",
      "metadata": {
        "id": "ZPjzvzBbxYcR"
      },
      "source": [
        "### Inference"
      ]
    },
    {
      "cell_type": "code",
      "metadata": {
        "id": "HOHnzpv1xXiz"
      },
      "source": [
        "model = DeBERTaModel()\n",
        "model.to(Config.DEVICE)\n",
        "model.load_state_dict(\n",
        "    torch.load(\n",
        "        Config.MODEL_PATH,\n",
        "        map_location=torch.device(Config.DEVICE)\n",
        "        )\n",
        "    )\n",
        "\n",
        "def predict(review: str):\n",
        "  data = DataProcess(review)\n",
        "  input_ids, attention_mask, token_type_ids = data.preprocess_bert()\n",
        "  \n",
        "  input_ids = input_ids.to(Config.DEVICE, dtype=torch.long)\n",
        "  attention_mask = attention_mask.to(Config.DEVICE, dtype=torch.long)\n",
        "  token_type_ids = token_type_ids.to(Config.DEVICE, dtype=torch.long)\n",
        "  \n",
        "  outputs = model(input_ids, attention_mask, token_type_ids) \n",
        "  positive_prediction = data.preprocess_output(outputs)\n",
        "  negative_prediction = 1 - positive_prediction\n",
        "  \n",
        "  return {\n",
        "      \"review\": review,\n",
        "      \"positive\": str(positive_prediction),\n",
        "      \"negative\": str(negative_prediction),\n",
        "  }"
      ],
      "execution_count": null,
      "outputs": []
    },
    {
      "cell_type": "code",
      "metadata": {
        "colab": {
          "base_uri": "https://localhost:8080/"
        },
        "id": "KuuTsovTxfQ1",
        "outputId": "6689a0c4-95c1-4c07-d768-487dddbea0ba"
      },
      "source": [
        "sentiment = predict(\"I like this amazing movie\")\n",
        "print(sentiment)"
      ],
      "execution_count": null,
      "outputs": [
        {
          "output_type": "stream",
          "name": "stdout",
          "text": [
            "{'review': 'I like this amazing movie', 'positive': '0.99999857', 'negative': '1.430511474609375e-06'}\n"
          ]
        }
      ]
    },
    {
      "cell_type": "code",
      "metadata": {
        "id": "cFoPHFzCxiXV"
      },
      "source": [],
      "execution_count": null,
      "outputs": []
    },
    {
      "cell_type": "markdown",
      "metadata": {
        "id": "9-twjzKax1oJ"
      },
      "source": [
        "### References\n",
        "* Pengcheng He, Xiaodong Liu, Jianfeng Gao, Weizhu Chen. 2020. [DeBERTa: Decoding-enhanced BERT with Disentangled Attention](https://arxiv.org/abs/2006.03654). arXiv preprint arXiv:2006.03654."
      ]
    }
  ]
}