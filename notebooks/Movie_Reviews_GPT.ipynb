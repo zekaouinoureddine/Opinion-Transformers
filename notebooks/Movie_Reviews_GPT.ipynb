{
  "nbformat": 4,
  "nbformat_minor": 0,
  "metadata": {
    "colab": {
      "provenance": [],
      "include_colab_link": true
    },
    "kernelspec": {
      "name": "python3",
      "display_name": "Python 3"
    },
    "language_info": {
      "name": "python"
    },
    "accelerator": "GPU",
    "widgets": {
      "application/vnd.jupyter.widget-state+json": {
        "1da96fd078714666a3d3fe19ca0192fd": {
          "model_module": "@jupyter-widgets/controls",
          "model_name": "HBoxModel",
          "model_module_version": "1.5.0",
          "state": {
            "_dom_classes": [],
            "_model_module": "@jupyter-widgets/controls",
            "_model_module_version": "1.5.0",
            "_model_name": "HBoxModel",
            "_view_count": null,
            "_view_module": "@jupyter-widgets/controls",
            "_view_module_version": "1.5.0",
            "_view_name": "HBoxView",
            "box_style": "",
            "children": [
              "IPY_MODEL_16a0d1c7b40b4e79989acb0fc4253e77",
              "IPY_MODEL_cf2fdebbce1f4da1b78e1549a39b47cc",
              "IPY_MODEL_9375f9d2e9664bbb83b927ec56a3258e"
            ],
            "layout": "IPY_MODEL_d5f49ebe42d840b2936969c955472e41"
          }
        },
        "16a0d1c7b40b4e79989acb0fc4253e77": {
          "model_module": "@jupyter-widgets/controls",
          "model_name": "HTMLModel",
          "model_module_version": "1.5.0",
          "state": {
            "_dom_classes": [],
            "_model_module": "@jupyter-widgets/controls",
            "_model_module_version": "1.5.0",
            "_model_name": "HTMLModel",
            "_view_count": null,
            "_view_module": "@jupyter-widgets/controls",
            "_view_module_version": "1.5.0",
            "_view_name": "HTMLView",
            "description": "",
            "description_tooltip": null,
            "layout": "IPY_MODEL_68b39a9bae8a4b43b8a4717b4e04cd19",
            "placeholder": "​",
            "style": "IPY_MODEL_a96efcbca4a04157b5c8dfea3cc8b89b",
            "value": "Downloading: 100%"
          }
        },
        "cf2fdebbce1f4da1b78e1549a39b47cc": {
          "model_module": "@jupyter-widgets/controls",
          "model_name": "FloatProgressModel",
          "model_module_version": "1.5.0",
          "state": {
            "_dom_classes": [],
            "_model_module": "@jupyter-widgets/controls",
            "_model_module_version": "1.5.0",
            "_model_name": "FloatProgressModel",
            "_view_count": null,
            "_view_module": "@jupyter-widgets/controls",
            "_view_module_version": "1.5.0",
            "_view_name": "ProgressView",
            "bar_style": "success",
            "description": "",
            "description_tooltip": null,
            "layout": "IPY_MODEL_f026a0c1517941d4a5fcbfec0bb22d0c",
            "max": 815973,
            "min": 0,
            "orientation": "horizontal",
            "style": "IPY_MODEL_ce4f02b2e9be4c99b01226262552e781",
            "value": 815973
          }
        },
        "9375f9d2e9664bbb83b927ec56a3258e": {
          "model_module": "@jupyter-widgets/controls",
          "model_name": "HTMLModel",
          "model_module_version": "1.5.0",
          "state": {
            "_dom_classes": [],
            "_model_module": "@jupyter-widgets/controls",
            "_model_module_version": "1.5.0",
            "_model_name": "HTMLModel",
            "_view_count": null,
            "_view_module": "@jupyter-widgets/controls",
            "_view_module_version": "1.5.0",
            "_view_name": "HTMLView",
            "description": "",
            "description_tooltip": null,
            "layout": "IPY_MODEL_3c90e31c64614f9996f5f38aa11168e4",
            "placeholder": "​",
            "style": "IPY_MODEL_297b504eb261432a9de78a4887e03309",
            "value": " 797k/797k [00:00&lt;00:00, 893kB/s]"
          }
        },
        "d5f49ebe42d840b2936969c955472e41": {
          "model_module": "@jupyter-widgets/base",
          "model_name": "LayoutModel",
          "model_module_version": "1.2.0",
          "state": {
            "_model_module": "@jupyter-widgets/base",
            "_model_module_version": "1.2.0",
            "_model_name": "LayoutModel",
            "_view_count": null,
            "_view_module": "@jupyter-widgets/base",
            "_view_module_version": "1.2.0",
            "_view_name": "LayoutView",
            "align_content": null,
            "align_items": null,
            "align_self": null,
            "border": null,
            "bottom": null,
            "display": null,
            "flex": null,
            "flex_flow": null,
            "grid_area": null,
            "grid_auto_columns": null,
            "grid_auto_flow": null,
            "grid_auto_rows": null,
            "grid_column": null,
            "grid_gap": null,
            "grid_row": null,
            "grid_template_areas": null,
            "grid_template_columns": null,
            "grid_template_rows": null,
            "height": null,
            "justify_content": null,
            "justify_items": null,
            "left": null,
            "margin": null,
            "max_height": null,
            "max_width": null,
            "min_height": null,
            "min_width": null,
            "object_fit": null,
            "object_position": null,
            "order": null,
            "overflow": null,
            "overflow_x": null,
            "overflow_y": null,
            "padding": null,
            "right": null,
            "top": null,
            "visibility": null,
            "width": null
          }
        },
        "68b39a9bae8a4b43b8a4717b4e04cd19": {
          "model_module": "@jupyter-widgets/base",
          "model_name": "LayoutModel",
          "model_module_version": "1.2.0",
          "state": {
            "_model_module": "@jupyter-widgets/base",
            "_model_module_version": "1.2.0",
            "_model_name": "LayoutModel",
            "_view_count": null,
            "_view_module": "@jupyter-widgets/base",
            "_view_module_version": "1.2.0",
            "_view_name": "LayoutView",
            "align_content": null,
            "align_items": null,
            "align_self": null,
            "border": null,
            "bottom": null,
            "display": null,
            "flex": null,
            "flex_flow": null,
            "grid_area": null,
            "grid_auto_columns": null,
            "grid_auto_flow": null,
            "grid_auto_rows": null,
            "grid_column": null,
            "grid_gap": null,
            "grid_row": null,
            "grid_template_areas": null,
            "grid_template_columns": null,
            "grid_template_rows": null,
            "height": null,
            "justify_content": null,
            "justify_items": null,
            "left": null,
            "margin": null,
            "max_height": null,
            "max_width": null,
            "min_height": null,
            "min_width": null,
            "object_fit": null,
            "object_position": null,
            "order": null,
            "overflow": null,
            "overflow_x": null,
            "overflow_y": null,
            "padding": null,
            "right": null,
            "top": null,
            "visibility": null,
            "width": null
          }
        },
        "a96efcbca4a04157b5c8dfea3cc8b89b": {
          "model_module": "@jupyter-widgets/controls",
          "model_name": "DescriptionStyleModel",
          "model_module_version": "1.5.0",
          "state": {
            "_model_module": "@jupyter-widgets/controls",
            "_model_module_version": "1.5.0",
            "_model_name": "DescriptionStyleModel",
            "_view_count": null,
            "_view_module": "@jupyter-widgets/base",
            "_view_module_version": "1.2.0",
            "_view_name": "StyleView",
            "description_width": ""
          }
        },
        "f026a0c1517941d4a5fcbfec0bb22d0c": {
          "model_module": "@jupyter-widgets/base",
          "model_name": "LayoutModel",
          "model_module_version": "1.2.0",
          "state": {
            "_model_module": "@jupyter-widgets/base",
            "_model_module_version": "1.2.0",
            "_model_name": "LayoutModel",
            "_view_count": null,
            "_view_module": "@jupyter-widgets/base",
            "_view_module_version": "1.2.0",
            "_view_name": "LayoutView",
            "align_content": null,
            "align_items": null,
            "align_self": null,
            "border": null,
            "bottom": null,
            "display": null,
            "flex": null,
            "flex_flow": null,
            "grid_area": null,
            "grid_auto_columns": null,
            "grid_auto_flow": null,
            "grid_auto_rows": null,
            "grid_column": null,
            "grid_gap": null,
            "grid_row": null,
            "grid_template_areas": null,
            "grid_template_columns": null,
            "grid_template_rows": null,
            "height": null,
            "justify_content": null,
            "justify_items": null,
            "left": null,
            "margin": null,
            "max_height": null,
            "max_width": null,
            "min_height": null,
            "min_width": null,
            "object_fit": null,
            "object_position": null,
            "order": null,
            "overflow": null,
            "overflow_x": null,
            "overflow_y": null,
            "padding": null,
            "right": null,
            "top": null,
            "visibility": null,
            "width": null
          }
        },
        "ce4f02b2e9be4c99b01226262552e781": {
          "model_module": "@jupyter-widgets/controls",
          "model_name": "ProgressStyleModel",
          "model_module_version": "1.5.0",
          "state": {
            "_model_module": "@jupyter-widgets/controls",
            "_model_module_version": "1.5.0",
            "_model_name": "ProgressStyleModel",
            "_view_count": null,
            "_view_module": "@jupyter-widgets/base",
            "_view_module_version": "1.2.0",
            "_view_name": "StyleView",
            "bar_color": null,
            "description_width": ""
          }
        },
        "3c90e31c64614f9996f5f38aa11168e4": {
          "model_module": "@jupyter-widgets/base",
          "model_name": "LayoutModel",
          "model_module_version": "1.2.0",
          "state": {
            "_model_module": "@jupyter-widgets/base",
            "_model_module_version": "1.2.0",
            "_model_name": "LayoutModel",
            "_view_count": null,
            "_view_module": "@jupyter-widgets/base",
            "_view_module_version": "1.2.0",
            "_view_name": "LayoutView",
            "align_content": null,
            "align_items": null,
            "align_self": null,
            "border": null,
            "bottom": null,
            "display": null,
            "flex": null,
            "flex_flow": null,
            "grid_area": null,
            "grid_auto_columns": null,
            "grid_auto_flow": null,
            "grid_auto_rows": null,
            "grid_column": null,
            "grid_gap": null,
            "grid_row": null,
            "grid_template_areas": null,
            "grid_template_columns": null,
            "grid_template_rows": null,
            "height": null,
            "justify_content": null,
            "justify_items": null,
            "left": null,
            "margin": null,
            "max_height": null,
            "max_width": null,
            "min_height": null,
            "min_width": null,
            "object_fit": null,
            "object_position": null,
            "order": null,
            "overflow": null,
            "overflow_x": null,
            "overflow_y": null,
            "padding": null,
            "right": null,
            "top": null,
            "visibility": null,
            "width": null
          }
        },
        "297b504eb261432a9de78a4887e03309": {
          "model_module": "@jupyter-widgets/controls",
          "model_name": "DescriptionStyleModel",
          "model_module_version": "1.5.0",
          "state": {
            "_model_module": "@jupyter-widgets/controls",
            "_model_module_version": "1.5.0",
            "_model_name": "DescriptionStyleModel",
            "_view_count": null,
            "_view_module": "@jupyter-widgets/base",
            "_view_module_version": "1.2.0",
            "_view_name": "StyleView",
            "description_width": ""
          }
        },
        "2858cd864b9f45ebac412b6ff473b95a": {
          "model_module": "@jupyter-widgets/controls",
          "model_name": "HBoxModel",
          "model_module_version": "1.5.0",
          "state": {
            "_dom_classes": [],
            "_model_module": "@jupyter-widgets/controls",
            "_model_module_version": "1.5.0",
            "_model_name": "HBoxModel",
            "_view_count": null,
            "_view_module": "@jupyter-widgets/controls",
            "_view_module_version": "1.5.0",
            "_view_name": "HBoxView",
            "box_style": "",
            "children": [
              "IPY_MODEL_9764d6dca6dd4dc9bcb02ca71b16b63e",
              "IPY_MODEL_5e53ed8c19f0453e8cad96fe65cd22e5",
              "IPY_MODEL_7b90c721e1824946ad1faace5e122635"
            ],
            "layout": "IPY_MODEL_3ffe63fa77c14d89a07d9b074d64c42d"
          }
        },
        "9764d6dca6dd4dc9bcb02ca71b16b63e": {
          "model_module": "@jupyter-widgets/controls",
          "model_name": "HTMLModel",
          "model_module_version": "1.5.0",
          "state": {
            "_dom_classes": [],
            "_model_module": "@jupyter-widgets/controls",
            "_model_module_version": "1.5.0",
            "_model_name": "HTMLModel",
            "_view_count": null,
            "_view_module": "@jupyter-widgets/controls",
            "_view_module_version": "1.5.0",
            "_view_name": "HTMLView",
            "description": "",
            "description_tooltip": null,
            "layout": "IPY_MODEL_5522177a50ac49d9a36fc7fc13a183b5",
            "placeholder": "​",
            "style": "IPY_MODEL_2aab0dc081044f99aa343cdebbf55cc1",
            "value": "Downloading: 100%"
          }
        },
        "5e53ed8c19f0453e8cad96fe65cd22e5": {
          "model_module": "@jupyter-widgets/controls",
          "model_name": "FloatProgressModel",
          "model_module_version": "1.5.0",
          "state": {
            "_dom_classes": [],
            "_model_module": "@jupyter-widgets/controls",
            "_model_module_version": "1.5.0",
            "_model_name": "FloatProgressModel",
            "_view_count": null,
            "_view_module": "@jupyter-widgets/controls",
            "_view_module_version": "1.5.0",
            "_view_name": "ProgressView",
            "bar_style": "success",
            "description": "",
            "description_tooltip": null,
            "layout": "IPY_MODEL_7f806978d3b945a9806c89d01e608d56",
            "max": 458495,
            "min": 0,
            "orientation": "horizontal",
            "style": "IPY_MODEL_6740f022cb1f4153b27a75395991d7c9",
            "value": 458495
          }
        },
        "7b90c721e1824946ad1faace5e122635": {
          "model_module": "@jupyter-widgets/controls",
          "model_name": "HTMLModel",
          "model_module_version": "1.5.0",
          "state": {
            "_dom_classes": [],
            "_model_module": "@jupyter-widgets/controls",
            "_model_module_version": "1.5.0",
            "_model_name": "HTMLModel",
            "_view_count": null,
            "_view_module": "@jupyter-widgets/controls",
            "_view_module_version": "1.5.0",
            "_view_name": "HTMLView",
            "description": "",
            "description_tooltip": null,
            "layout": "IPY_MODEL_3c07c5f7375149aca09cbaeef07e9daa",
            "placeholder": "​",
            "style": "IPY_MODEL_ac8be55db572480fbb342e8a79df14c7",
            "value": " 448k/448k [00:00&lt;00:00, 678kB/s]"
          }
        },
        "3ffe63fa77c14d89a07d9b074d64c42d": {
          "model_module": "@jupyter-widgets/base",
          "model_name": "LayoutModel",
          "model_module_version": "1.2.0",
          "state": {
            "_model_module": "@jupyter-widgets/base",
            "_model_module_version": "1.2.0",
            "_model_name": "LayoutModel",
            "_view_count": null,
            "_view_module": "@jupyter-widgets/base",
            "_view_module_version": "1.2.0",
            "_view_name": "LayoutView",
            "align_content": null,
            "align_items": null,
            "align_self": null,
            "border": null,
            "bottom": null,
            "display": null,
            "flex": null,
            "flex_flow": null,
            "grid_area": null,
            "grid_auto_columns": null,
            "grid_auto_flow": null,
            "grid_auto_rows": null,
            "grid_column": null,
            "grid_gap": null,
            "grid_row": null,
            "grid_template_areas": null,
            "grid_template_columns": null,
            "grid_template_rows": null,
            "height": null,
            "justify_content": null,
            "justify_items": null,
            "left": null,
            "margin": null,
            "max_height": null,
            "max_width": null,
            "min_height": null,
            "min_width": null,
            "object_fit": null,
            "object_position": null,
            "order": null,
            "overflow": null,
            "overflow_x": null,
            "overflow_y": null,
            "padding": null,
            "right": null,
            "top": null,
            "visibility": null,
            "width": null
          }
        },
        "5522177a50ac49d9a36fc7fc13a183b5": {
          "model_module": "@jupyter-widgets/base",
          "model_name": "LayoutModel",
          "model_module_version": "1.2.0",
          "state": {
            "_model_module": "@jupyter-widgets/base",
            "_model_module_version": "1.2.0",
            "_model_name": "LayoutModel",
            "_view_count": null,
            "_view_module": "@jupyter-widgets/base",
            "_view_module_version": "1.2.0",
            "_view_name": "LayoutView",
            "align_content": null,
            "align_items": null,
            "align_self": null,
            "border": null,
            "bottom": null,
            "display": null,
            "flex": null,
            "flex_flow": null,
            "grid_area": null,
            "grid_auto_columns": null,
            "grid_auto_flow": null,
            "grid_auto_rows": null,
            "grid_column": null,
            "grid_gap": null,
            "grid_row": null,
            "grid_template_areas": null,
            "grid_template_columns": null,
            "grid_template_rows": null,
            "height": null,
            "justify_content": null,
            "justify_items": null,
            "left": null,
            "margin": null,
            "max_height": null,
            "max_width": null,
            "min_height": null,
            "min_width": null,
            "object_fit": null,
            "object_position": null,
            "order": null,
            "overflow": null,
            "overflow_x": null,
            "overflow_y": null,
            "padding": null,
            "right": null,
            "top": null,
            "visibility": null,
            "width": null
          }
        },
        "2aab0dc081044f99aa343cdebbf55cc1": {
          "model_module": "@jupyter-widgets/controls",
          "model_name": "DescriptionStyleModel",
          "model_module_version": "1.5.0",
          "state": {
            "_model_module": "@jupyter-widgets/controls",
            "_model_module_version": "1.5.0",
            "_model_name": "DescriptionStyleModel",
            "_view_count": null,
            "_view_module": "@jupyter-widgets/base",
            "_view_module_version": "1.2.0",
            "_view_name": "StyleView",
            "description_width": ""
          }
        },
        "7f806978d3b945a9806c89d01e608d56": {
          "model_module": "@jupyter-widgets/base",
          "model_name": "LayoutModel",
          "model_module_version": "1.2.0",
          "state": {
            "_model_module": "@jupyter-widgets/base",
            "_model_module_version": "1.2.0",
            "_model_name": "LayoutModel",
            "_view_count": null,
            "_view_module": "@jupyter-widgets/base",
            "_view_module_version": "1.2.0",
            "_view_name": "LayoutView",
            "align_content": null,
            "align_items": null,
            "align_self": null,
            "border": null,
            "bottom": null,
            "display": null,
            "flex": null,
            "flex_flow": null,
            "grid_area": null,
            "grid_auto_columns": null,
            "grid_auto_flow": null,
            "grid_auto_rows": null,
            "grid_column": null,
            "grid_gap": null,
            "grid_row": null,
            "grid_template_areas": null,
            "grid_template_columns": null,
            "grid_template_rows": null,
            "height": null,
            "justify_content": null,
            "justify_items": null,
            "left": null,
            "margin": null,
            "max_height": null,
            "max_width": null,
            "min_height": null,
            "min_width": null,
            "object_fit": null,
            "object_position": null,
            "order": null,
            "overflow": null,
            "overflow_x": null,
            "overflow_y": null,
            "padding": null,
            "right": null,
            "top": null,
            "visibility": null,
            "width": null
          }
        },
        "6740f022cb1f4153b27a75395991d7c9": {
          "model_module": "@jupyter-widgets/controls",
          "model_name": "ProgressStyleModel",
          "model_module_version": "1.5.0",
          "state": {
            "_model_module": "@jupyter-widgets/controls",
            "_model_module_version": "1.5.0",
            "_model_name": "ProgressStyleModel",
            "_view_count": null,
            "_view_module": "@jupyter-widgets/base",
            "_view_module_version": "1.2.0",
            "_view_name": "StyleView",
            "bar_color": null,
            "description_width": ""
          }
        },
        "3c07c5f7375149aca09cbaeef07e9daa": {
          "model_module": "@jupyter-widgets/base",
          "model_name": "LayoutModel",
          "model_module_version": "1.2.0",
          "state": {
            "_model_module": "@jupyter-widgets/base",
            "_model_module_version": "1.2.0",
            "_model_name": "LayoutModel",
            "_view_count": null,
            "_view_module": "@jupyter-widgets/base",
            "_view_module_version": "1.2.0",
            "_view_name": "LayoutView",
            "align_content": null,
            "align_items": null,
            "align_self": null,
            "border": null,
            "bottom": null,
            "display": null,
            "flex": null,
            "flex_flow": null,
            "grid_area": null,
            "grid_auto_columns": null,
            "grid_auto_flow": null,
            "grid_auto_rows": null,
            "grid_column": null,
            "grid_gap": null,
            "grid_row": null,
            "grid_template_areas": null,
            "grid_template_columns": null,
            "grid_template_rows": null,
            "height": null,
            "justify_content": null,
            "justify_items": null,
            "left": null,
            "margin": null,
            "max_height": null,
            "max_width": null,
            "min_height": null,
            "min_width": null,
            "object_fit": null,
            "object_position": null,
            "order": null,
            "overflow": null,
            "overflow_x": null,
            "overflow_y": null,
            "padding": null,
            "right": null,
            "top": null,
            "visibility": null,
            "width": null
          }
        },
        "ac8be55db572480fbb342e8a79df14c7": {
          "model_module": "@jupyter-widgets/controls",
          "model_name": "DescriptionStyleModel",
          "model_module_version": "1.5.0",
          "state": {
            "_model_module": "@jupyter-widgets/controls",
            "_model_module_version": "1.5.0",
            "_model_name": "DescriptionStyleModel",
            "_view_count": null,
            "_view_module": "@jupyter-widgets/base",
            "_view_module_version": "1.2.0",
            "_view_name": "StyleView",
            "description_width": ""
          }
        },
        "ec127b9fa253445b93517e1852a330a5": {
          "model_module": "@jupyter-widgets/controls",
          "model_name": "HBoxModel",
          "model_module_version": "1.5.0",
          "state": {
            "_dom_classes": [],
            "_model_module": "@jupyter-widgets/controls",
            "_model_module_version": "1.5.0",
            "_model_name": "HBoxModel",
            "_view_count": null,
            "_view_module": "@jupyter-widgets/controls",
            "_view_module_version": "1.5.0",
            "_view_name": "HBoxView",
            "box_style": "",
            "children": [
              "IPY_MODEL_be0f68f57e3c42a789d6111caa85efc4",
              "IPY_MODEL_ea12a4cdd7144cadb1108a662f6ccc0d",
              "IPY_MODEL_90cd2a5ec2cc4af7ac391cc7e11ce044"
            ],
            "layout": "IPY_MODEL_54074993414649be9431a304cc07be9b"
          }
        },
        "be0f68f57e3c42a789d6111caa85efc4": {
          "model_module": "@jupyter-widgets/controls",
          "model_name": "HTMLModel",
          "model_module_version": "1.5.0",
          "state": {
            "_dom_classes": [],
            "_model_module": "@jupyter-widgets/controls",
            "_model_module_version": "1.5.0",
            "_model_name": "HTMLModel",
            "_view_count": null,
            "_view_module": "@jupyter-widgets/controls",
            "_view_module_version": "1.5.0",
            "_view_name": "HTMLView",
            "description": "",
            "description_tooltip": null,
            "layout": "IPY_MODEL_4fc1ac07866f45199e0ee7c6067c3b48",
            "placeholder": "​",
            "style": "IPY_MODEL_973b0f162bca43e0a26aff484cec7eec",
            "value": "Downloading: 100%"
          }
        },
        "ea12a4cdd7144cadb1108a662f6ccc0d": {
          "model_module": "@jupyter-widgets/controls",
          "model_name": "FloatProgressModel",
          "model_module_version": "1.5.0",
          "state": {
            "_dom_classes": [],
            "_model_module": "@jupyter-widgets/controls",
            "_model_module_version": "1.5.0",
            "_model_name": "FloatProgressModel",
            "_view_count": null,
            "_view_module": "@jupyter-widgets/controls",
            "_view_module_version": "1.5.0",
            "_view_name": "ProgressView",
            "bar_style": "success",
            "description": "",
            "description_tooltip": null,
            "layout": "IPY_MODEL_3c3b7afb36ac49b9a6613b540418567f",
            "max": 656,
            "min": 0,
            "orientation": "horizontal",
            "style": "IPY_MODEL_c27121e641c7465fbde73ccf744addcb",
            "value": 656
          }
        },
        "90cd2a5ec2cc4af7ac391cc7e11ce044": {
          "model_module": "@jupyter-widgets/controls",
          "model_name": "HTMLModel",
          "model_module_version": "1.5.0",
          "state": {
            "_dom_classes": [],
            "_model_module": "@jupyter-widgets/controls",
            "_model_module_version": "1.5.0",
            "_model_name": "HTMLModel",
            "_view_count": null,
            "_view_module": "@jupyter-widgets/controls",
            "_view_module_version": "1.5.0",
            "_view_name": "HTMLView",
            "description": "",
            "description_tooltip": null,
            "layout": "IPY_MODEL_49e361d8690d4f69937dbfdcca13c423",
            "placeholder": "​",
            "style": "IPY_MODEL_a70ad1d4f6da4ae982eb4674696bfe4a",
            "value": " 656/656 [00:00&lt;00:00, 4.97kB/s]"
          }
        },
        "54074993414649be9431a304cc07be9b": {
          "model_module": "@jupyter-widgets/base",
          "model_name": "LayoutModel",
          "model_module_version": "1.2.0",
          "state": {
            "_model_module": "@jupyter-widgets/base",
            "_model_module_version": "1.2.0",
            "_model_name": "LayoutModel",
            "_view_count": null,
            "_view_module": "@jupyter-widgets/base",
            "_view_module_version": "1.2.0",
            "_view_name": "LayoutView",
            "align_content": null,
            "align_items": null,
            "align_self": null,
            "border": null,
            "bottom": null,
            "display": null,
            "flex": null,
            "flex_flow": null,
            "grid_area": null,
            "grid_auto_columns": null,
            "grid_auto_flow": null,
            "grid_auto_rows": null,
            "grid_column": null,
            "grid_gap": null,
            "grid_row": null,
            "grid_template_areas": null,
            "grid_template_columns": null,
            "grid_template_rows": null,
            "height": null,
            "justify_content": null,
            "justify_items": null,
            "left": null,
            "margin": null,
            "max_height": null,
            "max_width": null,
            "min_height": null,
            "min_width": null,
            "object_fit": null,
            "object_position": null,
            "order": null,
            "overflow": null,
            "overflow_x": null,
            "overflow_y": null,
            "padding": null,
            "right": null,
            "top": null,
            "visibility": null,
            "width": null
          }
        },
        "4fc1ac07866f45199e0ee7c6067c3b48": {
          "model_module": "@jupyter-widgets/base",
          "model_name": "LayoutModel",
          "model_module_version": "1.2.0",
          "state": {
            "_model_module": "@jupyter-widgets/base",
            "_model_module_version": "1.2.0",
            "_model_name": "LayoutModel",
            "_view_count": null,
            "_view_module": "@jupyter-widgets/base",
            "_view_module_version": "1.2.0",
            "_view_name": "LayoutView",
            "align_content": null,
            "align_items": null,
            "align_self": null,
            "border": null,
            "bottom": null,
            "display": null,
            "flex": null,
            "flex_flow": null,
            "grid_area": null,
            "grid_auto_columns": null,
            "grid_auto_flow": null,
            "grid_auto_rows": null,
            "grid_column": null,
            "grid_gap": null,
            "grid_row": null,
            "grid_template_areas": null,
            "grid_template_columns": null,
            "grid_template_rows": null,
            "height": null,
            "justify_content": null,
            "justify_items": null,
            "left": null,
            "margin": null,
            "max_height": null,
            "max_width": null,
            "min_height": null,
            "min_width": null,
            "object_fit": null,
            "object_position": null,
            "order": null,
            "overflow": null,
            "overflow_x": null,
            "overflow_y": null,
            "padding": null,
            "right": null,
            "top": null,
            "visibility": null,
            "width": null
          }
        },
        "973b0f162bca43e0a26aff484cec7eec": {
          "model_module": "@jupyter-widgets/controls",
          "model_name": "DescriptionStyleModel",
          "model_module_version": "1.5.0",
          "state": {
            "_model_module": "@jupyter-widgets/controls",
            "_model_module_version": "1.5.0",
            "_model_name": "DescriptionStyleModel",
            "_view_count": null,
            "_view_module": "@jupyter-widgets/base",
            "_view_module_version": "1.2.0",
            "_view_name": "StyleView",
            "description_width": ""
          }
        },
        "3c3b7afb36ac49b9a6613b540418567f": {
          "model_module": "@jupyter-widgets/base",
          "model_name": "LayoutModel",
          "model_module_version": "1.2.0",
          "state": {
            "_model_module": "@jupyter-widgets/base",
            "_model_module_version": "1.2.0",
            "_model_name": "LayoutModel",
            "_view_count": null,
            "_view_module": "@jupyter-widgets/base",
            "_view_module_version": "1.2.0",
            "_view_name": "LayoutView",
            "align_content": null,
            "align_items": null,
            "align_self": null,
            "border": null,
            "bottom": null,
            "display": null,
            "flex": null,
            "flex_flow": null,
            "grid_area": null,
            "grid_auto_columns": null,
            "grid_auto_flow": null,
            "grid_auto_rows": null,
            "grid_column": null,
            "grid_gap": null,
            "grid_row": null,
            "grid_template_areas": null,
            "grid_template_columns": null,
            "grid_template_rows": null,
            "height": null,
            "justify_content": null,
            "justify_items": null,
            "left": null,
            "margin": null,
            "max_height": null,
            "max_width": null,
            "min_height": null,
            "min_width": null,
            "object_fit": null,
            "object_position": null,
            "order": null,
            "overflow": null,
            "overflow_x": null,
            "overflow_y": null,
            "padding": null,
            "right": null,
            "top": null,
            "visibility": null,
            "width": null
          }
        },
        "c27121e641c7465fbde73ccf744addcb": {
          "model_module": "@jupyter-widgets/controls",
          "model_name": "ProgressStyleModel",
          "model_module_version": "1.5.0",
          "state": {
            "_model_module": "@jupyter-widgets/controls",
            "_model_module_version": "1.5.0",
            "_model_name": "ProgressStyleModel",
            "_view_count": null,
            "_view_module": "@jupyter-widgets/base",
            "_view_module_version": "1.2.0",
            "_view_name": "StyleView",
            "bar_color": null,
            "description_width": ""
          }
        },
        "49e361d8690d4f69937dbfdcca13c423": {
          "model_module": "@jupyter-widgets/base",
          "model_name": "LayoutModel",
          "model_module_version": "1.2.0",
          "state": {
            "_model_module": "@jupyter-widgets/base",
            "_model_module_version": "1.2.0",
            "_model_name": "LayoutModel",
            "_view_count": null,
            "_view_module": "@jupyter-widgets/base",
            "_view_module_version": "1.2.0",
            "_view_name": "LayoutView",
            "align_content": null,
            "align_items": null,
            "align_self": null,
            "border": null,
            "bottom": null,
            "display": null,
            "flex": null,
            "flex_flow": null,
            "grid_area": null,
            "grid_auto_columns": null,
            "grid_auto_flow": null,
            "grid_auto_rows": null,
            "grid_column": null,
            "grid_gap": null,
            "grid_row": null,
            "grid_template_areas": null,
            "grid_template_columns": null,
            "grid_template_rows": null,
            "height": null,
            "justify_content": null,
            "justify_items": null,
            "left": null,
            "margin": null,
            "max_height": null,
            "max_width": null,
            "min_height": null,
            "min_width": null,
            "object_fit": null,
            "object_position": null,
            "order": null,
            "overflow": null,
            "overflow_x": null,
            "overflow_y": null,
            "padding": null,
            "right": null,
            "top": null,
            "visibility": null,
            "width": null
          }
        },
        "a70ad1d4f6da4ae982eb4674696bfe4a": {
          "model_module": "@jupyter-widgets/controls",
          "model_name": "DescriptionStyleModel",
          "model_module_version": "1.5.0",
          "state": {
            "_model_module": "@jupyter-widgets/controls",
            "_model_module_version": "1.5.0",
            "_model_name": "DescriptionStyleModel",
            "_view_count": null,
            "_view_module": "@jupyter-widgets/base",
            "_view_module_version": "1.2.0",
            "_view_name": "StyleView",
            "description_width": ""
          }
        },
        "eeac612bd51e410baa8a58a2a16b36c1": {
          "model_module": "@jupyter-widgets/controls",
          "model_name": "HBoxModel",
          "model_module_version": "1.5.0",
          "state": {
            "_dom_classes": [],
            "_model_module": "@jupyter-widgets/controls",
            "_model_module_version": "1.5.0",
            "_model_name": "HBoxModel",
            "_view_count": null,
            "_view_module": "@jupyter-widgets/controls",
            "_view_module_version": "1.5.0",
            "_view_name": "HBoxView",
            "box_style": "",
            "children": [
              "IPY_MODEL_0ca9228faa354d0a881df6ed80a72da9",
              "IPY_MODEL_a67bbe66d82644958c3a33573f8efdad",
              "IPY_MODEL_34f97eb66c5a49f582dea31aac7f6915"
            ],
            "layout": "IPY_MODEL_06ed8197f1ee475e8a3682b9187bb670"
          }
        },
        "0ca9228faa354d0a881df6ed80a72da9": {
          "model_module": "@jupyter-widgets/controls",
          "model_name": "HTMLModel",
          "model_module_version": "1.5.0",
          "state": {
            "_dom_classes": [],
            "_model_module": "@jupyter-widgets/controls",
            "_model_module_version": "1.5.0",
            "_model_name": "HTMLModel",
            "_view_count": null,
            "_view_module": "@jupyter-widgets/controls",
            "_view_module_version": "1.5.0",
            "_view_name": "HTMLView",
            "description": "",
            "description_tooltip": null,
            "layout": "IPY_MODEL_afd57d623b6147fa8d3fcd454cfc4536",
            "placeholder": "​",
            "style": "IPY_MODEL_c8d66205b20347158a0015fda0888fe9",
            "value": "Downloading: 100%"
          }
        },
        "a67bbe66d82644958c3a33573f8efdad": {
          "model_module": "@jupyter-widgets/controls",
          "model_name": "FloatProgressModel",
          "model_module_version": "1.5.0",
          "state": {
            "_dom_classes": [],
            "_model_module": "@jupyter-widgets/controls",
            "_model_module_version": "1.5.0",
            "_model_name": "FloatProgressModel",
            "_view_count": null,
            "_view_module": "@jupyter-widgets/controls",
            "_view_module_version": "1.5.0",
            "_view_name": "ProgressView",
            "bar_style": "success",
            "description": "",
            "description_tooltip": null,
            "layout": "IPY_MODEL_4388c17f440b43b083c6eaf153f8071a",
            "max": 478750579,
            "min": 0,
            "orientation": "horizontal",
            "style": "IPY_MODEL_056545de5cec4a00b861cbfe3ffa0a97",
            "value": 478750579
          }
        },
        "34f97eb66c5a49f582dea31aac7f6915": {
          "model_module": "@jupyter-widgets/controls",
          "model_name": "HTMLModel",
          "model_module_version": "1.5.0",
          "state": {
            "_dom_classes": [],
            "_model_module": "@jupyter-widgets/controls",
            "_model_module_version": "1.5.0",
            "_model_name": "HTMLModel",
            "_view_count": null,
            "_view_module": "@jupyter-widgets/controls",
            "_view_module_version": "1.5.0",
            "_view_name": "HTMLView",
            "description": "",
            "description_tooltip": null,
            "layout": "IPY_MODEL_4e73041444da4487aac4c924b22d63a1",
            "placeholder": "​",
            "style": "IPY_MODEL_3f562391fd444e94aa78c1d4acab5a6b",
            "value": " 457M/457M [00:20&lt;00:00, 32.6MB/s]"
          }
        },
        "06ed8197f1ee475e8a3682b9187bb670": {
          "model_module": "@jupyter-widgets/base",
          "model_name": "LayoutModel",
          "model_module_version": "1.2.0",
          "state": {
            "_model_module": "@jupyter-widgets/base",
            "_model_module_version": "1.2.0",
            "_model_name": "LayoutModel",
            "_view_count": null,
            "_view_module": "@jupyter-widgets/base",
            "_view_module_version": "1.2.0",
            "_view_name": "LayoutView",
            "align_content": null,
            "align_items": null,
            "align_self": null,
            "border": null,
            "bottom": null,
            "display": null,
            "flex": null,
            "flex_flow": null,
            "grid_area": null,
            "grid_auto_columns": null,
            "grid_auto_flow": null,
            "grid_auto_rows": null,
            "grid_column": null,
            "grid_gap": null,
            "grid_row": null,
            "grid_template_areas": null,
            "grid_template_columns": null,
            "grid_template_rows": null,
            "height": null,
            "justify_content": null,
            "justify_items": null,
            "left": null,
            "margin": null,
            "max_height": null,
            "max_width": null,
            "min_height": null,
            "min_width": null,
            "object_fit": null,
            "object_position": null,
            "order": null,
            "overflow": null,
            "overflow_x": null,
            "overflow_y": null,
            "padding": null,
            "right": null,
            "top": null,
            "visibility": null,
            "width": null
          }
        },
        "afd57d623b6147fa8d3fcd454cfc4536": {
          "model_module": "@jupyter-widgets/base",
          "model_name": "LayoutModel",
          "model_module_version": "1.2.0",
          "state": {
            "_model_module": "@jupyter-widgets/base",
            "_model_module_version": "1.2.0",
            "_model_name": "LayoutModel",
            "_view_count": null,
            "_view_module": "@jupyter-widgets/base",
            "_view_module_version": "1.2.0",
            "_view_name": "LayoutView",
            "align_content": null,
            "align_items": null,
            "align_self": null,
            "border": null,
            "bottom": null,
            "display": null,
            "flex": null,
            "flex_flow": null,
            "grid_area": null,
            "grid_auto_columns": null,
            "grid_auto_flow": null,
            "grid_auto_rows": null,
            "grid_column": null,
            "grid_gap": null,
            "grid_row": null,
            "grid_template_areas": null,
            "grid_template_columns": null,
            "grid_template_rows": null,
            "height": null,
            "justify_content": null,
            "justify_items": null,
            "left": null,
            "margin": null,
            "max_height": null,
            "max_width": null,
            "min_height": null,
            "min_width": null,
            "object_fit": null,
            "object_position": null,
            "order": null,
            "overflow": null,
            "overflow_x": null,
            "overflow_y": null,
            "padding": null,
            "right": null,
            "top": null,
            "visibility": null,
            "width": null
          }
        },
        "c8d66205b20347158a0015fda0888fe9": {
          "model_module": "@jupyter-widgets/controls",
          "model_name": "DescriptionStyleModel",
          "model_module_version": "1.5.0",
          "state": {
            "_model_module": "@jupyter-widgets/controls",
            "_model_module_version": "1.5.0",
            "_model_name": "DescriptionStyleModel",
            "_view_count": null,
            "_view_module": "@jupyter-widgets/base",
            "_view_module_version": "1.2.0",
            "_view_name": "StyleView",
            "description_width": ""
          }
        },
        "4388c17f440b43b083c6eaf153f8071a": {
          "model_module": "@jupyter-widgets/base",
          "model_name": "LayoutModel",
          "model_module_version": "1.2.0",
          "state": {
            "_model_module": "@jupyter-widgets/base",
            "_model_module_version": "1.2.0",
            "_model_name": "LayoutModel",
            "_view_count": null,
            "_view_module": "@jupyter-widgets/base",
            "_view_module_version": "1.2.0",
            "_view_name": "LayoutView",
            "align_content": null,
            "align_items": null,
            "align_self": null,
            "border": null,
            "bottom": null,
            "display": null,
            "flex": null,
            "flex_flow": null,
            "grid_area": null,
            "grid_auto_columns": null,
            "grid_auto_flow": null,
            "grid_auto_rows": null,
            "grid_column": null,
            "grid_gap": null,
            "grid_row": null,
            "grid_template_areas": null,
            "grid_template_columns": null,
            "grid_template_rows": null,
            "height": null,
            "justify_content": null,
            "justify_items": null,
            "left": null,
            "margin": null,
            "max_height": null,
            "max_width": null,
            "min_height": null,
            "min_width": null,
            "object_fit": null,
            "object_position": null,
            "order": null,
            "overflow": null,
            "overflow_x": null,
            "overflow_y": null,
            "padding": null,
            "right": null,
            "top": null,
            "visibility": null,
            "width": null
          }
        },
        "056545de5cec4a00b861cbfe3ffa0a97": {
          "model_module": "@jupyter-widgets/controls",
          "model_name": "ProgressStyleModel",
          "model_module_version": "1.5.0",
          "state": {
            "_model_module": "@jupyter-widgets/controls",
            "_model_module_version": "1.5.0",
            "_model_name": "ProgressStyleModel",
            "_view_count": null,
            "_view_module": "@jupyter-widgets/base",
            "_view_module_version": "1.2.0",
            "_view_name": "StyleView",
            "bar_color": null,
            "description_width": ""
          }
        },
        "4e73041444da4487aac4c924b22d63a1": {
          "model_module": "@jupyter-widgets/base",
          "model_name": "LayoutModel",
          "model_module_version": "1.2.0",
          "state": {
            "_model_module": "@jupyter-widgets/base",
            "_model_module_version": "1.2.0",
            "_model_name": "LayoutModel",
            "_view_count": null,
            "_view_module": "@jupyter-widgets/base",
            "_view_module_version": "1.2.0",
            "_view_name": "LayoutView",
            "align_content": null,
            "align_items": null,
            "align_self": null,
            "border": null,
            "bottom": null,
            "display": null,
            "flex": null,
            "flex_flow": null,
            "grid_area": null,
            "grid_auto_columns": null,
            "grid_auto_flow": null,
            "grid_auto_rows": null,
            "grid_column": null,
            "grid_gap": null,
            "grid_row": null,
            "grid_template_areas": null,
            "grid_template_columns": null,
            "grid_template_rows": null,
            "height": null,
            "justify_content": null,
            "justify_items": null,
            "left": null,
            "margin": null,
            "max_height": null,
            "max_width": null,
            "min_height": null,
            "min_width": null,
            "object_fit": null,
            "object_position": null,
            "order": null,
            "overflow": null,
            "overflow_x": null,
            "overflow_y": null,
            "padding": null,
            "right": null,
            "top": null,
            "visibility": null,
            "width": null
          }
        },
        "3f562391fd444e94aa78c1d4acab5a6b": {
          "model_module": "@jupyter-widgets/controls",
          "model_name": "DescriptionStyleModel",
          "model_module_version": "1.5.0",
          "state": {
            "_model_module": "@jupyter-widgets/controls",
            "_model_module_version": "1.5.0",
            "_model_name": "DescriptionStyleModel",
            "_view_count": null,
            "_view_module": "@jupyter-widgets/base",
            "_view_module_version": "1.2.0",
            "_view_name": "StyleView",
            "description_width": ""
          }
        }
      }
    }
  },
  "cells": [
    {
      "cell_type": "markdown",
      "metadata": {
        "id": "view-in-github",
        "colab_type": "text"
      },
      "source": [
        "<a href=\"https://colab.research.google.com/github/zekaouinoureddine/Advanced-transformer-based-models-on-opinion-mining/blob/master/notebooks/Movie_Reviews_GPT.ipynb\" target=\"_parent\"><img src=\"https://colab.research.google.com/assets/colab-badge.svg\" alt=\"Open In Colab\"/></a>"
      ]
    },
    {
      "cell_type": "markdown",
      "metadata": {
        "id": "CIJCJ9lxAq6Z"
      },
      "source": [
        "---\n",
        "<h1 align=\"center\"><strong>Movie Reviews GPT</strong></h1>\n",
        "\n",
        "---"
      ]
    },
    {
      "cell_type": "code",
      "metadata": {
        "colab": {
          "base_uri": "https://localhost:8080/"
        },
        "id": "FQLyUMh6AqGh",
        "outputId": "3154a990-6497-414c-ab46-13e23abb2b5f"
      },
      "source": [
        "!pip install transformers -q"
      ],
      "execution_count": null,
      "outputs": [
        {
          "output_type": "stream",
          "name": "stdout",
          "text": [
            "\u001b[K     |████████████████████████████████| 4.2 MB 16.0 MB/s \n",
            "\u001b[K     |████████████████████████████████| 84 kB 3.5 MB/s \n",
            "\u001b[K     |████████████████████████████████| 6.6 MB 55.1 MB/s \n",
            "\u001b[K     |████████████████████████████████| 596 kB 68.4 MB/s \n",
            "\u001b[?25h"
          ]
        }
      ]
    },
    {
      "cell_type": "markdown",
      "metadata": {
        "id": "x8Me0RPiBwK7"
      },
      "source": [
        "### Required Libraries"
      ]
    },
    {
      "cell_type": "code",
      "metadata": {
        "id": "eqloQaCYBvUN"
      },
      "source": [
        "import numpy as np\n",
        "import pandas as pd\n",
        "import matplotlib.pyplot as plt\n",
        "import seaborn as sns\n",
        "\n",
        "import torch\n",
        "import torch.nn as nn\n",
        "from torch.utils.data import Dataset, DataLoader\n",
        "\n",
        "import transformers\n",
        "from transformers import AdamW, get_linear_schedule_with_warmup\n",
        "\n",
        "from sklearn import model_selection, metrics\n",
        "\n",
        "from tqdm import tqdm\n",
        "from collections import defaultdict\n",
        "\n",
        "import warnings\n",
        "warnings.filterwarnings('ignore')"
      ],
      "execution_count": null,
      "outputs": []
    },
    {
      "cell_type": "code",
      "metadata": {
        "id": "IwSzJUUTCBAe"
      },
      "source": [
        "!gdown --id 1xJYm-tNMllxx82_CQ1K1R5q0JW9KUV1j -q\n",
        "!unzip IMDb.zip"
      ],
      "execution_count": null,
      "outputs": []
    },
    {
      "cell_type": "code",
      "metadata": {
        "colab": {
          "base_uri": "https://localhost:8080/",
          "height": 369
        },
        "id": "H8SWv3zsB0Pu",
        "outputId": "010cdb97-953c-44c1-f838-079a7e4d10e5"
      },
      "source": [
        "df = pd.read_csv(\"IMDB Dataset.csv\")\n",
        "\n",
        "df[\"sentiment\"].value_counts().plot(kind='bar',\n",
        "                                    color=['green','red'],\n",
        "                                    title='Distribution of Positive and Negative Reviews',\n",
        "                                    figsize=(5,5));"
      ],
      "execution_count": null,
      "outputs": [
        {
          "output_type": "display_data",
          "data": {
            "text/plain": [
              "<Figure size 360x360 with 1 Axes>"
            ],
            "image/png": "[encoded data removed]"
          },
          "metadata": {
            "needs_background": "light"
          }
        }
      ]
    },
    {
      "cell_type": "markdown",
      "metadata": {
        "id": "-kSRKC3DB5gM"
      },
      "source": [
        "### Config"
      ]
    },
    {
      "cell_type": "code",
      "metadata": {
        "id": "H3ND8LCAB3as",
        "colab": {
          "base_uri": "https://localhost:8080/",
          "height": 162,
          "referenced_widgets": [
            "1da96fd078714666a3d3fe19ca0192fd",
            "16a0d1c7b40b4e79989acb0fc4253e77",
            "cf2fdebbce1f4da1b78e1549a39b47cc",
            "9375f9d2e9664bbb83b927ec56a3258e",
            "d5f49ebe42d840b2936969c955472e41",
            "68b39a9bae8a4b43b8a4717b4e04cd19",
            "a96efcbca4a04157b5c8dfea3cc8b89b",
            "f026a0c1517941d4a5fcbfec0bb22d0c",
            "ce4f02b2e9be4c99b01226262552e781",
            "3c90e31c64614f9996f5f38aa11168e4",
            "297b504eb261432a9de78a4887e03309",
            "2858cd864b9f45ebac412b6ff473b95a",
            "9764d6dca6dd4dc9bcb02ca71b16b63e",
            "5e53ed8c19f0453e8cad96fe65cd22e5",
            "7b90c721e1824946ad1faace5e122635",
            "3ffe63fa77c14d89a07d9b074d64c42d",
            "5522177a50ac49d9a36fc7fc13a183b5",
            "2aab0dc081044f99aa343cdebbf55cc1",
            "7f806978d3b945a9806c89d01e608d56",
            "6740f022cb1f4153b27a75395991d7c9",
            "3c07c5f7375149aca09cbaeef07e9daa",
            "ac8be55db572480fbb342e8a79df14c7",
            "ec127b9fa253445b93517e1852a330a5",
            "be0f68f57e3c42a789d6111caa85efc4",
            "ea12a4cdd7144cadb1108a662f6ccc0d",
            "90cd2a5ec2cc4af7ac391cc7e11ce044",
            "54074993414649be9431a304cc07be9b",
            "4fc1ac07866f45199e0ee7c6067c3b48",
            "973b0f162bca43e0a26aff484cec7eec",
            "3c3b7afb36ac49b9a6613b540418567f",
            "c27121e641c7465fbde73ccf744addcb",
            "49e361d8690d4f69937dbfdcca13c423",
            "a70ad1d4f6da4ae982eb4674696bfe4a",
            "eeac612bd51e410baa8a58a2a16b36c1",
            "0ca9228faa354d0a881df6ed80a72da9",
            "a67bbe66d82644958c3a33573f8efdad",
            "34f97eb66c5a49f582dea31aac7f6915",
            "06ed8197f1ee475e8a3682b9187bb670",
            "afd57d623b6147fa8d3fcd454cfc4536",
            "c8d66205b20347158a0015fda0888fe9",
            "4388c17f440b43b083c6eaf153f8071a",
            "056545de5cec4a00b861cbfe3ffa0a97",
            "4e73041444da4487aac4c924b22d63a1",
            "3f562391fd444e94aa78c1d4acab5a6b"
          ]
        },
        "outputId": "90e1a772-2b87-4cb7-8a71-c6bc3663d158"
      },
      "source": [
        "class Config:\n",
        "  MAX_LEN = 384\n",
        "  TRAIN_BATCH_SIZE = 8\n",
        "  VALID_BATCH_SIZE = 4\n",
        "  EPOCHS = 4\n",
        "  DEVICE = torch.device(\"cuda\" if torch.cuda.is_available() else \"cpu\")\n",
        "\n",
        "  GPT_PATH = \"openai-gpt\"\n",
        "  MODEL_PATH = \"GptModel.bin\"\n",
        "  TRAINING_DATA = \"IMDB Dataset.csv\"\n",
        "\n",
        "  TOKENIZER = transformers.OpenAIGPTTokenizer.from_pretrained(GPT_PATH, do_lower_case = True)\n",
        "  TOKENIZER.add_special_tokens({'pad_token': '[PAD]'}) # Fix padding token issue\n",
        "\n",
        "  MODEL = transformers.OpenAIGPTModel.from_pretrained(GPT_PATH, return_dict=False)\n",
        "  MODEL.resize_token_embeddings(len(TOKENIZER)) # Fix index out of range in self error"
      ],
      "execution_count": null,
      "outputs": [
        {
          "output_type": "display_data",
          "data": {
            "text/plain": [
              "Downloading:   0%|          | 0.00/797k [00:00<?, ?B/s]"
            ],
            "application/vnd.jupyter.widget-view+json": {
              "version_major": 2,
              "version_minor": 0,
              "model_id": "1da96fd078714666a3d3fe19ca0192fd"
            }
          },
          "metadata": {}
        },
        {
          "output_type": "display_data",
          "data": {
            "text/plain": [
              "Downloading:   0%|          | 0.00/448k [00:00<?, ?B/s]"
            ],
            "application/vnd.jupyter.widget-view+json": {
              "version_major": 2,
              "version_minor": 0,
              "model_id": "2858cd864b9f45ebac412b6ff473b95a"
            }
          },
          "metadata": {}
        },
        {
          "output_type": "display_data",
          "data": {
            "text/plain": [
              "Downloading:   0%|          | 0.00/656 [00:00<?, ?B/s]"
            ],
            "application/vnd.jupyter.widget-view+json": {
              "version_major": 2,
              "version_minor": 0,
              "model_id": "ec127b9fa253445b93517e1852a330a5"
            }
          },
          "metadata": {}
        },
        {
          "output_type": "stream",
          "name": "stderr",
          "text": [
            "ftfy or spacy is not installed using BERT BasicTokenizer instead of SpaCy & ftfy.\n"
          ]
        },
        {
          "output_type": "display_data",
          "data": {
            "text/plain": [
              "Downloading:   0%|          | 0.00/457M [00:00<?, ?B/s]"
            ],
            "application/vnd.jupyter.widget-view+json": {
              "version_major": 2,
              "version_minor": 0,
              "model_id": "eeac612bd51e410baa8a58a2a16b36c1"
            }
          },
          "metadata": {}
        }
      ]
    },
    {
      "cell_type": "markdown",
      "metadata": {
        "id": "cG-mkawhCY_4"
      },
      "source": [
        "### Dataset"
      ]
    },
    {
      "cell_type": "code",
      "metadata": {
        "id": "JRCpev04CWRX"
      },
      "source": [
        "class DataProcess:\n",
        "  def __init__(self, review):\n",
        "    self.tokenizer = Config.TOKENIZER\n",
        "    self.max_len = Config.MAX_LEN\n",
        "    self.review = review\n",
        "    \n",
        "  def preprocess_bert(self):\n",
        "    reviw = \" \".join(self.review.split())\n",
        "    inputs = self.tokenizer.encode_plus(\n",
        "        reviw,\n",
        "        None,\n",
        "        add_special_tokens=True,\n",
        "        max_length=self.max_len,\n",
        "        # padding = \"max_length\",\n",
        "        truncation=True\n",
        "        )\n",
        "\n",
        "    input_ids = inputs[\"input_ids\"]\n",
        "    attention_mask = inputs[\"attention_mask\"]\n",
        "\n",
        "    return (\n",
        "        torch.tensor(input_ids, dtype=torch.long).unsqueeze(0),\n",
        "        torch.tensor(attention_mask, dtype=torch.long).unsqueeze(0)\n",
        "        )\n",
        "    \n",
        "  def preprocess_output(self, outputs):\n",
        "    outputs = torch.sigmoid(outputs).cpu().detach().numpy()\n",
        "    return outputs[0][0]\n",
        "\n",
        "\n",
        "class MovieReviewDataset:\n",
        "  def __init__(self,  review, label):\n",
        "    self.review = review\n",
        "    self.label = label\n",
        "    self.max_len = Config.MAX_LEN\n",
        "    self.tokenizer = Config.TOKENIZER\n",
        "  \n",
        "  def __len__(self):\n",
        "    return len(self.review)\n",
        "  \n",
        "  def __getitem__(self, item):\n",
        "    review = str(self.review[item])\n",
        "    review = \" \".join(review.split())\n",
        "    \n",
        "    inputs = self.tokenizer.encode_plus(\n",
        "        review,\n",
        "        None,\n",
        "        add_special_tokens=True,\n",
        "        max_length=self.max_len,\n",
        "        padding=\"max_length\",\n",
        "        truncation=True\n",
        "    )\n",
        "\n",
        "    input_ids = inputs[\"input_ids\"]\n",
        "    attention_mask = inputs[\"attention_mask\"]\n",
        "\n",
        "    return {\n",
        "        \"input_ids\" : torch.tensor(input_ids, dtype=torch.long),\n",
        "        \"attention_mask\" : torch.tensor(attention_mask, dtype=torch.long),\n",
        "        \"labels\" : torch.tensor(self.label[item], dtype=torch.float)\n",
        "    }"
      ],
      "execution_count": null,
      "outputs": []
    },
    {
      "cell_type": "markdown",
      "metadata": {
        "id": "khGs2L9NChrW"
      },
      "source": [
        "### Model"
      ]
    },
    {
      "cell_type": "code",
      "metadata": {
        "id": "AajxOx2jCgVo"
      },
      "source": [
        "class GPTModel(nn.Module):\n",
        "  def __init__(self):\n",
        "    super(GPTModel, self).__init__()\n",
        "    self.gpt = Config.MODEL\n",
        "    self.gpt_drop = nn.Dropout(0.3)\n",
        "    self.out = nn.Linear(768, 1)\n",
        "\n",
        "  def forward(self, input_ids, attention_mask):\n",
        "    outputs = self.gpt(input_ids=input_ids, attention_mask=attention_mask)\n",
        "    hidden_states = outputs[0]\n",
        "    go = self.gpt_drop(hidden_states[:, 0])\n",
        "    output = self.out(go)\n",
        "    \n",
        "    return output"
      ],
      "execution_count": null,
      "outputs": []
    },
    {
      "cell_type": "markdown",
      "metadata": {
        "id": "opHS9gjTCwHI"
      },
      "source": [
        "### Engine"
      ]
    },
    {
      "cell_type": "code",
      "metadata": {
        "id": "HVu2mrKoCvVZ"
      },
      "source": [
        "def loss_fn(outputs, labels):\n",
        "  return nn.BCEWithLogitsLoss()(outputs, labels.view(-1, 1))\n",
        "\n",
        "def train_fn(train_dataloader, model, optimizer, device, scheduler):\n",
        "  model.train()\n",
        "  final_loss = 0\n",
        "\n",
        "  fin_labels = []\n",
        "  fin_outputs = []\n",
        "  for bi, d in tqdm(enumerate(train_dataloader), total=len(train_dataloader)):\n",
        "    input_ids = d[\"input_ids\"]\n",
        "    attention_mask = d[\"attention_mask\"]\n",
        "    labels = d[\"labels\"]\n",
        "\n",
        "    input_ids = input_ids.to(device, dtype=torch.long)\n",
        "    attention_mask = attention_mask.to(device, dtype=torch.long)\n",
        "    labels = labels.to(device, dtype = torch.float)\n",
        "\n",
        "    optimizer.zero_grad()\n",
        "    outputs = model(input_ids=input_ids, attention_mask=attention_mask)\n",
        "    loss = loss_fn(outputs, labels)\n",
        "    \n",
        "    final_loss += loss.item()\n",
        "    fin_labels.extend(labels.cpu().detach().numpy().tolist())\n",
        "    fin_outputs.extend(torch.sigmoid(outputs).cpu().detach().numpy().tolist())\n",
        "    \n",
        "    loss.backward()\n",
        "    optimizer.step()\n",
        "    scheduler.step()\n",
        "\n",
        "  return fin_outputs, fin_labels, final_loss/len(train_dataloader)\n",
        "\n",
        "def eval_fn(valid_dataloader, model, device):\n",
        "  model.eval()\n",
        "  final_loss = 0\n",
        "\n",
        "  fin_labels = []\n",
        "  fin_outputs = []\n",
        "  with torch.no_grad():\n",
        "    for bi, d in tqdm(enumerate(valid_dataloader), total=len(valid_dataloader)):\n",
        "      input_ids = d[\"input_ids\"]\n",
        "      attention_mask = d[\"attention_mask\"]\n",
        "      labels = d[\"labels\"]\n",
        "\n",
        "      input_ids = input_ids.to(device, dtype=torch.long)\n",
        "      attention_mask = attention_mask.to(device, dtype=torch.long)\n",
        "      labels = labels.to(device, dtype = torch.float)\n",
        "\n",
        "      outputs = model(input_ids=input_ids, attention_mask=attention_mask)\n",
        "      \n",
        "      loss = loss_fn(outputs, labels)\n",
        "      final_loss += loss.item()\n",
        "      \n",
        "      fin_labels.extend(labels.cpu().detach().numpy().tolist())\n",
        "      fin_outputs.extend(torch.sigmoid(outputs).cpu().detach().numpy().tolist())\n",
        "      \n",
        "\n",
        "  return fin_outputs, fin_labels, final_loss/len(valid_dataloader)"
      ],
      "execution_count": null,
      "outputs": []
    },
    {
      "cell_type": "markdown",
      "metadata": {
        "id": "gTzqCGmIC2Bw"
      },
      "source": [
        "### Train"
      ]
    },
    {
      "cell_type": "code",
      "metadata": {
        "colab": {
          "base_uri": "https://localhost:8080/"
        },
        "id": "PlO4lU_sC1OW",
        "outputId": "c7ada4d9-bdb8-489d-da3a-86afcfbb40db"
      },
      "source": [
        "dfx = pd.read_csv(Config.TRAINING_DATA).fillna(\"none\")\n",
        "dfx.sentiment = dfx.sentiment.apply(lambda x: 1 if x == \"positive\" else 0)\n",
        "\n",
        "df_train, df_valid = model_selection.train_test_split(\n",
        "    dfx, test_size=0.1, random_state=42, stratify=dfx.sentiment.values\n",
        "    )\n",
        "\n",
        "df_train = df_train.reset_index(drop=True)\n",
        "df_valid = df_valid.reset_index(drop=True)\n",
        "\n",
        "train_dataset = MovieReviewDataset(\n",
        "    review=df_train.review.values, label=df_train.sentiment.values\n",
        ")\n",
        "train_dataloader = DataLoader(train_dataset, batch_size=Config.TRAIN_BATCH_SIZE, num_workers=4)\n",
        "\n",
        "valid_dataset = MovieReviewDataset(\n",
        "    review=df_valid.review.values, label=df_valid.sentiment.values\n",
        ")\n",
        "valid_dataloader = DataLoader(valid_dataset, batch_size=Config.VALID_BATCH_SIZE, num_workers=1)\n",
        "\n",
        "model = GPTModel()\n",
        "model.to(Config.DEVICE)\n",
        "\n",
        "param_optimizer = list(model.named_parameters())\n",
        "no_decay = [\"bias\", \"LayerNorm.bias\", \"LayerNorm.weight\"]\n",
        "optimizer_parameters = [\n",
        "                        {\n",
        "                            \"params\": [\n",
        "                                       p for n, p in param_optimizer if not any(nd in n for nd in no_decay)\n",
        "                                       ],\n",
        "                         \"weight_decay\": 0.001,\n",
        "                         },\n",
        "                        {\n",
        "                            \"params\": [\n",
        "                                       p for n, p in param_optimizer if any(nd in n for nd in no_decay)\n",
        "                                       ],\n",
        "                         \"weight_decay\": 0.0,\n",
        "                         },\n",
        "                        ]\n",
        "\n",
        "num_train_steps = int(len(df_train) / Config.TRAIN_BATCH_SIZE * Config.EPOCHS)\n",
        "optimizer = AdamW(optimizer_parameters, lr=3e-5)\n",
        "scheduler = get_linear_schedule_with_warmup(\n",
        "    optimizer, num_warmup_steps=0, num_training_steps=num_train_steps\n",
        "    )\n",
        "\n",
        "history = defaultdict(list)\n",
        "\n",
        "best_accuracy = 0\n",
        "for epoch in range(1, Config.EPOCHS+1):\n",
        "  train_outputs, train_labels, train_loss = train_fn(train_dataloader, model, optimizer, Config.DEVICE, scheduler)\n",
        "  valid_outputs, valid_labels, valid_loss = eval_fn(valid_dataloader, model, Config.DEVICE)\n",
        "  \n",
        "  train_outputs = np.array(train_outputs) >= 0.5\n",
        "  valid_outputs = np.array(valid_outputs) >= 0.5\n",
        "\n",
        "  train_accuracy = metrics.accuracy_score(train_labels, train_outputs)\n",
        "  valid_accuracy = metrics.accuracy_score(valid_labels, valid_outputs)\n",
        "\n",
        "  print(f\"Epoch: {epoch}\\nTrain Loss: {train_loss} - Train Accuracy: {train_accuracy} \\nValid Loss: {valid_loss} - Valid Accuracy: {valid_accuracy}\\n\")\n",
        "  \n",
        "  history['Train Loss'].append(train_loss)\n",
        "  history['Train Accuracy'].append(train_accuracy)\n",
        "  history['Valid Loss'].append(valid_loss)\n",
        "  history['Valid Accuracy'].append(valid_accuracy)\n",
        "  \n",
        "  if valid_accuracy > best_accuracy:\n",
        "    torch.save(model.state_dict(), Config.MODEL_PATH)\n",
        "    best_accuracy = valid_accuracy"
      ],
      "execution_count": null,
      "outputs": [
        {
          "output_type": "stream",
          "name": "stderr",
          "text": [
            "100%|██████████| 5625/5625 [19:08<00:00,  4.90it/s]\n",
            "100%|██████████| 1250/1250 [01:00<00:00, 20.76it/s]\n"
          ]
        },
        {
          "output_type": "stream",
          "name": "stdout",
          "text": [
            "Epoch: 1\n",
            "Train Loss: 0.6980993729803298 - Train Accuracy: 0.5008222222222222 \n",
            "Valid Loss: 0.6933319085121155 - Valid Accuracy: 0.514\n",
            "\n"
          ]
        },
        {
          "output_type": "stream",
          "name": "stderr",
          "text": [
            "100%|██████████| 5625/5625 [19:06<00:00,  4.91it/s]\n",
            "100%|██████████| 1250/1250 [00:59<00:00, 20.97it/s]\n"
          ]
        },
        {
          "output_type": "stream",
          "name": "stdout",
          "text": [
            "Epoch: 2\n",
            "Train Loss: 0.6954304282930163 - Train Accuracy: 0.4978444444444444 \n",
            "Valid Loss: 0.6911832221508026 - Valid Accuracy: 0.5158\n",
            "\n"
          ]
        },
        {
          "output_type": "stream",
          "name": "stderr",
          "text": [
            " 23%|██▎       | 1315/5625 [04:28<14:35,  4.92it/s]"
          ]
        }
      ]
    },
    {
      "cell_type": "markdown",
      "metadata": {
        "id": "Z9sppAbVI_vZ"
      },
      "source": [
        "### Error analysis & Performance Auditing"
      ]
    },
    {
      "cell_type": "code",
      "metadata": {
        "id": "1zkKpoLXC6th"
      },
      "source": [
        "def get_metrics(labels, outputs):\n",
        "  accuracy = metrics.accuracy_score(labels, outputs)\n",
        "  recall = metrics.recall_score(labels, outputs)\n",
        "  precision = metrics.precision_score(labels, outputs)\n",
        "  f1 = metrics.f1_score(labels, outputs)\n",
        "  return accuracy, recall, precision, f1"
      ],
      "execution_count": null,
      "outputs": []
    },
    {
      "cell_type": "code",
      "metadata": {
        "id": "ApcEPsXdJU3S"
      },
      "source": [
        "accuracy, recall, precision, f1 = get_metrics(valid_labels, valid_outputs)\n",
        "\n",
        "print(\"===\"*50)\n",
        "print(\"\\nResults summary\\n\")\n",
        "print(f\"Accuracy Score  : {accuracy}\")\n",
        "print(f\"Recall Score    : {recall}\")\n",
        "print(f\"Precision Score : {precision}\")\n",
        "print(f\"F1 Score        : {f1}\")\n",
        "\n",
        "print(\"===\"*50)\n",
        "print(\"\\nClassification report \\n\\n\", metrics.classification_report(valid_labels, valid_outputs))\n",
        "\n",
        "print(\"===\"*50)\n",
        "cm = metrics.confusion_matrix(valid_labels, valid_outputs)\n",
        "fig, ax = plt.subplots()\n",
        "sns.heatmap(cm, annot=True, fmt='d', ax=ax, cmap=plt.cm.Blues, cbar=False)\n",
        "ax.set(xlabel=\"Predicted Label\", \n",
        "       ylabel=\"True Label\", \n",
        "       xticklabels=np.unique(valid_labels), \n",
        "       yticklabels=np.unique(valid_labels), \n",
        "       title=\"CONFUSION MATRIX\")\n",
        "plt.yticks(rotation=0);"
      ],
      "execution_count": null,
      "outputs": []
    },
    {
      "cell_type": "code",
      "metadata": {
        "id": "zO33iSGcJXRF"
      },
      "source": [
        "plt.plot(history['Train Accuracy'], '-o', label='Train Accuracy')\n",
        "plt.plot(history['Valid Accuracy'], '-o', label='Validation Accuracy')\n",
        "plt.title('Training History')\n",
        "plt.ylabel('Accuracy')\n",
        "plt.xlabel('Epoch')\n",
        "plt.legend()\n",
        "plt.ylim([0, 1]);"
      ],
      "execution_count": null,
      "outputs": []
    },
    {
      "cell_type": "code",
      "metadata": {
        "id": "VyNsyEaFJaUV"
      },
      "source": [
        "plt.plot(history['Train Loss'], '-o', label='Train Loss')\n",
        "plt.plot(history['Valid Loss'], '-o', label='Validation Loss')\n",
        "plt.title('Training History')\n",
        "plt.ylabel('Loss')\n",
        "plt.xlabel('Epoch')\n",
        "plt.legend()\n",
        "plt.ylim([0, 1]);"
      ],
      "execution_count": null,
      "outputs": []
    },
    {
      "cell_type": "markdown",
      "metadata": {
        "id": "B3D1iqmWJes1"
      },
      "source": [
        "### Inference"
      ]
    },
    {
      "cell_type": "code",
      "metadata": {
        "id": "o6Q6gvvEJcYf"
      },
      "source": [
        "model = GPTModel()\n",
        "model.to(Config.DEVICE)\n",
        "model.load_state_dict(\n",
        "    torch.load(\n",
        "        Config.MODEL_PATH,\n",
        "        map_location=torch.device(Config.DEVICE)\n",
        "        )\n",
        "    )\n",
        "\n",
        "def predict(review: str):\n",
        "  data = DataProcess(review)\n",
        "  input_ids, attention_mask = data.preprocess_bert()\n",
        "  \n",
        "  input_ids = input_ids.to(Config.DEVICE, dtype=torch.long)\n",
        "  attention_mask = attention_mask.to(Config.DEVICE, dtype=torch.long)\n",
        "  \n",
        "  outputs = model(input_ids, attention_mask) \n",
        "  positive_prediction = data.preprocess_output(outputs)\n",
        "  negative_prediction = 1 - positive_prediction\n",
        "  \n",
        "  return {\n",
        "      \"review\": review,\n",
        "      \"positive\": str(positive_prediction),\n",
        "      \"negative\": str(negative_prediction),\n",
        "  }"
      ],
      "execution_count": null,
      "outputs": []
    },
    {
      "cell_type": "code",
      "metadata": {
        "id": "_YMJtkYeJkgN"
      },
      "source": [
        "sentiment = predict(\"I like this amazing movie\")\n",
        "print(sentiment)"
      ],
      "execution_count": null,
      "outputs": []
    },
    {
      "cell_type": "code",
      "metadata": {
        "id": "0MY23WGLJmXr"
      },
      "source": [],
      "execution_count": null,
      "outputs": []
    },
    {
      "cell_type": "markdown",
      "metadata": {
        "id": "EReY3dDsJouO"
      },
      "source": [
        "### References:\n",
        "* **Alec Radford, Karthik Narasimhan, Tim Salimans, Ilya Sutskever. 2018. [Improving Language Understanding by Generative Pre-Training](https://www.semanticscholar.org/paper/Improving-Language-Understanding-by-Generative-Radford-Narasimhan/cd18800a0fe0b668a1cc19f2ec95b5003d0a5035).**"
      ]
    }
  ]
}