{
  "cells": [
    {
      "cell_type": "markdown",
      "metadata": {
        "id": "view-in-github",
        "colab_type": "text"
      },
      "source": [
        "<a href=\"https://colab.research.google.com/github/zekaouinoureddine/Advanced-transformer-based-models-on-opinion-mining/blob/master/notebooks/Movie_Reviews_T5.ipynb\" target=\"_parent\"><img src=\"https://colab.research.google.com/assets/colab-badge.svg\" alt=\"Open In Colab\"/></a>"
      ]
    },
    {
      "cell_type": "markdown",
      "metadata": {
        "id": "WLbHnh9IcLUN"
      },
      "source": [
        "---\n",
        "<h1 align=\"center\"><strong>Movie Reviews T5</strong></h1>\n",
        "\n",
        "---"
      ]
    },
    {
      "cell_type": "code",
      "execution_count": null,
      "metadata": {
        "colab": {
          "base_uri": "https://localhost:8080/"
        },
        "id": "7VNq5fNqb_lM",
        "outputId": "16682781-b72b-4699-a3fd-67cca384e64b"
      },
      "outputs": [
        {
          "name": "stdout",
          "output_type": "stream",
          "text": [
            "\u001b[K     |████████████████████████████████| 4.2 MB 12.8 MB/s \n",
            "\u001b[K     |████████████████████████████████| 6.6 MB 36.8 MB/s \n",
            "\u001b[K     |████████████████████████████████| 596 kB 56.9 MB/s \n",
            "\u001b[K     |████████████████████████████████| 84 kB 2.7 MB/s \n",
            "\u001b[K     |████████████████████████████████| 1.2 MB 12.6 MB/s \n",
            "\u001b[?25h"
          ]
        }
      ],
      "source": [
        "!pip install transformers -q\n",
        "!pip install SentencePiece -q"
      ]
    },
    {
      "cell_type": "markdown",
      "metadata": {
        "id": "ikHTp_JBdFy3"
      },
      "source": [
        "### Required Libraries"
      ]
    },
    {
      "cell_type": "code",
      "execution_count": null,
      "metadata": {
        "id": "y4FLi3V0dB0p"
      },
      "outputs": [],
      "source": [
        "import pandas as pd\n",
        "import numpy as np\n",
        "import matplotlib.pyplot as plt\n",
        "import seaborn as sns\n",
        "\n",
        "import torch\n",
        "import torch.nn as nn\n",
        "from torch.utils.data import Dataset, DataLoader\n",
        "\n",
        "from tqdm import tqdm\n",
        "\n",
        "import transformers\n",
        "from transformers import AdamW, get_linear_schedule_with_warmup\n",
        "\n",
        "from sklearn.model_selection import train_test_split\n",
        "from sklearn import metrics\n",
        "\n",
        "from collections import defaultdict\n",
        "\n",
        "import warnings\n",
        "warnings.filterwarnings('ignore')"
      ]
    },
    {
      "cell_type": "code",
      "execution_count": null,
      "metadata": {
        "colab": {
          "base_uri": "https://localhost:8080/"
        },
        "id": "PtihLYK5dN1-",
        "outputId": "fd49cdb1-9a29-4759-d7ad-f0ae86abba04"
      },
      "outputs": [
        {
          "name": "stdout",
          "output_type": "stream",
          "text": [
            "/usr/local/lib/python3.7/dist-packages/gdown/cli.py:131: FutureWarning: Option `--id` was deprecated in version 4.3.1 and will be removed in 5.0. You don't need to pass it anymore to use a file ID.\n",
            "  category=FutureWarning,\n",
            "Archive:  IMDb.zip\n",
            "  inflating: IMDB Dataset.csv        \n"
          ]
        }
      ],
      "source": [
        "!gdown --id 1xJYm-tNMllxx82_CQ1K1R5q0JW9KUV1j -q\n",
        "!unzip IMDb.zip"
      ]
    },
    {
      "cell_type": "code",
      "execution_count": null,
      "metadata": {
        "colab": {
          "base_uri": "https://localhost:8080/",
          "height": 369
        },
        "id": "zledcqXkdQcZ",
        "outputId": "eae418cd-7ee8-4778-b11c-82d3ca9656db"
      },
      "outputs": [
        {
          "data": {
            "image/png": "[encoded data removed]",
            "text/plain": [
              "<Figure size 360x360 with 1 Axes>"
            ]
          },
          "metadata": {},
          "output_type": "display_data"
        }
      ],
      "source": [
        "df = pd.read_csv(\"IMDB Dataset.csv\")\n",
        "\n",
        "df[\"sentiment\"].value_counts().plot(kind='bar',\n",
        "                                    color=['green','red'],\n",
        "                                    title='Distribution of Positive and Negative Reviews',\n",
        "                                    figsize=(5,5));"
      ]
    },
    {
      "cell_type": "code",
      "execution_count": null,
      "metadata": {
        "colab": {
          "base_uri": "https://localhost:8080/",
          "height": 220,
          "referenced_widgets": [
            "6a67cbb1165349a2952b90db031ee5b4",
            "ae14eedc7a364d45b61845040f87bfd2",
            "c702aed4036b470fbd5614986a2335fa",
            "c5e9a3b6fef24ffab6d39dec90352639",
            "20ff399ef8724ab19ec9ff9652de0271",
            "90b6cce7cb1740a984fbe7e09b88698b",
            "63a0319bdfce49d0be4170b599dea68b",
            "00a4027a7b9d4d90960e20954949c367",
            "bc5c936de4e94f2c9e9be16c4f2fe8f1",
            "1203d47e775647d2ac80f7b3de86a862",
            "988c28d2ce8040e7aa183f2ba81ce34c",
            "32051bb20a0d4995bfa4cfc56b1c021c",
            "75ee378a5588408597ca19e0a0146a0b",
            "505c19f9fe5048b192eb9a71e6bcafa4",
            "94fee96c89784a7e8145d6298c52b19e",
            "8281a65a340d4890ac9ca76ec6fff76e",
            "f70425980e314e23a8e93e0795adb69c",
            "b798a6f0e9884b9cb6743016f0724a9c",
            "fa54692e9d8441ed8825f3684eda9446",
            "832f1bbee22f479e8986d64b6f496e7f",
            "14676f3e67f3402c81f026325c5598bd",
            "b26c6552018b4b97ac65f13593ee6da2",
            "1ed99aadc7df454cb2a9f25f66c6a137",
            "157c0c3e1f7f426a8c8a7f24c32fa989",
            "8a096801d6684306a66c3b8c5b92d932",
            "bc24b64051f242faa09312b44a055ebb",
            "e418879c1da4463d856ca529b66d706c",
            "2c795249d778444d9c2aaf6c8acd268b",
            "b5430aae46aa4f2db2ee3d247d78a161",
            "210b9a8ad8ac4b638b635c6742284802",
            "856a3ed64eb24f35a264a51a588ecc50",
            "5b2236e389304155a332b50faa98020b",
            "e97886b013194c20b243fd0daffa61d1"
          ]
        },
        "id": "7eT3XuwxdTy6",
        "outputId": "46a5db31-4ac3-43af-8da4-20bdf3e66026"
      },
      "outputs": [
        {
          "data": {
            "application/vnd.jupyter.widget-view+json": {
              "model_id": "6a67cbb1165349a2952b90db031ee5b4",
              "version_major": 2,
              "version_minor": 0
            },
            "text/plain": [
              "Downloading:   0%|          | 0.00/773k [00:00<?, ?B/s]"
            ]
          },
          "metadata": {},
          "output_type": "display_data"
        },
        {
          "data": {
            "application/vnd.jupyter.widget-view+json": {
              "model_id": "32051bb20a0d4995bfa4cfc56b1c021c",
              "version_major": 2,
              "version_minor": 0
            },
            "text/plain": [
              "Downloading:   0%|          | 0.00/1.17k [00:00<?, ?B/s]"
            ]
          },
          "metadata": {},
          "output_type": "display_data"
        },
        {
          "data": {
            "application/vnd.jupyter.widget-view+json": {
              "model_id": "1ed99aadc7df454cb2a9f25f66c6a137",
              "version_major": 2,
              "version_minor": 0
            },
            "text/plain": [
              "Downloading:   0%|          | 0.00/850M [00:00<?, ?B/s]"
            ]
          },
          "metadata": {},
          "output_type": "display_data"
        },
        {
          "name": "stderr",
          "output_type": "stream",
          "text": [
            "Some weights of the model checkpoint at t5-base were not used when initializing T5EncoderModel: ['decoder.block.5.layer.1.EncDecAttention.v.weight', 'decoder.block.6.layer.1.EncDecAttention.k.weight', 'decoder.block.5.layer.2.DenseReluDense.wo.weight', 'decoder.block.5.layer.2.DenseReluDense.wi.weight', 'decoder.block.2.layer.0.SelfAttention.q.weight', 'decoder.final_layer_norm.weight', 'decoder.block.4.layer.2.DenseReluDense.wo.weight', 'decoder.block.8.layer.0.layer_norm.weight', 'decoder.block.1.layer.1.EncDecAttention.q.weight', 'decoder.block.6.layer.1.EncDecAttention.o.weight', 'decoder.block.7.layer.1.EncDecAttention.q.weight', 'decoder.block.10.layer.0.layer_norm.weight', 'decoder.block.7.layer.0.SelfAttention.v.weight', 'decoder.block.8.layer.1.layer_norm.weight', 'decoder.block.11.layer.1.EncDecAttention.q.weight', 'decoder.block.11.layer.1.layer_norm.weight', 'decoder.block.10.layer.1.EncDecAttention.k.weight', 'decoder.block.1.layer.1.EncDecAttention.v.weight', 'decoder.block.3.layer.1.EncDecAttention.k.weight', 'decoder.block.7.layer.0.SelfAttention.o.weight', 'decoder.block.6.layer.0.SelfAttention.o.weight', 'decoder.block.8.layer.1.EncDecAttention.k.weight', 'decoder.block.8.layer.1.EncDecAttention.v.weight', 'decoder.block.6.layer.1.EncDecAttention.q.weight', 'decoder.block.3.layer.1.EncDecAttention.q.weight', 'decoder.block.10.layer.1.EncDecAttention.v.weight', 'decoder.block.1.layer.2.DenseReluDense.wi.weight', 'decoder.block.2.layer.1.EncDecAttention.q.weight', 'decoder.block.9.layer.0.SelfAttention.k.weight', 'decoder.block.2.layer.1.EncDecAttention.k.weight', 'decoder.block.4.layer.2.DenseReluDense.wi.weight', 'decoder.block.5.layer.1.layer_norm.weight', 'decoder.block.0.layer.2.DenseReluDense.wi.weight', 'decoder.block.3.layer.2.DenseReluDense.wo.weight', 'decoder.block.0.layer.1.EncDecAttention.v.weight', 'decoder.block.7.layer.1.layer_norm.weight', 'decoder.block.3.layer.2.DenseReluDense.wi.weight', 'decoder.block.0.layer.0.SelfAttention.q.weight', 'decoder.block.8.layer.0.SelfAttention.o.weight', 'decoder.block.6.layer.1.EncDecAttention.v.weight', 'decoder.block.6.layer.1.layer_norm.weight', 'decoder.block.8.layer.0.SelfAttention.v.weight', 'decoder.block.10.layer.0.SelfAttention.v.weight', 'decoder.block.5.layer.0.SelfAttention.v.weight', 'decoder.block.5.layer.2.layer_norm.weight', 'decoder.block.1.layer.1.EncDecAttention.k.weight', 'decoder.block.3.layer.0.SelfAttention.o.weight', 'decoder.block.6.layer.2.layer_norm.weight', 'decoder.block.8.layer.2.layer_norm.weight', 'decoder.block.8.layer.2.DenseReluDense.wi.weight', 'decoder.block.3.layer.0.SelfAttention.q.weight', 'decoder.block.1.layer.0.SelfAttention.k.weight', 'decoder.block.9.layer.1.EncDecAttention.q.weight', 'decoder.block.6.layer.0.SelfAttention.q.weight', 'decoder.block.2.layer.2.DenseReluDense.wo.weight', 'decoder.block.5.layer.0.SelfAttention.k.weight', 'decoder.block.11.layer.1.EncDecAttention.v.weight', 'decoder.block.2.layer.0.SelfAttention.v.weight', 'decoder.block.0.layer.1.EncDecAttention.k.weight', 'decoder.block.1.layer.0.SelfAttention.o.weight', 'decoder.block.7.layer.0.layer_norm.weight', 'decoder.block.11.layer.0.SelfAttention.k.weight', 'decoder.block.5.layer.0.layer_norm.weight', 'decoder.block.3.layer.1.EncDecAttention.o.weight', 'decoder.block.11.layer.1.EncDecAttention.o.weight', 'decoder.block.3.layer.1.layer_norm.weight', 'decoder.block.4.layer.0.SelfAttention.v.weight', 'decoder.block.0.layer.2.layer_norm.weight', 'decoder.block.4.layer.1.EncDecAttention.q.weight', 'decoder.block.10.layer.2.DenseReluDense.wo.weight', 'decoder.block.2.layer.1.EncDecAttention.o.weight', 'decoder.block.3.layer.2.layer_norm.weight', 'decoder.block.2.layer.0.SelfAttention.o.weight', 'decoder.block.10.layer.0.SelfAttention.o.weight', 'decoder.block.11.layer.2.DenseReluDense.wo.weight', 'decoder.block.10.layer.2.DenseReluDense.wi.weight', 'decoder.block.6.layer.0.SelfAttention.v.weight', 'decoder.block.7.layer.1.EncDecAttention.v.weight', 'decoder.block.11.layer.2.DenseReluDense.wi.weight', 'decoder.block.9.layer.0.layer_norm.weight', 'decoder.block.10.layer.1.layer_norm.weight', 'decoder.block.11.layer.0.SelfAttention.o.weight', 'decoder.block.9.layer.1.EncDecAttention.v.weight', 'decoder.block.2.layer.0.SelfAttention.k.weight', 'decoder.block.6.layer.2.DenseReluDense.wo.weight', 'decoder.block.4.layer.0.layer_norm.weight', 'decoder.block.8.layer.2.DenseReluDense.wo.weight', 'decoder.block.7.layer.1.EncDecAttention.o.weight', 'decoder.block.4.layer.2.layer_norm.weight', 'decoder.block.0.layer.1.EncDecAttention.relative_attention_bias.weight', 'decoder.block.10.layer.2.layer_norm.weight', 'decoder.block.4.layer.1.layer_norm.weight', 'decoder.block.4.layer.0.SelfAttention.o.weight', 'decoder.block.9.layer.0.SelfAttention.o.weight', 'decoder.block.3.layer.0.SelfAttention.k.weight', 'decoder.block.9.layer.1.layer_norm.weight', 'decoder.block.9.layer.1.EncDecAttention.o.weight', 'decoder.block.0.layer.2.DenseReluDense.wo.weight', 'decoder.block.9.layer.1.EncDecAttention.k.weight', 'decoder.block.1.layer.0.layer_norm.weight', 'decoder.block.2.layer.1.EncDecAttention.v.weight', 'decoder.block.11.layer.0.SelfAttention.q.weight', 'decoder.block.7.layer.2.DenseReluDense.wo.weight', 'decoder.block.7.layer.2.layer_norm.weight', 'decoder.block.6.layer.2.DenseReluDense.wi.weight', 'decoder.block.8.layer.0.SelfAttention.q.weight', 'decoder.block.2.layer.2.DenseReluDense.wi.weight', 'decoder.block.11.layer.1.EncDecAttention.k.weight', 'decoder.block.0.layer.1.EncDecAttention.o.weight', 'decoder.block.0.layer.1.layer_norm.weight', 'decoder.block.9.layer.0.SelfAttention.v.weight', 'decoder.block.8.layer.1.EncDecAttention.q.weight', 'decoder.block.11.layer.2.layer_norm.weight', 'decoder.block.2.layer.0.layer_norm.weight', 'decoder.block.4.layer.1.EncDecAttention.v.weight', 'decoder.block.6.layer.0.SelfAttention.k.weight', 'decoder.block.0.layer.1.EncDecAttention.q.weight', 'decoder.block.10.layer.1.EncDecAttention.q.weight', 'decoder.block.4.layer.0.SelfAttention.k.weight', 'decoder.block.0.layer.0.SelfAttention.k.weight', 'decoder.block.9.layer.2.layer_norm.weight', 'decoder.block.3.layer.0.SelfAttention.v.weight', 'decoder.block.10.layer.0.SelfAttention.k.weight', 'decoder.block.1.layer.2.DenseReluDense.wo.weight', 'decoder.block.1.layer.1.EncDecAttention.o.weight', 'decoder.block.7.layer.0.SelfAttention.k.weight', 'decoder.block.7.layer.1.EncDecAttention.k.weight', 'decoder.block.2.layer.2.layer_norm.weight', 'decoder.block.5.layer.0.SelfAttention.q.weight', 'decoder.block.3.layer.0.layer_norm.weight', 'decoder.block.7.layer.2.DenseReluDense.wi.weight', 'decoder.block.5.layer.1.EncDecAttention.q.weight', 'decoder.block.0.layer.0.layer_norm.weight', 'decoder.block.1.layer.0.SelfAttention.v.weight', 'decoder.block.3.layer.1.EncDecAttention.v.weight', 'decoder.block.2.layer.1.layer_norm.weight', 'decoder.block.7.layer.0.SelfAttention.q.weight', 'decoder.block.4.layer.1.EncDecAttention.k.weight', 'decoder.block.9.layer.2.DenseReluDense.wo.weight', 'decoder.block.5.layer.1.EncDecAttention.o.weight', 'decoder.block.6.layer.0.layer_norm.weight', 'decoder.block.11.layer.0.layer_norm.weight', 'decoder.block.5.layer.0.SelfAttention.o.weight', 'decoder.block.8.layer.1.EncDecAttention.o.weight', 'decoder.block.1.layer.0.SelfAttention.q.weight', 'decoder.block.10.layer.1.EncDecAttention.o.weight', 'decoder.block.11.layer.0.SelfAttention.v.weight', 'decoder.block.1.layer.1.layer_norm.weight', 'decoder.block.9.layer.0.SelfAttention.q.weight', 'decoder.block.10.layer.0.SelfAttention.q.weight', 'decoder.block.0.layer.0.SelfAttention.relative_attention_bias.weight', 'decoder.block.0.layer.0.SelfAttention.v.weight', 'decoder.block.8.layer.0.SelfAttention.k.weight', 'decoder.block.4.layer.0.SelfAttention.q.weight', 'decoder.block.4.layer.1.EncDecAttention.o.weight', 'decoder.block.1.layer.2.layer_norm.weight', 'decoder.block.5.layer.1.EncDecAttention.k.weight', 'decoder.block.9.layer.2.DenseReluDense.wi.weight', 'decoder.block.0.layer.0.SelfAttention.o.weight']\n",
            "- This IS expected if you are initializing T5EncoderModel from the checkpoint of a model trained on another task or with another architecture (e.g. initializing a BertForSequenceClassification model from a BertForPreTraining model).\n",
            "- This IS NOT expected if you are initializing T5EncoderModel from the checkpoint of a model that you expect to be exactly identical (initializing a BertForSequenceClassification model from a BertForSequenceClassification model).\n",
            "Some weights of T5EncoderModel were not initialized from the model checkpoint at t5-base and are newly initialized: ['encoder.embed_tokens.weight']\n",
            "You should probably TRAIN this model on a down-stream task to be able to use it for predictions and inference.\n"
          ]
        }
      ],
      "source": [
        "class Config:\n",
        "  MAX_LEN = 384\n",
        "  TRAIN_BATCH_SIZE = 8\n",
        "  VALID_BATCH_SIZE = 4\n",
        "  EPOCHS = 4\n",
        "  DEVICE = torch.device(\"cuda\" if torch.cuda.is_available() else \"cpu\")\n",
        "\n",
        "  T5_PATH = \"t5-base\"\n",
        "  MODEL_PATH = \"T5Model.bin\"\n",
        "  TRAINING_DATA = \"IMDB Dataset.csv\"\n",
        "\n",
        "  TOKENIZER = transformers.T5Tokenizer.from_pretrained(T5_PATH, do_lower_case = True)\n",
        "  MODEL = transformers.T5EncoderModel.from_pretrained(T5_PATH, return_dict=True)"
      ]
    },
    {
      "cell_type": "code",
      "execution_count": null,
      "metadata": {
        "id": "RUAuUuJFesSO"
      },
      "outputs": [],
      "source": [
        "class DataProcess:\n",
        "  def __init__(self, review):\n",
        "    self.tokenizer = Config.TOKENIZER\n",
        "    self.max_len = Config.MAX_LEN\n",
        "    self.review = review\n",
        "    \n",
        "  def preprocess_bert(self):\n",
        "    reviw = \" \".join(self.review.split())\n",
        "    inputs = self.tokenizer.encode_plus(\n",
        "        reviw,\n",
        "        None,\n",
        "        add_special_tokens=True,\n",
        "        max_length=self.max_len,\n",
        "        # padding = \"max_length\",\n",
        "        truncation=True\n",
        "        )\n",
        "\n",
        "    input_ids = inputs[\"input_ids\"]\n",
        "    attention_mask = inputs[\"attention_mask\"]\n",
        "\n",
        "    return (\n",
        "        torch.tensor(input_ids, dtype=torch.long).unsqueeze(0),\n",
        "        torch.tensor(attention_mask, dtype=torch.long).unsqueeze(0)\n",
        "        )\n",
        "    \n",
        "  def preprocess_output(self, outputs):\n",
        "    outputs = torch.sigmoid(outputs).cpu().detach().numpy()\n",
        "    return outputs[0][0]\n",
        "\n",
        "class MovieReviewDatSet:\n",
        "  def __init__(self, data_path):\n",
        "    \n",
        "    self.data = pd.read_csv(data_path).fillna('none')\n",
        "    self.data.sentiment = self.data.sentiment.apply(lambda x: 1 if x == \"positive\" else 0)\n",
        "    self.data = self.data.reset_index(drop=True)\n",
        "    self.tokenizer = Config.TOKENIZER\n",
        "    self.max_len = Config.MAX_LEN\n",
        "    self.review = self.data.review.values\n",
        "    self.label = self.data.sentiment.values\n",
        "\n",
        "  def __len__(self):\n",
        "    return len(self.review)\n",
        "\n",
        "  def __getitem__(self, item):\n",
        "    review = str(self.review[item])\n",
        "    review = \" \".join(review.split())\n",
        "\n",
        "    inputs = self.tokenizer.encode_plus(\n",
        "        review,\n",
        "        None,\n",
        "        add_special_tokens = True,\n",
        "        max_length = self.max_len,\n",
        "        padding = \"max_length\",\n",
        "        truncation= True\n",
        "    )\n",
        "\n",
        "    input_ids = inputs[\"input_ids\"]\n",
        "    attention_mask = inputs[\"attention_mask\"]\n",
        "\n",
        "    return {\n",
        "        \"input_ids\" : torch.tensor(input_ids, dtype=torch.long),\n",
        "        \"attention_mask\" : torch.tensor(attention_mask, dtype=torch.long),\n",
        "        \"labels\" : torch.tensor(self.label[item], dtype=torch.float)\n",
        "        }"
      ]
    },
    {
      "cell_type": "markdown",
      "metadata": {
        "id": "P55zu3pmfECE"
      },
      "source": [
        "### Model"
      ]
    },
    {
      "cell_type": "markdown",
      "metadata": {
        "id": "8jyGBOMxy07P"
      },
      "source": [
        "![mrt5.png](data:image/png;base64,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)"
      ]
    },
    {
      "cell_type": "code",
      "execution_count": null,
      "metadata": {
        "id": "ZSf8eNZ8fCg4"
      },
      "outputs": [],
      "source": [
        "class T5Model(nn.Module):\n",
        "  def __init__(self):\n",
        "    super(T5Model, self).__init__()\n",
        "    self.t5 = Config.MODEL\n",
        "    self.t5_drop = nn.Dropout(0.3)\n",
        "    self.out = nn.Linear(768, 1)\n",
        "\n",
        "  def forward(self, input_ids, attention_mask):\n",
        "    outputs  = self.t5(input_ids=input_ids, attention_mask=attention_mask)\n",
        "    mean_last_hidden_state = torch.mean(outputs.last_hidden_state, dim=1)\n",
        "    t5o = self.t5_drop(mean_last_hidden_state)\n",
        "    output = self.out(t5o)\n",
        "    \n",
        "    return output"
      ]
    },
    {
      "cell_type": "markdown",
      "metadata": {
        "id": "1ecNkEPCfPLw"
      },
      "source": [
        "### Engine"
      ]
    },
    {
      "cell_type": "code",
      "execution_count": null,
      "metadata": {
        "id": "Ca7OtPwRfOJx"
      },
      "outputs": [],
      "source": [
        "def loss_fn(outputs, labels):\n",
        "  return nn.BCEWithLogitsLoss()(outputs, labels.view(-1, 1))\n",
        "\n",
        "def train_fn(train_dataloader, model, optimizer, device, scheduler):\n",
        "  model.train()\n",
        "  final_loss = 0\n",
        "\n",
        "  fin_labels = []\n",
        "  fin_outputs = []\n",
        "  for bi, d in tqdm(enumerate(train_dataloader), total=len(train_dataloader)):\n",
        "    input_ids = d[\"input_ids\"]\n",
        "    attention_mask = d[\"attention_mask\"]\n",
        "    labels = d[\"labels\"]\n",
        "\n",
        "    input_ids = input_ids.to(device, dtype=torch.long)\n",
        "    attention_mask = attention_mask.to(device, dtype=torch.long)\n",
        "    labels = labels.to(device, dtype = torch.float)\n",
        "\n",
        "    optimizer.zero_grad()\n",
        "    outputs = model(input_ids=input_ids, attention_mask=attention_mask)\n",
        "    loss = loss_fn(outputs, labels)\n",
        "    \n",
        "    final_loss += loss.item()\n",
        "    fin_labels.extend(labels.cpu().detach().numpy().tolist())\n",
        "    fin_outputs.extend(torch.sigmoid(outputs).cpu().detach().numpy().tolist())\n",
        "    \n",
        "    loss.backward()\n",
        "    optimizer.step()\n",
        "    scheduler.step()\n",
        "\n",
        "  return fin_outputs, fin_labels, final_loss/len(train_dataloader)\n",
        "\n",
        "def eval_fn(valid_dataloader, model, device):\n",
        "  model.eval()\n",
        "  final_loss = 0\n",
        "\n",
        "  fin_labels = []\n",
        "  fin_outputs = []\n",
        "  with torch.no_grad():\n",
        "    for bi, d in tqdm(enumerate(valid_dataloader), total=len(valid_dataloader)):\n",
        "      input_ids = d[\"input_ids\"]\n",
        "      attention_mask = d[\"attention_mask\"]\n",
        "      labels = d[\"labels\"]\n",
        "\n",
        "      input_ids = input_ids.to(device, dtype=torch.long)\n",
        "      attention_mask = attention_mask.to(device, dtype=torch.long)\n",
        "      labels = labels.to(device, dtype = torch.float)\n",
        "\n",
        "      outputs = model(input_ids=input_ids, attention_mask=attention_mask)\n",
        "      \n",
        "      loss = loss_fn(outputs, labels)\n",
        "      final_loss += loss.item()\n",
        "      \n",
        "      fin_labels.extend(labels.cpu().detach().numpy().tolist())\n",
        "      fin_outputs.extend(torch.sigmoid(outputs).cpu().detach().numpy().tolist())\n",
        "      \n",
        "\n",
        "  return fin_outputs, fin_labels, final_loss/len(valid_dataloader)"
      ]
    },
    {
      "cell_type": "markdown",
      "metadata": {
        "id": "Gqba92z2fnhD"
      },
      "source": [
        "### Train"
      ]
    },
    {
      "cell_type": "code",
      "execution_count": null,
      "metadata": {
        "colab": {
          "background_save": true,
          "base_uri": "https://localhost:8080/"
        },
        "id": "oro4mwHEfmBy",
        "outputId": "6d58d8a9-ecd3-4336-8aed-f5ff6aaa3629"
      },
      "outputs": [
        {
          "name": "stderr",
          "output_type": "stream",
          "text": [
            "100%|██████████| 5625/5625 [17:57<00:00,  5.22it/s]\n",
            "100%|██████████| 1250/1250 [00:44<00:00, 28.03it/s]\n"
          ]
        },
        {
          "name": "stdout",
          "output_type": "stream",
          "text": [
            "Epoch: 1\n",
            "Train Loss: 0.2136314463471373 - Train Accuracy: 0.9161333333333334 \n",
            "Valid Loss: 0.16371346973218023 - Valid Accuracy: 0.9408\n",
            "\n"
          ]
        },
        {
          "name": "stderr",
          "output_type": "stream",
          "text": [
            "100%|██████████| 5625/5625 [17:54<00:00,  5.23it/s]\n",
            "100%|██████████| 1250/1250 [00:43<00:00, 28.46it/s]"
          ]
        },
        {
          "name": "stdout",
          "output_type": "stream",
          "text": [
            "Epoch: 2\n",
            "Train Loss: 0.13296405900712643 - Train Accuracy: 0.9524888888888889 \n",
            "Valid Loss: 0.1681183345149271 - Valid Accuracy: 0.9396\n",
            "\n"
          ]
        },
        {
          "name": "stderr",
          "output_type": "stream",
          "text": [
            "\n",
            "100%|██████████| 5625/5625 [17:52<00:00,  5.24it/s]\n",
            "100%|██████████| 1250/1250 [00:43<00:00, 28.43it/s]"
          ]
        },
        {
          "name": "stdout",
          "output_type": "stream",
          "text": [
            "Epoch: 3\n",
            "Train Loss: 0.0948874182107134 - Train Accuracy: 0.9667777777777777 \n",
            "Valid Loss: 0.18348968597007914 - Valid Accuracy: 0.94\n",
            "\n"
          ]
        },
        {
          "name": "stderr",
          "output_type": "stream",
          "text": [
            "\n",
            "100%|██████████| 5625/5625 [17:52<00:00,  5.24it/s]\n",
            "100%|██████████| 1250/1250 [00:44<00:00, 28.32it/s]"
          ]
        },
        {
          "name": "stdout",
          "output_type": "stream",
          "text": [
            "Epoch: 4\n",
            "Train Loss: 0.07300809176365534 - Train Accuracy: 0.9757555555555556 \n",
            "Valid Loss: 0.20555184714226052 - Valid Accuracy: 0.9392\n",
            "\n"
          ]
        },
        {
          "name": "stderr",
          "output_type": "stream",
          "text": [
            "\n"
          ]
        }
      ],
      "source": [
        "dataset = MovieReviewDatSet(Config.TRAINING_DATA)\n",
        "\n",
        "train_data, valid_data = train_test_split(dataset, test_size = 0.1)\n",
        "train_dataloader = DataLoader(train_data, batch_size=Config.TRAIN_BATCH_SIZE, num_workers=4)\n",
        "valid_dataloader = DataLoader(valid_data, batch_size=Config.VALID_BATCH_SIZE, num_workers=1)\n",
        "\n",
        "model = T5Model()\n",
        "model.to(Config.DEVICE)\n",
        "\n",
        "param_optimizer = list(model.named_parameters())\n",
        "no_decay = [\"bias\", \"LayerNorm.bias\", \"LayerNorm.weight\"]\n",
        "optimizer_parameters = [\n",
        "                        {\n",
        "                            \"params\": [\n",
        "                                       p for n, p in param_optimizer if not any(nd in n for nd in no_decay)\n",
        "                                       ],\n",
        "                         \"weight_decay\": 0.001,\n",
        "                         },\n",
        "                        {\n",
        "                            \"params\": [\n",
        "                                       p for n, p in param_optimizer if any(nd in n for nd in no_decay)\n",
        "                                       ],\n",
        "                         \"weight_decay\": 0.0,\n",
        "                         },\n",
        "                        ]\n",
        "\n",
        "num_train_steps = int(len(train_data) / Config.TRAIN_BATCH_SIZE * Config.EPOCHS)\n",
        "optimizer = AdamW(optimizer_parameters, lr=3e-5)\n",
        "scheduler = get_linear_schedule_with_warmup(\n",
        "    optimizer, num_warmup_steps=0, num_training_steps=num_train_steps\n",
        "    )\n",
        "\n",
        "history = defaultdict(list)\n",
        "\n",
        "best_accuracy = 0\n",
        "for epoch in range(1, Config.EPOCHS+1):\n",
        "  train_outputs, train_labels, train_loss = train_fn(train_dataloader, model, optimizer, Config.DEVICE, scheduler)\n",
        "  valid_outputs, valid_labels, valid_loss = eval_fn(valid_dataloader, model, Config.DEVICE)\n",
        "  \n",
        "  train_outputs = np.array(train_outputs) >= 0.5\n",
        "  valid_outputs = np.array(valid_outputs) >= 0.5\n",
        "\n",
        "  train_accuracy = metrics.accuracy_score(train_labels, train_outputs)\n",
        "  valid_accuracy = metrics.accuracy_score(valid_labels, valid_outputs)\n",
        "\n",
        "  print(f\"Epoch: {epoch}\\nTrain Loss: {train_loss} - Train Accuracy: {train_accuracy} \\nValid Loss: {valid_loss} - Valid Accuracy: {valid_accuracy}\\n\")\n",
        "  \n",
        "  history['Train Loss'].append(train_loss)\n",
        "  history['Train Accuracy'].append(train_accuracy)\n",
        "  history['Valid Loss'].append(valid_loss)\n",
        "  history['Valid Accuracy'].append(valid_accuracy)\n",
        "  \n",
        "  if valid_accuracy > best_accuracy:\n",
        "    torch.save(model.state_dict(), Config.MODEL_PATH)\n",
        "    best_accuracy = valid_accuracy"
      ]
    },
    {
      "cell_type": "markdown",
      "metadata": {
        "id": "10PMM_r0qVAJ"
      },
      "source": [
        "### Error Analysis & Performance auditing"
      ]
    },
    {
      "cell_type": "code",
      "execution_count": null,
      "metadata": {
        "colab": {
          "background_save": true
        },
        "id": "_kp8ATW8f4d_"
      },
      "outputs": [],
      "source": [
        "def get_metrics(labels, outputs):\n",
        "  accuracy = metrics.accuracy_score(labels, outputs)\n",
        "  recall = metrics.recall_score(labels, outputs)\n",
        "  precision = metrics.precision_score(labels, outputs)\n",
        "  f1 = metrics.f1_score(labels, outputs)\n",
        "  return accuracy, recall, precision, f1"
      ]
    },
    {
      "cell_type": "code",
      "execution_count": null,
      "metadata": {
        "colab": {
          "background_save": true
        },
        "id": "iONGUVKVqYI1",
        "outputId": "2104c3d6-c721-45e3-ecc8-e8c65664b138"
      },
      "outputs": [
        {
          "name": "stdout",
          "output_type": "stream",
          "text": [
            "======================================================================================================================================================\n",
            "\n",
            "Results summary\n",
            "\n",
            "Accuracy Score  : 0.9392\n",
            "Recall Score    : 0.9467035136202132\n",
            "Precision Score : 0.934164394234515\n",
            "F1 Score        : 0.9403921568627451\n",
            "======================================================================================================================================================\n",
            "\n",
            "Classification report \n",
            "\n",
            "               precision    recall  f1-score   support\n",
            "\n",
            "         0.0       0.94      0.93      0.94      2467\n",
            "         1.0       0.93      0.95      0.94      2533\n",
            "\n",
            "    accuracy                           0.94      5000\n",
            "   macro avg       0.94      0.94      0.94      5000\n",
            "weighted avg       0.94      0.94      0.94      5000\n",
            "\n",
            "======================================================================================================================================================\n"
          ]
        },
        {
          "data": {
            "image/png": "[encoded data removed]",
            "text/plain": [
              "<Figure size 432x288 with 1 Axes>"
            ]
          },
          "metadata": {},
          "output_type": "display_data"
        }
      ],
      "source": [
        "accuracy, recall, precision, f1 = get_metrics(valid_labels, valid_outputs)\n",
        "\n",
        "print(\"===\"*50)\n",
        "print(\"\\nResults summary\\n\")\n",
        "print(f\"Accuracy Score  : {accuracy}\")\n",
        "print(f\"Recall Score    : {recall}\")\n",
        "print(f\"Precision Score : {precision}\")\n",
        "print(f\"F1 Score        : {f1}\")\n",
        "\n",
        "print(\"===\"*50)\n",
        "print(\"\\nClassification report \\n\\n\", metrics.classification_report(valid_labels, valid_outputs))\n",
        "\n",
        "print(\"===\"*50)\n",
        "cm = metrics.confusion_matrix(valid_labels, valid_outputs)\n",
        "fig, ax = plt.subplots()\n",
        "sns.heatmap(cm, annot=True, fmt='d', ax=ax, cmap=plt.cm.Blues, cbar=False)\n",
        "ax.set(xlabel=\"Predicted Label\", \n",
        "       ylabel=\"True Label\", \n",
        "       xticklabels=np.unique(valid_labels), \n",
        "       yticklabels=np.unique(valid_labels), \n",
        "       title=\"CONFUSION MATRIX\")\n",
        "plt.yticks(rotation=0);"
      ]
    },
    {
      "cell_type": "code",
      "execution_count": null,
      "metadata": {
        "colab": {
          "background_save": true
        },
        "id": "uJ42z5G8qaZW",
        "outputId": "93874203-0ee7-42c4-f150-427f7bdedab5"
      },
      "outputs": [
        {
          "data": {
            "image/png": "[encoded data removed]",
            "text/plain": [
              "<Figure size 432x288 with 1 Axes>"
            ]
          },
          "metadata": {},
          "output_type": "display_data"
        }
      ],
      "source": [
        "plt.plot(history['Train Accuracy'], '-o', label='Train Accuracy')\n",
        "plt.plot(history['Valid Accuracy'], '-o', label='Validation Accuracy')\n",
        "plt.title('Training History')\n",
        "plt.ylabel('Accuracy')\n",
        "plt.xlabel('Epoch')\n",
        "plt.legend()\n",
        "plt.ylim([0, 1]);"
      ]
    },
    {
      "cell_type": "code",
      "execution_count": null,
      "metadata": {
        "colab": {
          "background_save": true
        },
        "id": "oWHRtJdVqeZr",
        "outputId": "1e048f36-ec6d-4c54-86ba-62b4d366d0ff"
      },
      "outputs": [
        {
          "data": {
            "image/png": "[encoded data removed]",
            "text/plain": [
              "<Figure size 432x288 with 1 Axes>"
            ]
          },
          "metadata": {},
          "output_type": "display_data"
        }
      ],
      "source": [
        "plt.plot(history['Train Loss'], '-o', label='Train Loss')\n",
        "plt.plot(history['Valid Loss'], '-o', label='Validation Loss')\n",
        "plt.title('Training History')\n",
        "plt.ylabel('Loss')\n",
        "plt.xlabel('Epoch')\n",
        "plt.legend()\n",
        "plt.ylim([0, 1]);"
      ]
    },
    {
      "cell_type": "markdown",
      "metadata": {
        "id": "a5kOcxAOqjn5"
      },
      "source": [
        "### Inference"
      ]
    },
    {
      "cell_type": "code",
      "execution_count": null,
      "metadata": {
        "colab": {
          "background_save": true
        },
        "id": "UrPG_pTFqiJt"
      },
      "outputs": [],
      "source": [
        "model = T5Model()\n",
        "model.to(Config.DEVICE)\n",
        "model.load_state_dict(\n",
        "    torch.load(\n",
        "        Config.MODEL_PATH,\n",
        "        map_location=torch.device(Config.DEVICE)\n",
        "        )\n",
        "    )\n",
        "\n",
        "def predict(review: str):\n",
        "  data = DataProcess(review)\n",
        "  input_ids, attention_mask= data.preprocess_bert()\n",
        "  \n",
        "  input_ids = input_ids.to(Config.DEVICE, dtype=torch.long)\n",
        "  attention_mask = attention_mask.to(Config.DEVICE, dtype=torch.long)\n",
        "  \n",
        "  outputs = model(input_ids, attention_mask) \n",
        "  positive_prediction = data.preprocess_output(outputs)\n",
        "  negative_prediction = 1 - positive_prediction\n",
        "  \n",
        "  return {\n",
        "      \"review\": review,\n",
        "      \"positive\": str(positive_prediction),\n",
        "      \"negative\": str(negative_prediction),\n",
        "  }"
      ]
    },
    {
      "cell_type": "code",
      "execution_count": null,
      "metadata": {
        "colab": {
          "background_save": true
        },
        "id": "mFdzMmsIqqRD",
        "outputId": "864cd06b-64eb-4dfa-b206-d8ed4ec2df5a"
      },
      "outputs": [
        {
          "name": "stdout",
          "output_type": "stream",
          "text": [
            "{'review': 'I like this amazing movie', 'positive': '0.7521696', 'negative': '0.24783039093017578'}\n"
          ]
        }
      ],
      "source": [
        "sentiment = predict(\"I like this amazing movie\")\n",
        "print(sentiment)"
      ]
    },
    {
      "cell_type": "code",
      "execution_count": null,
      "metadata": {
        "colab": {
          "background_save": true
        },
        "id": "tUb8EReWqzW3"
      },
      "outputs": [],
      "source": []
    },
    {
      "cell_type": "markdown",
      "metadata": {
        "id": "a2VaWxFQq1TD"
      },
      "source": [
        "### References:\n",
        "* **Colin Raffel, Noam Shazeer, Adam Roberts, Katherine Lee, Sharan Narang, Michael Matena, Yanqi Zhou, Wei Li, Peter J. Liu. 2019. [Exploring the Limits of Transfer Learning with a Unified Text-to-Text Transformer](https://arxiv.org/abs/1910.10683). arXiv preprint arXiv:1910.10683.**"
      ]
    }
  ],
  "metadata": {
    "accelerator": "GPU",
    "colab": {
      "provenance": [],
      "include_colab_link": true
    },
    "kernelspec": {
      "display_name": "Python 3",
      "name": "python3"
    },
    "language_info": {
      "name": "python"
    },
    "widgets": {
      "application/vnd.jupyter.widget-state+json": {
        "00a4027a7b9d4d90960e20954949c367": {
          "model_module": "@jupyter-widgets/base",
          "model_module_version": "1.2.0",
          "model_name": "LayoutModel",
          "state": {
            "_model_module": "@jupyter-widgets/base",
            "_model_module_version": "1.2.0",
            "_model_name": "LayoutModel",
            "_view_count": null,
            "_view_module": "@jupyter-widgets/base",
            "_view_module_version": "1.2.0",
            "_view_name": "LayoutView",
            "align_content": null,
            "align_items": null,
            "align_self": null,
            "border": null,
            "bottom": null,
            "display": null,
            "flex": null,
            "flex_flow": null,
            "grid_area": null,
            "grid_auto_columns": null,
            "grid_auto_flow": null,
            "grid_auto_rows": null,
            "grid_column": null,
            "grid_gap": null,
            "grid_row": null,
            "grid_template_areas": null,
            "grid_template_columns": null,
            "grid_template_rows": null,
            "height": null,
            "justify_content": null,
            "justify_items": null,
            "left": null,
            "margin": null,
            "max_height": null,
            "max_width": null,
            "min_height": null,
            "min_width": null,
            "object_fit": null,
            "object_position": null,
            "order": null,
            "overflow": null,
            "overflow_x": null,
            "overflow_y": null,
            "padding": null,
            "right": null,
            "top": null,
            "visibility": null,
            "width": null
          }
        },
        "1203d47e775647d2ac80f7b3de86a862": {
          "model_module": "@jupyter-widgets/base",
          "model_module_version": "1.2.0",
          "model_name": "LayoutModel",
          "state": {
            "_model_module": "@jupyter-widgets/base",
            "_model_module_version": "1.2.0",
            "_model_name": "LayoutModel",
            "_view_count": null,
            "_view_module": "@jupyter-widgets/base",
            "_view_module_version": "1.2.0",
            "_view_name": "LayoutView",
            "align_content": null,
            "align_items": null,
            "align_self": null,
            "border": null,
            "bottom": null,
            "display": null,
            "flex": null,
            "flex_flow": null,
            "grid_area": null,
            "grid_auto_columns": null,
            "grid_auto_flow": null,
            "grid_auto_rows": null,
            "grid_column": null,
            "grid_gap": null,
            "grid_row": null,
            "grid_template_areas": null,
            "grid_template_columns": null,
            "grid_template_rows": null,
            "height": null,
            "justify_content": null,
            "justify_items": null,
            "left": null,
            "margin": null,
            "max_height": null,
            "max_width": null,
            "min_height": null,
            "min_width": null,
            "object_fit": null,
            "object_position": null,
            "order": null,
            "overflow": null,
            "overflow_x": null,
            "overflow_y": null,
            "padding": null,
            "right": null,
            "top": null,
            "visibility": null,
            "width": null
          }
        },
        "14676f3e67f3402c81f026325c5598bd": {
          "model_module": "@jupyter-widgets/base",
          "model_module_version": "1.2.0",
          "model_name": "LayoutModel",
          "state": {
            "_model_module": "@jupyter-widgets/base",
            "_model_module_version": "1.2.0",
            "_model_name": "LayoutModel",
            "_view_count": null,
            "_view_module": "@jupyter-widgets/base",
            "_view_module_version": "1.2.0",
            "_view_name": "LayoutView",
            "align_content": null,
            "align_items": null,
            "align_self": null,
            "border": null,
            "bottom": null,
            "display": null,
            "flex": null,
            "flex_flow": null,
            "grid_area": null,
            "grid_auto_columns": null,
            "grid_auto_flow": null,
            "grid_auto_rows": null,
            "grid_column": null,
            "grid_gap": null,
            "grid_row": null,
            "grid_template_areas": null,
            "grid_template_columns": null,
            "grid_template_rows": null,
            "height": null,
            "justify_content": null,
            "justify_items": null,
            "left": null,
            "margin": null,
            "max_height": null,
            "max_width": null,
            "min_height": null,
            "min_width": null,
            "object_fit": null,
            "object_position": null,
            "order": null,
            "overflow": null,
            "overflow_x": null,
            "overflow_y": null,
            "padding": null,
            "right": null,
            "top": null,
            "visibility": null,
            "width": null
          }
        },
        "157c0c3e1f7f426a8c8a7f24c32fa989": {
          "model_module": "@jupyter-widgets/controls",
          "model_module_version": "1.5.0",
          "model_name": "HTMLModel",
          "state": {
            "_dom_classes": [],
            "_model_module": "@jupyter-widgets/controls",
            "_model_module_version": "1.5.0",
            "_model_name": "HTMLModel",
            "_view_count": null,
            "_view_module": "@jupyter-widgets/controls",
            "_view_module_version": "1.5.0",
            "_view_name": "HTMLView",
            "description": "",
            "description_tooltip": null,
            "layout": "IPY_MODEL_2c795249d778444d9c2aaf6c8acd268b",
            "placeholder": "​",
            "style": "IPY_MODEL_b5430aae46aa4f2db2ee3d247d78a161",
            "value": "Downloading: 100%"
          }
        },
        "1ed99aadc7df454cb2a9f25f66c6a137": {
          "model_module": "@jupyter-widgets/controls",
          "model_module_version": "1.5.0",
          "model_name": "HBoxModel",
          "state": {
            "_dom_classes": [],
            "_model_module": "@jupyter-widgets/controls",
            "_model_module_version": "1.5.0",
            "_model_name": "HBoxModel",
            "_view_count": null,
            "_view_module": "@jupyter-widgets/controls",
            "_view_module_version": "1.5.0",
            "_view_name": "HBoxView",
            "box_style": "",
            "children": [
              "IPY_MODEL_157c0c3e1f7f426a8c8a7f24c32fa989",
              "IPY_MODEL_8a096801d6684306a66c3b8c5b92d932",
              "IPY_MODEL_bc24b64051f242faa09312b44a055ebb"
            ],
            "layout": "IPY_MODEL_e418879c1da4463d856ca529b66d706c"
          }
        },
        "20ff399ef8724ab19ec9ff9652de0271": {
          "model_module": "@jupyter-widgets/base",
          "model_module_version": "1.2.0",
          "model_name": "LayoutModel",
          "state": {
            "_model_module": "@jupyter-widgets/base",
            "_model_module_version": "1.2.0",
            "_model_name": "LayoutModel",
            "_view_count": null,
            "_view_module": "@jupyter-widgets/base",
            "_view_module_version": "1.2.0",
            "_view_name": "LayoutView",
            "align_content": null,
            "align_items": null,
            "align_self": null,
            "border": null,
            "bottom": null,
            "display": null,
            "flex": null,
            "flex_flow": null,
            "grid_area": null,
            "grid_auto_columns": null,
            "grid_auto_flow": null,
            "grid_auto_rows": null,
            "grid_column": null,
            "grid_gap": null,
            "grid_row": null,
            "grid_template_areas": null,
            "grid_template_columns": null,
            "grid_template_rows": null,
            "height": null,
            "justify_content": null,
            "justify_items": null,
            "left": null,
            "margin": null,
            "max_height": null,
            "max_width": null,
            "min_height": null,
            "min_width": null,
            "object_fit": null,
            "object_position": null,
            "order": null,
            "overflow": null,
            "overflow_x": null,
            "overflow_y": null,
            "padding": null,
            "right": null,
            "top": null,
            "visibility": null,
            "width": null
          }
        },
        "210b9a8ad8ac4b638b635c6742284802": {
          "model_module": "@jupyter-widgets/base",
          "model_module_version": "1.2.0",
          "model_name": "LayoutModel",
          "state": {
            "_model_module": "@jupyter-widgets/base",
            "_model_module_version": "1.2.0",
            "_model_name": "LayoutModel",
            "_view_count": null,
            "_view_module": "@jupyter-widgets/base",
            "_view_module_version": "1.2.0",
            "_view_name": "LayoutView",
            "align_content": null,
            "align_items": null,
            "align_self": null,
            "border": null,
            "bottom": null,
            "display": null,
            "flex": null,
            "flex_flow": null,
            "grid_area": null,
            "grid_auto_columns": null,
            "grid_auto_flow": null,
            "grid_auto_rows": null,
            "grid_column": null,
            "grid_gap": null,
            "grid_row": null,
            "grid_template_areas": null,
            "grid_template_columns": null,
            "grid_template_rows": null,
            "height": null,
            "justify_content": null,
            "justify_items": null,
            "left": null,
            "margin": null,
            "max_height": null,
            "max_width": null,
            "min_height": null,
            "min_width": null,
            "object_fit": null,
            "object_position": null,
            "order": null,
            "overflow": null,
            "overflow_x": null,
            "overflow_y": null,
            "padding": null,
            "right": null,
            "top": null,
            "visibility": null,
            "width": null
          }
        },
        "2c795249d778444d9c2aaf6c8acd268b": {
          "model_module": "@jupyter-widgets/base",
          "model_module_version": "1.2.0",
          "model_name": "LayoutModel",
          "state": {
            "_model_module": "@jupyter-widgets/base",
            "_model_module_version": "1.2.0",
            "_model_name": "LayoutModel",
            "_view_count": null,
            "_view_module": "@jupyter-widgets/base",
            "_view_module_version": "1.2.0",
            "_view_name": "LayoutView",
            "align_content": null,
            "align_items": null,
            "align_self": null,
            "border": null,
            "bottom": null,
            "display": null,
            "flex": null,
            "flex_flow": null,
            "grid_area": null,
            "grid_auto_columns": null,
            "grid_auto_flow": null,
            "grid_auto_rows": null,
            "grid_column": null,
            "grid_gap": null,
            "grid_row": null,
            "grid_template_areas": null,
            "grid_template_columns": null,
            "grid_template_rows": null,
            "height": null,
            "justify_content": null,
            "justify_items": null,
            "left": null,
            "margin": null,
            "max_height": null,
            "max_width": null,
            "min_height": null,
            "min_width": null,
            "object_fit": null,
            "object_position": null,
            "order": null,
            "overflow": null,
            "overflow_x": null,
            "overflow_y": null,
            "padding": null,
            "right": null,
            "top": null,
            "visibility": null,
            "width": null
          }
        },
        "32051bb20a0d4995bfa4cfc56b1c021c": {
          "model_module": "@jupyter-widgets/controls",
          "model_module_version": "1.5.0",
          "model_name": "HBoxModel",
          "state": {
            "_dom_classes": [],
            "_model_module": "@jupyter-widgets/controls",
            "_model_module_version": "1.5.0",
            "_model_name": "HBoxModel",
            "_view_count": null,
            "_view_module": "@jupyter-widgets/controls",
            "_view_module_version": "1.5.0",
            "_view_name": "HBoxView",
            "box_style": "",
            "children": [
              "IPY_MODEL_75ee378a5588408597ca19e0a0146a0b",
              "IPY_MODEL_505c19f9fe5048b192eb9a71e6bcafa4",
              "IPY_MODEL_94fee96c89784a7e8145d6298c52b19e"
            ],
            "layout": "IPY_MODEL_8281a65a340d4890ac9ca76ec6fff76e"
          }
        },
        "505c19f9fe5048b192eb9a71e6bcafa4": {
          "model_module": "@jupyter-widgets/controls",
          "model_module_version": "1.5.0",
          "model_name": "FloatProgressModel",
          "state": {
            "_dom_classes": [],
            "_model_module": "@jupyter-widgets/controls",
            "_model_module_version": "1.5.0",
            "_model_name": "FloatProgressModel",
            "_view_count": null,
            "_view_module": "@jupyter-widgets/controls",
            "_view_module_version": "1.5.0",
            "_view_name": "ProgressView",
            "bar_style": "success",
            "description": "",
            "description_tooltip": null,
            "layout": "IPY_MODEL_fa54692e9d8441ed8825f3684eda9446",
            "max": 1199,
            "min": 0,
            "orientation": "horizontal",
            "style": "IPY_MODEL_832f1bbee22f479e8986d64b6f496e7f",
            "value": 1199
          }
        },
        "5b2236e389304155a332b50faa98020b": {
          "model_module": "@jupyter-widgets/base",
          "model_module_version": "1.2.0",
          "model_name": "LayoutModel",
          "state": {
            "_model_module": "@jupyter-widgets/base",
            "_model_module_version": "1.2.0",
            "_model_name": "LayoutModel",
            "_view_count": null,
            "_view_module": "@jupyter-widgets/base",
            "_view_module_version": "1.2.0",
            "_view_name": "LayoutView",
            "align_content": null,
            "align_items": null,
            "align_self": null,
            "border": null,
            "bottom": null,
            "display": null,
            "flex": null,
            "flex_flow": null,
            "grid_area": null,
            "grid_auto_columns": null,
            "grid_auto_flow": null,
            "grid_auto_rows": null,
            "grid_column": null,
            "grid_gap": null,
            "grid_row": null,
            "grid_template_areas": null,
            "grid_template_columns": null,
            "grid_template_rows": null,
            "height": null,
            "justify_content": null,
            "justify_items": null,
            "left": null,
            "margin": null,
            "max_height": null,
            "max_width": null,
            "min_height": null,
            "min_width": null,
            "object_fit": null,
            "object_position": null,
            "order": null,
            "overflow": null,
            "overflow_x": null,
            "overflow_y": null,
            "padding": null,
            "right": null,
            "top": null,
            "visibility": null,
            "width": null
          }
        },
        "63a0319bdfce49d0be4170b599dea68b": {
          "model_module": "@jupyter-widgets/controls",
          "model_module_version": "1.5.0",
          "model_name": "DescriptionStyleModel",
          "state": {
            "_model_module": "@jupyter-widgets/controls",
            "_model_module_version": "1.5.0",
            "_model_name": "DescriptionStyleModel",
            "_view_count": null,
            "_view_module": "@jupyter-widgets/base",
            "_view_module_version": "1.2.0",
            "_view_name": "StyleView",
            "description_width": ""
          }
        },
        "6a67cbb1165349a2952b90db031ee5b4": {
          "model_module": "@jupyter-widgets/controls",
          "model_module_version": "1.5.0",
          "model_name": "HBoxModel",
          "state": {
            "_dom_classes": [],
            "_model_module": "@jupyter-widgets/controls",
            "_model_module_version": "1.5.0",
            "_model_name": "HBoxModel",
            "_view_count": null,
            "_view_module": "@jupyter-widgets/controls",
            "_view_module_version": "1.5.0",
            "_view_name": "HBoxView",
            "box_style": "",
            "children": [
              "IPY_MODEL_ae14eedc7a364d45b61845040f87bfd2",
              "IPY_MODEL_c702aed4036b470fbd5614986a2335fa",
              "IPY_MODEL_c5e9a3b6fef24ffab6d39dec90352639"
            ],
            "layout": "IPY_MODEL_20ff399ef8724ab19ec9ff9652de0271"
          }
        },
        "75ee378a5588408597ca19e0a0146a0b": {
          "model_module": "@jupyter-widgets/controls",
          "model_module_version": "1.5.0",
          "model_name": "HTMLModel",
          "state": {
            "_dom_classes": [],
            "_model_module": "@jupyter-widgets/controls",
            "_model_module_version": "1.5.0",
            "_model_name": "HTMLModel",
            "_view_count": null,
            "_view_module": "@jupyter-widgets/controls",
            "_view_module_version": "1.5.0",
            "_view_name": "HTMLView",
            "description": "",
            "description_tooltip": null,
            "layout": "IPY_MODEL_f70425980e314e23a8e93e0795adb69c",
            "placeholder": "​",
            "style": "IPY_MODEL_b798a6f0e9884b9cb6743016f0724a9c",
            "value": "Downloading: 100%"
          }
        },
        "8281a65a340d4890ac9ca76ec6fff76e": {
          "model_module": "@jupyter-widgets/base",
          "model_module_version": "1.2.0",
          "model_name": "LayoutModel",
          "state": {
            "_model_module": "@jupyter-widgets/base",
            "_model_module_version": "1.2.0",
            "_model_name": "LayoutModel",
            "_view_count": null,
            "_view_module": "@jupyter-widgets/base",
            "_view_module_version": "1.2.0",
            "_view_name": "LayoutView",
            "align_content": null,
            "align_items": null,
            "align_self": null,
            "border": null,
            "bottom": null,
            "display": null,
            "flex": null,
            "flex_flow": null,
            "grid_area": null,
            "grid_auto_columns": null,
            "grid_auto_flow": null,
            "grid_auto_rows": null,
            "grid_column": null,
            "grid_gap": null,
            "grid_row": null,
            "grid_template_areas": null,
            "grid_template_columns": null,
            "grid_template_rows": null,
            "height": null,
            "justify_content": null,
            "justify_items": null,
            "left": null,
            "margin": null,
            "max_height": null,
            "max_width": null,
            "min_height": null,
            "min_width": null,
            "object_fit": null,
            "object_position": null,
            "order": null,
            "overflow": null,
            "overflow_x": null,
            "overflow_y": null,
            "padding": null,
            "right": null,
            "top": null,
            "visibility": null,
            "width": null
          }
        },
        "832f1bbee22f479e8986d64b6f496e7f": {
          "model_module": "@jupyter-widgets/controls",
          "model_module_version": "1.5.0",
          "model_name": "ProgressStyleModel",
          "state": {
            "_model_module": "@jupyter-widgets/controls",
            "_model_module_version": "1.5.0",
            "_model_name": "ProgressStyleModel",
            "_view_count": null,
            "_view_module": "@jupyter-widgets/base",
            "_view_module_version": "1.2.0",
            "_view_name": "StyleView",
            "bar_color": null,
            "description_width": ""
          }
        },
        "856a3ed64eb24f35a264a51a588ecc50": {
          "model_module": "@jupyter-widgets/controls",
          "model_module_version": "1.5.0",
          "model_name": "ProgressStyleModel",
          "state": {
            "_model_module": "@jupyter-widgets/controls",
            "_model_module_version": "1.5.0",
            "_model_name": "ProgressStyleModel",
            "_view_count": null,
            "_view_module": "@jupyter-widgets/base",
            "_view_module_version": "1.2.0",
            "_view_name": "StyleView",
            "bar_color": null,
            "description_width": ""
          }
        },
        "8a096801d6684306a66c3b8c5b92d932": {
          "model_module": "@jupyter-widgets/controls",
          "model_module_version": "1.5.0",
          "model_name": "FloatProgressModel",
          "state": {
            "_dom_classes": [],
            "_model_module": "@jupyter-widgets/controls",
            "_model_module_version": "1.5.0",
            "_model_name": "FloatProgressModel",
            "_view_count": null,
            "_view_module": "@jupyter-widgets/controls",
            "_view_module_version": "1.5.0",
            "_view_name": "ProgressView",
            "bar_style": "success",
            "description": "",
            "description_tooltip": null,
            "layout": "IPY_MODEL_210b9a8ad8ac4b638b635c6742284802",
            "max": 891691430,
            "min": 0,
            "orientation": "horizontal",
            "style": "IPY_MODEL_856a3ed64eb24f35a264a51a588ecc50",
            "value": 891691430
          }
        },
        "90b6cce7cb1740a984fbe7e09b88698b": {
          "model_module": "@jupyter-widgets/base",
          "model_module_version": "1.2.0",
          "model_name": "LayoutModel",
          "state": {
            "_model_module": "@jupyter-widgets/base",
            "_model_module_version": "1.2.0",
            "_model_name": "LayoutModel",
            "_view_count": null,
            "_view_module": "@jupyter-widgets/base",
            "_view_module_version": "1.2.0",
            "_view_name": "LayoutView",
            "align_content": null,
            "align_items": null,
            "align_self": null,
            "border": null,
            "bottom": null,
            "display": null,
            "flex": null,
            "flex_flow": null,
            "grid_area": null,
            "grid_auto_columns": null,
            "grid_auto_flow": null,
            "grid_auto_rows": null,
            "grid_column": null,
            "grid_gap": null,
            "grid_row": null,
            "grid_template_areas": null,
            "grid_template_columns": null,
            "grid_template_rows": null,
            "height": null,
            "justify_content": null,
            "justify_items": null,
            "left": null,
            "margin": null,
            "max_height": null,
            "max_width": null,
            "min_height": null,
            "min_width": null,
            "object_fit": null,
            "object_position": null,
            "order": null,
            "overflow": null,
            "overflow_x": null,
            "overflow_y": null,
            "padding": null,
            "right": null,
            "top": null,
            "visibility": null,
            "width": null
          }
        },
        "94fee96c89784a7e8145d6298c52b19e": {
          "model_module": "@jupyter-widgets/controls",
          "model_module_version": "1.5.0",
          "model_name": "HTMLModel",
          "state": {
            "_dom_classes": [],
            "_model_module": "@jupyter-widgets/controls",
            "_model_module_version": "1.5.0",
            "_model_name": "HTMLModel",
            "_view_count": null,
            "_view_module": "@jupyter-widgets/controls",
            "_view_module_version": "1.5.0",
            "_view_name": "HTMLView",
            "description": "",
            "description_tooltip": null,
            "layout": "IPY_MODEL_14676f3e67f3402c81f026325c5598bd",
            "placeholder": "​",
            "style": "IPY_MODEL_b26c6552018b4b97ac65f13593ee6da2",
            "value": " 1.17k/1.17k [00:00&lt;00:00, 5.20kB/s]"
          }
        },
        "988c28d2ce8040e7aa183f2ba81ce34c": {
          "model_module": "@jupyter-widgets/controls",
          "model_module_version": "1.5.0",
          "model_name": "DescriptionStyleModel",
          "state": {
            "_model_module": "@jupyter-widgets/controls",
            "_model_module_version": "1.5.0",
            "_model_name": "DescriptionStyleModel",
            "_view_count": null,
            "_view_module": "@jupyter-widgets/base",
            "_view_module_version": "1.2.0",
            "_view_name": "StyleView",
            "description_width": ""
          }
        },
        "ae14eedc7a364d45b61845040f87bfd2": {
          "model_module": "@jupyter-widgets/controls",
          "model_module_version": "1.5.0",
          "model_name": "HTMLModel",
          "state": {
            "_dom_classes": [],
            "_model_module": "@jupyter-widgets/controls",
            "_model_module_version": "1.5.0",
            "_model_name": "HTMLModel",
            "_view_count": null,
            "_view_module": "@jupyter-widgets/controls",
            "_view_module_version": "1.5.0",
            "_view_name": "HTMLView",
            "description": "",
            "description_tooltip": null,
            "layout": "IPY_MODEL_90b6cce7cb1740a984fbe7e09b88698b",
            "placeholder": "​",
            "style": "IPY_MODEL_63a0319bdfce49d0be4170b599dea68b",
            "value": "Downloading: 100%"
          }
        },
        "b26c6552018b4b97ac65f13593ee6da2": {
          "model_module": "@jupyter-widgets/controls",
          "model_module_version": "1.5.0",
          "model_name": "DescriptionStyleModel",
          "state": {
            "_model_module": "@jupyter-widgets/controls",
            "_model_module_version": "1.5.0",
            "_model_name": "DescriptionStyleModel",
            "_view_count": null,
            "_view_module": "@jupyter-widgets/base",
            "_view_module_version": "1.2.0",
            "_view_name": "StyleView",
            "description_width": ""
          }
        },
        "b5430aae46aa4f2db2ee3d247d78a161": {
          "model_module": "@jupyter-widgets/controls",
          "model_module_version": "1.5.0",
          "model_name": "DescriptionStyleModel",
          "state": {
            "_model_module": "@jupyter-widgets/controls",
            "_model_module_version": "1.5.0",
            "_model_name": "DescriptionStyleModel",
            "_view_count": null,
            "_view_module": "@jupyter-widgets/base",
            "_view_module_version": "1.2.0",
            "_view_name": "StyleView",
            "description_width": ""
          }
        },
        "b798a6f0e9884b9cb6743016f0724a9c": {
          "model_module": "@jupyter-widgets/controls",
          "model_module_version": "1.5.0",
          "model_name": "DescriptionStyleModel",
          "state": {
            "_model_module": "@jupyter-widgets/controls",
            "_model_module_version": "1.5.0",
            "_model_name": "DescriptionStyleModel",
            "_view_count": null,
            "_view_module": "@jupyter-widgets/base",
            "_view_module_version": "1.2.0",
            "_view_name": "StyleView",
            "description_width": ""
          }
        },
        "bc24b64051f242faa09312b44a055ebb": {
          "model_module": "@jupyter-widgets/controls",
          "model_module_version": "1.5.0",
          "model_name": "HTMLModel",
          "state": {
            "_dom_classes": [],
            "_model_module": "@jupyter-widgets/controls",
            "_model_module_version": "1.5.0",
            "_model_name": "HTMLModel",
            "_view_count": null,
            "_view_module": "@jupyter-widgets/controls",
            "_view_module_version": "1.5.0",
            "_view_name": "HTMLView",
            "description": "",
            "description_tooltip": null,
            "layout": "IPY_MODEL_5b2236e389304155a332b50faa98020b",
            "placeholder": "​",
            "style": "IPY_MODEL_e97886b013194c20b243fd0daffa61d1",
            "value": " 850M/850M [00:31&lt;00:00, 58.9MB/s]"
          }
        },
        "bc5c936de4e94f2c9e9be16c4f2fe8f1": {
          "model_module": "@jupyter-widgets/controls",
          "model_module_version": "1.5.0",
          "model_name": "ProgressStyleModel",
          "state": {
            "_model_module": "@jupyter-widgets/controls",
            "_model_module_version": "1.5.0",
            "_model_name": "ProgressStyleModel",
            "_view_count": null,
            "_view_module": "@jupyter-widgets/base",
            "_view_module_version": "1.2.0",
            "_view_name": "StyleView",
            "bar_color": null,
            "description_width": ""
          }
        },
        "c5e9a3b6fef24ffab6d39dec90352639": {
          "model_module": "@jupyter-widgets/controls",
          "model_module_version": "1.5.0",
          "model_name": "HTMLModel",
          "state": {
            "_dom_classes": [],
            "_model_module": "@jupyter-widgets/controls",
            "_model_module_version": "1.5.0",
            "_model_name": "HTMLModel",
            "_view_count": null,
            "_view_module": "@jupyter-widgets/controls",
            "_view_module_version": "1.5.0",
            "_view_name": "HTMLView",
            "description": "",
            "description_tooltip": null,
            "layout": "IPY_MODEL_1203d47e775647d2ac80f7b3de86a862",
            "placeholder": "​",
            "style": "IPY_MODEL_988c28d2ce8040e7aa183f2ba81ce34c",
            "value": " 773k/773k [00:00&lt;00:00, 1.84MB/s]"
          }
        },
        "c702aed4036b470fbd5614986a2335fa": {
          "model_module": "@jupyter-widgets/controls",
          "model_module_version": "1.5.0",
          "model_name": "FloatProgressModel",
          "state": {
            "_dom_classes": [],
            "_model_module": "@jupyter-widgets/controls",
            "_model_module_version": "1.5.0",
            "_model_name": "FloatProgressModel",
            "_view_count": null,
            "_view_module": "@jupyter-widgets/controls",
            "_view_module_version": "1.5.0",
            "_view_name": "ProgressView",
            "bar_style": "success",
            "description": "",
            "description_tooltip": null,
            "layout": "IPY_MODEL_00a4027a7b9d4d90960e20954949c367",
            "max": 791656,
            "min": 0,
            "orientation": "horizontal",
            "style": "IPY_MODEL_bc5c936de4e94f2c9e9be16c4f2fe8f1",
            "value": 791656
          }
        },
        "e418879c1da4463d856ca529b66d706c": {
          "model_module": "@jupyter-widgets/base",
          "model_module_version": "1.2.0",
          "model_name": "LayoutModel",
          "state": {
            "_model_module": "@jupyter-widgets/base",
            "_model_module_version": "1.2.0",
            "_model_name": "LayoutModel",
            "_view_count": null,
            "_view_module": "@jupyter-widgets/base",
            "_view_module_version": "1.2.0",
            "_view_name": "LayoutView",
            "align_content": null,
            "align_items": null,
            "align_self": null,
            "border": null,
            "bottom": null,
            "display": null,
            "flex": null,
            "flex_flow": null,
            "grid_area": null,
            "grid_auto_columns": null,
            "grid_auto_flow": null,
            "grid_auto_rows": null,
            "grid_column": null,
            "grid_gap": null,
            "grid_row": null,
            "grid_template_areas": null,
            "grid_template_columns": null,
            "grid_template_rows": null,
            "height": null,
            "justify_content": null,
            "justify_items": null,
            "left": null,
            "margin": null,
            "max_height": null,
            "max_width": null,
            "min_height": null,
            "min_width": null,
            "object_fit": null,
            "object_position": null,
            "order": null,
            "overflow": null,
            "overflow_x": null,
            "overflow_y": null,
            "padding": null,
            "right": null,
            "top": null,
            "visibility": null,
            "width": null
          }
        },
        "e97886b013194c20b243fd0daffa61d1": {
          "model_module": "@jupyter-widgets/controls",
          "model_module_version": "1.5.0",
          "model_name": "DescriptionStyleModel",
          "state": {
            "_model_module": "@jupyter-widgets/controls",
            "_model_module_version": "1.5.0",
            "_model_name": "DescriptionStyleModel",
            "_view_count": null,
            "_view_module": "@jupyter-widgets/base",
            "_view_module_version": "1.2.0",
            "_view_name": "StyleView",
            "description_width": ""
          }
        },
        "f70425980e314e23a8e93e0795adb69c": {
          "model_module": "@jupyter-widgets/base",
          "model_module_version": "1.2.0",
          "model_name": "LayoutModel",
          "state": {
            "_model_module": "@jupyter-widgets/base",
            "_model_module_version": "1.2.0",
            "_model_name": "LayoutModel",
            "_view_count": null,
            "_view_module": "@jupyter-widgets/base",
            "_view_module_version": "1.2.0",
            "_view_name": "LayoutView",
            "align_content": null,
            "align_items": null,
            "align_self": null,
            "border": null,
            "bottom": null,
            "display": null,
            "flex": null,
            "flex_flow": null,
            "grid_area": null,
            "grid_auto_columns": null,
            "grid_auto_flow": null,
            "grid_auto_rows": null,
            "grid_column": null,
            "grid_gap": null,
            "grid_row": null,
            "grid_template_areas": null,
            "grid_template_columns": null,
            "grid_template_rows": null,
            "height": null,
            "justify_content": null,
            "justify_items": null,
            "left": null,
            "margin": null,
            "max_height": null,
            "max_width": null,
            "min_height": null,
            "min_width": null,
            "object_fit": null,
            "object_position": null,
            "order": null,
            "overflow": null,
            "overflow_x": null,
            "overflow_y": null,
            "padding": null,
            "right": null,
            "top": null,
            "visibility": null,
            "width": null
          }
        },
        "fa54692e9d8441ed8825f3684eda9446": {
          "model_module": "@jupyter-widgets/base",
          "model_module_version": "1.2.0",
          "model_name": "LayoutModel",
          "state": {
            "_model_module": "@jupyter-widgets/base",
            "_model_module_version": "1.2.0",
            "_model_name": "LayoutModel",
            "_view_count": null,
            "_view_module": "@jupyter-widgets/base",
            "_view_module_version": "1.2.0",
            "_view_name": "LayoutView",
            "align_content": null,
            "align_items": null,
            "align_self": null,
            "border": null,
            "bottom": null,
            "display": null,
            "flex": null,
            "flex_flow": null,
            "grid_area": null,
            "grid_auto_columns": null,
            "grid_auto_flow": null,
            "grid_auto_rows": null,
            "grid_column": null,
            "grid_gap": null,
            "grid_row": null,
            "grid_template_areas": null,
            "grid_template_columns": null,
            "grid_template_rows": null,
            "height": null,
            "justify_content": null,
            "justify_items": null,
            "left": null,
            "margin": null,
            "max_height": null,
            "max_width": null,
            "min_height": null,
            "min_width": null,
            "object_fit": null,
            "object_position": null,
            "order": null,
            "overflow": null,
            "overflow_x": null,
            "overflow_y": null,
            "padding": null,
            "right": null,
            "top": null,
            "visibility": null,
            "width": null
          }
        }
      }
    }
  },
  "nbformat": 4,
  "nbformat_minor": 0
}