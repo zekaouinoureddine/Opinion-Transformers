{
  "nbformat": 4,
  "nbformat_minor": 0,
  "metadata": {
    "colab": {
      "provenance": [],
      "include_colab_link": true
    },
    "kernelspec": {
      "name": "python3",
      "display_name": "Python 3"
    },
    "language_info": {
      "name": "python"
    },
    "accelerator": "GPU",
    "widgets": {
      "application/vnd.jupyter.widget-state+json": {
        "a8a736cbfb1a4fe38955887523170234": {
          "model_module": "@jupyter-widgets/controls",
          "model_name": "HBoxModel",
          "model_module_version": "1.5.0",
          "state": {
            "_dom_classes": [],
            "_model_module": "@jupyter-widgets/controls",
            "_model_module_version": "1.5.0",
            "_model_name": "HBoxModel",
            "_view_count": null,
            "_view_module": "@jupyter-widgets/controls",
            "_view_module_version": "1.5.0",
            "_view_name": "HBoxView",
            "box_style": "",
            "children": [
              "IPY_MODEL_e3ca04d160374830b43cd22ec8cfd319",
              "IPY_MODEL_2dbf9c3354554c27b4ab18abd47419fd",
              "IPY_MODEL_61d41ce90ad243bb97a6eb885b64f69e"
            ],
            "layout": "IPY_MODEL_fbcd70e372af49be9538ab063f2af51d"
          }
        },
        "e3ca04d160374830b43cd22ec8cfd319": {
          "model_module": "@jupyter-widgets/controls",
          "model_name": "HTMLModel",
          "model_module_version": "1.5.0",
          "state": {
            "_dom_classes": [],
            "_model_module": "@jupyter-widgets/controls",
            "_model_module_version": "1.5.0",
            "_model_name": "HTMLModel",
            "_view_count": null,
            "_view_module": "@jupyter-widgets/controls",
            "_view_module_version": "1.5.0",
            "_view_name": "HTMLView",
            "description": "",
            "description_tooltip": null,
            "layout": "IPY_MODEL_eb1760ba57954e99983c4eb215a05ef3",
            "placeholder": "​",
            "style": "IPY_MODEL_e27e96b6daa9452f991c0336c784c964",
            "value": "Downloading: 100%"
          }
        },
        "2dbf9c3354554c27b4ab18abd47419fd": {
          "model_module": "@jupyter-widgets/controls",
          "model_name": "FloatProgressModel",
          "model_module_version": "1.5.0",
          "state": {
            "_dom_classes": [],
            "_model_module": "@jupyter-widgets/controls",
            "_model_module_version": "1.5.0",
            "_model_name": "FloatProgressModel",
            "_view_count": null,
            "_view_module": "@jupyter-widgets/controls",
            "_view_module_version": "1.5.0",
            "_view_name": "ProgressView",
            "bar_style": "success",
            "description": "",
            "description_tooltip": null,
            "layout": "IPY_MODEL_d856fc7a20e14155905126c3bed94463",
            "max": 760289,
            "min": 0,
            "orientation": "horizontal",
            "style": "IPY_MODEL_11daec31363544bf8ad3d05045d4801e",
            "value": 760289
          }
        },
        "61d41ce90ad243bb97a6eb885b64f69e": {
          "model_module": "@jupyter-widgets/controls",
          "model_name": "HTMLModel",
          "model_module_version": "1.5.0",
          "state": {
            "_dom_classes": [],
            "_model_module": "@jupyter-widgets/controls",
            "_model_module_version": "1.5.0",
            "_model_name": "HTMLModel",
            "_view_count": null,
            "_view_module": "@jupyter-widgets/controls",
            "_view_module_version": "1.5.0",
            "_view_name": "HTMLView",
            "description": "",
            "description_tooltip": null,
            "layout": "IPY_MODEL_dc8d07971e424e1886c285b11f515211",
            "placeholder": "​",
            "style": "IPY_MODEL_d4a1fb9fe7254603a84c16308728d951",
            "value": " 742k/742k [00:00&lt;00:00, 667kB/s]"
          }
        },
        "fbcd70e372af49be9538ab063f2af51d": {
          "model_module": "@jupyter-widgets/base",
          "model_name": "LayoutModel",
          "model_module_version": "1.2.0",
          "state": {
            "_model_module": "@jupyter-widgets/base",
            "_model_module_version": "1.2.0",
            "_model_name": "LayoutModel",
            "_view_count": null,
            "_view_module": "@jupyter-widgets/base",
            "_view_module_version": "1.2.0",
            "_view_name": "LayoutView",
            "align_content": null,
            "align_items": null,
            "align_self": null,
            "border": null,
            "bottom": null,
            "display": null,
            "flex": null,
            "flex_flow": null,
            "grid_area": null,
            "grid_auto_columns": null,
            "grid_auto_flow": null,
            "grid_auto_rows": null,
            "grid_column": null,
            "grid_gap": null,
            "grid_row": null,
            "grid_template_areas": null,
            "grid_template_columns": null,
            "grid_template_rows": null,
            "height": null,
            "justify_content": null,
            "justify_items": null,
            "left": null,
            "margin": null,
            "max_height": null,
            "max_width": null,
            "min_height": null,
            "min_width": null,
            "object_fit": null,
            "object_position": null,
            "order": null,
            "overflow": null,
            "overflow_x": null,
            "overflow_y": null,
            "padding": null,
            "right": null,
            "top": null,
            "visibility": null,
            "width": null
          }
        },
        "eb1760ba57954e99983c4eb215a05ef3": {
          "model_module": "@jupyter-widgets/base",
          "model_name": "LayoutModel",
          "model_module_version": "1.2.0",
          "state": {
            "_model_module": "@jupyter-widgets/base",
            "_model_module_version": "1.2.0",
            "_model_name": "LayoutModel",
            "_view_count": null,
            "_view_module": "@jupyter-widgets/base",
            "_view_module_version": "1.2.0",
            "_view_name": "LayoutView",
            "align_content": null,
            "align_items": null,
            "align_self": null,
            "border": null,
            "bottom": null,
            "display": null,
            "flex": null,
            "flex_flow": null,
            "grid_area": null,
            "grid_auto_columns": null,
            "grid_auto_flow": null,
            "grid_auto_rows": null,
            "grid_column": null,
            "grid_gap": null,
            "grid_row": null,
            "grid_template_areas": null,
            "grid_template_columns": null,
            "grid_template_rows": null,
            "height": null,
            "justify_content": null,
            "justify_items": null,
            "left": null,
            "margin": null,
            "max_height": null,
            "max_width": null,
            "min_height": null,
            "min_width": null,
            "object_fit": null,
            "object_position": null,
            "order": null,
            "overflow": null,
            "overflow_x": null,
            "overflow_y": null,
            "padding": null,
            "right": null,
            "top": null,
            "visibility": null,
            "width": null
          }
        },
        "e27e96b6daa9452f991c0336c784c964": {
          "model_module": "@jupyter-widgets/controls",
          "model_name": "DescriptionStyleModel",
          "model_module_version": "1.5.0",
          "state": {
            "_model_module": "@jupyter-widgets/controls",
            "_model_module_version": "1.5.0",
            "_model_name": "DescriptionStyleModel",
            "_view_count": null,
            "_view_module": "@jupyter-widgets/base",
            "_view_module_version": "1.2.0",
            "_view_name": "StyleView",
            "description_width": ""
          }
        },
        "d856fc7a20e14155905126c3bed94463": {
          "model_module": "@jupyter-widgets/base",
          "model_name": "LayoutModel",
          "model_module_version": "1.2.0",
          "state": {
            "_model_module": "@jupyter-widgets/base",
            "_model_module_version": "1.2.0",
            "_model_name": "LayoutModel",
            "_view_count": null,
            "_view_module": "@jupyter-widgets/base",
            "_view_module_version": "1.2.0",
            "_view_name": "LayoutView",
            "align_content": null,
            "align_items": null,
            "align_self": null,
            "border": null,
            "bottom": null,
            "display": null,
            "flex": null,
            "flex_flow": null,
            "grid_area": null,
            "grid_auto_columns": null,
            "grid_auto_flow": null,
            "grid_auto_rows": null,
            "grid_column": null,
            "grid_gap": null,
            "grid_row": null,
            "grid_template_areas": null,
            "grid_template_columns": null,
            "grid_template_rows": null,
            "height": null,
            "justify_content": null,
            "justify_items": null,
            "left": null,
            "margin": null,
            "max_height": null,
            "max_width": null,
            "min_height": null,
            "min_width": null,
            "object_fit": null,
            "object_position": null,
            "order": null,
            "overflow": null,
            "overflow_x": null,
            "overflow_y": null,
            "padding": null,
            "right": null,
            "top": null,
            "visibility": null,
            "width": null
          }
        },
        "11daec31363544bf8ad3d05045d4801e": {
          "model_module": "@jupyter-widgets/controls",
          "model_name": "ProgressStyleModel",
          "model_module_version": "1.5.0",
          "state": {
            "_model_module": "@jupyter-widgets/controls",
            "_model_module_version": "1.5.0",
            "_model_name": "ProgressStyleModel",
            "_view_count": null,
            "_view_module": "@jupyter-widgets/base",
            "_view_module_version": "1.2.0",
            "_view_name": "StyleView",
            "bar_color": null,
            "description_width": ""
          }
        },
        "dc8d07971e424e1886c285b11f515211": {
          "model_module": "@jupyter-widgets/base",
          "model_name": "LayoutModel",
          "model_module_version": "1.2.0",
          "state": {
            "_model_module": "@jupyter-widgets/base",
            "_model_module_version": "1.2.0",
            "_model_name": "LayoutModel",
            "_view_count": null,
            "_view_module": "@jupyter-widgets/base",
            "_view_module_version": "1.2.0",
            "_view_name": "LayoutView",
            "align_content": null,
            "align_items": null,
            "align_self": null,
            "border": null,
            "bottom": null,
            "display": null,
            "flex": null,
            "flex_flow": null,
            "grid_area": null,
            "grid_auto_columns": null,
            "grid_auto_flow": null,
            "grid_auto_rows": null,
            "grid_column": null,
            "grid_gap": null,
            "grid_row": null,
            "grid_template_areas": null,
            "grid_template_columns": null,
            "grid_template_rows": null,
            "height": null,
            "justify_content": null,
            "justify_items": null,
            "left": null,
            "margin": null,
            "max_height": null,
            "max_width": null,
            "min_height": null,
            "min_width": null,
            "object_fit": null,
            "object_position": null,
            "order": null,
            "overflow": null,
            "overflow_x": null,
            "overflow_y": null,
            "padding": null,
            "right": null,
            "top": null,
            "visibility": null,
            "width": null
          }
        },
        "d4a1fb9fe7254603a84c16308728d951": {
          "model_module": "@jupyter-widgets/controls",
          "model_name": "DescriptionStyleModel",
          "model_module_version": "1.5.0",
          "state": {
            "_model_module": "@jupyter-widgets/controls",
            "_model_module_version": "1.5.0",
            "_model_name": "DescriptionStyleModel",
            "_view_count": null,
            "_view_module": "@jupyter-widgets/base",
            "_view_module_version": "1.2.0",
            "_view_name": "StyleView",
            "description_width": ""
          }
        },
        "8b638b8f082449d9a22b411aed38fb12": {
          "model_module": "@jupyter-widgets/controls",
          "model_name": "HBoxModel",
          "model_module_version": "1.5.0",
          "state": {
            "_dom_classes": [],
            "_model_module": "@jupyter-widgets/controls",
            "_model_module_version": "1.5.0",
            "_model_name": "HBoxModel",
            "_view_count": null,
            "_view_module": "@jupyter-widgets/controls",
            "_view_module_version": "1.5.0",
            "_view_name": "HBoxView",
            "box_style": "",
            "children": [
              "IPY_MODEL_bbba03c1c9dd448fbe2d93185542888d",
              "IPY_MODEL_f44b6897afa143d694a852463843d79f",
              "IPY_MODEL_9ebd98e0f6b341188d85ccaf8a30c855"
            ],
            "layout": "IPY_MODEL_e82ed78da4ca4e88a0599b1faadd3a09"
          }
        },
        "bbba03c1c9dd448fbe2d93185542888d": {
          "model_module": "@jupyter-widgets/controls",
          "model_name": "HTMLModel",
          "model_module_version": "1.5.0",
          "state": {
            "_dom_classes": [],
            "_model_module": "@jupyter-widgets/controls",
            "_model_module_version": "1.5.0",
            "_model_name": "HTMLModel",
            "_view_count": null,
            "_view_module": "@jupyter-widgets/controls",
            "_view_module_version": "1.5.0",
            "_view_name": "HTMLView",
            "description": "",
            "description_tooltip": null,
            "layout": "IPY_MODEL_fc6dce758e1a49e8b4a3019c29bd276a",
            "placeholder": "​",
            "style": "IPY_MODEL_bc3586adbbb342818ae1ccb52722a33f",
            "value": "Downloading: 100%"
          }
        },
        "f44b6897afa143d694a852463843d79f": {
          "model_module": "@jupyter-widgets/controls",
          "model_name": "FloatProgressModel",
          "model_module_version": "1.5.0",
          "state": {
            "_dom_classes": [],
            "_model_module": "@jupyter-widgets/controls",
            "_model_module_version": "1.5.0",
            "_model_name": "FloatProgressModel",
            "_view_count": null,
            "_view_module": "@jupyter-widgets/controls",
            "_view_module_version": "1.5.0",
            "_view_name": "ProgressView",
            "bar_style": "success",
            "description": "",
            "description_tooltip": null,
            "layout": "IPY_MODEL_151ef9874ded4750b2ff9c3821f2f10a",
            "max": 684,
            "min": 0,
            "orientation": "horizontal",
            "style": "IPY_MODEL_ac776f363f19418ea21d613dd8f1bcb5",
            "value": 684
          }
        },
        "9ebd98e0f6b341188d85ccaf8a30c855": {
          "model_module": "@jupyter-widgets/controls",
          "model_name": "HTMLModel",
          "model_module_version": "1.5.0",
          "state": {
            "_dom_classes": [],
            "_model_module": "@jupyter-widgets/controls",
            "_model_module_version": "1.5.0",
            "_model_name": "HTMLModel",
            "_view_count": null,
            "_view_module": "@jupyter-widgets/controls",
            "_view_module_version": "1.5.0",
            "_view_name": "HTMLView",
            "description": "",
            "description_tooltip": null,
            "layout": "IPY_MODEL_e91315242d47406086e5206a15ae5a0c",
            "placeholder": "​",
            "style": "IPY_MODEL_50e0ca62a1b44e65be3b1fe93909b32f",
            "value": " 684/684 [00:00&lt;00:00, 4.12kB/s]"
          }
        },
        "e82ed78da4ca4e88a0599b1faadd3a09": {
          "model_module": "@jupyter-widgets/base",
          "model_name": "LayoutModel",
          "model_module_version": "1.2.0",
          "state": {
            "_model_module": "@jupyter-widgets/base",
            "_model_module_version": "1.2.0",
            "_model_name": "LayoutModel",
            "_view_count": null,
            "_view_module": "@jupyter-widgets/base",
            "_view_module_version": "1.2.0",
            "_view_name": "LayoutView",
            "align_content": null,
            "align_items": null,
            "align_self": null,
            "border": null,
            "bottom": null,
            "display": null,
            "flex": null,
            "flex_flow": null,
            "grid_area": null,
            "grid_auto_columns": null,
            "grid_auto_flow": null,
            "grid_auto_rows": null,
            "grid_column": null,
            "grid_gap": null,
            "grid_row": null,
            "grid_template_areas": null,
            "grid_template_columns": null,
            "grid_template_rows": null,
            "height": null,
            "justify_content": null,
            "justify_items": null,
            "left": null,
            "margin": null,
            "max_height": null,
            "max_width": null,
            "min_height": null,
            "min_width": null,
            "object_fit": null,
            "object_position": null,
            "order": null,
            "overflow": null,
            "overflow_x": null,
            "overflow_y": null,
            "padding": null,
            "right": null,
            "top": null,
            "visibility": null,
            "width": null
          }
        },
        "fc6dce758e1a49e8b4a3019c29bd276a": {
          "model_module": "@jupyter-widgets/base",
          "model_name": "LayoutModel",
          "model_module_version": "1.2.0",
          "state": {
            "_model_module": "@jupyter-widgets/base",
            "_model_module_version": "1.2.0",
            "_model_name": "LayoutModel",
            "_view_count": null,
            "_view_module": "@jupyter-widgets/base",
            "_view_module_version": "1.2.0",
            "_view_name": "LayoutView",
            "align_content": null,
            "align_items": null,
            "align_self": null,
            "border": null,
            "bottom": null,
            "display": null,
            "flex": null,
            "flex_flow": null,
            "grid_area": null,
            "grid_auto_columns": null,
            "grid_auto_flow": null,
            "grid_auto_rows": null,
            "grid_column": null,
            "grid_gap": null,
            "grid_row": null,
            "grid_template_areas": null,
            "grid_template_columns": null,
            "grid_template_rows": null,
            "height": null,
            "justify_content": null,
            "justify_items": null,
            "left": null,
            "margin": null,
            "max_height": null,
            "max_width": null,
            "min_height": null,
            "min_width": null,
            "object_fit": null,
            "object_position": null,
            "order": null,
            "overflow": null,
            "overflow_x": null,
            "overflow_y": null,
            "padding": null,
            "right": null,
            "top": null,
            "visibility": null,
            "width": null
          }
        },
        "bc3586adbbb342818ae1ccb52722a33f": {
          "model_module": "@jupyter-widgets/controls",
          "model_name": "DescriptionStyleModel",
          "model_module_version": "1.5.0",
          "state": {
            "_model_module": "@jupyter-widgets/controls",
            "_model_module_version": "1.5.0",
            "_model_name": "DescriptionStyleModel",
            "_view_count": null,
            "_view_module": "@jupyter-widgets/base",
            "_view_module_version": "1.2.0",
            "_view_name": "StyleView",
            "description_width": ""
          }
        },
        "151ef9874ded4750b2ff9c3821f2f10a": {
          "model_module": "@jupyter-widgets/base",
          "model_name": "LayoutModel",
          "model_module_version": "1.2.0",
          "state": {
            "_model_module": "@jupyter-widgets/base",
            "_model_module_version": "1.2.0",
            "_model_name": "LayoutModel",
            "_view_count": null,
            "_view_module": "@jupyter-widgets/base",
            "_view_module_version": "1.2.0",
            "_view_name": "LayoutView",
            "align_content": null,
            "align_items": null,
            "align_self": null,
            "border": null,
            "bottom": null,
            "display": null,
            "flex": null,
            "flex_flow": null,
            "grid_area": null,
            "grid_auto_columns": null,
            "grid_auto_flow": null,
            "grid_auto_rows": null,
            "grid_column": null,
            "grid_gap": null,
            "grid_row": null,
            "grid_template_areas": null,
            "grid_template_columns": null,
            "grid_template_rows": null,
            "height": null,
            "justify_content": null,
            "justify_items": null,
            "left": null,
            "margin": null,
            "max_height": null,
            "max_width": null,
            "min_height": null,
            "min_width": null,
            "object_fit": null,
            "object_position": null,
            "order": null,
            "overflow": null,
            "overflow_x": null,
            "overflow_y": null,
            "padding": null,
            "right": null,
            "top": null,
            "visibility": null,
            "width": null
          }
        },
        "ac776f363f19418ea21d613dd8f1bcb5": {
          "model_module": "@jupyter-widgets/controls",
          "model_name": "ProgressStyleModel",
          "model_module_version": "1.5.0",
          "state": {
            "_model_module": "@jupyter-widgets/controls",
            "_model_module_version": "1.5.0",
            "_model_name": "ProgressStyleModel",
            "_view_count": null,
            "_view_module": "@jupyter-widgets/base",
            "_view_module_version": "1.2.0",
            "_view_name": "StyleView",
            "bar_color": null,
            "description_width": ""
          }
        },
        "e91315242d47406086e5206a15ae5a0c": {
          "model_module": "@jupyter-widgets/base",
          "model_name": "LayoutModel",
          "model_module_version": "1.2.0",
          "state": {
            "_model_module": "@jupyter-widgets/base",
            "_model_module_version": "1.2.0",
            "_model_name": "LayoutModel",
            "_view_count": null,
            "_view_module": "@jupyter-widgets/base",
            "_view_module_version": "1.2.0",
            "_view_name": "LayoutView",
            "align_content": null,
            "align_items": null,
            "align_self": null,
            "border": null,
            "bottom": null,
            "display": null,
            "flex": null,
            "flex_flow": null,
            "grid_area": null,
            "grid_auto_columns": null,
            "grid_auto_flow": null,
            "grid_auto_rows": null,
            "grid_column": null,
            "grid_gap": null,
            "grid_row": null,
            "grid_template_areas": null,
            "grid_template_columns": null,
            "grid_template_rows": null,
            "height": null,
            "justify_content": null,
            "justify_items": null,
            "left": null,
            "margin": null,
            "max_height": null,
            "max_width": null,
            "min_height": null,
            "min_width": null,
            "object_fit": null,
            "object_position": null,
            "order": null,
            "overflow": null,
            "overflow_x": null,
            "overflow_y": null,
            "padding": null,
            "right": null,
            "top": null,
            "visibility": null,
            "width": null
          }
        },
        "50e0ca62a1b44e65be3b1fe93909b32f": {
          "model_module": "@jupyter-widgets/controls",
          "model_name": "DescriptionStyleModel",
          "model_module_version": "1.5.0",
          "state": {
            "_model_module": "@jupyter-widgets/controls",
            "_model_module_version": "1.5.0",
            "_model_name": "DescriptionStyleModel",
            "_view_count": null,
            "_view_module": "@jupyter-widgets/base",
            "_view_module_version": "1.2.0",
            "_view_name": "StyleView",
            "description_width": ""
          }
        },
        "7887601ffded4b0aa03c7411ebd680f5": {
          "model_module": "@jupyter-widgets/controls",
          "model_name": "HBoxModel",
          "model_module_version": "1.5.0",
          "state": {
            "_dom_classes": [],
            "_model_module": "@jupyter-widgets/controls",
            "_model_module_version": "1.5.0",
            "_model_name": "HBoxModel",
            "_view_count": null,
            "_view_module": "@jupyter-widgets/controls",
            "_view_module_version": "1.5.0",
            "_view_name": "HBoxView",
            "box_style": "",
            "children": [
              "IPY_MODEL_455d06b858d341ba968fc1356ce4aed4",
              "IPY_MODEL_08c5d686ef564893bbbf76aaa6d41d2a",
              "IPY_MODEL_12b2db6bb1f84be2b6adffe7490490a5"
            ],
            "layout": "IPY_MODEL_e804763f4a62436da636074e39432352"
          }
        },
        "455d06b858d341ba968fc1356ce4aed4": {
          "model_module": "@jupyter-widgets/controls",
          "model_name": "HTMLModel",
          "model_module_version": "1.5.0",
          "state": {
            "_dom_classes": [],
            "_model_module": "@jupyter-widgets/controls",
            "_model_module_version": "1.5.0",
            "_model_name": "HTMLModel",
            "_view_count": null,
            "_view_module": "@jupyter-widgets/controls",
            "_view_module_version": "1.5.0",
            "_view_name": "HTMLView",
            "description": "",
            "description_tooltip": null,
            "layout": "IPY_MODEL_336cd302cf7345c38798d0867465237e",
            "placeholder": "​",
            "style": "IPY_MODEL_57001d4fe24a43baa84279ab73422354",
            "value": "Downloading: 100%"
          }
        },
        "08c5d686ef564893bbbf76aaa6d41d2a": {
          "model_module": "@jupyter-widgets/controls",
          "model_name": "FloatProgressModel",
          "model_module_version": "1.5.0",
          "state": {
            "_dom_classes": [],
            "_model_module": "@jupyter-widgets/controls",
            "_model_module_version": "1.5.0",
            "_model_name": "FloatProgressModel",
            "_view_count": null,
            "_view_module": "@jupyter-widgets/controls",
            "_view_module_version": "1.5.0",
            "_view_name": "ProgressView",
            "bar_style": "success",
            "description": "",
            "description_tooltip": null,
            "layout": "IPY_MODEL_bb99d4ec61c24476b9f8c9698e90283a",
            "max": 47376696,
            "min": 0,
            "orientation": "horizontal",
            "style": "IPY_MODEL_a9f87e05721441d2b9fd5e18cc3ff0dd",
            "value": 47376696
          }
        },
        "12b2db6bb1f84be2b6adffe7490490a5": {
          "model_module": "@jupyter-widgets/controls",
          "model_name": "HTMLModel",
          "model_module_version": "1.5.0",
          "state": {
            "_dom_classes": [],
            "_model_module": "@jupyter-widgets/controls",
            "_model_module_version": "1.5.0",
            "_model_name": "HTMLModel",
            "_view_count": null,
            "_view_module": "@jupyter-widgets/controls",
            "_view_module_version": "1.5.0",
            "_view_name": "HTMLView",
            "description": "",
            "description_tooltip": null,
            "layout": "IPY_MODEL_48ebbf6362dd4ede8acda6be7d71da5b",
            "placeholder": "​",
            "style": "IPY_MODEL_307e5901bab04e819ed192ae883fc8c7",
            "value": " 45.2M/45.2M [00:01&lt;00:00, 26.5MB/s]"
          }
        },
        "e804763f4a62436da636074e39432352": {
          "model_module": "@jupyter-widgets/base",
          "model_name": "LayoutModel",
          "model_module_version": "1.2.0",
          "state": {
            "_model_module": "@jupyter-widgets/base",
            "_model_module_version": "1.2.0",
            "_model_name": "LayoutModel",
            "_view_count": null,
            "_view_module": "@jupyter-widgets/base",
            "_view_module_version": "1.2.0",
            "_view_name": "LayoutView",
            "align_content": null,
            "align_items": null,
            "align_self": null,
            "border": null,
            "bottom": null,
            "display": null,
            "flex": null,
            "flex_flow": null,
            "grid_area": null,
            "grid_auto_columns": null,
            "grid_auto_flow": null,
            "grid_auto_rows": null,
            "grid_column": null,
            "grid_gap": null,
            "grid_row": null,
            "grid_template_areas": null,
            "grid_template_columns": null,
            "grid_template_rows": null,
            "height": null,
            "justify_content": null,
            "justify_items": null,
            "left": null,
            "margin": null,
            "max_height": null,
            "max_width": null,
            "min_height": null,
            "min_width": null,
            "object_fit": null,
            "object_position": null,
            "order": null,
            "overflow": null,
            "overflow_x": null,
            "overflow_y": null,
            "padding": null,
            "right": null,
            "top": null,
            "visibility": null,
            "width": null
          }
        },
        "336cd302cf7345c38798d0867465237e": {
          "model_module": "@jupyter-widgets/base",
          "model_name": "LayoutModel",
          "model_module_version": "1.2.0",
          "state": {
            "_model_module": "@jupyter-widgets/base",
            "_model_module_version": "1.2.0",
            "_model_name": "LayoutModel",
            "_view_count": null,
            "_view_module": "@jupyter-widgets/base",
            "_view_module_version": "1.2.0",
            "_view_name": "LayoutView",
            "align_content": null,
            "align_items": null,
            "align_self": null,
            "border": null,
            "bottom": null,
            "display": null,
            "flex": null,
            "flex_flow": null,
            "grid_area": null,
            "grid_auto_columns": null,
            "grid_auto_flow": null,
            "grid_auto_rows": null,
            "grid_column": null,
            "grid_gap": null,
            "grid_row": null,
            "grid_template_areas": null,
            "grid_template_columns": null,
            "grid_template_rows": null,
            "height": null,
            "justify_content": null,
            "justify_items": null,
            "left": null,
            "margin": null,
            "max_height": null,
            "max_width": null,
            "min_height": null,
            "min_width": null,
            "object_fit": null,
            "object_position": null,
            "order": null,
            "overflow": null,
            "overflow_x": null,
            "overflow_y": null,
            "padding": null,
            "right": null,
            "top": null,
            "visibility": null,
            "width": null
          }
        },
        "57001d4fe24a43baa84279ab73422354": {
          "model_module": "@jupyter-widgets/controls",
          "model_name": "DescriptionStyleModel",
          "model_module_version": "1.5.0",
          "state": {
            "_model_module": "@jupyter-widgets/controls",
            "_model_module_version": "1.5.0",
            "_model_name": "DescriptionStyleModel",
            "_view_count": null,
            "_view_module": "@jupyter-widgets/base",
            "_view_module_version": "1.2.0",
            "_view_name": "StyleView",
            "description_width": ""
          }
        },
        "bb99d4ec61c24476b9f8c9698e90283a": {
          "model_module": "@jupyter-widgets/base",
          "model_name": "LayoutModel",
          "model_module_version": "1.2.0",
          "state": {
            "_model_module": "@jupyter-widgets/base",
            "_model_module_version": "1.2.0",
            "_model_name": "LayoutModel",
            "_view_count": null,
            "_view_module": "@jupyter-widgets/base",
            "_view_module_version": "1.2.0",
            "_view_name": "LayoutView",
            "align_content": null,
            "align_items": null,
            "align_self": null,
            "border": null,
            "bottom": null,
            "display": null,
            "flex": null,
            "flex_flow": null,
            "grid_area": null,
            "grid_auto_columns": null,
            "grid_auto_flow": null,
            "grid_auto_rows": null,
            "grid_column": null,
            "grid_gap": null,
            "grid_row": null,
            "grid_template_areas": null,
            "grid_template_columns": null,
            "grid_template_rows": null,
            "height": null,
            "justify_content": null,
            "justify_items": null,
            "left": null,
            "margin": null,
            "max_height": null,
            "max_width": null,
            "min_height": null,
            "min_width": null,
            "object_fit": null,
            "object_position": null,
            "order": null,
            "overflow": null,
            "overflow_x": null,
            "overflow_y": null,
            "padding": null,
            "right": null,
            "top": null,
            "visibility": null,
            "width": null
          }
        },
        "a9f87e05721441d2b9fd5e18cc3ff0dd": {
          "model_module": "@jupyter-widgets/controls",
          "model_name": "ProgressStyleModel",
          "model_module_version": "1.5.0",
          "state": {
            "_model_module": "@jupyter-widgets/controls",
            "_model_module_version": "1.5.0",
            "_model_name": "ProgressStyleModel",
            "_view_count": null,
            "_view_module": "@jupyter-widgets/base",
            "_view_module_version": "1.2.0",
            "_view_name": "StyleView",
            "bar_color": null,
            "description_width": ""
          }
        },
        "48ebbf6362dd4ede8acda6be7d71da5b": {
          "model_module": "@jupyter-widgets/base",
          "model_name": "LayoutModel",
          "model_module_version": "1.2.0",
          "state": {
            "_model_module": "@jupyter-widgets/base",
            "_model_module_version": "1.2.0",
            "_model_name": "LayoutModel",
            "_view_count": null,
            "_view_module": "@jupyter-widgets/base",
            "_view_module_version": "1.2.0",
            "_view_name": "LayoutView",
            "align_content": null,
            "align_items": null,
            "align_self": null,
            "border": null,
            "bottom": null,
            "display": null,
            "flex": null,
            "flex_flow": null,
            "grid_area": null,
            "grid_auto_columns": null,
            "grid_auto_flow": null,
            "grid_auto_rows": null,
            "grid_column": null,
            "grid_gap": null,
            "grid_row": null,
            "grid_template_areas": null,
            "grid_template_columns": null,
            "grid_template_rows": null,
            "height": null,
            "justify_content": null,
            "justify_items": null,
            "left": null,
            "margin": null,
            "max_height": null,
            "max_width": null,
            "min_height": null,
            "min_width": null,
            "object_fit": null,
            "object_position": null,
            "order": null,
            "overflow": null,
            "overflow_x": null,
            "overflow_y": null,
            "padding": null,
            "right": null,
            "top": null,
            "visibility": null,
            "width": null
          }
        },
        "307e5901bab04e819ed192ae883fc8c7": {
          "model_module": "@jupyter-widgets/controls",
          "model_name": "DescriptionStyleModel",
          "model_module_version": "1.5.0",
          "state": {
            "_model_module": "@jupyter-widgets/controls",
            "_model_module_version": "1.5.0",
            "_model_name": "DescriptionStyleModel",
            "_view_count": null,
            "_view_module": "@jupyter-widgets/base",
            "_view_module_version": "1.2.0",
            "_view_name": "StyleView",
            "description_width": ""
          }
        }
      }
    }
  },
  "cells": [
    {
      "cell_type": "markdown",
      "metadata": {
        "id": "view-in-github",
        "colab_type": "text"
      },
      "source": [
        "<a href=\"https://colab.research.google.com/github/zekaouinoureddine/Advanced-transformer-based-models-on-opinion-mining/blob/master/notebooks/Movie_Reviews_ALBERT.ipynb\" target=\"_parent\"><img src=\"https://colab.research.google.com/assets/colab-badge.svg\" alt=\"Open In Colab\"/></a>"
      ]
    },
    {
      "cell_type": "markdown",
      "metadata": {
        "id": "M-D3IjMcOLTe"
      },
      "source": [
        "---\n",
        "<h1 align=\"center\"><strong>Movie Reviews ALBERT</strong></h1>\n",
        "\n",
        "---"
      ]
    },
    {
      "cell_type": "code",
      "metadata": {
        "colab": {
          "base_uri": "https://localhost:8080/"
        },
        "id": "HbUcgyAvOHHE",
        "outputId": "77e6c861-e209-4dc8-ed55-066de8a7a634"
      },
      "source": [
        "!pip install SentencePiece -q\n",
        "!pip install transformers -q"
      ],
      "execution_count": null,
      "outputs": [
        {
          "output_type": "stream",
          "name": "stdout",
          "text": [
            "\u001b[K     |████████████████████████████████| 1.2 MB 9.3 MB/s \n",
            "\u001b[K     |████████████████████████████████| 4.2 MB 13.3 MB/s \n",
            "\u001b[K     |████████████████████████████████| 6.6 MB 38.3 MB/s \n",
            "\u001b[K     |████████████████████████████████| 596 kB 43.6 MB/s \n",
            "\u001b[K     |████████████████████████████████| 84 kB 2.0 MB/s \n",
            "\u001b[?25h"
          ]
        }
      ]
    },
    {
      "cell_type": "markdown",
      "metadata": {
        "id": "lfeiMLPbZ9dj"
      },
      "source": [
        "### Required Libraries"
      ]
    },
    {
      "cell_type": "code",
      "metadata": {
        "id": "nofj2e62Z96z"
      },
      "source": [
        "import pandas as pd\n",
        "import numpy as np\n",
        "import matplotlib.pyplot as plt\n",
        "import seaborn as sns\n",
        "\n",
        "import torch\n",
        "import torch.nn as nn\n",
        "from torch.utils.data import Dataset, DataLoader\n",
        "\n",
        "from tqdm import tqdm\n",
        "\n",
        "import transformers\n",
        "from transformers import AdamW, get_linear_schedule_with_warmup\n",
        "\n",
        "from sklearn.model_selection import train_test_split\n",
        "from sklearn import metrics\n",
        "\n",
        "from collections import defaultdict\n",
        "\n",
        "import warnings\n",
        "warnings.filterwarnings('ignore')"
      ],
      "execution_count": null,
      "outputs": []
    },
    {
      "cell_type": "code",
      "metadata": {
        "colab": {
          "base_uri": "https://localhost:8080/"
        },
        "id": "kHqdAOcoaCky",
        "outputId": "7cd9b970-5ad4-4e79-f3f4-a0443a05a355"
      },
      "source": [
        "!gdown --id 1xJYm-tNMllxx82_CQ1K1R5q0JW9KUV1j -q\n",
        "!unzip IMDb.zip"
      ],
      "execution_count": null,
      "outputs": [
        {
          "output_type": "stream",
          "name": "stdout",
          "text": [
            "/usr/local/lib/python3.7/dist-packages/gdown/cli.py:131: FutureWarning: Option `--id` was deprecated in version 4.3.1 and will be removed in 5.0. You don't need to pass it anymore to use a file ID.\n",
            "  category=FutureWarning,\n",
            "Archive:  IMDb.zip\n",
            "  inflating: IMDB Dataset.csv        \n"
          ]
        }
      ]
    },
    {
      "cell_type": "code",
      "metadata": {
        "colab": {
          "base_uri": "https://localhost:8080/",
          "height": 369
        },
        "id": "n4EcJztNaERj",
        "outputId": "0f6dba9c-ef26-4b9d-ffe3-955da19f5fa3"
      },
      "source": [
        "df = pd.read_csv(\"IMDB Dataset.csv\")\n",
        "\n",
        "df[\"sentiment\"].value_counts().plot(kind='bar',\n",
        "                                    color=['green','red'],\n",
        "                                    title='Distribution of Positive and Negative Reviews',\n",
        "                                    figsize=(5,5));"
      ],
      "execution_count": null,
      "outputs": [
        {
          "output_type": "display_data",
          "data": {
            "text/plain": [
              "<Figure size 360x360 with 1 Axes>"
            ],
            "image/png": "[encoded data removed]"
          },
          "metadata": {
            "needs_background": "light"
          }
        }
      ]
    },
    {
      "cell_type": "markdown",
      "metadata": {
        "id": "rgoB6BZWaHK-"
      },
      "source": [
        "### Config"
      ]
    },
    {
      "cell_type": "code",
      "metadata": {
        "id": "ELAofydYaImd",
        "colab": {
          "base_uri": "https://localhost:8080/",
          "height": 185,
          "referenced_widgets": [
            "a8a736cbfb1a4fe38955887523170234",
            "e3ca04d160374830b43cd22ec8cfd319",
            "2dbf9c3354554c27b4ab18abd47419fd",
            "61d41ce90ad243bb97a6eb885b64f69e",
            "fbcd70e372af49be9538ab063f2af51d",
            "eb1760ba57954e99983c4eb215a05ef3",
            "e27e96b6daa9452f991c0336c784c964",
            "d856fc7a20e14155905126c3bed94463",
            "11daec31363544bf8ad3d05045d4801e",
            "dc8d07971e424e1886c285b11f515211",
            "d4a1fb9fe7254603a84c16308728d951",
            "8b638b8f082449d9a22b411aed38fb12",
            "bbba03c1c9dd448fbe2d93185542888d",
            "f44b6897afa143d694a852463843d79f",
            "9ebd98e0f6b341188d85ccaf8a30c855",
            "e82ed78da4ca4e88a0599b1faadd3a09",
            "fc6dce758e1a49e8b4a3019c29bd276a",
            "bc3586adbbb342818ae1ccb52722a33f",
            "151ef9874ded4750b2ff9c3821f2f10a",
            "ac776f363f19418ea21d613dd8f1bcb5",
            "e91315242d47406086e5206a15ae5a0c",
            "50e0ca62a1b44e65be3b1fe93909b32f",
            "7887601ffded4b0aa03c7411ebd680f5",
            "455d06b858d341ba968fc1356ce4aed4",
            "08c5d686ef564893bbbf76aaa6d41d2a",
            "12b2db6bb1f84be2b6adffe7490490a5",
            "e804763f4a62436da636074e39432352",
            "336cd302cf7345c38798d0867465237e",
            "57001d4fe24a43baa84279ab73422354",
            "bb99d4ec61c24476b9f8c9698e90283a",
            "a9f87e05721441d2b9fd5e18cc3ff0dd",
            "48ebbf6362dd4ede8acda6be7d71da5b",
            "307e5901bab04e819ed192ae883fc8c7"
          ]
        },
        "outputId": "824c8d0a-a28c-4de0-a15b-ba735297496a"
      },
      "source": [
        "class Config:\n",
        "  MAX_LEN = 384\n",
        "  TRAIN_BATCH_SIZE = 8\n",
        "  VALID_BATCH_SIZE = 4\n",
        "  EPOCHS = 4\n",
        "  DEVICE = torch.device(\"cuda\" if torch.cuda.is_available() else \"cpu\")\n",
        "\n",
        "  ALBERT_PATH = \"albert-base-v2\"\n",
        "  MODEL_PATH = \"BERTModel.bin\"\n",
        "  TRAINING_DATA = \"IMDB Dataset.csv\"\n",
        "\n",
        "  TOKENIZER = transformers.AlbertTokenizer.from_pretrained(ALBERT_PATH, do_lower_case = True)\n",
        "  MODEL = transformers.AlbertModel.from_pretrained(ALBERT_PATH, return_dict=False)"
      ],
      "execution_count": null,
      "outputs": [
        {
          "output_type": "display_data",
          "data": {
            "text/plain": [
              "Downloading:   0%|          | 0.00/742k [00:00<?, ?B/s]"
            ],
            "application/vnd.jupyter.widget-view+json": {
              "version_major": 2,
              "version_minor": 0,
              "model_id": "a8a736cbfb1a4fe38955887523170234"
            }
          },
          "metadata": {}
        },
        {
          "output_type": "display_data",
          "data": {
            "text/plain": [
              "Downloading:   0%|          | 0.00/684 [00:00<?, ?B/s]"
            ],
            "application/vnd.jupyter.widget-view+json": {
              "version_major": 2,
              "version_minor": 0,
              "model_id": "8b638b8f082449d9a22b411aed38fb12"
            }
          },
          "metadata": {}
        },
        {
          "output_type": "display_data",
          "data": {
            "text/plain": [
              "Downloading:   0%|          | 0.00/45.2M [00:00<?, ?B/s]"
            ],
            "application/vnd.jupyter.widget-view+json": {
              "version_major": 2,
              "version_minor": 0,
              "model_id": "7887601ffded4b0aa03c7411ebd680f5"
            }
          },
          "metadata": {}
        },
        {
          "output_type": "stream",
          "name": "stderr",
          "text": [
            "Some weights of the model checkpoint at albert-base-v2 were not used when initializing AlbertModel: ['predictions.decoder.weight', 'predictions.decoder.bias', 'predictions.LayerNorm.bias', 'predictions.bias', 'predictions.LayerNorm.weight', 'predictions.dense.bias', 'predictions.dense.weight']\n",
            "- This IS expected if you are initializing AlbertModel from the checkpoint of a model trained on another task or with another architecture (e.g. initializing a BertForSequenceClassification model from a BertForPreTraining model).\n",
            "- This IS NOT expected if you are initializing AlbertModel from the checkpoint of a model that you expect to be exactly identical (initializing a BertForSequenceClassification model from a BertForSequenceClassification model).\n"
          ]
        }
      ]
    },
    {
      "cell_type": "markdown",
      "metadata": {
        "id": "QQxZbtZ4bqNn"
      },
      "source": [
        "### Dataset"
      ]
    },
    {
      "cell_type": "code",
      "metadata": {
        "id": "Q6DN6-jmbmqP"
      },
      "source": [
        "class DataProcess:\n",
        "  def __init__(self, review):\n",
        "    self.tokenizer = Config.TOKENIZER\n",
        "    self.max_len = Config.MAX_LEN\n",
        "    self.review = review\n",
        "    \n",
        "  def preprocess_bert(self):\n",
        "    reviw = \" \".join(self.review.split())\n",
        "    inputs = self.tokenizer.encode_plus(\n",
        "        reviw,\n",
        "        None,\n",
        "        add_special_tokens=True,\n",
        "        max_length=self.max_len,\n",
        "        # padding = \"max_length\",\n",
        "        truncation=True\n",
        "        )\n",
        "\n",
        "    input_ids = inputs[\"input_ids\"]\n",
        "    attention_mask = inputs[\"attention_mask\"]\n",
        "    token_type_ids = inputs[\"token_type_ids\"]\n",
        "\n",
        "    return (\n",
        "        torch.tensor(input_ids, dtype=torch.long).unsqueeze(0),\n",
        "        torch.tensor(attention_mask, dtype=torch.long).unsqueeze(0),\n",
        "        torch.tensor(token_type_ids, dtype=torch.long).unsqueeze(0)\n",
        "        )\n",
        "    \n",
        "  def preprocess_output(self, outputs):\n",
        "    outputs = torch.sigmoid(outputs).cpu().detach().numpy()\n",
        "    return outputs[0][0]\n",
        "\n",
        "class MovieReviewDatSet:\n",
        "  def __init__(self, data_path):\n",
        "    \n",
        "    self.data = pd.read_csv(data_path).fillna('none')\n",
        "    self.data.sentiment = self.data.sentiment.apply(lambda x: 1 if x == \"positive\" else 0)\n",
        "    self.data = self.data.reset_index(drop=True)\n",
        "    self.tokenizer = Config.TOKENIZER\n",
        "    self.max_len = Config.MAX_LEN\n",
        "    self.review = self.data.review.values\n",
        "    self.label = self.data.sentiment.values\n",
        "\n",
        "  def __len__(self):\n",
        "    return len(self.review)\n",
        "\n",
        "  def __getitem__(self, item):\n",
        "    review = str(self.review[item])\n",
        "    review = \" \".join(review.split())\n",
        "\n",
        "    inputs = self.tokenizer.encode_plus(\n",
        "        review,\n",
        "        None,\n",
        "        add_special_tokens = True,\n",
        "        max_length = self.max_len,\n",
        "        padding = \"max_length\",\n",
        "        truncation= True\n",
        "    )\n",
        "\n",
        "    input_ids = inputs[\"input_ids\"]\n",
        "    attention_mask = inputs[\"attention_mask\"]\n",
        "    token_type_ids = inputs[\"token_type_ids\"]\n",
        "\n",
        "    return {\n",
        "        \"input_ids\" : torch.tensor(input_ids, dtype=torch.long),\n",
        "        \"attention_mask\" : torch.tensor(attention_mask, dtype=torch.long),\n",
        "        \"token_type_ids\" : torch.tensor(token_type_ids, dtype=torch.long),\n",
        "        \"labels\" : torch.tensor(self.label[item], dtype=torch.float)\n",
        "        }"
      ],
      "execution_count": null,
      "outputs": []
    },
    {
      "cell_type": "markdown",
      "metadata": {
        "id": "-IrY0_8-bv7K"
      },
      "source": [
        "### Model"
      ]
    },
    {
      "cell_type": "markdown",
      "metadata": {
        "id": "JffqwpjOjuTD"
      },
      "source": [
        "![mralbert.png](data:image/png;base64,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)"
      ]
    },
    {
      "cell_type": "code",
      "metadata": {
        "id": "0eP_ZWqzbvMl"
      },
      "source": [
        "class ALBERTModel(nn.Module):\n",
        "  def __init__(self):\n",
        "    super(ALBERTModel, self).__init__()\n",
        "    self.albert = Config.MODEL\n",
        "    self.albert_drop = nn.Dropout(0.3)\n",
        "    self.out = nn.Linear(768, 1)\n",
        "\n",
        "  def forward(self, input_ids, attention_mask, token_type_ids):\n",
        "    _, pooled_output  = self.albert(input_ids=input_ids, attention_mask=attention_mask, token_type_ids = token_type_ids)\n",
        "    albo = self.albert_drop(pooled_output)\n",
        "    output = self.out(albo)\n",
        "    \n",
        "    return output"
      ],
      "execution_count": null,
      "outputs": []
    },
    {
      "cell_type": "markdown",
      "metadata": {
        "id": "wRq-FSKzb8La"
      },
      "source": [
        "### Engine"
      ]
    },
    {
      "cell_type": "code",
      "metadata": {
        "id": "0bfveRYfb6cb"
      },
      "source": [
        "def loss_fn(outputs, labels):\n",
        "  return nn.BCEWithLogitsLoss()(outputs, labels.view(-1, 1))\n",
        "\n",
        "def train_fn(train_dataloader, model, optimizer, device, scheduler):\n",
        "  model.train()\n",
        "  final_loss = 0\n",
        "\n",
        "  fin_labels = []\n",
        "  fin_outputs = []\n",
        "  for bi, d in tqdm(enumerate(train_dataloader), total=len(train_dataloader)):\n",
        "    input_ids = d[\"input_ids\"]\n",
        "    attention_mask = d[\"attention_mask\"]\n",
        "    token_type_ids = d[\"token_type_ids\"]\n",
        "    labels = d[\"labels\"]\n",
        "\n",
        "    input_ids = input_ids.to(device, dtype=torch.long)\n",
        "    attention_mask = attention_mask.to(device, dtype=torch.long)\n",
        "    token_type_ids = token_type_ids.to(device, dtype = torch.long)\n",
        "    labels = labels.to(device, dtype = torch.float)\n",
        "\n",
        "    optimizer.zero_grad()\n",
        "    outputs = model(input_ids=input_ids, attention_mask=attention_mask, token_type_ids = token_type_ids)\n",
        "    loss = loss_fn(outputs, labels)\n",
        "    \n",
        "    final_loss += loss.item()\n",
        "    fin_labels.extend(labels.cpu().detach().numpy().tolist())\n",
        "    fin_outputs.extend(torch.sigmoid(outputs).cpu().detach().numpy().tolist())\n",
        "    \n",
        "    loss.backward()\n",
        "    optimizer.step()\n",
        "    scheduler.step()\n",
        "\n",
        "  return fin_outputs, fin_labels, final_loss/len(train_dataloader)\n",
        "\n",
        "def eval_fn(valid_dataloader, model, device):\n",
        "  model.eval()\n",
        "  final_loss = 0\n",
        "\n",
        "  fin_labels = []\n",
        "  fin_outputs = []\n",
        "  with torch.no_grad():\n",
        "    for bi, d in tqdm(enumerate(valid_dataloader), total=len(valid_dataloader)):\n",
        "      input_ids = d[\"input_ids\"]\n",
        "      attention_mask = d[\"attention_mask\"]\n",
        "      token_type_ids = d[\"token_type_ids\"]\n",
        "      labels = d[\"labels\"]\n",
        "\n",
        "      input_ids = input_ids.to(device, dtype=torch.long)\n",
        "      attention_mask = attention_mask.to(device, dtype=torch.long)\n",
        "      token_type_ids = token_type_ids.to(device, dtype = torch.long)\n",
        "      labels = labels.to(device, dtype = torch.float)\n",
        "\n",
        "      outputs = model(input_ids=input_ids, attention_mask=attention_mask, token_type_ids = token_type_ids)\n",
        "      \n",
        "      loss = loss_fn(outputs, labels)\n",
        "      final_loss += loss.item()\n",
        "      \n",
        "      fin_labels.extend(labels.cpu().detach().numpy().tolist())\n",
        "      fin_outputs.extend(torch.sigmoid(outputs).cpu().detach().numpy().tolist())\n",
        "      \n",
        "\n",
        "  return fin_outputs, fin_labels, final_loss/len(valid_dataloader)"
      ],
      "execution_count": null,
      "outputs": []
    },
    {
      "cell_type": "markdown",
      "metadata": {
        "id": "qHWTJ-I1cFVo"
      },
      "source": [
        "### Train"
      ]
    },
    {
      "cell_type": "code",
      "metadata": {
        "id": "GAqrusaecEN-",
        "colab": {
          "base_uri": "https://localhost:8080/"
        },
        "outputId": "bbf251f4-c475-422a-c759-6aecfa2df442"
      },
      "source": [
        "dataset = MovieReviewDatSet(Config.TRAINING_DATA)\n",
        "\n",
        "train_data, valid_data = train_test_split(dataset, test_size = 0.1)\n",
        "train_dataloader = DataLoader(train_data, batch_size=Config.TRAIN_BATCH_SIZE, num_workers=4)\n",
        "valid_dataloader = DataLoader(valid_data, batch_size=Config.VALID_BATCH_SIZE, num_workers=1)\n",
        "\n",
        "model = ALBERTModel()\n",
        "model.to(Config.DEVICE)\n",
        "\n",
        "param_optimizer = list(model.named_parameters())\n",
        "no_decay = [\"bias\", \"LayerNorm.bias\", \"LayerNorm.weight\"]\n",
        "optimizer_parameters = [\n",
        "                        {\n",
        "                            \"params\": [\n",
        "                                       p for n, p in param_optimizer if not any(nd in n for nd in no_decay)\n",
        "                                       ],\n",
        "                         \"weight_decay\": 0.001,\n",
        "                         },\n",
        "                        {\n",
        "                            \"params\": [\n",
        "                                       p for n, p in param_optimizer if any(nd in n for nd in no_decay)\n",
        "                                       ],\n",
        "                         \"weight_decay\": 0.0,\n",
        "                         },\n",
        "                        ]\n",
        "\n",
        "num_train_steps = int(len(train_data) / Config.TRAIN_BATCH_SIZE * Config.EPOCHS)\n",
        "optimizer = AdamW(optimizer_parameters, lr=3e-5)\n",
        "scheduler = get_linear_schedule_with_warmup(\n",
        "    optimizer, num_warmup_steps=0, num_training_steps=num_train_steps\n",
        "    )\n",
        "\n",
        "history = defaultdict(list)\n",
        "\n",
        "best_accuracy = 0\n",
        "for epoch in range(1, Config.EPOCHS+1):\n",
        "  train_outputs, train_labels, train_loss = train_fn(train_dataloader, model, optimizer, Config.DEVICE, scheduler)\n",
        "  valid_outputs, valid_labels, valid_loss = eval_fn(valid_dataloader, model, Config.DEVICE)\n",
        "  \n",
        "  train_outputs = np.array(train_outputs) >= 0.5\n",
        "  valid_outputs = np.array(valid_outputs) >= 0.5\n",
        "\n",
        "  train_accuracy = metrics.accuracy_score(train_labels, train_outputs)\n",
        "  valid_accuracy = metrics.accuracy_score(valid_labels, valid_outputs)\n",
        "\n",
        "  print(f\"Epoch: {epoch}\\nTrain Loss: {train_loss} - Train Accuracy: {train_accuracy} \\nValid Loss: {valid_loss} - Valid Accuracy: {valid_accuracy}\\n\")\n",
        "  \n",
        "  history['Train Loss'].append(train_loss)\n",
        "  history['Train Accuracy'].append(train_accuracy)\n",
        "  history['Valid Loss'].append(valid_loss)\n",
        "  history['Valid Accuracy'].append(valid_accuracy)\n",
        "  \n",
        "  if valid_accuracy > best_accuracy:\n",
        "    torch.save(model.state_dict(), Config.MODEL_PATH)\n",
        "    best_accuracy = valid_accuracy"
      ],
      "execution_count": null,
      "outputs": [
        {
          "output_type": "stream",
          "name": "stderr",
          "text": [
            "100%|██████████| 5625/5625 [17:27<00:00,  5.37it/s]\n",
            "100%|██████████| 1250/1250 [00:47<00:00, 26.58it/s]\n"
          ]
        },
        {
          "output_type": "stream",
          "name": "stdout",
          "text": [
            "Epoch: 1\n",
            "Train Loss: 0.2912408809350597 - Train Accuracy: 0.8770666666666667 \n",
            "Valid Loss: 0.20333103797361254 - Valid Accuracy: 0.9222\n",
            "\n"
          ]
        },
        {
          "output_type": "stream",
          "name": "stderr",
          "text": [
            "100%|██████████| 5625/5625 [17:28<00:00,  5.37it/s]\n",
            "100%|██████████| 1250/1250 [00:47<00:00, 26.43it/s]\n"
          ]
        },
        {
          "output_type": "stream",
          "name": "stdout",
          "text": [
            "Epoch: 2\n",
            "Train Loss: 0.17874423528272246 - Train Accuracy: 0.9312444444444444 \n",
            "Valid Loss: 0.21436371147325262 - Valid Accuracy: 0.9252\n",
            "\n"
          ]
        },
        {
          "output_type": "stream",
          "name": "stderr",
          "text": [
            "100%|██████████| 5625/5625 [17:27<00:00,  5.37it/s]\n",
            "100%|██████████| 1250/1250 [00:47<00:00, 26.56it/s]\n"
          ]
        },
        {
          "output_type": "stream",
          "name": "stdout",
          "text": [
            "Epoch: 3\n",
            "Train Loss: 0.10412085349959217 - Train Accuracy: 0.9641111111111111 \n",
            "Valid Loss: 0.24134633499300107 - Valid Accuracy: 0.9276\n",
            "\n"
          ]
        },
        {
          "output_type": "stream",
          "name": "stderr",
          "text": [
            "100%|██████████| 5625/5625 [17:26<00:00,  5.38it/s]\n",
            "100%|██████████| 1250/1250 [00:46<00:00, 26.67it/s]\n"
          ]
        },
        {
          "output_type": "stream",
          "name": "stdout",
          "text": [
            "Epoch: 4\n",
            "Train Loss: 0.045646685582575286 - Train Accuracy: 0.9864666666666667 \n",
            "Valid Loss: 0.26591200430076567 - Valid Accuracy: 0.93\n",
            "\n"
          ]
        }
      ]
    },
    {
      "cell_type": "markdown",
      "metadata": {
        "id": "gKxGnqFccNGZ"
      },
      "source": [
        "### Error Analysis & Performance Auditing"
      ]
    },
    {
      "cell_type": "code",
      "metadata": {
        "id": "R3x1kFvBcJNN"
      },
      "source": [
        "def get_metrics(labels, outputs):\n",
        "  accuracy = metrics.accuracy_score(labels, outputs)\n",
        "  recall = metrics.recall_score(labels, outputs)\n",
        "  precision = metrics.precision_score(labels, outputs)\n",
        "  f1 = metrics.f1_score(labels, outputs)\n",
        "  return accuracy, recall, precision, f1"
      ],
      "execution_count": null,
      "outputs": []
    },
    {
      "cell_type": "code",
      "metadata": {
        "id": "mDipOBdDcUFb",
        "colab": {
          "base_uri": "https://localhost:8080/",
          "height": 677
        },
        "outputId": "565155df-df9c-4c9b-f614-7d04f706d151"
      },
      "source": [
        "accuracy, recall, precision, f1 = get_metrics(valid_labels, valid_outputs)\n",
        "\n",
        "print(\"===\"*50)\n",
        "print(\"\\nResults summary\\n\")\n",
        "print(f\"Accuracy Score  : {accuracy}\")\n",
        "print(f\"Recall Score    : {recall}\")\n",
        "print(f\"Precision Score : {precision}\")\n",
        "print(f\"F1 Score        : {f1}\")\n",
        "\n",
        "print(\"===\"*50)\n",
        "print(\"\\nClassification report \\n\\n\", metrics.classification_report(valid_labels, valid_outputs))\n",
        "\n",
        "print(\"===\"*50)\n",
        "cm = metrics.confusion_matrix(valid_labels, valid_outputs)\n",
        "fig, ax = plt.subplots()\n",
        "sns.heatmap(cm, annot=True, fmt='d', ax=ax, cmap=plt.cm.Blues, cbar=False)\n",
        "ax.set(xlabel=\"Predicted Label\", \n",
        "       ylabel=\"True Label\", \n",
        "       xticklabels=np.unique(valid_labels), \n",
        "       yticklabels=np.unique(valid_labels), \n",
        "       title=\"CONFUSION MATRIX\")\n",
        "plt.yticks(rotation=0);"
      ],
      "execution_count": null,
      "outputs": [
        {
          "output_type": "stream",
          "name": "stdout",
          "text": [
            "======================================================================================================================================================\n",
            "\n",
            "Results summary\n",
            "\n",
            "Accuracy Score  : 0.93\n",
            "Recall Score    : 0.9413193039255362\n",
            "Precision Score : 0.9190043461082577\n",
            "F1 Score        : 0.9300279888044782\n",
            "======================================================================================================================================================\n",
            "\n",
            "Classification report \n",
            "\n",
            "               precision    recall  f1-score   support\n",
            "\n",
            "         0.0       0.94      0.92      0.93      2529\n",
            "         1.0       0.92      0.94      0.93      2471\n",
            "\n",
            "    accuracy                           0.93      5000\n",
            "   macro avg       0.93      0.93      0.93      5000\n",
            "weighted avg       0.93      0.93      0.93      5000\n",
            "\n",
            "======================================================================================================================================================\n"
          ]
        },
        {
          "output_type": "display_data",
          "data": {
            "text/plain": [
              "<Figure size 432x288 with 1 Axes>"
            ],
            "image/png": "[encoded data removed]"
          },
          "metadata": {
            "needs_background": "light"
          }
        }
      ]
    },
    {
      "cell_type": "code",
      "metadata": {
        "id": "SHy9kzt-caC1",
        "colab": {
          "base_uri": "https://localhost:8080/",
          "height": 295
        },
        "outputId": "4b45d86e-6da9-403e-bcc4-5da0157746ea"
      },
      "source": [
        "plt.plot(history['Train Accuracy'], '-o', label='Train Accuracy')\n",
        "plt.plot(history['Valid Accuracy'], '-o', label='Validation Accuracy')\n",
        "plt.title('Training History')\n",
        "plt.ylabel('Accuracy')\n",
        "plt.xlabel('Epoch')\n",
        "plt.legend()\n",
        "plt.ylim([0, 1]);"
      ],
      "execution_count": null,
      "outputs": [
        {
          "output_type": "display_data",
          "data": {
            "text/plain": [
              "<Figure size 432x288 with 1 Axes>"
            ],
            "image/png": "[encoded data removed]"
          },
          "metadata": {
            "needs_background": "light"
          }
        }
      ]
    },
    {
      "cell_type": "code",
      "metadata": {
        "id": "hTaV5VthccAb",
        "colab": {
          "base_uri": "https://localhost:8080/",
          "height": 295
        },
        "outputId": "e63bad8d-ef4e-4b4b-e7f6-e3d048456a8d"
      },
      "source": [
        "plt.plot(history['Train Loss'], '-o', label='Train Loss')\n",
        "plt.plot(history['Valid Loss'], '-o', label='Validation Loss')\n",
        "plt.title('Training History')\n",
        "plt.ylabel('Loss')\n",
        "plt.xlabel('Epoch')\n",
        "plt.legend()\n",
        "plt.ylim([0, 1]);"
      ],
      "execution_count": null,
      "outputs": [
        {
          "output_type": "display_data",
          "data": {
            "text/plain": [
              "<Figure size 432x288 with 1 Axes>"
            ],
            "image/png": "[encoded data removed]"
          },
          "metadata": {
            "needs_background": "light"
          }
        }
      ]
    },
    {
      "cell_type": "markdown",
      "metadata": {
        "id": "LsCgMeyFcd6S"
      },
      "source": [
        "### Inference"
      ]
    },
    {
      "cell_type": "code",
      "metadata": {
        "id": "7mo_05TBcgO6"
      },
      "source": [
        "model = ALBERTModel()\n",
        "model.to(Config.DEVICE)\n",
        "model.load_state_dict(\n",
        "    torch.load(\n",
        "        Config.MODEL_PATH,\n",
        "        map_location=torch.device(Config.DEVICE)\n",
        "        )\n",
        "    )\n",
        "\n",
        "def predict(review: str):\n",
        "  data = DataProcess(review)\n",
        "  input_ids, attention_mask, token_type_ids = data.preprocess_bert()\n",
        "  \n",
        "  input_ids = input_ids.to(Config.DEVICE, dtype=torch.long)\n",
        "  attention_mask = attention_mask.to(Config.DEVICE, dtype=torch.long)\n",
        "  token_type_ids = token_type_ids.to(Config.DEVICE, dtype=torch.long)\n",
        "  \n",
        "  outputs = model(input_ids, attention_mask, token_type_ids) \n",
        "  positive_prediction = data.preprocess_output(outputs)\n",
        "  negative_prediction = 1 - positive_prediction\n",
        "  \n",
        "  return {\n",
        "      \"review\": review,\n",
        "      \"positive\": str(positive_prediction),\n",
        "      \"negative\": str(negative_prediction),\n",
        "  }"
      ],
      "execution_count": null,
      "outputs": []
    },
    {
      "cell_type": "code",
      "metadata": {
        "id": "jaFTMruFckDu",
        "colab": {
          "base_uri": "https://localhost:8080/"
        },
        "outputId": "08d91971-4cb0-48f4-bc57-c4c85bd9a976"
      },
      "source": [
        "sentiment = predict(\"I like this amazing movie\")\n",
        "print(sentiment)"
      ],
      "execution_count": null,
      "outputs": [
        {
          "output_type": "stream",
          "name": "stdout",
          "text": [
            "{'review': 'I like this amazing movie', 'positive': '0.9876726', 'negative': '0.012327373027801514'}\n"
          ]
        }
      ]
    },
    {
      "cell_type": "markdown",
      "metadata": {
        "id": "iR6cNhhYcn2I"
      },
      "source": [
        "### References:\n",
        "* **Zhenzhong Lan, Mingda Chen, Sebastian Goodman, Kevin Gimpel, Piyush Sharma, Radu Soricut. 2019. [ALBERT: A Lite BERT for Self-supervised Learning of Language Representations](https://arxiv.org/abs/1909.11942). arXiv preprint arXiv:1909.11942**"
      ]
    }
  ]
}